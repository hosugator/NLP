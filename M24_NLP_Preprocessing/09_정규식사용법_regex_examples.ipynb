{
 "cells": [
  {
   "cell_type": "code",
   "execution_count": null,
   "metadata": {
    "id": "zlAO3ebU5ltf"
   },
   "outputs": [],
   "source": [
    "import re"
   ]
  },
  {
   "cell_type": "code",
   "execution_count": null,
   "metadata": {
    "colab": {
     "base_uri": "https://localhost:8080/"
    },
    "id": "U0aqOoFE5ltk",
    "outputId": "dcec6694-0ea8-40e2-cd80-10558b870526"
   },
   "outputs": [
    {
     "data": {
      "text/plain": [
       "<re.Match object; span=(0, 2), match='우리'>"
      ]
     },
     "execution_count": 2,
     "metadata": {},
     "output_type": "execute_result"
    }
   ],
   "source": [
    "re.search(r'\\w\\w', '우리나라')"
   ]
  },
  {
   "cell_type": "code",
   "execution_count": null,
   "metadata": {
    "colab": {
     "base_uri": "https://localhost:8080/"
    },
    "id": "d4ZDMDAOd5zZ",
    "outputId": "434793af-9375-4309-bbb4-972ee47d0b11"
   },
   "outputs": [
    {
     "data": {
      "text/plain": [
       "<re.Match object; span=(0, 2), match='우리'>"
      ]
     },
     "execution_count": 3,
     "metadata": {},
     "output_type": "execute_result"
    }
   ],
   "source": [
    "re.match(r'\\w\\w', '우리나라')"
   ]
  },
  {
   "cell_type": "code",
   "execution_count": null,
   "metadata": {
    "id": "dPyvrEog5ltm"
   },
   "outputs": [],
   "source": [
    "re.match(r'나라', '우리나라') #match는 문장의 처음에서 찾는다"
   ]
  },
  {
   "cell_type": "code",
   "execution_count": null,
   "metadata": {
    "colab": {
     "base_uri": "https://localhost:8080/"
    },
    "id": "hFc-EuU4eIhM",
    "outputId": "c77d0bd6-56e8-4088-a965-7352ed646af6"
   },
   "outputs": [
    {
     "data": {
      "text/plain": [
       "<re.Match object; span=(2, 4), match='나라'>"
      ]
     },
     "execution_count": 5,
     "metadata": {},
     "output_type": "execute_result"
    }
   ],
   "source": [
    "re.search(r'나라', '우리나라') #match는 문장의 처음에서 찾는다"
   ]
  },
  {
   "cell_type": "code",
   "execution_count": null,
   "metadata": {
    "colab": {
     "base_uri": "https://localhost:8080/"
    },
    "id": "lYlskVmn5ltn",
    "outputId": "d2a233c7-8514-4b3a-fcae-0c2efa55f2e4"
   },
   "outputs": [
    {
     "data": {
      "text/plain": [
       "['우리', '나라']"
      ]
     },
     "execution_count": 6,
     "metadata": {},
     "output_type": "execute_result"
    }
   ],
   "source": [
    "re.findall(r'\\w\\w', '우리나라') # findall은 매치되는 모든 문자열을 찾는다"
   ]
  },
  {
   "cell_type": "code",
   "execution_count": null,
   "metadata": {
    "colab": {
     "base_uri": "https://localhost:8080/"
    },
    "id": "h_uYEOJi5lto",
    "outputId": "b7b8f0ca-391b-48a7-9f7c-4dd01a08e959"
   },
   "outputs": [
    {
     "data": {
      "text/plain": [
       "['우리', '나라']"
      ]
     },
     "execution_count": 7,
     "metadata": {},
     "output_type": "execute_result"
    }
   ],
   "source": [
    "re.findall(r'\\w\\w', '우리 나라')"
   ]
  },
  {
   "cell_type": "code",
   "execution_count": null,
   "metadata": {
    "colab": {
     "base_uri": "https://localhost:8080/"
    },
    "id": "kfrWdpkM5lto",
    "outputId": "cf4847ce-f21e-4ed1-8a07-b79881cc7758"
   },
   "outputs": [
    {
     "data": {
      "text/plain": [
       "['  ', '??']"
      ]
     },
     "execution_count": 8,
     "metadata": {},
     "output_type": "execute_result"
    }
   ],
   "source": [
    "re.findall(r'\\W\\W', '우리  나라??')"
   ]
  },
  {
   "cell_type": "markdown",
   "metadata": {
    "id": "XbMVU-8V5ltp"
   },
   "source": [
    "# [] 기호 사용하기"
   ]
  },
  {
   "cell_type": "code",
   "execution_count": null,
   "metadata": {
    "colab": {
     "base_uri": "https://localhost:8080/"
    },
    "id": "iVvmpWXN5ltr",
    "outputId": "97862def-bbc1-4468-ae30-3e896846e946"
   },
   "outputs": [
    {
     "data": {
      "text/plain": [
       "['apple', 'appla']"
      ]
     },
     "execution_count": 9,
     "metadata": {},
     "output_type": "execute_result"
    }
   ],
   "source": [
    "re.findall(r'appl[ea]', 'apple appla appli')"
   ]
  },
  {
   "cell_type": "code",
   "execution_count": null,
   "metadata": {
    "colab": {
     "base_uri": "https://localhost:8080/"
    },
    "id": "2gCSW7RZ5ltt",
    "outputId": "7f888621-22a4-45c3-ade5-99e57cfd8eff"
   },
   "outputs": [
    {
     "data": {
      "text/plain": [
       "['appli']"
      ]
     },
     "execution_count": 10,
     "metadata": {},
     "output_type": "execute_result"
    }
   ],
   "source": [
    "re.findall(r'appl[^ea]', 'apple appla appli')"
   ]
  },
  {
   "cell_type": "markdown",
   "metadata": {
    "id": "yT9GSFHW5ltu"
   },
   "source": [
    "# | 기호 사용하기"
   ]
  },
  {
   "cell_type": "code",
   "execution_count": null,
   "metadata": {
    "colab": {
     "base_uri": "https://localhost:8080/"
    },
    "id": "cUaC4GQ55ltv",
    "outputId": "602e1e2b-abd0-410d-d485-c236b90659ff"
   },
   "outputs": [
    {
     "data": {
      "text/plain": [
       "['apple', 'banana']"
      ]
     },
     "execution_count": 11,
     "metadata": {},
     "output_type": "execute_result"
    }
   ],
   "source": [
    "re.findall(r'apple|banana', 'apple banana carret')"
   ]
  },
  {
   "cell_type": "code",
   "execution_count": null,
   "metadata": {
    "colab": {
     "base_uri": "https://localhost:8080/"
    },
    "id": "k87g107g5ltv",
    "outputId": "b99abc0c-8606-48a0-fc90-deeae0648c15"
   },
   "outputs": [
    {
     "data": {
      "text/plain": [
       "['자살시도', '자살예방']"
      ]
     },
     "execution_count": 12,
     "metadata": {},
     "output_type": "execute_result"
    }
   ],
   "source": [
    "re.findall(r'자살시도|자살예방', '자살시도 자살방법 자살교육 자살예방')"
   ]
  },
  {
   "cell_type": "code",
   "execution_count": null,
   "metadata": {
    "colab": {
     "base_uri": "https://localhost:8080/"
    },
    "id": "xrPmMlio5ltw",
    "outputId": "03356e97-1506-4d40-fe6b-8491a103e754"
   },
   "outputs": [
    {
     "data": {
      "text/plain": [
       "['시도', '예방']"
      ]
     },
     "execution_count": 13,
     "metadata": {},
     "output_type": "execute_result"
    }
   ],
   "source": [
    "re.findall(r'자살(시도|예방)', '자살시도 자살방법 자살예방')"
   ]
  },
  {
   "cell_type": "code",
   "execution_count": null,
   "metadata": {
    "colab": {
     "base_uri": "https://localhost:8080/"
    },
    "id": "TDgF49_tgQLO",
    "outputId": "25ac3237-d028-4590-969e-38e828e5075d"
   },
   "outputs": [
    {
     "data": {
      "text/plain": [
       "['리나']"
      ]
     },
     "execution_count": 14,
     "metadata": {},
     "output_type": "execute_result"
    }
   ],
   "source": [
    "re.findall(r'\\w(\\w\\w)', '우리나라')"
   ]
  },
  {
   "cell_type": "markdown",
   "metadata": {
    "id": "_AgsW_bc5ltx"
   },
   "source": [
    "# 매치되는 정보 추출하기"
   ]
  },
  {
   "cell_type": "code",
   "execution_count": null,
   "metadata": {
    "id": "VoRInP6O5ltx"
   },
   "outputs": [],
   "source": [
    "result = re.search(r'(우리)(나라)', '우리나라는 대한민국입니다.')"
   ]
  },
  {
   "cell_type": "code",
   "execution_count": null,
   "metadata": {
    "colab": {
     "base_uri": "https://localhost:8080/"
    },
    "id": "qZnDFl6n6QfM",
    "outputId": "8101dab1-3966-4105-c528-43b85f4e76d9"
   },
   "outputs": [
    {
     "data": {
      "text/plain": [
       "<re.Match object; span=(0, 4), match='우리나라'>"
      ]
     },
     "execution_count": 16,
     "metadata": {},
     "output_type": "execute_result"
    }
   ],
   "source": [
    "result"
   ]
  },
  {
   "cell_type": "code",
   "execution_count": null,
   "metadata": {
    "colab": {
     "base_uri": "https://localhost:8080/",
     "height": 36
    },
    "id": "FJ9GQ9tn5lty",
    "outputId": "1bae3cae-7367-443b-953c-087fb1c93b63"
   },
   "outputs": [
    {
     "data": {
      "application/vnd.google.colaboratory.intrinsic+json": {
       "type": "string"
      },
      "text/plain": [
       "'우리나라'"
      ]
     },
     "execution_count": 17,
     "metadata": {},
     "output_type": "execute_result"
    }
   ],
   "source": [
    "result.group()"
   ]
  },
  {
   "cell_type": "code",
   "execution_count": null,
   "metadata": {
    "colab": {
     "base_uri": "https://localhost:8080/",
     "height": 36
    },
    "id": "x38HpITw5lty",
    "outputId": "dfbc5d4c-e05c-4781-d4f1-d60827a3418a"
   },
   "outputs": [
    {
     "data": {
      "application/vnd.google.colaboratory.intrinsic+json": {
       "type": "string"
      },
      "text/plain": [
       "'우리'"
      ]
     },
     "execution_count": 18,
     "metadata": {},
     "output_type": "execute_result"
    }
   ],
   "source": [
    "result.group(1)"
   ]
  },
  {
   "cell_type": "markdown",
   "metadata": {
    "id": "thq3KTM85ltz"
   },
   "source": [
    "# 문서에서 원하는 정보 추출하기"
   ]
  },
  {
   "cell_type": "code",
   "execution_count": null,
   "metadata": {
    "id": "LNO4QTaq5ltz"
   },
   "outputs": [],
   "source": [
    "text = '2002년 12월 19일 기사입니다'"
   ]
  },
  {
   "cell_type": "code",
   "execution_count": null,
   "metadata": {
    "colab": {
     "base_uri": "https://localhost:8080/",
     "height": 36
    },
    "id": "wyMtG4De5lt0",
    "outputId": "4f697ccd-578c-4163-9fb6-47d627c75050"
   },
   "outputs": [
    {
     "data": {
      "application/vnd.google.colaboratory.intrinsic+json": {
       "type": "string"
      },
      "text/plain": [
       "'2002년 12월 19일'"
      ]
     },
     "execution_count": 20,
     "metadata": {},
     "output_type": "execute_result"
    }
   ],
   "source": [
    "re.search(r'\\d{4}년 *\\d{1,2}월 *\\d{1,2}일', text).group()"
   ]
  },
  {
   "cell_type": "code",
   "execution_count": null,
   "metadata": {
    "id": "_lBd8J5Z5lt1"
   },
   "outputs": [],
   "source": [
    "dates = re.search(r'(\\d{4})년 *(\\d{1,2})월 *(\\d{1,2})일', text)"
   ]
  },
  {
   "cell_type": "code",
   "execution_count": null,
   "metadata": {
    "colab": {
     "base_uri": "https://localhost:8080/",
     "height": 36
    },
    "id": "qhmkXrbq5lt1",
    "outputId": "751fbadb-a16c-4a4d-afa7-8d0d0a59d8f2"
   },
   "outputs": [
    {
     "data": {
      "application/vnd.google.colaboratory.intrinsic+json": {
       "type": "string"
      },
      "text/plain": [
       "'2002년 12월 19일'"
      ]
     },
     "execution_count": 22,
     "metadata": {},
     "output_type": "execute_result"
    }
   ],
   "source": [
    "dates.group()"
   ]
  },
  {
   "cell_type": "code",
   "execution_count": null,
   "metadata": {
    "colab": {
     "base_uri": "https://localhost:8080/"
    },
    "id": "t-s6P6i85lt2",
    "outputId": "277604bb-e252-4215-981d-574252f41543"
   },
   "outputs": [
    {
     "data": {
      "text/plain": [
       "('2002', '12', '19')"
      ]
     },
     "execution_count": 23,
     "metadata": {},
     "output_type": "execute_result"
    }
   ],
   "source": [
    "dates.groups()"
   ]
  },
  {
   "cell_type": "code",
   "execution_count": null,
   "metadata": {
    "colab": {
     "base_uri": "https://localhost:8080/"
    },
    "id": "hUhvkEKk5lt2",
    "outputId": "24058ae0-c32d-45fb-da3a-ee6fc84716dd"
   },
   "outputs": [
    {
     "name": "stdout",
     "output_type": "stream",
     "text": [
      "[('서울', '이고'), ('도쿄', '입니다')]\n"
     ]
    }
   ],
   "source": [
    "text2 = '대한민국의 수도는 서울이고, 일본의 수도는 도쿄입니다.'\n",
    "result3 = re.findall(r'수도는 (\\w+)(입니다|이고)', text2)\n",
    "print(result3)"
   ]
  },
  {
   "cell_type": "code",
   "execution_count": null,
   "metadata": {
    "colab": {
     "base_uri": "https://localhost:8080/"
    },
    "id": "fltBEUST5lt3",
    "outputId": "bdf0f7d7-0f1a-4708-ce29-bbc1f7e4031e"
   },
   "outputs": [
    {
     "name": "stdout",
     "output_type": "stream",
     "text": [
      "2002년 12월 19일\n",
      "2002년 12월 19일\n",
      "2002 12 19\n"
     ]
    }
   ],
   "source": [
    "text1 = '2002년 12월 19일 기사입니다'\n",
    "result1 = re.search(r'(\\d{4}년 \\d{1,2}월 \\d{1,2}일)', text1)\n",
    "result2 = re.search(r'(\\d{4})년 (\\d{1,2})월 (\\d{1,2})일', text1)\n",
    "print(result1.group())\n",
    "print(result2.group())\n",
    "print(result2.group(1), result2.group(2), result2.group(3))"
   ]
  },
  {
   "cell_type": "code",
   "execution_count": null,
   "metadata": {
    "colab": {
     "base_uri": "https://localhost:8080/"
    },
    "id": "F602v7Ssn2Xc",
    "outputId": "2d237a0a-042b-4120-c7d6-ce16faa1d583"
   },
   "outputs": [
    {
     "name": "stdout",
     "output_type": "stream",
     "text": [
      "수도는 도쿄입니다\n",
      "도쿄\n"
     ]
    }
   ],
   "source": [
    "text2 = '대한민국의 수도는 서울이고, 일본의 수도는 도쿄입니다.'\n",
    "result3 = re.search(r'수도는 (\\w+)입니다', text2)\n",
    "print(result3.group())\n",
    "print(result3.group(1))"
   ]
  },
  {
   "cell_type": "code",
   "execution_count": null,
   "metadata": {
    "colab": {
     "base_uri": "https://localhost:8080/"
    },
    "id": "-HzZzmbSpj6e",
    "outputId": "f1aa62fe-00f7-4573-bff4-d6e103e5f28c"
   },
   "outputs": [
    {
     "name": "stdout",
     "output_type": "stream",
     "text": [
      "123-456-7890\n",
      "7890\n"
     ]
    }
   ],
   "source": [
    "num1 = '123-456-7890'\n",
    "num2 = '123 456 7890'\n",
    "pattern1 = r'\\d{3}[\\-\\s]\\d{3}[\\-\\s]\\d{4}'\n",
    "pattern2 = r'\\d{3}[\\-\\s]\\d{3}[\\-\\s](\\d{4})'\n",
    "numbers = re.search(pattern1, num1)\n",
    "print(numbers.group())  #1번답\n",
    "last_numbers = re.search(pattern2, num1)\n",
    "print(last_numbers.group(1)) #2번답"
   ]
  },
  {
   "cell_type": "code",
   "execution_count": null,
   "metadata": {
    "colab": {
     "base_uri": "https://localhost:8080/"
    },
    "id": "ERckttao5lt3",
    "outputId": "8cfd55d4-f1fe-4cec-9ba6-88f89f0b73d5"
   },
   "outputs": [
    {
     "name": "stdout",
     "output_type": "stream",
     "text": [
      "123 456 7890\n",
      "7890\n"
     ]
    }
   ],
   "source": [
    "num1 = '123-456-7890'\n",
    "num2 = '123 456 7890'\n",
    "pattern1 = r'\\d{3}[\\-\\s]\\d{3}[\\-\\s]\\d{4}'\n",
    "pattern2 = r'\\d{3}[\\-\\s]\\d{3}[\\-\\s](\\d{4})'\n",
    "numbers = re.search(pattern1, num2)\n",
    "print(numbers.group())  #1번답\n",
    "last_numbers = re.search(pattern2, num2)\n",
    "print(last_numbers.group(1)) #2번답"
   ]
  },
  {
   "cell_type": "markdown",
   "metadata": {
    "id": "P2tCjR6v5lt4"
   },
   "source": [
    "# split() 함수 사용하기"
   ]
  },
  {
   "cell_type": "code",
   "execution_count": null,
   "metadata": {
    "id": "WDlRNT3F5lt4"
   },
   "outputs": [],
   "source": [
    "text = 'Today*is Monday'"
   ]
  },
  {
   "cell_type": "code",
   "execution_count": null,
   "metadata": {
    "colab": {
     "base_uri": "https://localhost:8080/"
    },
    "id": "30VsRgnJ5lt4",
    "outputId": "045e6a40-ee1c-4b2c-cee3-428a13520a37"
   },
   "outputs": [
    {
     "data": {
      "text/plain": [
       "['Today', 'is', 'Monday']"
      ]
     },
     "execution_count": 3,
     "metadata": {},
     "output_type": "execute_result"
    }
   ],
   "source": [
    "re.split(r'\\W', text)"
   ]
  },
  {
   "cell_type": "markdown",
   "metadata": {
    "id": "a3H0pTlH5lt5"
   },
   "source": [
    "# sub() 함수 사용하기"
   ]
  },
  {
   "cell_type": "code",
   "execution_count": null,
   "metadata": {
    "id": "WS7xK41z5lt5"
   },
   "outputs": [],
   "source": [
    "text = '이 [신문]은 오늘자 신문입니다!!'"
   ]
  },
  {
   "cell_type": "code",
   "execution_count": null,
   "metadata": {
    "id": "eqyGYFSW5lt5"
   },
   "outputs": [],
   "source": [
    "text1 = re.sub(r'[^\\s\\d\\w]','', text)"
   ]
  },
  {
   "cell_type": "code",
   "execution_count": null,
   "metadata": {
    "colab": {
     "base_uri": "https://localhost:8080/",
     "height": 35
    },
    "id": "PAwySC0t5lt6",
    "outputId": "d1d8b2ee-020b-42f1-aef2-8f6d09c98b71"
   },
   "outputs": [
    {
     "data": {
      "application/vnd.google.colaboratory.intrinsic+json": {
       "type": "string"
      },
      "text/plain": [
       "'이 신문은 오늘자 신문입니다'"
      ]
     },
     "execution_count": 6,
     "metadata": {},
     "output_type": "execute_result"
    }
   ],
   "source": [
    "text1"
   ]
  },
  {
   "cell_type": "code",
   "execution_count": null,
   "metadata": {
    "id": "EKZkirXI5lt6"
   },
   "outputs": [],
   "source": [
    "text2 = re.sub(r'[^\\.\\!\\?\\s\\d\\w]','', text)"
   ]
  },
  {
   "cell_type": "code",
   "execution_count": null,
   "metadata": {
    "colab": {
     "base_uri": "https://localhost:8080/",
     "height": 35
    },
    "id": "viSYD_FN5lt6",
    "outputId": "b648efc4-3ac0-40b3-d738-b906c36b57de"
   },
   "outputs": [
    {
     "data": {
      "application/vnd.google.colaboratory.intrinsic+json": {
       "type": "string"
      },
      "text/plain": [
       "'이 신문은 오늘자 신문입니다!!'"
      ]
     },
     "execution_count": 8,
     "metadata": {},
     "output_type": "execute_result"
    }
   ],
   "source": [
    "text2"
   ]
  },
  {
   "cell_type": "code",
   "execution_count": null,
   "metadata": {
    "colab": {
     "base_uri": "https://localhost:8080/"
    },
    "id": "MPbDZ4hY5lt6",
    "outputId": "6bfca433-1429-4a66-8d1b-d799316054fc"
   },
   "outputs": [
    {
     "data": {
      "text/plain": [
       "['이', '신문은', '오늘자', '신문입니다']"
      ]
     },
     "execution_count": 9,
     "metadata": {},
     "output_type": "execute_result"
    }
   ],
   "source": [
    "text1.split()"
   ]
  },
  {
   "cell_type": "code",
   "execution_count": null,
   "metadata": {
    "colab": {
     "base_uri": "https://localhost:8080/"
    },
    "id": "fw5IJJRo5lt7",
    "outputId": "05cd9886-85d2-4ba4-f114-14d1a38073ec"
   },
   "outputs": [
    {
     "data": {
      "text/plain": [
       "['이', '신문은', '오늘자', '신문입니다']"
      ]
     },
     "execution_count": 37,
     "metadata": {},
     "output_type": "execute_result"
    }
   ],
   "source": [
    "#pattern=r'\\W'\n",
    "pattern=r'\\W'\n",
    "re.split(pattern, text1)"
   ]
  },
  {
   "cell_type": "markdown",
   "metadata": {
    "id": "bIt3zB-P5lt7"
   },
   "source": [
    "# 특정한 표현이 뒤따르지 않는 패턴(혹은 표현) 찾기"
   ]
  },
  {
   "cell_type": "code",
   "execution_count": null,
   "metadata": {
    "colab": {
     "base_uri": "https://localhost:8080/"
    },
    "id": "jWDFrlTt5lt7",
    "outputId": "2fb70448-869a-47fe-a862-2e89c73f9e8d"
   },
   "outputs": [
    {
     "data": {
      "text/plain": [
       "[]"
      ]
     },
     "execution_count": 38,
     "metadata": {},
     "output_type": "execute_result"
    }
   ],
   "source": [
    "re.findall(r'초콜릿(?!렛)', '초콜릿렛')"
   ]
  },
  {
   "cell_type": "code",
   "execution_count": null,
   "metadata": {
    "colab": {
     "base_uri": "https://localhost:8080/"
    },
    "id": "HQIkdbTkth8_",
    "outputId": "99fbf1e2-5e5c-49ae-ccf1-0768ad950ce1"
   },
   "outputs": [
    {
     "data": {
      "text/plain": [
       "['초콜릿']"
      ]
     },
     "execution_count": 39,
     "metadata": {},
     "output_type": "execute_result"
    }
   ],
   "source": [
    "re.findall(r'초콜릿(?!렛)', '초콜릿맛')"
   ]
  },
  {
   "cell_type": "code",
   "execution_count": null,
   "metadata": {
    "colab": {
     "base_uri": "https://localhost:8080/"
    },
    "id": "lsxKOdpl5lt8",
    "outputId": "f5032a15-3356-424e-fdd6-a75919d8fc5d"
   },
   "outputs": [
    {
     "data": {
      "text/plain": [
       "['초콜릿', '초콜릿', '초콜릿']"
      ]
     },
     "execution_count": 40,
     "metadata": {},
     "output_type": "execute_result"
    }
   ],
   "source": [
    "text5 = '초콜릿맛 초콜릿렛 초콜릿사과 초콜릿딸기'\n",
    "re.findall(r'초콜릿(?!렛)', text5)"
   ]
  },
  {
   "cell_type": "code",
   "execution_count": null,
   "metadata": {
    "colab": {
     "base_uri": "https://localhost:8080/"
    },
    "id": "PUQzHOVl5lt8",
    "outputId": "ce849c1e-0312-4916-b2fa-853ea530697a"
   },
   "outputs": [
    {
     "data": {
      "text/plain": [
       "['자살', '자살']"
      ]
     },
     "execution_count": 41,
     "metadata": {},
     "output_type": "execute_result"
    }
   ],
   "source": [
    "re.findall(r'자살(?!예방)', '자살시도 자살방법 자살예방')"
   ]
  },
  {
   "cell_type": "code",
   "execution_count": null,
   "metadata": {
    "id": "VZjc81F1NXTn"
   },
   "outputs": [],
   "source": []
  }
 ],
 "metadata": {
  "colab": {
   "provenance": []
  },
  "kernelspec": {
   "display_name": "Python 3 (ipykernel)",
   "language": "python",
   "name": "python3"
  },
  "language_info": {
   "codemirror_mode": {
    "name": "ipython",
    "version": 3
   },
   "file_extension": ".py",
   "mimetype": "text/x-python",
   "name": "python",
   "nbconvert_exporter": "python",
   "pygments_lexer": "ipython3",
   "version": "3.10.9"
  }
 },
 "nbformat": 4,
 "nbformat_minor": 1
}
