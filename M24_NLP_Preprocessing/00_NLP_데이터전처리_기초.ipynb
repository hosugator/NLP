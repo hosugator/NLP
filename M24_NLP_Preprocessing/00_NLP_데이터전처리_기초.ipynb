{
 "cells": [
  {
   "cell_type": "markdown",
   "metadata": {},
   "source": [
    "# 데이터 전처리란?\n",
    "- 텍스트 전처리는 풀고자 하는 문제의 용도에 맞게 텍스트를 사전에 처리하는 작업\n",
    "- NLP에서 다루는 데이터는 \"글자 그대로의 텍스트\"인데 이 데이터에는 오타, 특수문자, 불필요한 정보가 많아서 사전에 처리가 필요\n",
    "  - 예) \"와~ 오늘 날씨 짱 좋다!!! 😆 http://weather.com\" => \"오늘 날씨 좋다\"\n",
    "\n",
    "## 전처리 과정 흐름\n",
    "- 데이터 수집 → 정제/정규화 → 토큰화 → 불용어 제거 → 벡터화\n",
    "\n",
    "1. 정제(Cleaning)\n",
    "- 불필요한 문자(특수문자, 이모지, HTML 태그 등)를 제거\n",
    "\n",
    "2. 정규화(Normalization)\n",
    "- 같은 의미의 표현을 통일\n",
    "    - 예: \"짱\" → \"아주\", \"굿\" → \"좋다\"  / 영어에서는 대소문자 통일(Hello vs hello)\n",
    "\n",
    "3. 토큰화(Tokenization)\n",
    "- 긴 텍스트(문장)을 의미 있는 작은 단위(단어, 형태소)로 나누는 것\n",
    "  - 예) \"자연어 처리는 재미있어요.\" → 토큰화 후: ['자연어', '처리', '는', '재미', '있', '어요']\n",
    "- 영어: 공백으로 단어 구분이 명확, 한국어는 교착어 특성(조사, 어미가 있어) 영어보다 더 복잡함\n",
    "  - 예) \"사랑합니다\" → \"사랑\" + \"하\" + \"ㅂ니다\" (어근+어미)\n",
    "- 단어 단위 vs 문장 단위 토큰화\n",
    "\n",
    "  3.1 어간 추출(Stemming)\n",
    "  - 단어의 어미를 잘라내어 기본형으로 변환\n",
    "    - 예) \"running\" → \"run\"\n",
    "  - 규칙적이나 때때로 단어 의미 손실 가능\n",
    "\n",
    "  3.2 표제어 추출(Lemmatization)\n",
    "  - 단어 사전 기반으로 의미를 유지한 채 기본형 변환\n",
    "    - 예) \"better\" → \"good\" , \"The cats are running fast\" → 표제어 추출: cat, run, fast , \"공부했다\", \"공부합니다\" → \"공부하다\"\n",
    "\n",
    "4. 불용어(Stopwords)\n",
    "- 자주 등장하지만 의미가 없는 단어, 즉 분석에 도움이 되지 않는 일반적인 단어들\n",
    "  - 예) \"은, 는, 이, 가, the, is, and\"\n",
    "  - 한국어 불용어 리스트\n",
    "    - 조사: \"은\", \"는\", \"이\", \"가\", \"을\", \"를\", \"에\", \"에서\"\n",
    "    - 어미: \"다\", \"요\", \"니다\", \"습니다\"\n",
    "    - 부사: \"매우\", \"정말\", \"아주\", \"너무\""
   ]
  },
  {
   "cell_type": "markdown",
   "metadata": {},
   "source": [
    "# 1. 정제화"
   ]
  },
  {
   "cell_type": "code",
   "execution_count": 4,
   "metadata": {},
   "outputs": [
    {
     "name": "stdout",
     "output_type": "stream",
     "text": [
      "hello world im learning nlp really interesting\n"
     ]
    }
   ],
   "source": [
    "# 영문\n",
    "import re\n",
    "\n",
    "def quick_clean_english(text):\n",
    "    \"\"\"영어 텍스트 3단계 정제\"\"\"\n",
    "    # 1. 소문자 + 특수문자 제거\n",
    "    text = text.lower()\n",
    "    text = re.sub(r'[^a-zA-Z0-9\\s]', '', text)\n",
    "    \n",
    "    # 2. 공백 정리\n",
    "    text = re.sub(r'\\s+', ' ', text).strip()\n",
    "    \n",
    "    # 3. 짧은 단어 제거\n",
    "    words = [w for w in text.split() if len(w) >= 2]\n",
    "    return ' '.join(words)\n",
    "\n",
    "# 테스트\n",
    "text = \"Hello World!!! I'm learning NLP... Really interesting! 😊\"\n",
    "print(quick_clean_english(text))\n",
    "# 결과: \"hello world im learning nlp really interesting\""
   ]
  },
  {
   "cell_type": "code",
   "execution_count": 6,
   "metadata": {},
   "outputs": [
    {
     "name": "stdout",
     "output_type": "stream",
     "text": [
      "안녕하세요 저는 NLP 공부중입니다\n"
     ]
    }
   ],
   "source": [
    "# 한글\n",
    "import re\n",
    "#from konlpy.tag import Okt\n",
    "\n",
    "def quick_clean(text):\n",
    "    \"\"\"3단계 정제\"\"\"\n",
    "    # 1. 특수문자 제거\n",
    "    text = re.sub(r'[^가-힣a-zA-Z0-9\\s]', '', text)\n",
    "    # 2. 공백 정리  \n",
    "    text = re.sub(r'\\s+', ' ', text).strip()\n",
    "    # 3. 짧은 단어 제거\n",
    "    words = text.split()\n",
    "    return ' '.join([w for w in words if len(w) >= 2])\n",
    "\n",
    "# 테스트\n",
    "text = \"안녕하세요!!! 저는 NLP 공부중입니다 ㅋㅋㅋ\"\n",
    "print(quick_clean(text))  # \"안녕하세요 저는 NLP 공부중입니다\""
   ]
  },
  {
   "cell_type": "markdown",
   "metadata": {},
   "source": [
    "# 2. 정규화\n",
    "- re 모듈\n",
    "  - [^...] → 부정 문자 클래스 (NOT, 제외)\n",
    "  - 가-힣   → 한글 완성형 문자 범위\n",
    "  - a-zA-Z → 영어 소문자 + 대문자\n",
    "  - 0-9    → 숫자\n",
    "  - \\\\s    → 공백 문자 (스페이스, 탭, 개행)\n",
    "  - ''     → 빈 문자열로 치환 (제거)"
   ]
  },
  {
   "cell_type": "code",
   "execution_count": null,
   "metadata": {},
   "outputs": [],
   "source": [
    "import re\n",
    "\n",
    "def text_normalize(text):\n",
    "    # 1. 소문자 변환\n",
    "    text = text.lower()\n",
    "    \n",
    "    # 2. 특수문자 제거 (한글, 영문, 숫자, 공백만 유지)\n",
    "    text = re.sub(r'[^가-힣a-zA-Z0-9\\s]', '', text)\n",
    "    \n",
    "    # 3. 여러 공백을 하나로\n",
    "    text = re.sub(r'\\s+', ' ', text)\n",
    "    \n",
    "    # 4. 앞뒤 공백 제거\n",
    "    text = text.strip()\n",
    "    \n",
    "    return text\n",
    "\n",
    "# 실습 데이터\n",
    "messy_text = \"   안녕하세요!!! 저는 NLP를 배우고 있습니다... 정말 흥미로워요 😊   \"\n",
    "cleaned_text = text_normalize(messy_text)\n",
    "\n",
    "print(f\"원본: '{messy_text}'\")\n",
    "print(f\"정규화 후: '{cleaned_text}'\")"
   ]
  },
  {
   "cell_type": "markdown",
   "metadata": {
    "id": "7hJxnNnALVmR"
   },
   "source": [
    "# 3. Tokenization"
   ]
  },
  {
   "cell_type": "markdown",
   "metadata": {
    "id": "wbaEB1ernvtM"
   },
   "source": [
    "참고 링크 : https://wikidocs.net/21698"
   ]
  },
  {
   "cell_type": "markdown",
   "metadata": {
    "id": "gXi_05LenIYM"
   },
   "source": [
    "주어진 텍스트에서 토큰(token)이라 불리는 단위로 나누는 작업을 토큰화(tokenization)라고 부릅니다. 토큰의 단위가 상황에 따라 다르지만, 보통 의미있는 단위로 토큰을 정의합니다.  \n",
    "\n",
    "일반적으로 토큰의 단위는 크게는 '문장' 작게는 '단어'라고 보시면 됩니다."
   ]
  },
  {
   "cell_type": "markdown",
   "metadata": {
    "id": "sGAPbS4ZnTAS"
   },
   "source": [
    "**토큰화는 일반적으로 여러분들이 직접 수행하시지 말고, 이미 구현되어져 있는 패키지에 의존하는 것이 훨씬 좋습니다.**\n",
    "\n",
    "- https://platform.openai.com/tokenizer"
   ]
  },
  {
   "cell_type": "markdown",
   "metadata": {
    "id": "ri9LCOBRnid7"
   },
   "source": [
    "---"
   ]
  },
  {
   "cell_type": "markdown",
   "metadata": {
    "id": "UFruANiioOeT"
   },
   "source": [
    "## 3-1.Word Tokenization"
   ]
  },
  {
   "cell_type": "markdown",
   "metadata": {
    "id": "3Y8UCpIaoYIR"
   },
   "source": [
    "단어 단위로 토큰화를 수행하는 것을 단어 토큰화(Word Tokenization)라고 합니다."
   ]
  },
  {
   "cell_type": "markdown",
   "metadata": {
    "id": "iciE21O6LaLg"
   },
   "source": [
    "### 3-1-1. 영어 : Word Tokenization"
   ]
  },
  {
   "cell_type": "markdown",
   "metadata": {
    "id": "HkbmprCkoiSP"
   },
   "source": [
    "영어로 토큰화를 할 때는 일반적으로 NLTK라는 패키지를 사용합니다. NTLK는 영어 자연어 처리를 위한 패키지라고 보시면 됩니다. \n",
    "NLTK에서는 다양한 영어 토크나이저(토큰화를 수행하는 도구)를 제공하고 있습니다.  \n",
    "**토큰화 결과는 토크나이저마다 규칙이 조금씩 다릅니다. 어떤 토크나이저를 사용할 지 정답은 없습니다.**\n",
    "\n",
    "어떤 토크나이저를 사용할 지는 사용자의 선택입니다."
   ]
  },
  {
   "cell_type": "code",
   "execution_count": 1,
   "metadata": {},
   "outputs": [
    {
     "name": "stdout",
     "output_type": "stream",
     "text": [
      "Collecting nltk\n",
      "  Using cached nltk-3.9.1-py3-none-any.whl.metadata (2.9 kB)\n",
      "Collecting click (from nltk)\n",
      "  Using cached click-8.2.1-py3-none-any.whl.metadata (2.5 kB)\n",
      "Collecting joblib (from nltk)\n",
      "  Using cached joblib-1.5.1-py3-none-any.whl.metadata (5.6 kB)\n",
      "Collecting regex>=2021.8.3 (from nltk)\n",
      "  Downloading regex-2025.7.34-cp310-cp310-win_amd64.whl.metadata (41 kB)\n",
      "Collecting tqdm (from nltk)\n",
      "  Using cached tqdm-4.67.1-py3-none-any.whl.metadata (57 kB)\n",
      "Requirement already satisfied: colorama in c:\\users\\cooju\\anaconda3\\envs\\crawl_env\\lib\\site-packages (from click->nltk) (0.4.6)\n",
      "Using cached nltk-3.9.1-py3-none-any.whl (1.5 MB)\n",
      "Downloading regex-2025.7.34-cp310-cp310-win_amd64.whl (276 kB)\n",
      "Using cached click-8.2.1-py3-none-any.whl (102 kB)\n",
      "Using cached joblib-1.5.1-py3-none-any.whl (307 kB)\n",
      "Using cached tqdm-4.67.1-py3-none-any.whl (78 kB)\n",
      "Installing collected packages: tqdm, regex, joblib, click, nltk\n",
      "\n",
      "   -------- ------------------------------- 1/5 [regex]\n",
      "   ---------------- ----------------------- 2/5 [joblib]\n",
      "   ---------------- ----------------------- 2/5 [joblib]\n",
      "   -------------------------------- ------- 4/5 [nltk]\n",
      "   -------------------------------- ------- 4/5 [nltk]\n",
      "   -------------------------------- ------- 4/5 [nltk]\n",
      "   -------------------------------- ------- 4/5 [nltk]\n",
      "   -------------------------------- ------- 4/5 [nltk]\n",
      "   -------------------------------- ------- 4/5 [nltk]\n",
      "   -------------------------------- ------- 4/5 [nltk]\n",
      "   -------------------------------- ------- 4/5 [nltk]\n",
      "   -------------------------------- ------- 4/5 [nltk]\n",
      "   ---------------------------------------- 5/5 [nltk]\n",
      "\n",
      "Successfully installed click-8.2.1 joblib-1.5.1 nltk-3.9.1 regex-2025.7.34 tqdm-4.67.1\n"
     ]
    }
   ],
   "source": [
    "!pip install nltk"
   ]
  },
  {
   "cell_type": "code",
   "execution_count": 1,
   "metadata": {
    "id": "u9vsOXPY3Wqe"
   },
   "outputs": [],
   "source": [
    "import nltk"
   ]
  },
  {
   "cell_type": "markdown",
   "metadata": {},
   "source": [
    "- punkt (Punkt Sentence Tokenizer)\n",
    "  > - 문장 단위로 텍스트를 나누는 도구\n",
    "  > - 기계학습으로 훈련된 모델을 사용해 문장의 끝을 판단\n",
    "  > - punkt는 영어에 특화되어 있어서 한국어보다 영어에서 더 정확합니다\n",
    "\n",
    "- punkt_tab (PunktSentenceTokenizer - Tabbed version)\n",
    "  > - punkt의 더 효율적인 버전\n",
    "  > - 메모리 사용량이 적고 속도가 빠름"
   ]
  },
  {
   "cell_type": "code",
   "execution_count": 6,
   "metadata": {
    "colab": {
     "base_uri": "https://localhost:8080/"
    },
    "id": "ofn4FR4V3Ynv",
    "outputId": "7a21af27-60a6-4ef1-ba12-257ee24b2ed3"
   },
   "outputs": [
    {
     "name": "stderr",
     "output_type": "stream",
     "text": [
      "[nltk_data] Downloading package punkt to\n",
      "[nltk_data]     C:\\Users\\cooju\\AppData\\Roaming\\nltk_data...\n",
      "[nltk_data]   Package punkt is already up-to-date!\n",
      "[nltk_data] Downloading package punkt_tab to\n",
      "[nltk_data]     C:\\Users\\cooju\\AppData\\Roaming\\nltk_data...\n",
      "[nltk_data]   Unzipping tokenizers\\punkt_tab.zip.\n"
     ]
    },
    {
     "data": {
      "text/plain": [
       "True"
      ]
     },
     "execution_count": 6,
     "metadata": {},
     "output_type": "execute_result"
    }
   ],
   "source": [
    "nltk.download('punkt')\n",
    "nltk.download('punkt_tab')  # 추가 다운로드"
   ]
  },
  {
   "cell_type": "markdown",
   "metadata": {
    "id": "xdzieQO1obgJ"
   },
   "source": [
    "아래의 문장을 보면 Don't와 Jone's에는 아포스트로피(')가 들어가있습니다."
   ]
  },
  {
   "cell_type": "code",
   "execution_count": 2,
   "metadata": {
    "id": "Q_v2UoFX3DOr"
   },
   "outputs": [],
   "source": [
    "sentence = \"Don't be fooled by the dark sounding name, Mr. Jone's Orphanage is as cheery as cheery goes for a pastry shop.\""
   ]
  },
  {
   "cell_type": "markdown",
   "metadata": {
    "id": "h7dq1AIa4YQw"
   },
   "source": [
    "#### **NLTK의 토크나이저 1. word_tokenize**\n",
    "- 가장 일반적이고 권장되는 토크나이저\n",
    "- TreebankWordTokenizer를 기반으로 함\n",
    "- 축약형, 구두점 등을 지능적으로 처리\n",
    "- 대부분의 경우에 가장 좋은 결과"
   ]
  },
  {
   "cell_type": "markdown",
   "metadata": {
    "id": "Tg_eQnb73i9Z"
   },
   "source": [
    "**아포스트로피가 들어간 상황에서 Don't와 Jone's는 어떻게 토큰화할 수 있을까요?**\n",
    "\n"
   ]
  },
  {
   "cell_type": "code",
   "execution_count": 3,
   "metadata": {
    "colab": {
     "base_uri": "https://localhost:8080/"
    },
    "id": "GZG-ES853DRs",
    "outputId": "ca50c28e-d365-4508-eb07-36abb7c77c69"
   },
   "outputs": [
    {
     "name": "stdout",
     "output_type": "stream",
     "text": [
      "['Do', \"n't\", 'be', 'fooled', 'by', 'the', 'dark', 'sounding', 'name', ',', 'Mr.', 'Jone', \"'s\", 'Orphanage', 'is', 'as', 'cheery', 'as', 'cheery', 'goes', 'for', 'a', 'pastry', 'shop', '.']\n"
     ]
    }
   ],
   "source": [
    "from nltk.tokenize import word_tokenize  \n",
    "print(word_tokenize(sentence))"
   ]
  },
  {
   "cell_type": "markdown",
   "metadata": {
    "id": "YWnG6YxT3qp_"
   },
   "source": [
    "▲ Don't를 Do와 n't로 분리하였으며, Jone's는 Jone과 's로 분리"
   ]
  },
  {
   "cell_type": "markdown",
   "metadata": {
    "id": "GWmmTR1HsVXe"
   },
   "source": [
    "---"
   ]
  },
  {
   "cell_type": "markdown",
   "metadata": {
    "id": "FCIhWE4mpM4C"
   },
   "source": [
    "#### **NLTK의 토크나이저 2. WordPunctTokenizer**\n",
    "- 가장 단순한 방식\n",
    "- 알파벳/숫자 vs 구두점으로만 구분\n",
    "- 빠르지만 정교하지 않음\n",
    "- 특수한 경우 (축약형 등) 잘못 처리할 수 있음"
   ]
  },
  {
   "cell_type": "code",
   "execution_count": 23,
   "metadata": {
    "colab": {
     "base_uri": "https://localhost:8080/"
    },
    "id": "tbwe2_ny3DWj",
    "outputId": "6fd0419b-a1ab-4461-d946-18fcd1a8bf45"
   },
   "outputs": [
    {
     "name": "stdout",
     "output_type": "stream",
     "text": [
      "['Don', \"'\", 't', 'be', 'fooled', 'by', 'the', 'dark', 'sounding', 'name', ',', 'Mr', '.', 'Jone', \"'\", 's', 'Orphanage', 'is', 'as', 'cheery', 'as', 'cheery', 'goes', 'for', 'a', 'pastry', 'shop', '.']\n"
     ]
    }
   ],
   "source": [
    "from nltk.tokenize import WordPunctTokenizer  \n",
    "tokenizer=WordPunctTokenizer()\n",
    "print(tokenizer.tokenize(sentence))"
   ]
  },
  {
   "cell_type": "markdown",
   "metadata": {
    "id": "ErJrv2nT3sMP"
   },
   "source": [
    "▲ Don't를 Don과 '와 t로 분리하였으며, Jone's를 Jone과 '와 s로 분리"
   ]
  },
  {
   "cell_type": "markdown",
   "metadata": {
    "id": "G6Umwj-OsUod"
   },
   "source": [
    "---"
   ]
  },
  {
   "cell_type": "markdown",
   "metadata": {
    "id": "yBn2S23BpUY0"
   },
   "source": [
    " #### **NLTK의 토크나이저 3. TreebankWordTokenizer**\n",
    "- Penn Treebank 프로젝트 스타일\n",
    "- word_tokenize의 기반이 되는 토크나이저\n",
    "- 언어학적으로 정확한 토큰화\n",
    "- 축약형, 구두점을 세밀하게 분리\n",
    "\n",
    "> Penn Treebank Tokenizer의 규칙        \n",
    "    - 규칙 1. 하이푼으로 구성된 단어는 하나로 유지한다.  \n",
    "    - 규칙 2. doesn't와 같이 아포스트로피로 '접어'가 함께하는 단어는 분리해준다.  "
   ]
  },
  {
   "cell_type": "code",
   "execution_count": 24,
   "metadata": {
    "colab": {
     "base_uri": "https://localhost:8080/"
    },
    "id": "sTDxdxLk4-IG",
    "outputId": "59abc8c1-21dc-4de5-e5e2-82d4b8f6944a"
   },
   "outputs": [
    {
     "name": "stdout",
     "output_type": "stream",
     "text": [
      "['Do', \"n't\", 'be', 'fooled', 'by', 'the', 'dark', 'sounding', 'name', ',', 'Mr.', 'Jone', \"'s\", 'Orphanage', 'is', 'as', 'cheery', 'as', 'cheery', 'goes', 'for', 'a', 'pastry', 'shop', '.']\n",
      "['Starting', 'a', 'home-based', 'restaurant', 'may', 'be', 'an', 'ideal.', 'it', 'does', \"n't\", 'have', 'a', 'food', 'chain', 'or', 'restaurant', 'of', 'their', 'own', '.']\n"
     ]
    }
   ],
   "source": [
    "from nltk.tokenize import TreebankWordTokenizer\n",
    "tokenizer=TreebankWordTokenizer()\n",
    "print(tokenizer.tokenize(sentence))\n",
    "\n",
    "text = \"Starting a home-based restaurant may be an ideal. it doesn't have a food chain or restaurant of their own.\"\n",
    "print(tokenizer.tokenize(text))"
   ]
  },
  {
   "cell_type": "code",
   "execution_count": 11,
   "metadata": {},
   "outputs": [
    {
     "name": "stdout",
     "output_type": "stream",
     "text": [
      "['Starting', 'a', 'home-based', 'restaurant', 'may', 'be', 'an', 'ideal', '.', 'it', 'does', \"n't\", 'have', 'a', 'food', 'chain', 'or', 'restaurant', 'of', 'their', 'own', '.']\n"
     ]
    }
   ],
   "source": [
    "print(word_tokenize(text))"
   ]
  },
  {
   "cell_type": "markdown",
   "metadata": {
    "id": "ARx4uEMRqg7F"
   },
   "source": [
    "지금까지 주어진 문자열로부터 NLTK가 제공하는 토크나이저 3개를 사용하여 단어 토큰화를 수행해봤습니다.  \n",
    "\n",
    "결과가 전부 다릅니다. **다시 말하지만 뭐가 더 좋은지 정답은 없습니다. 사실 토크나이저마다 각자 규칙이 다르기 때문에 사용하고자 하는 목적에 따라 토크나이저를 선택하는 것이 중요합니다.**"
   ]
  },
  {
   "cell_type": "markdown",
   "metadata": {
    "id": "PNZexhH6segP"
   },
   "source": [
    "---"
   ]
  },
  {
   "cell_type": "markdown",
   "metadata": {
    "id": "zZCS4energVw"
   },
   "source": [
    "- **띄어쓰기를 기준으로 하는 단어 토큰화 (잘 되는 것 같아도 가급적 No!)**\n",
    "- **사실 영어는 띄어쓰기를 기준으로 단어 토큰화를 한다고 하더라도 꽤 잘 되는 편입니다.**  \n",
    "- 하지만 그럼에도 띄어쓰기를 기준으로 단어 토큰화를 하는 것은 하지 않는 것이 좋은데 그 이유를 이해해봅시다."
   ]
  },
  {
   "cell_type": "markdown",
   "metadata": {
    "id": "bUeLZNUJrGAF"
   },
   "source": [
    "- 특수 문자가 있는 다음과 같은 영어 문장에 대해 word_tokenize() 와 split() 기능 비교하기"
   ]
  },
  {
   "cell_type": "code",
   "execution_count": 25,
   "metadata": {
    "id": "w0a3clHxrH4K"
   },
   "outputs": [],
   "source": [
    "en_text = \"A Dog Run back corner near spare bedrooms!!!!\""
   ]
  },
  {
   "cell_type": "markdown",
   "metadata": {
    "id": "8EbN949GrMLE"
   },
   "source": [
    "우선 앞서 배운 NLTK로 토큰화를 해봅시다."
   ]
  },
  {
   "cell_type": "code",
   "execution_count": 26,
   "metadata": {
    "colab": {
     "base_uri": "https://localhost:8080/"
    },
    "id": "NocCRtterOG4",
    "outputId": "865b0b6b-d12e-4933-9f39-e4f063098c4a"
   },
   "outputs": [
    {
     "name": "stdout",
     "output_type": "stream",
     "text": [
      "['A', 'Dog', 'Run', 'back', 'corner', 'near', 'spare', 'bedrooms', '!', '!', '!', '!']\n"
     ]
    }
   ],
   "source": [
    "from nltk.tokenize import word_tokenize\n",
    "print(word_tokenize(en_text))"
   ]
  },
  {
   "cell_type": "markdown",
   "metadata": {
    "id": "r1KPhStArVm8"
   },
   "source": [
    "이번에는 NLTK가 아닌 그냥 띄어쓰기 단위로 토큰화를 해봅시다.  \n",
    "파이썬은 주어진 문자열에 .split()을 하면 띄어쓰기를 기준으로 전부 원소를 잘라서 리스트 형태로 리턴합니다."
   ]
  },
  {
   "cell_type": "code",
   "execution_count": 27,
   "metadata": {
    "colab": {
     "base_uri": "https://localhost:8080/"
    },
    "id": "1BC_cEmbrYqy",
    "outputId": "eae029b2-f95d-42d6-dd04-71eebe1e7bf1"
   },
   "outputs": [
    {
     "name": "stdout",
     "output_type": "stream",
     "text": [
      "['A', 'Dog', 'Run', 'back', 'corner', 'near', 'spare', 'bedrooms!!!!']\n"
     ]
    }
   ],
   "source": [
    "print(en_text.split())"
   ]
  },
  {
   "cell_type": "markdown",
   "metadata": {
    "id": "vib_14zGrZyp"
   },
   "source": [
    "보이시나요? 이게 바로 띄어쓰기를 기준으로 단어 토큰화를 수행한 결과입니다.  \n",
    "\n",
    "사실 영어는 NLTK라는 패키지를 사용하면 좀 더 섬세한 토큰화를 하기는 하지만, 띄어쓰기를 하는 것만으로도 거의 토큰화가 잘 되는 편입니다. 하지만 그럼에도 띄어쓰기를 기준으로 하는 것을 지양(하지마세요)하라는 것은 이유가 있습니다.  "
   ]
  },
  {
   "cell_type": "markdown",
   "metadata": {
    "id": "3aBFM4gAr_eL"
   },
   "source": [
    "▲         \n",
    "bedrooms와 ...가 붙어서 bedrooms...가 나오고,  \n",
    "bedrooms와 !!!가 붙어서 bedrooms!!!가 나옵니다.  \n",
    "\n",
    "파이썬이 보기에 이들은 전부 다른 단어로 인식합니다.\n",
    "NLTK가 훨씬 섬세하게 동작한다는 것을 알 수 있습니다."
   ]
  },
  {
   "cell_type": "markdown",
   "metadata": {
    "id": "0GbPMPZSoGzF"
   },
   "source": [
    "---"
   ]
  },
  {
   "cell_type": "markdown",
   "metadata": {
    "id": "uSMrszdyBLQj"
   },
   "source": [
    "### 3-1-2. 한국어 : Word Tokenization(KoNLPy)"
   ]
  },
  {
   "cell_type": "markdown",
   "metadata": {
    "id": "ZGJAEiGhrAEE"
   },
   "source": [
    "-  띄어쓰기를 기준으로 하는 단어 토큰화 (그냥 No!)      \n",
    "    > 사실 영어의 경우에는 띄어쓰기 단위로 토큰화를 해도 단어들 간 구분이 꽤나 명확한 편입니다. 하지만 한국어의 경우에는 토큰화 작업이 훨씬 까다롭습니다. 그 이유는 **한국어는 조사, 접사 등으로 인해 단순 띄어쓰기 단위로 나누면 같은 단어가 다른 단어로 인식되는 경우가 너무 너무 너무 많기 때문입니다.**\n",
    "\n",
    "- 한국어는 띄어쓰기로 토큰화하는 것은 명확한 실험 목적이 없다면 거의 쓰지 않는 것이 좋습니다. 예시를 통해서 이해해봅시다."
   ]
  },
  {
   "cell_type": "code",
   "execution_count": 4,
   "metadata": {
    "colab": {
     "base_uri": "https://localhost:8080/"
    },
    "id": "-xWyJGP-t4Eu",
    "outputId": "09fe9a05-88dd-4712-ed91-9c361afaedb4"
   },
   "outputs": [
    {
     "name": "stdout",
     "output_type": "stream",
     "text": [
      "['사과의', '놀라운', '효능이라는', '글을', '봤어.', '그래서', '오늘', '사과를', '먹으려고', '했는데', '사과가', '썩어서', '슈퍼에', '가서', '사과랑', '오렌지', '사왔어']\n"
     ]
    }
   ],
   "source": [
    "kor_text = \"사과의 놀라운 효능이라는 글을 봤어. 그래서 오늘 사과를 먹으려고 했는데 사과가 썩어서 슈퍼에 가서 사과랑 오렌지 사왔어\"\n",
    "print(kor_text.split())"
   ]
  },
  {
   "cell_type": "markdown",
   "metadata": {
    "id": "lM84f6Krt6_C"
   },
   "source": [
    "위의 예제에서는 '사과'란 단어가 총 4번 등장했는데  \n",
    "모두 '의', '를', '가', '랑' 등이 붙어있어 이를 제거해주지 않으면 기계는 전부 다른 단어로 인식하게 됩니다."
   ]
  },
  {
   "cell_type": "code",
   "execution_count": 5,
   "metadata": {
    "colab": {
     "base_uri": "https://localhost:8080/"
    },
    "id": "eqc89ew5uVFH",
    "outputId": "e77fe0e4-96a1-4460-e53a-92e5bbbbe8f0"
   },
   "outputs": [
    {
     "data": {
      "text/plain": [
       "(False, False, False, False)"
      ]
     },
     "execution_count": 5,
     "metadata": {},
     "output_type": "execute_result"
    }
   ],
   "source": [
    "'사과' == '사과의' , '사과의' == '사과를' , '사과를' == '사과가' , '사과가' == '사과랑'"
   ]
  },
  {
   "cell_type": "markdown",
   "metadata": {
    "id": "3gud9KnwugP-"
   },
   "source": [
    "---"
   ]
  },
  {
   "cell_type": "markdown",
   "metadata": {
    "id": "y8ca0ljXt8Gg"
   },
   "source": [
    "### 한국어 형태소 분석기"
   ]
  },
  {
   "cell_type": "markdown",
   "metadata": {},
   "source": [
    "단어 토큰화를 위해서 영어에 NLTK가 있다면 한국어에는 형태소 분석기 패키지인 KoNLPy(코엔엘파이)가 존재합니다. \n",
    "\n",
    "- KoNLPy 의 다양한 형태소 분석, 태깅 파이썬 라이브러리 \n",
    "\n",
    "> * Hannanum: 한나눔. KAIST Semantic Web Research Center 개발.\n",
    ">   * http://semanticweb.kaist.ac.kr/hannanum/\n",
    "> * Kkma: 꼬꼬마. 서울대학교 IDS(Intelligent Data Systems) 연구실 개발.\n",
    ">   * http://kkma.snu.ac.kr/\n",
    "> * Komoran: 코모란. Shineware에서 개발. 오탈자에 강함\n",
    ">   * https://github.com/shin285/KOMORAN\n",
    "> * Mecab: 메카브. 일본어용 형태소 분석기를 한국어를 사용할 수 있도록 수정.(windows에서 지원하나 설치가 원할하지 않음). 연산 속도가 빠르고 분석 성능도 준수하여 선호도가 높음\n",
    ">   * https://bitbucket.org/eunjeon/mecab-ko\n",
    "> * Open Korean Text: 오픈 소스 한국어 분석기. 과거 트위터 형태소 분석기.\n",
    ">   * https://github.com/open-korean-text/open-korean-text\n",
    "> \n",
    "> * Khaii 는 가장 퇴근에 나온 분석기로 딥러닝 기반 형태소 분석기 => Java 불필요! pip install kiwipiepy \n",
    "> * Soynlp는 학습 기반으로 복합 명사를 잘 추출해낼 수 있음\n",
    "\n",
    "- 위 형태소 분석기들은 공통적으로 아래의 함수를 제공합니다.  \n",
    "  - nouns : 명사 추출  \n",
    "  - morphs : 형태소 추출  \n",
    "  - pos : 품사 부착"
   ]
  },
  {
   "attachments": {
    "image.png": {
     "image/png": "[encoded data removed]"
    }
   },
   "cell_type": "markdown",
   "metadata": {},
   "source": [
    "- KoNLPy 설치하기\n",
    "  - KoNLPy는 Java 기반 형태소 분석기를 사용하기 때문에 Java가 필수적으로 필요\n",
    "  - Java 설치하기 :  설치 후 VSCode 다시 시작하기\n",
    "    - Windows - Chocolatey 사용 (Powershell 관리자 권한)     \n",
    "        choco install openjdk11\n",
    "\n",
    "        ![image.png](attachment:image.png)"
   ]
  },
  {
   "cell_type": "code",
   "execution_count": null,
   "metadata": {
    "colab": {
     "base_uri": "https://localhost:8080/"
    },
    "id": "pQMm9UPdBhCP",
    "outputId": "168f7201-27fd-4ddf-e2b5-ec87d7a0b7f8"
   },
   "outputs": [],
   "source": [
    "!pip install konlpy"
   ]
  },
  {
   "cell_type": "markdown",
   "metadata": {
    "id": "W47LzDKLuhjm"
   },
   "source": [
    "NLTK도 내부적으로 여러 토크나이저가 있던 것처럼 KoNLPy 또한 다양한 형태소 분석기를 가지고 있지만, Mecab이라는 형태소 분석기는 특이하게도 별도 설치를 해주어야 합니다."
   ]
  },
  {
   "cell_type": "code",
   "execution_count": 19,
   "metadata": {
    "colab": {
     "base_uri": "https://localhost:8080/"
    },
    "id": "2j4Q8HvpGrgd",
    "outputId": "ede99c17-1c68-4818-a72d-7958c3a74d61"
   },
   "outputs": [
    {
     "name": "stdout",
     "output_type": "stream",
     "text": [
      "Collecting eunjeon\n",
      "  Downloading eunjeon-0.4.0.tar.gz (34.7 MB)\n",
      "     ---------------------------------------- 0.0/34.7 MB ? eta -:--:--\n",
      "     ------- -------------------------------- 6.8/34.7 MB 35.0 MB/s eta 0:00:01\n",
      "     ----------------- --------------------- 16.0/34.7 MB 40.3 MB/s eta 0:00:01\n",
      "     -------------------------- ------------ 23.6/34.7 MB 39.3 MB/s eta 0:00:01\n",
      "     ---------------------------------- ---- 30.4/34.7 MB 37.1 MB/s eta 0:00:01\n",
      "     --------------------------------------- 34.7/34.7 MB 35.6 MB/s eta 0:00:00\n",
      "  Preparing metadata (setup.py): started\n",
      "  Preparing metadata (setup.py): finished with status 'done'\n",
      "Building wheels for collected packages: eunjeon\n",
      "  Building wheel for eunjeon (setup.py): started\n",
      "  Building wheel for eunjeon (setup.py): finished with status 'done'\n",
      "  Created wheel for eunjeon: filename=eunjeon-0.4.0-cp310-cp310-win_amd64.whl size=35013292 sha256=65cdb8142a5a57a932dcc992e4c24027ba7a2f5cba3d92c6b3f983a9f93a4a18\n",
      "  Stored in directory: c:\\users\\cooju\\appdata\\local\\pip\\cache\\wheels\\cf\\67\\b5\\785cbf55e4a6ad20d3d6c0353cc39b3a275e87a3819c040241\n",
      "Successfully built eunjeon\n",
      "Installing collected packages: eunjeon\n",
      "Successfully installed eunjeon-0.4.0\n"
     ]
    },
    {
     "name": "stderr",
     "output_type": "stream",
     "text": [
      "  DEPRECATION: Building 'eunjeon' using the legacy setup.py bdist_wheel mechanism, which will be removed in a future version. pip 25.3 will enforce this behaviour change. A possible replacement is to use the standardized build interface by setting the `--use-pep517` option, (possibly combined with `--no-build-isolation`), or adding a `pyproject.toml` file to the source tree of 'eunjeon'. Discussion can be found at https://github.com/pypa/pip/issues/6334\n"
     ]
    }
   ],
   "source": [
    "# Colab에 Mecab 설치\n",
    "# !git clone https://github.com/SOMJANG/Mecab-ko-for-Google-Colab.git\n",
    "# %cd Mecab-ko-for-Google-Colab\n",
    "# !bash install_mecab-ko_on_colab190912.sh\n",
    "\n",
    "# Winodw - mecab\n",
    "!pip install eunjeon\n",
    "\n",
    "# Mac/Linux - mecab\n",
    "#!pip install mecab-python3"
   ]
  },
  {
   "cell_type": "code",
   "execution_count": 1,
   "metadata": {
    "id": "p3pxdKtsDK4E"
   },
   "outputs": [],
   "source": [
    "from konlpy.tag import *\n",
    "from eunjeon import Mecab\n",
    "\n",
    "hannanum = Hannanum()\n",
    "kkma = Kkma()\n",
    "komoran = Komoran()\n",
    "okt = Okt()\n",
    "mecab = Mecab()"
   ]
  },
  {
   "cell_type": "markdown",
   "metadata": {
    "id": "O3z0QlzhGEJl"
   },
   "source": []
  },
  {
   "cell_type": "markdown",
   "metadata": {
    "id": "YBTatyJgCcdB"
   },
   "source": [
    "### 형태소 분석기 Okt\n",
    "- nouns() - 명사만 추출\n",
    "- morphs() - 형태소 분석\n",
    "- pos() - 품사 태깅"
   ]
  },
  {
   "cell_type": "code",
   "execution_count": 3,
   "metadata": {
    "colab": {
     "base_uri": "https://localhost:8080/"
    },
    "id": "_21rq8q93DgG",
    "outputId": "1c107074-83db-42ed-8700-981c09ce7939"
   },
   "outputs": [
    {
     "name": "stdout",
     "output_type": "stream",
     "text": [
      "['코딩', '당신', '연휴', '여행']\n",
      "['열심히', '코딩', '한', '당신', ',', '연휴', '에는', '여행', '을', '가봐요']\n",
      "[('열심히', 'Adverb'), ('코딩', 'Noun'), ('한', 'Josa'), ('당신', 'Noun'), (',', 'Punctuation'), ('연휴', 'Noun'), ('에는', 'Josa'), ('여행', 'Noun'), ('을', 'Josa'), ('가봐요', 'Verb')]\n"
     ]
    }
   ],
   "source": [
    "print(okt.nouns(\"열심히 코딩한 당신, 연휴에는 여행을 가봐요\"))\n",
    "print(okt.morphs(\"열심히 코딩한 당신, 연휴에는 여행을 가봐요\"))\n",
    "print(okt.pos(\"열심히 코딩한 당신, 연휴에는 여행을 가봐요\"))"
   ]
  },
  {
   "cell_type": "markdown",
   "metadata": {
    "id": "YdLMewdtgDYa"
   },
   "source": [
    "'못'\n",
    "망치로 못을 두드리다 => '못' : 명사  \n",
    "나 그 일 못해요. => '못' : 부사"
   ]
  },
  {
   "cell_type": "markdown",
   "metadata": {
    "id": "5HIC4M1nCnSQ"
   },
   "source": [
    "### 형태소 분석기 꼬꼬마"
   ]
  },
  {
   "cell_type": "code",
   "execution_count": 7,
   "metadata": {
    "colab": {
     "base_uri": "https://localhost:8080/"
    },
    "id": "cK7W4wMy3Der",
    "outputId": "ffccd83c-8f45-4c18-a6fb-c81b29a84978"
   },
   "outputs": [
    {
     "name": "stdout",
     "output_type": "stream",
     "text": [
      "['코딩', '당신', '연휴', '여행']\n",
      "['열심히', '코딩', '하', 'ㄴ', '당신', ',', '연휴', '에', '는', '여행', '을', '가보', '아요']\n",
      "[('열심히', 'MAG'), ('코딩', 'NNG'), ('하', 'XSV'), ('ㄴ', 'ETD'), ('당신', 'NP'), (',', 'SP'), ('연휴', 'NNG'), ('에', 'JKM'), ('는', 'JX'), ('여행', 'NNG'), ('을', 'JKO'), ('가보', 'VV'), ('아요', 'EFN')]\n"
     ]
    }
   ],
   "source": [
    "print(kkma.nouns(\"열심히 코딩한 당신, 연휴에는 여행을 가봐요\"))\n",
    "print(kkma.morphs(\"열심히 코딩한 당신, 연휴에는 여행을 가봐요\"))\n",
    "print(kkma.pos(\"열심히 코딩한 당신, 연휴에는 여행을 가봐요\"))"
   ]
  },
  {
   "cell_type": "markdown",
   "metadata": {
    "id": "Dw5M9NoTDWxv"
   },
   "source": [
    "### 형태소 분석기 코모란"
   ]
  },
  {
   "cell_type": "code",
   "execution_count": 8,
   "metadata": {
    "colab": {
     "base_uri": "https://localhost:8080/"
    },
    "id": "xYr7mO3C3DZc",
    "outputId": "c41553ec-53b3-4b59-da98-bacc32c78ebb"
   },
   "outputs": [
    {
     "name": "stdout",
     "output_type": "stream",
     "text": [
      "['코', '당신', '연휴', '여행']\n",
      "['열심히', '코', '딩', '하', 'ㄴ', '당신', ',', '연휴', '에', '는', '여행', '을', '가', '아', '보', '아요']\n",
      "[('열심히', 'MAG'), ('코', 'NNG'), ('딩', 'MAG'), ('하', 'XSV'), ('ㄴ', 'ETM'), ('당신', 'NNP'), (',', 'SP'), ('연휴', 'NNG'), ('에', 'JKB'), ('는', 'JX'), ('여행', 'NNG'), ('을', 'JKO'), ('가', 'VV'), ('아', 'EC'), ('보', 'VX'), ('아요', 'EC')]\n"
     ]
    }
   ],
   "source": [
    "print(komoran.nouns(\"열심히 코딩한 당신, 연휴에는 여행을 가봐요\"))\n",
    "print(komoran.morphs(\"열심히 코딩한 당신, 연휴에는 여행을 가봐요\"))\n",
    "print(komoran.pos(\"열심히 코딩한 당신, 연휴에는 여행을 가봐요\"))"
   ]
  },
  {
   "cell_type": "markdown",
   "metadata": {
    "id": "XSGyZZVkF_GS"
   },
   "source": [
    "### 형태소 분석기 한나눔"
   ]
  },
  {
   "cell_type": "code",
   "execution_count": 9,
   "metadata": {
    "colab": {
     "base_uri": "https://localhost:8080/"
    },
    "id": "Uvdqq2Lz3DUh",
    "outputId": "aadfb0e7-0571-4885-8edf-114f32667f75"
   },
   "outputs": [
    {
     "name": "stdout",
     "output_type": "stream",
     "text": [
      "['코딩', '당신', '연휴', '여행']\n",
      "['열심히', '코딩', '하', 'ㄴ', '당신', ',', '연휴', '에는', '여행', '을', '가', '아', '보', '아']\n",
      "[('열심히', 'M'), ('코딩', 'N'), ('하', 'X'), ('ㄴ', 'E'), ('당신', 'N'), (',', 'S'), ('연휴', 'N'), ('에는', 'J'), ('여행', 'N'), ('을', 'J'), ('가', 'P'), ('아', 'E'), ('보', 'P'), ('아', 'E')]\n"
     ]
    }
   ],
   "source": [
    "print(hannanum.nouns(\"열심히 코딩한 당신, 연휴에는 여행을 가봐요\"))\n",
    "print(hannanum.morphs(\"열심히 코딩한 당신, 연휴에는 여행을 가봐요\"))\n",
    "print(hannanum.pos(\"열심히 코딩한 당신, 연휴에는 여행을 가봐요\"))"
   ]
  },
  {
   "cell_type": "markdown",
   "metadata": {
    "id": "w2XrKQ8ZGlVA"
   },
   "source": [
    "### 형태소 분석기 Mecab"
   ]
  },
  {
   "cell_type": "code",
   "execution_count": 10,
   "metadata": {
    "colab": {
     "base_uri": "https://localhost:8080/"
    },
    "id": "KhDAAPcmGzw7",
    "outputId": "ff6d7f67-104d-4d59-c021-0d23a42fffa5"
   },
   "outputs": [
    {
     "name": "stdout",
     "output_type": "stream",
     "text": [
      "['코딩', '당신', '연휴', '여행']\n",
      "['열심히', '코딩', '한', '당신', ',', '연휴', '에', '는', '여행', '을', '가', '봐요']\n",
      "[('열심히', 'MAG'), ('코딩', 'NNG'), ('한', 'XSA+ETM'), ('당신', 'NP'), (',', 'SC'), ('연휴', 'NNG'), ('에', 'JKB'), ('는', 'JX'), ('여행', 'NNG'), ('을', 'JKO'), ('가', 'VV'), ('봐요', 'EC+VX+EC')]\n"
     ]
    }
   ],
   "source": [
    "print(mecab.nouns(\"열심히 코딩한 당신, 연휴에는 여행을 가봐요\"))\n",
    "print(mecab.morphs(\"열심히 코딩한 당신, 연휴에는 여행을 가봐요\"))\n",
    "print(mecab.pos(\"열심히 코딩한 당신, 연휴에는 여행을 가봐요\"))"
   ]
  },
  {
   "cell_type": "markdown",
   "metadata": {
    "id": "JOXF6YzWKF1J"
   },
   "source": [
    "**각 형태소 분석기는 성능과 결과가 다르게 나오기 때문에**, 형태소 분석기의 선택은 사용하고자 하는 필요 용도에 어떤 형태소 분석기가 가장 적절한지를 판단하고 사용하면 됩니다. 예를 들어서 속도를 중시한다면 메캅을 사용할 수 있습니다.\n",
    "\n"
   ]
  },
  {
   "cell_type": "markdown",
   "metadata": {
    "id": "_ykZiIzWiUfr"
   },
   "source": [
    "참고 : https://iostream.tistory.com/144 (형태소 분석기 성능 비교)"
   ]
  },
  {
   "cell_type": "markdown",
   "metadata": {
    "id": "rJt5ERvooTeG"
   },
   "source": [
    "# 3-2. Sentence Tokenization"
   ]
  },
  {
   "cell_type": "markdown",
   "metadata": {
    "id": "jtEhbe_NzkbN"
   },
   "source": [
    "문장 토큰화는 단어 토큰화와는 달리 주어진 텍스트를 문장 단위로 나눌 경우에 사용합니다."
   ]
  },
  {
   "cell_type": "markdown",
   "metadata": {
    "id": "pquF1QYwKLcr"
   },
   "source": [
    "### 3-2-1. 영어 : Sentence Tokenization (NLTK)"
   ]
  },
  {
   "cell_type": "markdown",
   "metadata": {
    "id": "CMm66t0jiYgQ"
   },
   "source": [
    "여러분들이 문자열이 주어졌을 때, 문장 단위로 나눈다고 가정해보세요."
   ]
  },
  {
   "cell_type": "markdown",
   "metadata": {
    "id": "7ds6aO6Wi0dK"
   },
   "source": [
    "Yonsei University is a private research university in Seoul, South Korea. Yonsei University is deemed as one of the three most prestigious institutions in the country. It is particularly respected in the studies of medicine and business administration."
   ]
  },
  {
   "cell_type": "code",
   "execution_count": 11,
   "metadata": {
    "id": "yGHWe5ymikx-"
   },
   "outputs": [],
   "source": [
    "temp = 'Yonsei University is a private research university in Seoul, South Korea. Yonsei University is deemed as one of the three most prestigious institutions in the country. It is particularly respected in the studies of medicine and business administration.'"
   ]
  },
  {
   "cell_type": "markdown",
   "metadata": {
    "id": "LgROm78jjq39"
   },
   "source": [
    "문자열.split('자르는 기준')을 사용하면 해당 기준으로 문자열들을 분리하여 리스트 형태로 반환합니다.  \n",
    "아래의 코드는 온점을 기준으로 문자열을 자르는 코드입니다."
   ]
  },
  {
   "cell_type": "code",
   "execution_count": 12,
   "metadata": {
    "colab": {
     "base_uri": "https://localhost:8080/"
    },
    "id": "njRK3NrbiyFE",
    "outputId": "c11018d2-58d9-4922-dca8-40ac5145f3a5"
   },
   "outputs": [
    {
     "data": {
      "text/plain": [
       "['Yonsei University is a private research university in Seoul, South Korea',\n",
       " 'Yonsei University is deemed as one of the three most prestigious institutions in the country',\n",
       " 'It is particularly respected in the studies of medicine and business administration.']"
      ]
     },
     "execution_count": 12,
     "metadata": {},
     "output_type": "execute_result"
    }
   ],
   "source": [
    "temp.split('. ')"
   ]
  },
  {
   "cell_type": "markdown",
   "metadata": {
    "id": "Ic8zCrMlKRI3"
   },
   "source": [
    "직관적으로 생각해봤을 때는 ?나 온점(.)이나 ! 기준으로 문장을 잘라내면 되지 않을까라고 생각할 수 있지만, 꼭 그렇지만은 않습니다. !나 ?는 문장의 구분을 위한 꽤 명확한 구분자(boundary) 역할을 하지만 온점은 꼭 그렇지 않기 때문입니다. 다시 말해, 온점은 문장의 끝이 아니더라도 등장할 수 있습니다."
   ]
  },
  {
   "cell_type": "markdown",
   "metadata": {
    "id": "LcqfdjJpKUvp"
   },
   "source": [
    "**IP 192.168.56.31 서버에 들어가서 로그 파일 저장해서 ukairia777@gmail.com로 결과 좀 보내줘. 그러고나서 점심 먹으러 가자.**  \n",
    "**Since I'm actively looking for Ph.D. students, I get the same question a dozen times every year.**"
   ]
  },
  {
   "cell_type": "markdown",
   "metadata": {
    "id": "92Of0w2EKY0D"
   },
   "source": [
    "온점을 기준으로 문장을 구분할 경우에는 예외사항이 너무 많습니다.  \n",
    "**NLTK에서는 영어 문장의 토큰화를 수행하는 sent_tokenize를 지원하고 있습니다. **"
   ]
  },
  {
   "cell_type": "code",
   "execution_count": 13,
   "metadata": {
    "id": "a9AKFUkjKNXF"
   },
   "outputs": [],
   "source": [
    "text = \"His barber kept his word. But keeping such a huge secret to himself was driving him crazy. Finally, the barber went up a mountain and almost to the edge of a cliff. He dug a hole in the midst of some reeds. He looked about, to mae sure no one was near.\""
   ]
  },
  {
   "cell_type": "code",
   "execution_count": 14,
   "metadata": {
    "colab": {
     "base_uri": "https://localhost:8080/"
    },
    "id": "mpjJ4F_DKugH",
    "outputId": "39cf5d24-a1a7-4615-f4ce-ed333ef4f969"
   },
   "outputs": [
    {
     "name": "stdout",
     "output_type": "stream",
     "text": [
      "['His barber kept his word.', 'But keeping such a huge secret to himself was driving him crazy.', 'Finally, the barber went up a mountain and almost to the edge of a cliff.', 'He dug a hole in the midst of some reeds.', 'He looked about, to mae sure no one was near.']\n"
     ]
    }
   ],
   "source": [
    "from nltk.tokenize import sent_tokenize\n",
    "print(sent_tokenize(text))"
   ]
  },
  {
   "cell_type": "code",
   "execution_count": 15,
   "metadata": {
    "colab": {
     "base_uri": "https://localhost:8080/"
    },
    "id": "seKDLuUbKyn3",
    "outputId": "ca27d72f-0929-4e52-e283-45806a76dcf9"
   },
   "outputs": [
    {
     "name": "stdout",
     "output_type": "stream",
     "text": [
      "['I am actively looking for Ph.D. students.', 'and you are a Ph.D student.']\n"
     ]
    }
   ],
   "source": [
    "text=\"I am actively looking for Ph.D. students. and you are a Ph.D student.\"\n",
    "print(sent_tokenize(text))"
   ]
  },
  {
   "cell_type": "code",
   "execution_count": 16,
   "metadata": {},
   "outputs": [
    {
     "name": "stdout",
     "output_type": "stream",
     "text": [
      "['IP 192.168.56.31 서버에 들어가서 로그 파일 저장해서 ukairia777@gmail.com로 결과 좀 보내줘.', '그러고나서 점심 먹으러 가자.']\n"
     ]
    }
   ],
   "source": [
    "text=\"IP 192.168.56.31 서버에 들어가서 로그 파일 저장해서 ukairia777@gmail.com로 결과 좀 보내줘. 그러고나서 점심 먹으러 가자.\"\n",
    "print(sent_tokenize(text))"
   ]
  },
  {
   "cell_type": "markdown",
   "metadata": {
    "id": "w-BWco73K3x9"
   },
   "source": [
    "### 3-2-2. 한국어 : Sentence Tokenization(KSS)\n",
    "KSS란?\n",
    "- 한국어 문장 분리에 특화된 라이브러리\n",
    "- NLTK의 sent_tokenize보다 한국어에 정확\n",
    "- 복잡한 한국어 문장 구조를 이해"
   ]
  },
  {
   "cell_type": "code",
   "execution_count": 17,
   "metadata": {
    "colab": {
     "base_uri": "https://localhost:8080/"
    },
    "id": "SXDQxDBaK5nm",
    "outputId": "39f4f270-6035-4787-8d8a-09e815ffec50"
   },
   "outputs": [
    {
     "name": "stdout",
     "output_type": "stream",
     "text": [
      "Collecting kss\n",
      "  Downloading kss-6.0.5-py3-none-any.whl.metadata (162 kB)\n",
      "Collecting emoji==1.2.0 (from kss)\n",
      "  Downloading emoji-1.2.0-py3-none-any.whl.metadata (4.3 kB)\n",
      "Collecting pecab (from kss)\n",
      "  Downloading pecab-1.0.8.tar.gz (26.4 MB)\n",
      "     ---------------------------------------- 0.0/26.4 MB ? eta -:--:--\n",
      "     ---------------------------------------- 0.3/26.4 MB ? eta -:--:--\n",
      "     ----- ---------------------------------- 3.9/26.4 MB 14.7 MB/s eta 0:00:02\n",
      "     ----------------- --------------------- 11.8/26.4 MB 23.8 MB/s eta 0:00:01\n",
      "     --------------------------- ----------- 18.6/26.4 MB 26.7 MB/s eta 0:00:01\n",
      "     --------------------------------------  26.2/26.4 MB 29.7 MB/s eta 0:00:01\n",
      "     --------------------------------------- 26.4/26.4 MB 28.3 MB/s eta 0:00:00\n",
      "  Preparing metadata (setup.py): started\n",
      "  Preparing metadata (setup.py): finished with status 'done'\n",
      "Collecting networkx (from kss)\n",
      "  Using cached networkx-3.4.2-py3-none-any.whl.metadata (6.3 kB)\n",
      "Collecting jamo (from kss)\n",
      "  Downloading jamo-0.4.1-py3-none-any.whl.metadata (2.3 kB)\n",
      "Collecting hangul-jamo (from kss)\n",
      "  Downloading hangul_jamo-1.0.1-py3-none-any.whl.metadata (899 bytes)\n",
      "Collecting tossi (from kss)\n",
      "  Downloading tossi-0.3.1.tar.gz (11 kB)\n",
      "  Preparing metadata (setup.py): started\n",
      "  Preparing metadata (setup.py): finished with status 'done'\n",
      "Collecting distance (from kss)\n",
      "  Downloading Distance-0.1.3.tar.gz (180 kB)\n",
      "  Preparing metadata (setup.py): started\n",
      "  Preparing metadata (setup.py): finished with status 'done'\n",
      "Collecting pyyaml>=6.0.2 (from kss)\n",
      "  Using cached PyYAML-6.0.2-cp310-cp310-win_amd64.whl.metadata (2.1 kB)\n",
      "Collecting unidecode (from kss)\n",
      "  Downloading Unidecode-1.4.0-py3-none-any.whl.metadata (13 kB)\n",
      "Collecting cmudict (from kss)\n",
      "  Downloading cmudict-1.1.1-py3-none-any.whl.metadata (3.6 kB)\n",
      "Collecting koparadigm (from kss)\n",
      "  Downloading koparadigm-0.10.0-py3-none-any.whl.metadata (2.9 kB)\n",
      "Collecting kollocate (from kss)\n",
      "  Downloading kollocate-0.0.2-py3-none-any.whl.metadata (1.8 kB)\n",
      "Requirement already satisfied: bs4 in c:\\users\\cooju\\anaconda3\\envs\\crawl_env\\lib\\site-packages (from kss) (0.0.2)\n",
      "Requirement already satisfied: numpy in c:\\users\\cooju\\anaconda3\\envs\\crawl_env\\lib\\site-packages (from kss) (2.2.6)\n",
      "Collecting pytest (from kss)\n",
      "  Downloading pytest-8.4.1-py3-none-any.whl.metadata (7.7 kB)\n",
      "Collecting scipy (from kss)\n",
      "  Using cached scipy-1.15.3-cp310-cp310-win_amd64.whl.metadata (60 kB)\n",
      "Requirement already satisfied: beautifulsoup4 in c:\\users\\cooju\\anaconda3\\envs\\crawl_env\\lib\\site-packages (from bs4->kss) (4.13.4)\n",
      "Requirement already satisfied: soupsieve>1.2 in c:\\users\\cooju\\anaconda3\\envs\\crawl_env\\lib\\site-packages (from beautifulsoup4->bs4->kss) (2.7)\n",
      "Requirement already satisfied: typing-extensions>=4.0.0 in c:\\users\\cooju\\anaconda3\\envs\\crawl_env\\lib\\site-packages (from beautifulsoup4->bs4->kss) (4.14.1)\n",
      "Collecting importlib-metadata>=5 (from cmudict->kss)\n",
      "  Using cached importlib_metadata-8.7.0-py3-none-any.whl.metadata (4.8 kB)\n",
      "Collecting importlib-resources>=5 (from cmudict->kss)\n",
      "  Using cached importlib_resources-6.5.2-py3-none-any.whl.metadata (3.9 kB)\n",
      "Collecting zipp>=3.20 (from importlib-metadata>=5->cmudict->kss)\n",
      "  Using cached zipp-3.23.0-py3-none-any.whl.metadata (3.6 kB)\n",
      "Collecting whoosh (from kollocate->kss)\n",
      "  Downloading Whoosh-2.7.4-py2.py3-none-any.whl.metadata (3.1 kB)\n",
      "Collecting xlrd==1.2.0 (from koparadigm->kss)\n",
      "  Downloading xlrd-1.2.0-py2.py3-none-any.whl.metadata (1.3 kB)\n",
      "Collecting pyarrow (from pecab->kss)\n",
      "  Using cached pyarrow-21.0.0-cp310-cp310-win_amd64.whl.metadata (3.4 kB)\n",
      "Requirement already satisfied: regex in c:\\users\\cooju\\anaconda3\\envs\\crawl_env\\lib\\site-packages (from pecab->kss) (2025.7.34)\n",
      "Requirement already satisfied: colorama>=0.4 in c:\\users\\cooju\\anaconda3\\envs\\crawl_env\\lib\\site-packages (from pytest->kss) (0.4.6)\n",
      "Requirement already satisfied: exceptiongroup>=1 in c:\\users\\cooju\\anaconda3\\envs\\crawl_env\\lib\\site-packages (from pytest->kss) (1.3.0)\n",
      "Collecting iniconfig>=1 (from pytest->kss)\n",
      "  Downloading iniconfig-2.1.0-py3-none-any.whl.metadata (2.7 kB)\n",
      "Requirement already satisfied: packaging>=20 in c:\\users\\cooju\\anaconda3\\envs\\crawl_env\\lib\\site-packages (from pytest->kss) (25.0)\n",
      "Collecting pluggy<2,>=1.5 (from pytest->kss)\n",
      "  Downloading pluggy-1.6.0-py3-none-any.whl.metadata (4.8 kB)\n",
      "Requirement already satisfied: pygments>=2.7.2 in c:\\users\\cooju\\anaconda3\\envs\\crawl_env\\lib\\site-packages (from pytest->kss) (2.19.2)\n",
      "Collecting tomli>=1 (from pytest->kss)\n",
      "  Using cached tomli-2.2.1-py3-none-any.whl.metadata (10 kB)\n",
      "Collecting bidict (from tossi->kss)\n",
      "  Downloading bidict-0.23.1-py3-none-any.whl.metadata (8.7 kB)\n",
      "Requirement already satisfied: six in c:\\users\\cooju\\anaconda3\\envs\\crawl_env\\lib\\site-packages (from tossi->kss) (1.17.0)\n",
      "Downloading kss-6.0.5-py3-none-any.whl (1.1 MB)\n",
      "   ---------------------------------------- 0.0/1.1 MB ? eta -:--:--\n",
      "   ---------------------------------------- 1.1/1.1 MB 26.8 MB/s eta 0:00:00\n",
      "Downloading emoji-1.2.0-py3-none-any.whl (131 kB)\n",
      "Using cached PyYAML-6.0.2-cp310-cp310-win_amd64.whl (161 kB)\n",
      "Downloading cmudict-1.1.1-py3-none-any.whl (939 kB)\n",
      "   ---------------------------------------- 0.0/939.7 kB ? eta -:--:--\n",
      "   --------------------------------------- 939.7/939.7 kB 42.3 MB/s eta 0:00:00\n",
      "Using cached importlib_metadata-8.7.0-py3-none-any.whl (27 kB)\n",
      "Using cached importlib_resources-6.5.2-py3-none-any.whl (37 kB)\n",
      "Using cached zipp-3.23.0-py3-none-any.whl (10 kB)\n",
      "Downloading hangul_jamo-1.0.1-py3-none-any.whl (4.4 kB)\n",
      "Downloading jamo-0.4.1-py3-none-any.whl (9.5 kB)\n",
      "Downloading kollocate-0.0.2-py3-none-any.whl (72.2 MB)\n",
      "   ---------------------------------------- 0.0/72.2 MB ? eta -:--:--\n",
      "   --- ------------------------------------ 7.1/72.2 MB 33.6 MB/s eta 0:00:02\n",
      "   -------- ------------------------------- 14.9/72.2 MB 36.2 MB/s eta 0:00:02\n",
      "   ------------ --------------------------- 22.5/72.2 MB 35.7 MB/s eta 0:00:02\n",
      "   ---------------- ----------------------- 29.9/72.2 MB 35.8 MB/s eta 0:00:02\n",
      "   -------------------- ------------------- 37.5/72.2 MB 35.6 MB/s eta 0:00:01\n",
      "   ------------------------ --------------- 45.1/72.2 MB 35.9 MB/s eta 0:00:01\n",
      "   ----------------------------- ---------- 53.0/72.2 MB 35.9 MB/s eta 0:00:01\n",
      "   --------------------------------- ------ 60.8/72.2 MB 36.2 MB/s eta 0:00:01\n",
      "   -------------------------------------- - 69.2/72.2 MB 36.5 MB/s eta 0:00:01\n",
      "   ---------------------------------------- 72.2/72.2 MB 34.9 MB/s eta 0:00:00\n",
      "Downloading koparadigm-0.10.0-py3-none-any.whl (1.6 MB)\n",
      "   ---------------------------------------- 0.0/1.6 MB ? eta -:--:--\n",
      "   ---------------------------------------- 1.6/1.6 MB 21.2 MB/s eta 0:00:00\n",
      "Downloading xlrd-1.2.0-py2.py3-none-any.whl (103 kB)\n",
      "Using cached networkx-3.4.2-py3-none-any.whl (1.7 MB)\n",
      "Using cached pyarrow-21.0.0-cp310-cp310-win_amd64.whl (26.2 MB)\n",
      "Downloading pytest-8.4.1-py3-none-any.whl (365 kB)\n",
      "Downloading pluggy-1.6.0-py3-none-any.whl (20 kB)\n",
      "Downloading iniconfig-2.1.0-py3-none-any.whl (6.0 kB)\n",
      "Using cached tomli-2.2.1-py3-none-any.whl (14 kB)\n",
      "Using cached scipy-1.15.3-cp310-cp310-win_amd64.whl (41.3 MB)\n",
      "Downloading bidict-0.23.1-py3-none-any.whl (32 kB)\n",
      "Downloading Unidecode-1.4.0-py3-none-any.whl (235 kB)\n",
      "Downloading Whoosh-2.7.4-py2.py3-none-any.whl (468 kB)\n",
      "Building wheels for collected packages: distance, pecab, tossi\n",
      "  Building wheel for distance (setup.py): started\n",
      "  Building wheel for distance (setup.py): finished with status 'done'\n",
      "  Created wheel for distance: filename=distance-0.1.3-py3-none-any.whl size=16345 sha256=1f73a0521dccfc8bcb91d3a60b89ee26f0b77e1ad9999e17964ede284791a3f8\n",
      "  Stored in directory: c:\\users\\cooju\\appdata\\local\\pip\\cache\\wheels\\e8\\bb\\de\\f71bf63559ea9a921059a5405806f7ff6ed612a9231c4a9309\n",
      "  Building wheel for pecab (setup.py): started\n",
      "  Building wheel for pecab (setup.py): finished with status 'done'\n",
      "  Created wheel for pecab: filename=pecab-1.0.8-py3-none-any.whl size=26646784 sha256=01bdee540456cf2221f9ea364154e66555b7d62bffede14ebdd792d31674026c\n",
      "  Stored in directory: c:\\users\\cooju\\appdata\\local\\pip\\cache\\wheels\\5c\\6f\\b4\\ab61b8863d7d8b1409def8ae31adcaa089fa91b8d022ec309d\n",
      "  Building wheel for tossi (setup.py): started\n",
      "  Building wheel for tossi (setup.py): finished with status 'done'\n",
      "  Created wheel for tossi: filename=tossi-0.3.1-py3-none-any.whl size=12190 sha256=e250c8fef1296b7dbc6504908777e269430e82dd7b5e57a8ebcf6f0ef073fbbf\n",
      "  Stored in directory: c:\\users\\cooju\\appdata\\local\\pip\\cache\\wheels\\a7\\18\\60\\1094a6fe93c8063efcd3e6700d09328216682e495a3c51af9f\n",
      "Successfully built distance pecab tossi\n",
      "Installing collected packages: whoosh, jamo, hangul-jamo, emoji, distance, zipp, xlrd, unidecode, tomli, scipy, pyyaml, pyarrow, pluggy, networkx, kollocate, iniconfig, importlib-resources, bidict, tossi, pytest, koparadigm, importlib-metadata, pecab, cmudict, kss\n",
      "\n",
      "   ----------------------------------------  0/25 [whoosh]\n",
      "   ----------------------------------------  0/25 [whoosh]\n",
      "   ---- -----------------------------------  3/25 [emoji]\n",
      "   ----------- ----------------------------  7/25 [unidecode]\n",
      "   ----------- ----------------------------  7/25 [unidecode]\n",
      "   ----------- ----------------------------  7/25 [unidecode]\n",
      "   ------------ ---------------------------  8/25 [tomli]\n",
      "   -------------- -------------------------  9/25 [scipy]\n",
      "   -------------- -------------------------  9/25 [scipy]\n",
      "   -------------- -------------------------  9/25 [scipy]\n",
      "   -------------- -------------------------  9/25 [scipy]\n",
      "   -------------- -------------------------  9/25 [scipy]\n",
      "   -------------- -------------------------  9/25 [scipy]\n",
      "   -------------- -------------------------  9/25 [scipy]\n",
      "   -------------- -------------------------  9/25 [scipy]\n",
      "   -------------- -------------------------  9/25 [scipy]\n",
      "   -------------- -------------------------  9/25 [scipy]\n",
      "   -------------- -------------------------  9/25 [scipy]\n",
      "   -------------- -------------------------  9/25 [scipy]\n",
      "   -------------- -------------------------  9/25 [scipy]\n",
      "   -------------- -------------------------  9/25 [scipy]\n",
      "   -------------- -------------------------  9/25 [scipy]\n",
      "   -------------- -------------------------  9/25 [scipy]\n",
      "   -------------- -------------------------  9/25 [scipy]\n",
      "   -------------- -------------------------  9/25 [scipy]\n",
      "   -------------- -------------------------  9/25 [scipy]\n",
      "   -------------- -------------------------  9/25 [scipy]\n",
      "   -------------- -------------------------  9/25 [scipy]\n",
      "   -------------- -------------------------  9/25 [scipy]\n",
      "   -------------- -------------------------  9/25 [scipy]\n",
      "   -------------- -------------------------  9/25 [scipy]\n",
      "   -------------- -------------------------  9/25 [scipy]\n",
      "   -------------- -------------------------  9/25 [scipy]\n",
      "   -------------- -------------------------  9/25 [scipy]\n",
      "   -------------- -------------------------  9/25 [scipy]\n",
      "   -------------- -------------------------  9/25 [scipy]\n",
      "   -------------- -------------------------  9/25 [scipy]\n",
      "   ----------------- ---------------------- 11/25 [pyarrow]\n",
      "   ----------------- ---------------------- 11/25 [pyarrow]\n",
      "   ----------------- ---------------------- 11/25 [pyarrow]\n",
      "   ----------------- ---------------------- 11/25 [pyarrow]\n",
      "   ----------------- ---------------------- 11/25 [pyarrow]\n",
      "   ----------------- ---------------------- 11/25 [pyarrow]\n",
      "   ----------------- ---------------------- 11/25 [pyarrow]\n",
      "   ----------------- ---------------------- 11/25 [pyarrow]\n",
      "   ----------------- ---------------------- 11/25 [pyarrow]\n",
      "   -------------------- ------------------- 13/25 [networkx]\n",
      "   -------------------- ------------------- 13/25 [networkx]\n",
      "   -------------------- ------------------- 13/25 [networkx]\n",
      "   -------------------- ------------------- 13/25 [networkx]\n",
      "   -------------------- ------------------- 13/25 [networkx]\n",
      "   -------------------- ------------------- 13/25 [networkx]\n",
      "   -------------------- ------------------- 13/25 [networkx]\n",
      "   -------------------- ------------------- 13/25 [networkx]\n",
      "   -------------------- ------------------- 13/25 [networkx]\n",
      "   -------------------- ------------------- 13/25 [networkx]\n",
      "   -------------------- ------------------- 13/25 [networkx]\n",
      "   ---------------------- ----------------- 14/25 [kollocate]\n",
      "   ---------------------- ----------------- 14/25 [kollocate]\n",
      "   ------------------------- -------------- 16/25 [importlib-resources]\n",
      "   ------------------------------ --------- 19/25 [pytest]\n",
      "   ------------------------------ --------- 19/25 [pytest]\n",
      "   --------------------------------- ------ 21/25 [importlib-metadata]\n",
      "   ----------------------------------- ---- 22/25 [pecab]\n",
      "   ----------------------------------- ---- 22/25 [pecab]\n",
      "   -------------------------------------- - 24/25 [kss]\n",
      "   -------------------------------------- - 24/25 [kss]\n",
      "   -------------------------------------- - 24/25 [kss]\n",
      "   ---------------------------------------- 25/25 [kss]\n",
      "\n",
      "Successfully installed bidict-0.23.1 cmudict-1.1.1 distance-0.1.3 emoji-1.2.0 hangul-jamo-1.0.1 importlib-metadata-8.7.0 importlib-resources-6.5.2 iniconfig-2.1.0 jamo-0.4.1 kollocate-0.0.2 koparadigm-0.10.0 kss-6.0.5 networkx-3.4.2 pecab-1.0.8 pluggy-1.6.0 pyarrow-21.0.0 pytest-8.4.1 pyyaml-6.0.2 scipy-1.15.3 tomli-2.2.1 tossi-0.3.1 unidecode-1.4.0 whoosh-2.7.4 xlrd-1.2.0 zipp-3.23.0\n"
     ]
    },
    {
     "name": "stderr",
     "output_type": "stream",
     "text": [
      "  DEPRECATION: Building 'distance' using the legacy setup.py bdist_wheel mechanism, which will be removed in a future version. pip 25.3 will enforce this behaviour change. A possible replacement is to use the standardized build interface by setting the `--use-pep517` option, (possibly combined with `--no-build-isolation`), or adding a `pyproject.toml` file to the source tree of 'distance'. Discussion can be found at https://github.com/pypa/pip/issues/6334\n",
      "  DEPRECATION: Building 'pecab' using the legacy setup.py bdist_wheel mechanism, which will be removed in a future version. pip 25.3 will enforce this behaviour change. A possible replacement is to use the standardized build interface by setting the `--use-pep517` option, (possibly combined with `--no-build-isolation`), or adding a `pyproject.toml` file to the source tree of 'pecab'. Discussion can be found at https://github.com/pypa/pip/issues/6334\n",
      "  DEPRECATION: Building 'tossi' using the legacy setup.py bdist_wheel mechanism, which will be removed in a future version. pip 25.3 will enforce this behaviour change. A possible replacement is to use the standardized build interface by setting the `--use-pep517` option, (possibly combined with `--no-build-isolation`), or adding a `pyproject.toml` file to the source tree of 'tossi'. Discussion can be found at https://github.com/pypa/pip/issues/6334\n"
     ]
    }
   ],
   "source": [
    "!pip install kss"
   ]
  },
  {
   "cell_type": "code",
   "execution_count": null,
   "metadata": {
    "colab": {
     "base_uri": "https://localhost:8080/"
    },
    "id": "YwP2-MfNK9vD",
    "outputId": "da94ee4f-54a1-4b28-ec95-70973d110a6f"
   },
   "outputs": [
    {
     "name": "stdout",
     "output_type": "stream",
     "text": [
      "['딥 러닝 자연어 처리가 재미있기는 합니다.', '그런데 문제는 영어보다 한국어로 할 때 너무 어려워요. 이제 해보면 알걸요?']\n"
     ]
    }
   ],
   "source": [
    "# 경고 메시지 숨기기 (가장 간단)\n",
    "# import warnings\n",
    "# warnings.filterwarnings('ignore')\n",
    "\n",
    "import kss\n",
    "\n",
    "text = '딥 러닝 자연어 처리가 재미있기는 합니다. 그런데 문제는 영어보다 한국어로 할 때 너무 어려워요. 이제 해보면 알걸요?'\n",
    "print(kss.split_sentences(text))"
   ]
  }
 ],
 "metadata": {
  "colab": {
   "collapsed_sections": [
    "AdhSbOSwT70z",
    "-9MGzYEfUcJT",
    "zlZwcrE-8yXf",
    "MuTbHcsV6BLg",
    "fLes_LQ7_TN1",
    "A0o_f1rAGoID",
    "UyMx1Yq-GqIh",
    "sY38lpX8GxfC",
    "k9zsoaPWersA",
    "e3WAEwbakd7f",
    "M4dlH7lCkk4X",
    "HaMDuF_vSs6j",
    "o_IqLzCDSvPt"
   ],
   "provenance": []
  },
  "kernelspec": {
   "display_name": "crawl_env",
   "language": "python",
   "name": "python3"
  },
  "language_info": {
   "codemirror_mode": {
    "name": "ipython",
    "version": 3
   },
   "file_extension": ".py",
   "mimetype": "text/x-python",
   "name": "python",
   "nbconvert_exporter": "python",
   "pygments_lexer": "ipython3",
   "version": "3.10.18"
  }
 },
 "nbformat": 4,
 "nbformat_minor": 1
}
