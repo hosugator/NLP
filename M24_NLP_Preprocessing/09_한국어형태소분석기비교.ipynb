{
 "cells": [
  {
   "cell_type": "markdown",
   "metadata": {
    "id": "Cbbrz3YAKR9S"
   },
   "source": [
    "# konlpy 형태소 분석기 성능비교"
   ]
  },
  {
   "cell_type": "code",
   "execution_count": 9,
   "metadata": {
    "colab": {
     "base_uri": "https://localhost:8080/"
    },
    "executionInfo": {
     "elapsed": 175936,
     "status": "ok",
     "timestamp": 1718363572377,
     "user": {
      "displayName": "최영민",
      "userId": "12119742354430925915"
     },
     "user_tz": -540
    },
    "id": "SAmKOJOJ3yQO",
    "outputId": "7e21967d-e1f6-4c95-aefc-d7d0877d36a5"
   },
   "outputs": [
    {
     "name": "stdout",
     "output_type": "stream",
     "text": [
      "Collecting eunjeon\n",
      "  Downloading eunjeon-0.4.0.tar.gz (34.7 MB)\n",
      "     ---------------------------------------- 34.7/34.7 MB 5.2 MB/s eta 0:00:00\n",
      "  Preparing metadata (setup.py): started\n",
      "  Preparing metadata (setup.py): finished with status 'done'\n",
      "Building wheels for collected packages: eunjeon\n",
      "  Building wheel for eunjeon (setup.py): started\n",
      "  Building wheel for eunjeon (setup.py): finished with status 'done'\n",
      "  Created wheel for eunjeon: filename=eunjeon-0.4.0-cp310-cp310-win_amd64.whl size=35013250 sha256=79cec4b4b65a8c32b2be5fafede30cd0030a2e96e4c32cab01e5f66fc1ccd064\n",
      "  Stored in directory: c:\\users\\biz\\appdata\\local\\pip\\cache\\wheels\\34\\63\\c4\\6c80bf44d02f2f8a916a039bd05ac07d536dc37f01bdfcbfb3\n",
      "Successfully built eunjeon\n",
      "Installing collected packages: eunjeon\n",
      "Successfully installed eunjeon-0.4.0\n"
     ]
    }
   ],
   "source": [
    "!pip install konlpy\n",
    "!pip install mecab-python\n",
    "# colab - mecab\n",
    "!git clone https://github.com/SOMJANG/Mecab-ko-for-Google-Colab.git\n",
    "%cd Mecab-ko-for-Google-Colab\n",
    "!bash install_mecab-ko_on_colab190912.sh\n",
    "# Winodw - mecab\n",
    "!pip install eunjeon"
   ]
  },
  {
   "cell_type": "code",
   "execution_count": 28,
   "metadata": {
    "executionInfo": {
     "elapsed": 8811,
     "status": "ok",
     "timestamp": 1718363581184,
     "user": {
      "displayName": "최영민",
      "userId": "12119742354430925915"
     },
     "user_tz": -540
    },
    "id": "A5jUc-cxKR9Y"
   },
   "outputs": [],
   "source": [
    "from konlpy.tag import Kkma\n",
    "from konlpy.tag import Komoran\n",
    "from konlpy.tag import Hannanum\n",
    "from konlpy.tag import Okt\n",
    "# from konlpy.tag import Mecab # Windows에서는 konlpy mecab을 못씀.\n",
    "from eunjeon import Mecab\n",
    "\n",
    "## HERE ##\n",
    "# Windows용 mecab\n",
    "import re\n",
    "\n",
    "# 형태소 분석을 위한 객체 생성.\n",
    "# 꼬꼬마\n",
    "kkma = Kkma()\n",
    "# 코모란\n",
    "komoran = Komoran()\n",
    "# 한나눔\n",
    "hannanum = Hannanum()\n",
    "# Okt\n",
    "okt = Okt()\n",
    "# Mecab\n",
    "mecab = Mecab()"
   ]
  },
  {
   "cell_type": "markdown",
   "metadata": {
    "id": "SyanoM7eKR9a"
   },
   "source": [
    "## 문장 분석 품질 비교"
   ]
  },
  {
   "cell_type": "markdown",
   "metadata": {
    "id": "JR5X3PbUKR9b"
   },
   "source": [
    "> ### 1. 띄어쓰기가 제대로 되어있지 않은 문장"
   ]
  },
  {
   "cell_type": "code",
   "execution_count": 13,
   "metadata": {
    "executionInfo": {
     "elapsed": 2,
     "status": "ok",
     "timestamp": 1718363581185,
     "user": {
      "displayName": "최영민",
      "userId": "12119742354430925915"
     },
     "user_tz": -540
    },
    "id": "npdwVeuzKR9b"
   },
   "outputs": [],
   "source": [
    "text = \"아버지가방에들어가신다\""
   ]
  },
  {
   "cell_type": "code",
   "execution_count": 14,
   "metadata": {
    "colab": {
     "base_uri": "https://localhost:8080/"
    },
    "executionInfo": {
     "elapsed": 17643,
     "status": "ok",
     "timestamp": 1718363598826,
     "user": {
      "displayName": "최영민",
      "userId": "12119742354430925915"
     },
     "user_tz": -540
    },
    "id": "n5YKOq39KR9b",
    "outputId": "3e909956-d32c-4977-d8c2-6294a2993f30"
   },
   "outputs": [
    {
     "data": {
      "text/plain": [
       "[('아버지', 'NNG'),\n",
       " ('가방', 'NNG'),\n",
       " ('에', 'JKM'),\n",
       " ('들어가', 'VV'),\n",
       " ('시', 'EPH'),\n",
       " ('ㄴ다', 'EFN')]"
      ]
     },
     "execution_count": 14,
     "metadata": {},
     "output_type": "execute_result"
    }
   ],
   "source": [
    "# 꼬꼬마 형태소 분석 결과\n",
    "kkma.pos(text)"
   ]
  },
  {
   "cell_type": "code",
   "execution_count": 15,
   "metadata": {
    "colab": {
     "base_uri": "https://localhost:8080/"
    },
    "executionInfo": {
     "elapsed": 4,
     "status": "ok",
     "timestamp": 1718363598826,
     "user": {
      "displayName": "최영민",
      "userId": "12119742354430925915"
     },
     "user_tz": -540
    },
    "id": "SoiEKZQHKR9c",
    "outputId": "34bd5ba0-016b-4c27-efba-d1c33c292942"
   },
   "outputs": [
    {
     "data": {
      "text/plain": [
       "[('아버지', 'NNG'),\n",
       " ('가방', 'NNP'),\n",
       " ('에', 'JKB'),\n",
       " ('들어가', 'VV'),\n",
       " ('시', 'EP'),\n",
       " ('ㄴ다', 'EC')]"
      ]
     },
     "execution_count": 15,
     "metadata": {},
     "output_type": "execute_result"
    }
   ],
   "source": [
    "# 코모란 형태소 분석 결과\n",
    "komoran.pos(text)"
   ]
  },
  {
   "cell_type": "code",
   "execution_count": 16,
   "metadata": {
    "colab": {
     "base_uri": "https://localhost:8080/"
    },
    "executionInfo": {
     "elapsed": 1910,
     "status": "ok",
     "timestamp": 1718363600734,
     "user": {
      "displayName": "최영민",
      "userId": "12119742354430925915"
     },
     "user_tz": -540
    },
    "id": "wQMCnGoaKR9c",
    "outputId": "94dc38e7-f254-4c3f-8745-86e914762829"
   },
   "outputs": [
    {
     "data": {
      "text/plain": [
       "[('아버지가방에들어가', 'N'), ('이', 'J'), ('시ㄴ다', 'E')]"
      ]
     },
     "execution_count": 16,
     "metadata": {},
     "output_type": "execute_result"
    }
   ],
   "source": [
    "# 한나눔 형태소 분석 결과\n",
    "hannanum.pos(text)"
   ]
  },
  {
   "cell_type": "code",
   "execution_count": 17,
   "metadata": {
    "colab": {
     "base_uri": "https://localhost:8080/"
    },
    "executionInfo": {
     "elapsed": 3,
     "status": "ok",
     "timestamp": 1718363600734,
     "user": {
      "displayName": "최영민",
      "userId": "12119742354430925915"
     },
     "user_tz": -540
    },
    "id": "-UK2FEyjKR9d",
    "outputId": "2ef95113-49ed-426c-f2cd-afa7d117d22f"
   },
   "outputs": [
    {
     "data": {
      "text/plain": [
       "[('아버지', 'NNG'), ('가방', 'NNG'), ('에', 'JKB'), ('들어가', 'VV'), ('신다', 'EP+EC')]"
      ]
     },
     "execution_count": 17,
     "metadata": {},
     "output_type": "execute_result"
    }
   ],
   "source": [
    "# Windows용 mecab 형태소 분석 결과\n",
    "mecab.pos(text)"
   ]
  },
  {
   "cell_type": "code",
   "execution_count": 18,
   "metadata": {
    "colab": {
     "base_uri": "https://localhost:8080/"
    },
    "executionInfo": {
     "elapsed": 15362,
     "status": "ok",
     "timestamp": 1718363616094,
     "user": {
      "displayName": "최영민",
      "userId": "12119742354430925915"
     },
     "user_tz": -540
    },
    "id": "0V9SXuQCKR9d",
    "outputId": "1d2ac6ce-d692-4483-a57e-bfa870adddf7"
   },
   "outputs": [
    {
     "data": {
      "text/plain": [
       "[('아버지', 'Noun'), ('가방', 'Noun'), ('에', 'Josa'), ('들어가신다', 'Verb')]"
      ]
     },
     "execution_count": 18,
     "metadata": {},
     "output_type": "execute_result"
    }
   ],
   "source": [
    "# okt 형태소 분석 결과\n",
    "okt.pos(text)"
   ]
  },
  {
   "cell_type": "markdown",
   "metadata": {
    "id": "5ignhX48KR9e"
   },
   "source": [
    "> ### 2. 오탈자 때문에 불완전한 문장"
   ]
  },
  {
   "cell_type": "code",
   "execution_count": 19,
   "metadata": {
    "executionInfo": {
     "elapsed": 21,
     "status": "ok",
     "timestamp": 1718363616094,
     "user": {
      "displayName": "최영민",
      "userId": "12119742354430925915"
     },
     "user_tz": -540
    },
    "id": "PicD0eRuKR9e"
   },
   "outputs": [],
   "source": [
    "text2 = \"ㄱㅐㄴㅏ리가 피어있는 동산에 누워있고싶ㄷㅏ\""
   ]
  },
  {
   "cell_type": "code",
   "execution_count": 20,
   "metadata": {
    "colab": {
     "base_uri": "https://localhost:8080/"
    },
    "executionInfo": {
     "elapsed": 20,
     "status": "ok",
     "timestamp": 1718363616095,
     "user": {
      "displayName": "최영민",
      "userId": "12119742354430925915"
     },
     "user_tz": -540
    },
    "id": "-sVGdUVcKR9e",
    "outputId": "cd7a6bfb-2873-4067-d717-84d923f70465"
   },
   "outputs": [
    {
     "name": "stdout",
     "output_type": "stream",
     "text": [
      "꼬꼬마 : [('ㄱㅐㄴㅏ리', 'UN'), ('가', 'JKS'), ('피', 'VV'), ('어', 'ECD'), ('있', 'VXV'), ('는', 'ETD'), ('동산', 'NNG'), ('에', 'JKM'), ('눕', 'VV'), ('어', 'ECS'), ('있', 'VV'), ('고', 'ECE'), ('싶ㄷㅏ', 'UN')]\n",
      "\n",
      "코모란 : [('개나리', 'NNP'), ('가', 'JKS'), ('피', 'VV'), ('어', 'EC'), ('있', 'VX'), ('는', 'ETM'), ('동산', 'NNP'), ('에', 'JKB'), ('눕', 'VV'), ('어', 'EC'), ('있', 'VX'), ('고', 'EC'), ('싶', 'VX'), ('다', 'EC')]\n",
      "\n",
      "한나눔 : [('ㄱㅐㄴㅏ리', 'N'), ('가', 'J'), ('피', 'P'), ('어', 'E'), ('있', 'P'), ('는', 'E'), ('동산', 'N'), ('에', 'J'), ('누워있고싶ㄷㅏ', 'N')]\n",
      "\n",
      "mecab : [('ㄱ', 'NNG'), ('ㅐㄴㅏ리가', 'UNKNOWN'), ('피', 'VV'), ('어', 'EC'), ('있', 'VX'), ('는', 'ETM'), ('동산', 'NNG'), ('에', 'JKB'), ('누워', 'VV+EC'), ('있', 'VX'), ('고', 'EC'), ('싶', 'VX'), ('ㄷ', 'NNG'), ('ㅏ', 'UNKNOWN')]\n",
      "\n",
      "Okt : [('ㄱㅐㄴㅏ', 'KoreanParticle'), ('리가', 'Noun'), ('피어있는', 'Verb'), ('동산', 'Noun'), ('에', 'Josa'), ('누워있고싶', 'Verb'), ('ㄷㅏ', 'KoreanParticle')]\n",
      "\n"
     ]
    }
   ],
   "source": [
    "# 꼬꼬마 형태소 결과 출력하기.\n",
    "\n",
    "print(\"꼬꼬마 : %s\\n\" % kkma.pos(text2))\n",
    "print(\"코모란 : %s\\n\" % komoran.pos(text2))\n",
    "print(\"한나눔 : %s\\n\" % hannanum.pos(text2))\n",
    "print(\"mecab : %s\\n\" % mecab.pos(text2))\n",
    "print(\"Okt : %s\\n\" % okt.pos(text2))"
   ]
  },
  {
   "cell_type": "markdown",
   "metadata": {
    "id": "x82htEA9KR9e"
   },
   "source": [
    "> ### 3. 속도 비교"
   ]
  },
  {
   "cell_type": "code",
   "execution_count": 21,
   "metadata": {
    "executionInfo": {
     "elapsed": 17,
     "status": "ok",
     "timestamp": 1718363616095,
     "user": {
      "displayName": "최영민",
      "userId": "12119742354430925915"
     },
     "user_tz": -540
    },
    "id": "9B7HJAcsKR9e"
   },
   "outputs": [],
   "source": [
    "text3 = \"\"\"5G 이동통신망을 빌려 사용하는 ‘5G 알뜰폰’이 올해 도입되고, 내년부터는 의무화된다.\n",
    "정부는 알뜰폰 사업자(MNVO)가 통신사(MNO)에 통신망을 빌리는 비용(도매대가)을 지난해보다 큰 폭으로 낮춰, 알뜰폰 요금 인하를 유도하기로 했다. 하지만 줄어드는 알뜰폰 시장을 살릴 수 있을지는 지켜봐야 하는 상황이다.\n",
    "과학기술정보통신부는 알뜰폰 활성화 추진대책을 25일 발표했다. 알뜰폰 가입자는 800만명으로 이동통신 시장의 12%를 차지한다. 2011년 출시 뒤 저렴한 요금제로 통신비 부담을 낮춰왔다. 하지만 지난해 5월 통신 3사가 준보편제 요금을 내놓은 이후 알뜰폰 이탈 현상이 지속되고 있다.\n",
    "우선 올해 안에 3개 이상의 5G 알뜰폰이 시장에 나온다. 통신사가 5G망을 알뜰폰 사업자에게 도매 제공할지 여부는 통신사 자율로 정한다. 앞서 LG유플러스는 오는 10월 알뜰폰 사업을 시작하는 KB국민은행에 5G망을 제공한다고 밝힌 바 있다. SK텔레콤와 KT도 특정 제휴사를 선택해 올해 안에 5G 알뜰폰을 내놓기로 했다.\n",
    "내년부터는 5G 알뜰폰 제공이 의무화된다. 지난 22일자로 종료된 도매제공 의무제도의 유효기간을 2022년 9월22일까지 연장하는 전기통신사업법 개정안이 국회에서 통과되면, 관련 고시를 개정해 SK텔레콤의 5G망 도매제공을 의무화하겠다는 것이다.\n",
    "과기정통부 관계자는 “SK텔레콤이 자사와 계약을 맺은 13개 알뜰폰 사업자에게 5G망을 의무 제공하면, 그 외 31개의 알뜰폰 사업자들이 경쟁에서 밀릴 것을 우려해 KT와 LG유플러스도 5G망을 제공하게 될 것”이라고 내다봤다.\n",
    "알뜰폰 사업자가 상품을 만드는 방식 크게 2가지다. 하나는 통신사로부터 음성·문자·데이터를 도매로 사들인 뒤 이를 바탕으로 통신사보다 저렴한 요금제를 내놓는 방식(종량제 도매제공)이다. 이를 위해 정부는 도매대가 인하율을 음성 17.8%, 데이터 19.2%, 단문메시지 1.15%로, 지난해 음성 15.1%, 데이터 19.1%, 단문메시지 1.13%에 비해 높여 잡았다.\n",
    "또 다른 방식은 일정비용을 통신사에 내고 통신사의 정액 요금제를 그대로 판매하면서, 그 차액의 범위에서 저렴한 요금제를 내놓는 방식(수익배분 도매제공)이다. 정부는 SK텔레콤의 준보편 요금제인 ‘T플랜 요금제’를 알뜰폰 사업자가 재판매할 수 있게 했다. 기존에 SK텔레콤이 도매제공했던 ‘밴드데이터 요금제’의 최고구간의 대가도 1.5%포인트 낮췄다.\n",
    "알뜰폰 업계는 대체로 반기는 분위기지만, 알뜰폰 시장을 살릴 수 있을지에는 의구심을 갖고 있다. 업계 관계자는 “도매대가 인하율이 크고, 5G망을 제공하는 것은 긍정적”이라면서도 “수익배분 도매제공의 의무화, 설비를 가진 업체에 대한 접속료 정산 도입 등의 제도적 개선이 필요하다”고 말했다.\"\"\""
   ]
  },
  {
   "cell_type": "code",
   "execution_count": 22,
   "metadata": {
    "colab": {
     "base_uri": "https://localhost:8080/"
    },
    "executionInfo": {
     "elapsed": 2961,
     "status": "ok",
     "timestamp": 1718363619039,
     "user": {
      "displayName": "최영민",
      "userId": "12119742354430925915"
     },
     "user_tz": -540
    },
    "id": "BwOPKrkOKR9f",
    "outputId": "e58a5ab1-5f54-44f5-c7dc-8fbf6be3368c"
   },
   "outputs": [
    {
     "name": "stdout",
     "output_type": "stream",
     "text": [
      "[('5', 'NR'), ('G', 'OL'), ('이동', 'NNG'), ('통신망', 'NNG'), ('을', 'JKO')]\n",
      "CPU times: total: 703 ms\n",
      "Wall time: 522 ms\n"
     ]
    }
   ],
   "source": [
    "%%time\n",
    "print(kkma.pos(text3)[:5])"
   ]
  },
  {
   "cell_type": "code",
   "execution_count": 23,
   "metadata": {
    "colab": {
     "base_uri": "https://localhost:8080/"
    },
    "executionInfo": {
     "elapsed": 10,
     "status": "ok",
     "timestamp": 1718363619039,
     "user": {
      "displayName": "최영민",
      "userId": "12119742354430925915"
     },
     "user_tz": -540
    },
    "id": "HyyX290bKR9f",
    "outputId": "8e0300d8-f82a-4287-81d8-6592fd6afcbd"
   },
   "outputs": [
    {
     "name": "stdout",
     "output_type": "stream",
     "text": [
      "[('5', 'SN'), ('G', 'SL'), ('이동', 'NNG'), ('통신망', 'NNG'), ('을', 'JKO')]\n",
      "CPU times: total: 31.2 ms\n",
      "Wall time: 123 ms\n"
     ]
    }
   ],
   "source": [
    "%%time\n",
    "print(komoran.pos(text3)[:5])"
   ]
  },
  {
   "cell_type": "code",
   "execution_count": 24,
   "metadata": {
    "colab": {
     "base_uri": "https://localhost:8080/"
    },
    "executionInfo": {
     "elapsed": 473,
     "status": "ok",
     "timestamp": 1718363619503,
     "user": {
      "displayName": "최영민",
      "userId": "12119742354430925915"
     },
     "user_tz": -540
    },
    "id": "ywVy4HkTKR9f",
    "outputId": "3c2cf289-e6c3-43bf-f31f-06bf9a359a3d"
   },
   "outputs": [
    {
     "name": "stdout",
     "output_type": "stream",
     "text": [
      "[('5G', 'N'), ('이동통신망', 'N'), ('을', 'J'), ('빌리', 'P'), ('어', 'E')]\n",
      "CPU times: total: 78.1 ms\n",
      "Wall time: 190 ms\n"
     ]
    }
   ],
   "source": [
    "%%time\n",
    "print(hannanum.pos(text3)[:5])"
   ]
  },
  {
   "cell_type": "code",
   "execution_count": 25,
   "metadata": {
    "colab": {
     "base_uri": "https://localhost:8080/"
    },
    "executionInfo": {
     "elapsed": 2,
     "status": "ok",
     "timestamp": 1718363619503,
     "user": {
      "displayName": "최영민",
      "userId": "12119742354430925915"
     },
     "user_tz": -540
    },
    "id": "QGL6PagEKR9f",
    "outputId": "f48056cb-f135-4cf4-9130-ee42d3c8b159"
   },
   "outputs": [
    {
     "name": "stdout",
     "output_type": "stream",
     "text": [
      "[('5', 'SN'), ('G', 'SL'), ('이동', 'NNG'), ('통신망', 'NNG'), ('을', 'JKO')]\n",
      "CPU times: total: 31.2 ms\n",
      "Wall time: 182 ms\n"
     ]
    }
   ],
   "source": [
    "%%time\n",
    "print(mecab.pos(text3)[:5])"
   ]
  },
  {
   "cell_type": "code",
   "execution_count": 26,
   "metadata": {
    "colab": {
     "base_uri": "https://localhost:8080/"
    },
    "executionInfo": {
     "elapsed": 876,
     "status": "ok",
     "timestamp": 1718363620378,
     "user": {
      "displayName": "최영민",
      "userId": "12119742354430925915"
     },
     "user_tz": -540
    },
    "id": "MDgMTfMTKR9f",
    "outputId": "cd48b23d-a2e5-4aec-f3c1-e1520dd847b0"
   },
   "outputs": [
    {
     "name": "stdout",
     "output_type": "stream",
     "text": [
      "[('5', 'Number'), ('G', 'Alpha'), ('이', 'Determiner'), ('동', 'Modifier'), ('통신망', 'Noun')]\n",
      "CPU times: total: 78.1 ms\n",
      "Wall time: 278 ms\n"
     ]
    }
   ],
   "source": [
    "%%time\n",
    "print(okt.pos(text3)[:5])"
   ]
  },
  {
   "cell_type": "code",
   "execution_count": null,
   "metadata": {},
   "outputs": [],
   "source": []
  }
 ],
 "metadata": {
  "colab": {
   "provenance": []
  },
  "kernelspec": {
   "display_name": "Python 3 (ipykernel)",
   "language": "python",
   "name": "python3"
  },
  "language_info": {
   "codemirror_mode": {
    "name": "ipython",
    "version": 3
   },
   "file_extension": ".py",
   "mimetype": "text/x-python",
   "name": "python",
   "nbconvert_exporter": "python",
   "pygments_lexer": "ipython3",
   "version": "3.10.9"
  }
 },
 "nbformat": 4,
 "nbformat_minor": 1
}
