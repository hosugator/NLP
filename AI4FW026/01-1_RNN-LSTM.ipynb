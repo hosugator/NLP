{
 "cells": [
  {
   "cell_type": "markdown",
   "id": "3f5bb3ee-105f-430b-82c2-362e745d713e",
   "metadata": {
    "id": "3f5bb3ee-105f-430b-82c2-362e745d713e"
   },
   "source": [
    "## RNN (Recurrent Neural Network) 알아보기\n",
    "- RNN은 시퀀스 데(텍스트, 시계열 데이터, 음성 신호 등 순서가 중요한 데이터)이터를 처리하기 위해 설계된 신경망의 한 유형\n",
    "- RNN은 이전 시간 단계의 정보를 현재 시간 단계의 입력과 결합하여 패턴을 인식하는 것임\n",
    "- <img src='rnn_model.png'><img src='rnn_model1.png'>다.\n",
    "\n",
    "#### RNN의 특징:\n",
    "1. **메모리**: RNN은 이전의 정보를 기억할 수 있으며, 이 정보는 현재 입력의 처리에 사용됩니다.\n",
    "2. **시간단계**: RNN은 시간 단계를 통해 데이터를 처리합니다. 각 시간 단계에서 RNN은 이전 시간 단계의 상태와 현재 시간 단계의 입력을 사용하여 출력을 생성합니다.\n",
    "\n",
    "#### 입력 형태\n",
    "RNN 레이어의 `input_shape` 매개변수는 입력 데이터의 형태를 정의하며 이는 `(timesteps, features)` 형태의 튜플로 지정됩니다.\n",
    "\n",
    "- `timesteps`: 시퀀스의 길이, 즉 시간 단계의 수\n",
    "- `features`: 각 시간 단계에서의 특성의 수\n",
    "\n",
    "`return_sequences` 매개변수는 RNN 레이어가 모든 시간 단계의 출력을 반환할지, 아니면 마지막 시간 단계의 출력만 반환할지를 결정합니다. 첫 번째 `SimpleRNN` 레이어에서는 `return_sequences=모델을 구축할 수 있으며, 입력 형태와 모델 구조를 쉽게 조정할 수 있습니다."
   ]
  },
  {
   "cell_type": "code",
   "execution_count": null,
   "id": "2506cb33",
   "metadata": {
    "id": "2506cb33"
   },
   "outputs": [],
   "source": [
    "# !pip install tensorflow"
   ]
  },
  {
   "cell_type": "code",
   "execution_count": 1,
   "id": "3f3fc4d4",
   "metadata": {
    "id": "3f3fc4d4",
    "outputId": "82926a0c-5423-47d0-c927-2020c036e4f6"
   },
   "outputs": [
    {
     "name": "stderr",
     "output_type": "stream",
     "text": [
      "/Users/hong/venvs/nlp_env/lib/python3.9/site-packages/urllib3/__init__.py:35: NotOpenSSLWarning: urllib3 v2 only supports OpenSSL 1.1.1+, currently the 'ssl' module is compiled with 'LibreSSL 2.8.3'. See: https://github.com/urllib3/urllib3/issues/3020\n",
      "  warnings.warn(\n"
     ]
    },
    {
     "data": {
      "text/html": [
       "<pre style=\"white-space:pre;overflow-x:auto;line-height:normal;font-family:Menlo,'DejaVu Sans Mono',consolas,'Courier New',monospace\"><span style=\"font-weight: bold\">Model: \"sequential\"</span>\n",
       "</pre>\n"
      ],
      "text/plain": [
       "\u001b[1mModel: \"sequential\"\u001b[0m\n"
      ]
     },
     "metadata": {},
     "output_type": "display_data"
    },
    {
     "data": {
      "text/html": [
       "<pre style=\"white-space:pre;overflow-x:auto;line-height:normal;font-family:Menlo,'DejaVu Sans Mono',consolas,'Courier New',monospace\">┏━━━━━━━━━━━━━━━━━━━━━━━━━━━━━━━━━┳━━━━━━━━━━━━━━━━━━━━━━━━┳━━━━━━━━━━━━━━━┓\n",
       "┃<span style=\"font-weight: bold\"> Layer (type)                    </span>┃<span style=\"font-weight: bold\"> Output Shape           </span>┃<span style=\"font-weight: bold\">       Param # </span>┃\n",
       "┡━━━━━━━━━━━━━━━━━━━━━━━━━━━━━━━━━╇━━━━━━━━━━━━━━━━━━━━━━━━╇━━━━━━━━━━━━━━━┩\n",
       "│ simple_rnn (<span style=\"color: #0087ff; text-decoration-color: #0087ff\">SimpleRNN</span>)          │ (<span style=\"color: #00d7ff; text-decoration-color: #00d7ff\">None</span>, <span style=\"color: #00af00; text-decoration-color: #00af00\">2</span>, <span style=\"color: #00af00; text-decoration-color: #00af00\">3</span>)           │            <span style=\"color: #00af00; text-decoration-color: #00af00\">42</span> │\n",
       "├─────────────────────────────────┼────────────────────────┼───────────────┤\n",
       "│ simple_rnn_1 (<span style=\"color: #0087ff; text-decoration-color: #0087ff\">SimpleRNN</span>)        │ (<span style=\"color: #00d7ff; text-decoration-color: #00d7ff\">None</span>, <span style=\"color: #00af00; text-decoration-color: #00af00\">3</span>)              │            <span style=\"color: #00af00; text-decoration-color: #00af00\">21</span> │\n",
       "└─────────────────────────────────┴────────────────────────┴───────────────┘\n",
       "</pre>\n"
      ],
      "text/plain": [
       "┏━━━━━━━━━━━━━━━━━━━━━━━━━━━━━━━━━┳━━━━━━━━━━━━━━━━━━━━━━━━┳━━━━━━━━━━━━━━━┓\n",
       "┃\u001b[1m \u001b[0m\u001b[1mLayer (type)                   \u001b[0m\u001b[1m \u001b[0m┃\u001b[1m \u001b[0m\u001b[1mOutput Shape          \u001b[0m\u001b[1m \u001b[0m┃\u001b[1m \u001b[0m\u001b[1m      Param #\u001b[0m\u001b[1m \u001b[0m┃\n",
       "┡━━━━━━━━━━━━━━━━━━━━━━━━━━━━━━━━━╇━━━━━━━━━━━━━━━━━━━━━━━━╇━━━━━━━━━━━━━━━┩\n",
       "│ simple_rnn (\u001b[38;5;33mSimpleRNN\u001b[0m)          │ (\u001b[38;5;45mNone\u001b[0m, \u001b[38;5;34m2\u001b[0m, \u001b[38;5;34m3\u001b[0m)           │            \u001b[38;5;34m42\u001b[0m │\n",
       "├─────────────────────────────────┼────────────────────────┼───────────────┤\n",
       "│ simple_rnn_1 (\u001b[38;5;33mSimpleRNN\u001b[0m)        │ (\u001b[38;5;45mNone\u001b[0m, \u001b[38;5;34m3\u001b[0m)              │            \u001b[38;5;34m21\u001b[0m │\n",
       "└─────────────────────────────────┴────────────────────────┴───────────────┘\n"
      ]
     },
     "metadata": {},
     "output_type": "display_data"
    },
    {
     "data": {
      "text/html": [
       "<pre style=\"white-space:pre;overflow-x:auto;line-height:normal;font-family:Menlo,'DejaVu Sans Mono',consolas,'Courier New',monospace\"><span style=\"font-weight: bold\"> Total params: </span><span style=\"color: #00af00; text-decoration-color: #00af00\">63</span> (252.00 B)\n",
       "</pre>\n"
      ],
      "text/plain": [
       "\u001b[1m Total params: \u001b[0m\u001b[38;5;34m63\u001b[0m (252.00 B)\n"
      ]
     },
     "metadata": {},
     "output_type": "display_data"
    },
    {
     "data": {
      "text/html": [
       "<pre style=\"white-space:pre;overflow-x:auto;line-height:normal;font-family:Menlo,'DejaVu Sans Mono',consolas,'Courier New',monospace\"><span style=\"font-weight: bold\"> Trainable params: </span><span style=\"color: #00af00; text-decoration-color: #00af00\">63</span> (252.00 B)\n",
       "</pre>\n"
      ],
      "text/plain": [
       "\u001b[1m Trainable params: \u001b[0m\u001b[38;5;34m63\u001b[0m (252.00 B)\n"
      ]
     },
     "metadata": {},
     "output_type": "display_data"
    },
    {
     "data": {
      "text/html": [
       "<pre style=\"white-space:pre;overflow-x:auto;line-height:normal;font-family:Menlo,'DejaVu Sans Mono',consolas,'Courier New',monospace\"><span style=\"font-weight: bold\"> Non-trainable params: </span><span style=\"color: #00af00; text-decoration-color: #00af00\">0</span> (0.00 B)\n",
       "</pre>\n"
      ],
      "text/plain": [
       "\u001b[1m Non-trainable params: \u001b[0m\u001b[38;5;34m0\u001b[0m (0.00 B)\n"
      ]
     },
     "metadata": {},
     "output_type": "display_data"
    }
   ],
   "source": [
    "import tensorflow as tf\n",
    "\n",
    "model = tf.keras.Sequential(\n",
    "    [\n",
    "        tf.keras.layers.Input(shape=(2, 10)),  # 입력 형태는 (timesteps, features) timesteps는 현재 층의 정보를 몇 단계 후의 층까지 전달할지를 정한다\n",
    "        tf.keras.layers.SimpleRNN(3, return_sequences=True), # 각 층에서의 출력값을 나타낸다.\n",
    "        tf.keras.layers.SimpleRNN(3),  # loss ='mse'\n",
    "    ]\n",
    ")\n",
    "\n",
    "# model = tf.keras.Sequential()\n",
    "# model.add(tf.keras.layers.Input(shape=(2, 10)))\n",
    "# model.add(tf.keras.layers.SimpleRNN(3, return_sequences=True))\n",
    "# model.add(tf.keras.layers.SimpleRNN(3))\n",
    "\n",
    "model.summary()"
   ]
  },
  {
   "cell_type": "markdown",
   "id": "13ecfd43",
   "metadata": {
    "id": "13ecfd43"
   },
   "source": [
    "## 1.RNN을  이용하여  텍스트  생성하기"
   ]
  },
  {
   "cell_type": "markdown",
   "id": "10a560d0",
   "metadata": {
    "id": "10a560d0"
   },
   "source": [
    "### 1) 데이터 로드 및  전처리"
   ]
  },
  {
   "cell_type": "code",
   "execution_count": 2,
   "id": "c0553b54",
   "metadata": {
    "executionInfo": {
     "elapsed": 5154,
     "status": "ok",
     "timestamp": 1755739499666,
     "user": {
      "displayName": "강희숙",
      "userId": "05520711596090317319"
     },
     "user_tz": -540
    },
    "id": "c0553b54"
   },
   "outputs": [],
   "source": [
    "# 1. 필요한 라이브러리 임포트\n",
    "from tensorflow.keras.preprocessing.text import Tokenizer\n",
    "from tensorflow.keras.preprocessing.sequence import pad_sequences\n",
    "import numpy as np\n",
    "from tensorflow.keras.utils import to_categorical\n",
    "import matplotlib.pyplot as plt"
   ]
  },
  {
   "cell_type": "code",
   "execution_count": 3,
   "id": "c40a8fea",
   "metadata": {
    "executionInfo": {
     "elapsed": 5,
     "status": "ok",
     "timestamp": 1755739499673,
     "user": {
      "displayName": "강희숙",
      "userId": "05520711596090317319"
     },
     "user_tz": -540
    },
    "id": "c40a8fea"
   },
   "outputs": [],
   "source": [
    "# 2. 학습용 텍스트 데이터 정의\n",
    "text = \"\"\"경마장에  있는  말이  뛰고  있다\\n\n",
    "        그의  말이  법이다\\n\n",
    "        가는  말이  고와야  오는  말이  곱다\\n\n",
    "        \"\"\""
   ]
  },
  {
   "cell_type": "code",
   "execution_count": 4,
   "id": "1e459bd0",
   "metadata": {
    "colab": {
     "base_uri": "https://localhost:8080/"
    },
    "executionInfo": {
     "elapsed": 12,
     "status": "ok",
     "timestamp": 1755739499687,
     "user": {
      "displayName": "강희숙",
      "userId": "05520711596090317319"
     },
     "user_tz": -540
    },
    "id": "1e459bd0",
    "outputId": "f90d597a-02ff-43a2-df0e-ec5e7c4385b0"
   },
   "outputs": [
    {
     "name": "stdout",
     "output_type": "stream",
     "text": [
      "단어 집합의  크기  : 20\n"
     ]
    }
   ],
   "source": [
    "# 3. 토크나이저 초기화 및 학습\n",
    "tokenizer = Tokenizer()  # ... code here\n",
    "\n",
    "# 텍스트로부터 단어 사전 구축\n",
    "tokenizer.fit_on_texts(text)  # ... code here\n",
    "\n",
    "# 4. 어휘 사전 크기 계산 (패딩용 0번 인덱스 포함)\n",
    "vocab_size = len(tokenizer.word_index)+1  # ... code here\n",
    "print('단어 집합의  크기  : %d' % vocab_size)"
   ]
  },
  {
   "cell_type": "markdown",
   "id": "19970a53",
   "metadata": {
    "id": "19970a53"
   },
   "source": [
    "Keras의 Embedding : 입력 정수 인덱스를 [0, input_dim-1] 범위로 가정\n",
    "- Tokenizer는 단어 인덱스를 1부터 부여\n",
    "- 가장 큰 인덱스 = len(word_index)\n",
    "- 따라서 input_dim은 최대 인덱스 + 1이어야 안전합니다.\n",
    "- +1은 0번 인덱스를 패딩(padding) 용도로 남겨두기 위함"
   ]
  },
  {
   "cell_type": "code",
   "execution_count": 5,
   "id": "212c4bc6-1ad2-4ea9-b01f-fb71dc9c953e",
   "metadata": {
    "colab": {
     "base_uri": "https://localhost:8080/"
    },
    "executionInfo": {
     "elapsed": 8,
     "status": "ok",
     "timestamp": 1755739499696,
     "user": {
      "displayName": "강희숙",
      "userId": "05520711596090317319"
     },
     "user_tz": -540
    },
    "id": "212c4bc6-1ad2-4ea9-b01f-fb71dc9c953e",
    "outputId": "a040b75b-f8ed-43a8-e921-55837e10b397"
   },
   "outputs": [
    {
     "data": {
      "text/plain": [
       "['__class__',\n",
       " '__delattr__',\n",
       " '__dict__',\n",
       " '__dir__',\n",
       " '__doc__',\n",
       " '__eq__',\n",
       " '__format__',\n",
       " '__ge__',\n",
       " '__getattribute__',\n",
       " '__gt__',\n",
       " '__hash__',\n",
       " '__init__',\n",
       " '__init_subclass__',\n",
       " '__le__',\n",
       " '__lt__',\n",
       " '__module__',\n",
       " '__ne__',\n",
       " '__new__',\n",
       " '__reduce__',\n",
       " '__reduce_ex__',\n",
       " '__repr__',\n",
       " '__setattr__',\n",
       " '__sizeof__',\n",
       " '__str__',\n",
       " '__subclasshook__',\n",
       " '__weakref__',\n",
       " '_api_export_path',\n",
       " '_api_export_symbol_id',\n",
       " 'analyzer',\n",
       " 'char_level',\n",
       " 'document_count',\n",
       " 'filters',\n",
       " 'fit_on_sequences',\n",
       " 'fit_on_texts',\n",
       " 'get_config',\n",
       " 'index_docs',\n",
       " 'index_word',\n",
       " 'lower',\n",
       " 'num_words',\n",
       " 'oov_token',\n",
       " 'sequences_to_matrix',\n",
       " 'sequences_to_texts',\n",
       " 'sequences_to_texts_generator',\n",
       " 'split',\n",
       " 'texts_to_matrix',\n",
       " 'texts_to_sequences',\n",
       " 'texts_to_sequences_generator',\n",
       " 'to_json',\n",
       " 'word_counts',\n",
       " 'word_docs',\n",
       " 'word_index']"
      ]
     },
     "execution_count": 5,
     "metadata": {},
     "output_type": "execute_result"
    }
   ],
   "source": [
    "dir(tokenizer)"
   ]
  },
  {
   "cell_type": "code",
   "execution_count": 6,
   "id": "8410a906",
   "metadata": {
    "colab": {
     "base_uri": "https://localhost:8080/"
    },
    "executionInfo": {
     "elapsed": 14,
     "status": "ok",
     "timestamp": 1755739499723,
     "user": {
      "displayName": "강희숙",
      "userId": "05520711596090317319"
     },
     "user_tz": -540
    },
    "id": "8410a906",
    "outputId": "e3f8366f-d951-4835-abb2-d45b0457b891"
   },
   "outputs": [
    {
     "name": "stdout",
     "output_type": "stream",
     "text": [
      "{'이': 1, '말': 2, '는': 3, '다': 4, '있': 5, '고': 6, '경': 7, '마': 8, '장': 9, '에': 10, '뛰': 11, '그': 12, '의': 13, '법': 14, '가': 15, '와': 16, '야': 17, '오': 18, '곱': 19}\n",
      "OrderedDict([('경', 1), ('마', 1), ('장', 1), ('에', 1), ('있', 2), ('는', 3), ('말', 4), ('이', 5), ('뛰', 1), ('고', 2), ('다', 3), ('그', 1), ('의', 1), ('법', 1), ('가', 1), ('와', 1), ('야', 1), ('오', 1), ('곱', 1)])\n"
     ]
    }
   ],
   "source": [
    "print(tokenizer.word_index) # 각  단어와  단어에  부여된  정수  인덱스  출력- 빈도수 순으로 출력\n",
    "print(tokenizer.word_counts)"
   ]
  },
  {
   "cell_type": "code",
   "execution_count": null,
   "id": "a2edd237",
   "metadata": {
    "colab": {
     "base_uri": "https://localhost:8080/"
    },
    "executionInfo": {
     "elapsed": 5,
     "status": "ok",
     "timestamp": 1755739499729,
     "user": {
      "displayName": "강희숙",
      "userId": "05520711596090317319"
     },
     "user_tz": -540
    },
    "id": "a2edd237",
    "outputId": "a5f630ba-5d30-4f43-ed3b-44a731d82f6a"
   },
   "outputs": [
    {
     "name": "stdout",
     "output_type": "stream",
     "text": [
      "경마장에  있는  말이  뛰고  있다\n",
      "[2, 3, 1, 4, 5]\n",
      "[2, 3]\n",
      "[2, 3, 1]\n",
      "[2, 3, 1, 4]\n",
      "[2, 3, 1, 4, 5]\n",
      "        그의  말이  법이다\n",
      "[6, 1, 7]\n",
      "[6, 1]\n",
      "[6, 1, 7]\n",
      "        가는  말이  고와야  오는  말이  곱다\n",
      "[8, 1, 9, 10, 1, 11]\n",
      "[8, 1]\n",
      "[8, 1, 9]\n",
      "[8, 1, 9, 10]\n",
      "[8, 1, 9, 10, 1]\n",
      "[8, 1, 9, 10, 1, 11]\n",
      "학습에  사용한  샘플의  개수: 11\n"
     ]
    }
   ],
   "source": [
    "# 5. 학습 시퀀스 생성을 위한 빈 리스트 초기화\n",
    "sequences = list()\n",
    "\n",
    "# 6. 각 문장별로 시퀀스 데이터 생성\n",
    "for line in text.split('\\n'):  # 줄바꿈을 기준으로 문장 분리\n",
    "    if not line.strip():   # 공백/빈줄이면 스킵\n",
    "        continue\n",
    "    print(line)\n",
    "\n",
    "    # 7. 문장을 정수 시퀀스로 변환\n",
    "    encoded = tokenizer.texts_  # ... code here\n",
    "    print(encoded)\n",
    "\n",
    "    # 8. 다음 단어 예측용 학습 샘플 생성 (슬라이딩 윈도우 방식)\n",
    "    for i in range(1, len(encoded)):\n",
    "        sequence = encoded[:i+1]  # 처음부터 i+1번째까지의 부분 시퀀스\n",
    "        print(sequence)\n",
    "        sequences.append(sequence)\n",
    "\n",
    "print('학습에  사용한  샘플의  개수: %d' % len(sequences))"
   ]
  },
  {
   "cell_type": "code",
   "execution_count": 8,
   "id": "b9c51051",
   "metadata": {
    "colab": {
     "base_uri": "https://localhost:8080/"
    },
    "executionInfo": {
     "elapsed": 57,
     "status": "ok",
     "timestamp": 1755739499787,
     "user": {
      "displayName": "강희숙",
      "userId": "05520711596090317319"
     },
     "user_tz": -540
    },
    "id": "b9c51051",
    "outputId": "11fd55e7-0855-416e-ca9b-e05a91adf7bb"
   },
   "outputs": [
    {
     "name": "stdout",
     "output_type": "stream",
     "text": [
      "[[2, 3], [2, 3, 1], [2, 3, 1, 4], [2, 3, 1, 4, 5], [6, 1], [6, 1, 7], [8, 1], [8, 1, 9], [8, 1, 9, 10], [8, 1, 9, 10, 1], [8, 1, 9, 10, 1, 11]]\n"
     ]
    }
   ],
   "source": [
    "print(sequences) # 전체  샘플을  출력"
   ]
  },
  {
   "cell_type": "code",
   "execution_count": 9,
   "id": "ff4d49e5",
   "metadata": {
    "colab": {
     "base_uri": "https://localhost:8080/"
    },
    "executionInfo": {
     "elapsed": 13,
     "status": "ok",
     "timestamp": 1755739499788,
     "user": {
      "displayName": "강희숙",
      "userId": "05520711596090317319"
     },
     "user_tz": -540
    },
    "id": "ff4d49e5",
    "outputId": "0c71eff6-5bbc-4c83-bb02-d2fd0ce48d1a"
   },
   "outputs": [
    {
     "name": "stdout",
     "output_type": "stream",
     "text": [
      "샘플의  최대  길이  : 6\n"
     ]
    }
   ],
   "source": [
    "# 9. 최대 시퀀스 길이 계산\n",
    "max_len = max(len(l) for l in sequences)\n",
    "print('샘플의  최대  길이  : {}'.format(max_len))"
   ]
  },
  {
   "cell_type": "markdown",
   "id": "68520b86",
   "metadata": {
    "id": "68520b86"
   },
   "source": [
    "#### > pad_sequences\n",
    "`pad_sequences(sequences, maxlen=None, dtype='int32', padding='pre', truncating='pre', value=0.0) `   \n",
    "문장의 길이를 maxlen 인자로 맞추어 준다. 120으로 지정했다면 120보다 짧은 문장은 0으로 채워서 120단어로 맞춰주고 120보다 긴 문장은 120단어까지만 잘라낸다.    \n",
    "    \n",
    "- (num_samples, num_timesteps)으로 2차원의 numpy 배열로 만들어준다. maxlen을 120으로 지정하였다면, num_timesteps도 120이 된다.  \n",
    "- 인수\n",
    "    - padding : 'pre' or 'post'\n",
    "    - truncating : 'pre' or 'post'\n",
    "    - value : 채워질 값. default는 0\n"
   ]
  },
  {
   "cell_type": "code",
   "execution_count": 10,
   "id": "3f3e4679",
   "metadata": {
    "colab": {
     "base_uri": "https://localhost:8080/"
    },
    "executionInfo": {
     "elapsed": 7,
     "status": "ok",
     "timestamp": 1755739499789,
     "user": {
      "displayName": "강희숙",
      "userId": "05520711596090317319"
     },
     "user_tz": -540
    },
    "id": "3f3e4679",
    "outputId": "3022be9a-6ea0-44ed-bb5b-a9017fdab4c6"
   },
   "outputs": [
    {
     "name": "stdout",
     "output_type": "stream",
     "text": [
      "[[ 0  0  0  0  2  3]\n",
      " [ 0  0  0  2  3  1]\n",
      " [ 0  0  2  3  1  4]\n",
      " [ 0  2  3  1  4  5]\n",
      " [ 0  0  0  0  6  1]\n",
      " [ 0  0  0  6  1  7]\n",
      " [ 0  0  0  0  8  1]\n",
      " [ 0  0  0  8  1  9]\n",
      " [ 0  0  8  1  9 10]\n",
      " [ 0  8  1  9 10  1]\n",
      " [ 8  1  9 10  1 11]]\n"
     ]
    }
   ],
   "source": [
    "# 10. 모든 시퀀스를 동일한 길이로 패딩 (앞쪽에 0 추가)\n",
    "sequences = ...  # ... code here\n",
    "print(sequences)"
   ]
  },
  {
   "cell_type": "code",
   "execution_count": 11,
   "id": "ca362cb1",
   "metadata": {
    "colab": {
     "base_uri": "https://localhost:8080/"
    },
    "executionInfo": {
     "elapsed": 5,
     "status": "ok",
     "timestamp": 1755739500266,
     "user": {
      "displayName": "강희숙",
      "userId": "05520711596090317319"
     },
     "user_tz": -540
    },
    "id": "ca362cb1",
    "outputId": "07c5d3d1-eb4f-4ecd-99e7-1c078a59367c"
   },
   "outputs": [
    {
     "name": "stdout",
     "output_type": "stream",
     "text": [
      "입력 데이터 X:\n",
      "[[ 0  0  0  0  2]\n",
      " [ 0  0  0  2  3]\n",
      " [ 0  0  2  3  1]\n",
      " [ 0  2  3  1  4]\n",
      " [ 0  0  0  0  6]\n",
      " [ 0  0  0  6  1]\n",
      " [ 0  0  0  0  8]\n",
      " [ 0  0  0  8  1]\n",
      " [ 0  0  8  1  9]\n",
      " [ 0  8  1  9 10]\n",
      " [ 8  1  9 10  1]]\n",
      "정답 데이터 y:\n",
      "[ 3  1  4  5  1  7  1  9 10  1 11]\n"
     ]
    }
   ],
   "source": [
    "# 11. NumPy 배열로 변환\n",
    "sequences = np.array(sequences)\n",
    "\n",
    "# 12. 입력(X)과 정답(y) 데이터 분리\n",
    "X = ...  # ... code here  # 마지막 단어를 제외한 모든 단어들 (입력)\n",
    "y = ...  # ... code here   # 마지막 단어만 (정답 라벨)\n",
    "print(\"입력 데이터 X:\")\n",
    "print(X)\n",
    "print(\"정답 데이터 y:\")\n",
    "print(y)"
   ]
  },
  {
   "cell_type": "code",
   "execution_count": 12,
   "id": "a502f0b5",
   "metadata": {
    "colab": {
     "base_uri": "https://localhost:8080/"
    },
    "executionInfo": {
     "elapsed": 5,
     "status": "ok",
     "timestamp": 1755739500688,
     "user": {
      "displayName": "강희숙",
      "userId": "05520711596090317319"
     },
     "user_tz": -540
    },
    "id": "a502f0b5",
    "outputId": "ae184964-354a-497b-bc93-8751590f2e42"
   },
   "outputs": [
    {
     "name": "stdout",
     "output_type": "stream",
     "text": [
      "원-핫 인코딩된 y:\n",
      "[[0. 0. 0. 1. 0. 0. 0. 0. 0. 0. 0. 0.]\n",
      " [0. 1. 0. 0. 0. 0. 0. 0. 0. 0. 0. 0.]\n",
      " [0. 0. 0. 0. 1. 0. 0. 0. 0. 0. 0. 0.]\n",
      " [0. 0. 0. 0. 0. 1. 0. 0. 0. 0. 0. 0.]\n",
      " [0. 1. 0. 0. 0. 0. 0. 0. 0. 0. 0. 0.]\n",
      " [0. 0. 0. 0. 0. 0. 0. 1. 0. 0. 0. 0.]\n",
      " [0. 1. 0. 0. 0. 0. 0. 0. 0. 0. 0. 0.]\n",
      " [0. 0. 0. 0. 0. 0. 0. 0. 0. 1. 0. 0.]\n",
      " [0. 0. 0. 0. 0. 0. 0. 0. 0. 0. 1. 0.]\n",
      " [0. 1. 0. 0. 0. 0. 0. 0. 0. 0. 0. 0.]\n",
      " [0. 0. 0. 0. 0. 0. 0. 0. 0. 0. 0. 1.]]\n"
     ]
    }
   ],
   "source": [
    "# 13. 정답 데이터를 원-핫 인코딩으로 변환\n",
    "y = ...  # ... code here\n",
    "print(\"원-핫 인코딩된 y:\")\n",
    "print(y)"
   ]
  },
  {
   "cell_type": "markdown",
   "id": "a22af390",
   "metadata": {
    "id": "a22af390"
   },
   "source": [
    "### 2) 모델  설계하기"
   ]
  },
  {
   "cell_type": "code",
   "execution_count": 13,
   "id": "bd78238b",
   "metadata": {
    "executionInfo": {
     "elapsed": 3,
     "status": "ok",
     "timestamp": 1755739501819,
     "user": {
      "displayName": "강희숙",
      "userId": "05520711596090317319"
     },
     "user_tz": -540
    },
    "id": "bd78238b"
   },
   "outputs": [],
   "source": [
    "# 14. 필요한 모델 라이브러리 임포트\n",
    "from tensorflow.keras.models import Sequential\n",
    "from tensorflow.keras.layers import Embedding, Dense, SimpleRNN, Dropout\n",
    "from tensorflow.keras.callbacks import EarlyStopping"
   ]
  },
  {
   "cell_type": "markdown",
   "id": "00e2505a",
   "metadata": {
    "id": "00e2505a"
   },
   "source": [
    "#### > Embedding\n",
    "`tf.keras.layers.Embedding( input_dim, output_dim, embeddings_initializer='uniform', embeddings_regularizer=None, activity_regularizer=None, embeddings_constraint=None, mask_zero=False, input_length=None, **kwargs)`\n",
    "\n",
    "- 인수\n",
    "    - input_dim : 입력 크기\n",
    "    - output_dim : 출력 크기\n",
    "    - input_length : 입력 데이터의 길이\n",
    "\n",
    "단어를 밀집벡터로 만드는 일을 수행한다. 정수 인코딩이 된 단어들을 입력으로 받아 수행한다. => 단어를 실수 벡터로 변환. 학습하면서 비슷한 단어는 비슷한 위치(벡터 값)를 갖게 됨\n",
    "- SimpleRNN 오류발생하면 numpy 버전을 낮춤( pip install -U numpy==1.19.5)\n"
   ]
  },
  {
   "cell_type": "code",
   "execution_count": 14,
   "id": "24f0eecb",
   "metadata": {
    "colab": {
     "base_uri": "https://localhost:8080/",
     "height": 307
    },
    "executionInfo": {
     "elapsed": 54,
     "status": "ok",
     "timestamp": 1755739502908,
     "user": {
      "displayName": "강희숙",
      "userId": "05520711596090317319"
     },
     "user_tz": -540
    },
    "id": "24f0eecb",
    "outputId": "a34889e6-2028-4174-c574-0b60fa46e86c"
   },
   "outputs": [
    {
     "name": "stderr",
     "output_type": "stream",
     "text": [
      "/usr/local/lib/python3.12/dist-packages/keras/src/layers/core/embedding.py:97: UserWarning: Argument `input_length` is deprecated. Just remove it.\n",
      "  warnings.warn(\n"
     ]
    },
    {
     "data": {
      "text/html": [
       "<pre style=\"white-space:pre;overflow-x:auto;line-height:normal;font-family:Menlo,'DejaVu Sans Mono',consolas,'Courier New',monospace\"><span style=\"font-weight: bold\">Model: \"sequential\"</span>\n",
       "</pre>\n"
      ],
      "text/plain": [
       "\u001b[1mModel: \"sequential\"\u001b[0m\n"
      ]
     },
     "metadata": {},
     "output_type": "display_data"
    },
    {
     "data": {
      "text/html": [
       "<pre style=\"white-space:pre;overflow-x:auto;line-height:normal;font-family:Menlo,'DejaVu Sans Mono',consolas,'Courier New',monospace\">┏━━━━━━━━━━━━━━━━━━━━━━━━━━━━━━━━━┳━━━━━━━━━━━━━━━━━━━━━━━━┳━━━━━━━━━━━━━━━┓\n",
       "┃<span style=\"font-weight: bold\"> Layer (type)                    </span>┃<span style=\"font-weight: bold\"> Output Shape           </span>┃<span style=\"font-weight: bold\">       Param # </span>┃\n",
       "┡━━━━━━━━━━━━━━━━━━━━━━━━━━━━━━━━━╇━━━━━━━━━━━━━━━━━━━━━━━━╇━━━━━━━━━━━━━━━┩\n",
       "│ embedding (<span style=\"color: #0087ff; text-decoration-color: #0087ff\">Embedding</span>)           │ ?                      │   <span style=\"color: #00af00; text-decoration-color: #00af00\">0</span> (unbuilt) │\n",
       "├─────────────────────────────────┼────────────────────────┼───────────────┤\n",
       "│ dropout (<span style=\"color: #0087ff; text-decoration-color: #0087ff\">Dropout</span>)               │ ?                      │             <span style=\"color: #00af00; text-decoration-color: #00af00\">0</span> │\n",
       "├─────────────────────────────────┼────────────────────────┼───────────────┤\n",
       "│ simple_rnn (<span style=\"color: #0087ff; text-decoration-color: #0087ff\">SimpleRNN</span>)          │ ?                      │   <span style=\"color: #00af00; text-decoration-color: #00af00\">0</span> (unbuilt) │\n",
       "├─────────────────────────────────┼────────────────────────┼───────────────┤\n",
       "│ dense (<span style=\"color: #0087ff; text-decoration-color: #0087ff\">Dense</span>)                   │ ?                      │   <span style=\"color: #00af00; text-decoration-color: #00af00\">0</span> (unbuilt) │\n",
       "└─────────────────────────────────┴────────────────────────┴───────────────┘\n",
       "</pre>\n"
      ],
      "text/plain": [
       "┏━━━━━━━━━━━━━━━━━━━━━━━━━━━━━━━━━┳━━━━━━━━━━━━━━━━━━━━━━━━┳━━━━━━━━━━━━━━━┓\n",
       "┃\u001b[1m \u001b[0m\u001b[1mLayer (type)                   \u001b[0m\u001b[1m \u001b[0m┃\u001b[1m \u001b[0m\u001b[1mOutput Shape          \u001b[0m\u001b[1m \u001b[0m┃\u001b[1m \u001b[0m\u001b[1m      Param #\u001b[0m\u001b[1m \u001b[0m┃\n",
       "┡━━━━━━━━━━━━━━━━━━━━━━━━━━━━━━━━━╇━━━━━━━━━━━━━━━━━━━━━━━━╇━━━━━━━━━━━━━━━┩\n",
       "│ embedding (\u001b[38;5;33mEmbedding\u001b[0m)           │ ?                      │   \u001b[38;5;34m0\u001b[0m (unbuilt) │\n",
       "├─────────────────────────────────┼────────────────────────┼───────────────┤\n",
       "│ dropout (\u001b[38;5;33mDropout\u001b[0m)               │ ?                      │             \u001b[38;5;34m0\u001b[0m │\n",
       "├─────────────────────────────────┼────────────────────────┼───────────────┤\n",
       "│ simple_rnn (\u001b[38;5;33mSimpleRNN\u001b[0m)          │ ?                      │   \u001b[38;5;34m0\u001b[0m (unbuilt) │\n",
       "├─────────────────────────────────┼────────────────────────┼───────────────┤\n",
       "│ dense (\u001b[38;5;33mDense\u001b[0m)                   │ ?                      │   \u001b[38;5;34m0\u001b[0m (unbuilt) │\n",
       "└─────────────────────────────────┴────────────────────────┴───────────────┘\n"
      ]
     },
     "metadata": {},
     "output_type": "display_data"
    },
    {
     "data": {
      "text/html": [
       "<pre style=\"white-space:pre;overflow-x:auto;line-height:normal;font-family:Menlo,'DejaVu Sans Mono',consolas,'Courier New',monospace\"><span style=\"font-weight: bold\"> Total params: </span><span style=\"color: #00af00; text-decoration-color: #00af00\">0</span> (0.00 B)\n",
       "</pre>\n"
      ],
      "text/plain": [
       "\u001b[1m Total params: \u001b[0m\u001b[38;5;34m0\u001b[0m (0.00 B)\n"
      ]
     },
     "metadata": {},
     "output_type": "display_data"
    },
    {
     "data": {
      "text/html": [
       "<pre style=\"white-space:pre;overflow-x:auto;line-height:normal;font-family:Menlo,'DejaVu Sans Mono',consolas,'Courier New',monospace\"><span style=\"font-weight: bold\"> Trainable params: </span><span style=\"color: #00af00; text-decoration-color: #00af00\">0</span> (0.00 B)\n",
       "</pre>\n"
      ],
      "text/plain": [
       "\u001b[1m Trainable params: \u001b[0m\u001b[38;5;34m0\u001b[0m (0.00 B)\n"
      ]
     },
     "metadata": {},
     "output_type": "display_data"
    },
    {
     "data": {
      "text/html": [
       "<pre style=\"white-space:pre;overflow-x:auto;line-height:normal;font-family:Menlo,'DejaVu Sans Mono',consolas,'Courier New',monospace\"><span style=\"font-weight: bold\"> Non-trainable params: </span><span style=\"color: #00af00; text-decoration-color: #00af00\">0</span> (0.00 B)\n",
       "</pre>\n"
      ],
      "text/plain": [
       "\u001b[1m Non-trainable params: \u001b[0m\u001b[38;5;34m0\u001b[0m (0.00 B)\n"
      ]
     },
     "metadata": {},
     "output_type": "display_data"
    }
   ],
   "source": [
    "# 15. RNN 기반 텍스트 생성 모델 정의 -\n",
    "model = Sequential()\n",
    "...  # ... code here  # 임베딩층: 각 단어를 6차원 벡터로 변환 (input_length 제거)\n",
    "...  # ... code here # 30% 드롭아웃 추가 (과적합 방지)\n",
    "...  # ... code here  # RNN층: 8개의 은닉 유닛\n",
    "...  # ... code here  # 출력층: 각 단어의 확률 분포 계산\n",
    "\n",
    "model.summary()"
   ]
  },
  {
   "cell_type": "code",
   "execution_count": 15,
   "id": "cb4ff0ee",
   "metadata": {
    "colab": {
     "base_uri": "https://localhost:8080/"
    },
    "executionInfo": {
     "elapsed": 15485,
     "status": "ok",
     "timestamp": 1755739519279,
     "user": {
      "displayName": "강희숙",
      "userId": "05520711596090317319"
     },
     "user_tz": -540
    },
    "id": "cb4ff0ee",
    "outputId": "7fdc7cfc-baa7-477e-91e4-5f8078b7b9d7"
   },
   "outputs": [
    {
     "name": "stdout",
     "output_type": "stream",
     "text": [
      "Epoch 1/200\n",
      "1/1 - 2s - 2s/step - accuracy: 0.0000e+00 - loss: 2.4974\n",
      "Epoch 2/200\n",
      "1/1 - 0s - 100ms/step - accuracy: 0.0909 - loss: 2.4740\n",
      "Epoch 3/200\n",
      "1/1 - 0s - 75ms/step - accuracy: 0.0909 - loss: 2.4909\n",
      "Epoch 4/200\n",
      "1/1 - 0s - 134ms/step - accuracy: 0.2727 - loss: 2.4778\n",
      "Epoch 5/200\n",
      "1/1 - 0s - 145ms/step - accuracy: 0.2727 - loss: 2.4772\n",
      "Epoch 6/200\n",
      "1/1 - 0s - 80ms/step - accuracy: 0.0909 - loss: 2.4697\n",
      "Epoch 7/200\n",
      "1/1 - 0s - 137ms/step - accuracy: 0.0000e+00 - loss: 2.4844\n",
      "Epoch 8/200\n",
      "1/1 - 0s - 68ms/step - accuracy: 0.1818 - loss: 2.4707\n",
      "Epoch 9/200\n",
      "1/1 - 0s - 141ms/step - accuracy: 0.1818 - loss: 2.4674\n",
      "Epoch 10/200\n",
      "1/1 - 0s - 140ms/step - accuracy: 0.1818 - loss: 2.4761\n",
      "Epoch 11/200\n",
      "1/1 - 0s - 91ms/step - accuracy: 0.1818 - loss: 2.4602\n",
      "Epoch 12/200\n",
      "1/1 - 0s - 126ms/step - accuracy: 0.1818 - loss: 2.4600\n",
      "Epoch 13/200\n",
      "1/1 - 0s - 136ms/step - accuracy: 0.0909 - loss: 2.4531\n",
      "Epoch 14/200\n",
      "1/1 - 0s - 143ms/step - accuracy: 0.2727 - loss: 2.4527\n",
      "Epoch 15/200\n",
      "1/1 - 0s - 72ms/step - accuracy: 0.0000e+00 - loss: 2.4627\n",
      "Epoch 16/200\n",
      "1/1 - 0s - 81ms/step - accuracy: 0.0909 - loss: 2.4516\n",
      "Epoch 17/200\n",
      "1/1 - 0s - 73ms/step - accuracy: 0.1818 - loss: 2.4480\n",
      "Epoch 18/200\n",
      "1/1 - 0s - 75ms/step - accuracy: 0.1818 - loss: 2.4381\n",
      "Epoch 19/200\n",
      "1/1 - 0s - 60ms/step - accuracy: 0.0909 - loss: 2.4632\n",
      "Epoch 20/200\n",
      "1/1 - 0s - 48ms/step - accuracy: 0.1818 - loss: 2.4374\n",
      "Epoch 21/200\n",
      "1/1 - 0s - 59ms/step - accuracy: 0.1818 - loss: 2.4403\n",
      "Epoch 22/200\n",
      "1/1 - 0s - 63ms/step - accuracy: 0.2727 - loss: 2.4247\n",
      "Epoch 23/200\n",
      "1/1 - 0s - 62ms/step - accuracy: 0.0909 - loss: 2.4388\n",
      "Epoch 24/200\n",
      "1/1 - 0s - 45ms/step - accuracy: 0.0909 - loss: 2.4528\n",
      "Epoch 25/200\n",
      "1/1 - 0s - 60ms/step - accuracy: 0.0909 - loss: 2.4250\n",
      "Epoch 26/200\n",
      "1/1 - 0s - 61ms/step - accuracy: 0.1818 - loss: 2.4255\n",
      "Epoch 27/200\n",
      "1/1 - 0s - 50ms/step - accuracy: 0.1818 - loss: 2.4269\n",
      "Epoch 28/200\n",
      "1/1 - 0s - 58ms/step - accuracy: 0.0909 - loss: 2.4203\n",
      "Epoch 29/200\n",
      "1/1 - 0s - 56ms/step - accuracy: 0.0909 - loss: 2.4311\n",
      "Epoch 30/200\n",
      "1/1 - 0s - 59ms/step - accuracy: 0.1818 - loss: 2.3992\n",
      "Epoch 31/200\n",
      "1/1 - 0s - 60ms/step - accuracy: 0.1818 - loss: 2.4014\n",
      "Epoch 32/200\n",
      "1/1 - 0s - 40ms/step - accuracy: 0.0000e+00 - loss: 2.4145\n",
      "Epoch 33/200\n",
      "1/1 - 0s - 59ms/step - accuracy: 0.0909 - loss: 2.4026\n",
      "Epoch 34/200\n",
      "1/1 - 0s - 42ms/step - accuracy: 0.1818 - loss: 2.3825\n",
      "Epoch 35/200\n",
      "1/1 - 0s - 39ms/step - accuracy: 0.0000e+00 - loss: 2.3895\n",
      "Epoch 36/200\n",
      "1/1 - 0s - 48ms/step - accuracy: 0.2727 - loss: 2.3804\n",
      "Epoch 37/200\n",
      "1/1 - 0s - 56ms/step - accuracy: 0.0909 - loss: 2.3773\n",
      "Epoch 38/200\n",
      "1/1 - 0s - 41ms/step - accuracy: 0.0909 - loss: 2.3653\n",
      "Epoch 39/200\n",
      "1/1 - 0s - 59ms/step - accuracy: 0.0909 - loss: 2.3703\n",
      "Epoch 40/200\n",
      "1/1 - 0s - 60ms/step - accuracy: 0.1818 - loss: 2.3718\n",
      "Epoch 41/200\n",
      "1/1 - 0s - 58ms/step - accuracy: 0.1818 - loss: 2.3564\n",
      "Epoch 42/200\n",
      "1/1 - 0s - 59ms/step - accuracy: 0.1818 - loss: 2.3651\n",
      "Epoch 43/200\n",
      "1/1 - 0s - 61ms/step - accuracy: 0.0909 - loss: 2.3518\n",
      "Epoch 44/200\n",
      "1/1 - 0s - 61ms/step - accuracy: 0.0000e+00 - loss: 2.3557\n",
      "Epoch 45/200\n",
      "1/1 - 0s - 43ms/step - accuracy: 0.0909 - loss: 2.3494\n",
      "Epoch 46/200\n",
      "1/1 - 0s - 43ms/step - accuracy: 0.0909 - loss: 2.3495\n",
      "Epoch 47/200\n",
      "1/1 - 0s - 60ms/step - accuracy: 0.0909 - loss: 2.3447\n",
      "Epoch 48/200\n",
      "1/1 - 0s - 40ms/step - accuracy: 0.0000e+00 - loss: 2.3354\n",
      "Epoch 49/200\n",
      "1/1 - 0s - 40ms/step - accuracy: 0.0909 - loss: 2.3269\n",
      "Epoch 50/200\n",
      "1/1 - 0s - 41ms/step - accuracy: 0.0909 - loss: 2.3310\n",
      "Epoch 51/200\n",
      "1/1 - 0s - 57ms/step - accuracy: 0.0909 - loss: 2.3065\n",
      "Epoch 52/200\n",
      "1/1 - 0s - 61ms/step - accuracy: 0.0909 - loss: 2.3238\n",
      "Epoch 53/200\n",
      "1/1 - 0s - 58ms/step - accuracy: 0.0909 - loss: 2.2983\n",
      "Epoch 54/200\n",
      "1/1 - 0s - 59ms/step - accuracy: 0.0909 - loss: 2.2937\n",
      "Epoch 55/200\n",
      "1/1 - 0s - 43ms/step - accuracy: 0.0909 - loss: 2.2893\n",
      "Epoch 56/200\n",
      "1/1 - 0s - 41ms/step - accuracy: 0.0909 - loss: 2.2953\n",
      "Epoch 57/200\n",
      "1/1 - 0s - 41ms/step - accuracy: 0.0909 - loss: 2.2900\n",
      "Epoch 58/200\n",
      "1/1 - 0s - 60ms/step - accuracy: 0.0909 - loss: 2.2488\n",
      "Epoch 59/200\n",
      "1/1 - 0s - 43ms/step - accuracy: 0.0909 - loss: 2.2930\n",
      "Epoch 60/200\n",
      "1/1 - 0s - 53ms/step - accuracy: 0.0909 - loss: 2.2666\n",
      "Epoch 61/200\n",
      "1/1 - 0s - 43ms/step - accuracy: 0.0909 - loss: 2.2534\n",
      "Epoch 62/200\n",
      "1/1 - 0s - 60ms/step - accuracy: 0.0909 - loss: 2.2473\n",
      "Epoch 63/200\n",
      "1/1 - 0s - 150ms/step - accuracy: 0.1818 - loss: 2.2369\n",
      "Epoch 64/200\n",
      "1/1 - 0s - 134ms/step - accuracy: 0.1818 - loss: 2.2286\n",
      "Epoch 65/200\n",
      "1/1 - 0s - 138ms/step - accuracy: 0.0909 - loss: 2.2318\n",
      "Epoch 66/200\n",
      "1/1 - 0s - 63ms/step - accuracy: 0.0909 - loss: 2.2286\n",
      "Epoch 67/200\n",
      "1/1 - 0s - 59ms/step - accuracy: 0.1818 - loss: 2.2343\n",
      "Epoch 68/200\n",
      "1/1 - 0s - 130ms/step - accuracy: 0.1818 - loss: 2.2064\n",
      "Epoch 69/200\n",
      "1/1 - 0s - 43ms/step - accuracy: 0.1818 - loss: 2.1853\n",
      "Epoch 70/200\n",
      "1/1 - 0s - 59ms/step - accuracy: 0.0909 - loss: 2.1978\n",
      "Epoch 71/200\n",
      "1/1 - 0s - 70ms/step - accuracy: 0.2727 - loss: 2.1856\n",
      "Epoch 72/200\n",
      "1/1 - 0s - 47ms/step - accuracy: 0.2727 - loss: 2.1832\n",
      "Epoch 73/200\n",
      "1/1 - 0s - 59ms/step - accuracy: 0.2727 - loss: 2.1706\n",
      "Epoch 74/200\n",
      "1/1 - 0s - 45ms/step - accuracy: 0.1818 - loss: 2.1783\n",
      "Epoch 75/200\n",
      "1/1 - 0s - 41ms/step - accuracy: 0.1818 - loss: 2.1621\n",
      "Epoch 76/200\n",
      "1/1 - 0s - 43ms/step - accuracy: 0.0909 - loss: 2.1276\n",
      "Epoch 77/200\n",
      "1/1 - 0s - 59ms/step - accuracy: 0.2727 - loss: 2.1454\n",
      "Epoch 78/200\n",
      "1/1 - 0s - 60ms/step - accuracy: 0.2727 - loss: 2.1339\n",
      "Epoch 79/200\n",
      "1/1 - 0s - 58ms/step - accuracy: 0.4545 - loss: 2.1196\n",
      "Epoch 80/200\n",
      "1/1 - 0s - 59ms/step - accuracy: 0.3636 - loss: 2.0931\n",
      "Epoch 81/200\n",
      "1/1 - 0s - 60ms/step - accuracy: 0.3636 - loss: 2.1195\n",
      "Epoch 82/200\n",
      "1/1 - 0s - 58ms/step - accuracy: 0.2727 - loss: 2.1278\n",
      "Epoch 83/200\n",
      "1/1 - 0s - 45ms/step - accuracy: 0.2727 - loss: 2.1018\n",
      "Epoch 84/200\n",
      "1/1 - 0s - 58ms/step - accuracy: 0.3636 - loss: 2.0536\n",
      "Epoch 85/200\n",
      "1/1 - 0s - 44ms/step - accuracy: 0.3636 - loss: 2.0763\n",
      "Epoch 86/200\n",
      "1/1 - 0s - 59ms/step - accuracy: 0.3636 - loss: 2.0844\n",
      "Epoch 87/200\n",
      "1/1 - 0s - 60ms/step - accuracy: 0.2727 - loss: 2.0726\n",
      "Epoch 88/200\n",
      "1/1 - 0s - 43ms/step - accuracy: 0.3636 - loss: 2.0427\n",
      "Epoch 89/200\n",
      "1/1 - 0s - 41ms/step - accuracy: 0.4545 - loss: 2.0246\n",
      "Epoch 90/200\n",
      "1/1 - 0s - 59ms/step - accuracy: 0.5455 - loss: 2.0229\n",
      "Epoch 91/200\n",
      "1/1 - 0s - 60ms/step - accuracy: 0.5455 - loss: 2.0268\n",
      "Epoch 92/200\n",
      "1/1 - 0s - 40ms/step - accuracy: 0.5455 - loss: 2.0377\n",
      "Epoch 93/200\n",
      "1/1 - 0s - 45ms/step - accuracy: 0.5455 - loss: 2.0181\n",
      "Epoch 94/200\n",
      "1/1 - 0s - 40ms/step - accuracy: 0.5455 - loss: 2.0108\n",
      "Epoch 95/200\n",
      "1/1 - 0s - 43ms/step - accuracy: 0.3636 - loss: 1.9858\n",
      "Epoch 96/200\n",
      "1/1 - 0s - 61ms/step - accuracy: 0.4545 - loss: 1.9919\n",
      "Epoch 97/200\n",
      "1/1 - 0s - 48ms/step - accuracy: 0.6364 - loss: 2.0002\n",
      "Epoch 98/200\n",
      "1/1 - 0s - 49ms/step - accuracy: 0.5455 - loss: 1.9684\n",
      "Epoch 99/200\n",
      "1/1 - 0s - 47ms/step - accuracy: 0.4545 - loss: 2.0064\n",
      "Epoch 100/200\n",
      "1/1 - 0s - 48ms/step - accuracy: 0.3636 - loss: 1.9705\n",
      "Epoch 101/200\n",
      "1/1 - 0s - 61ms/step - accuracy: 0.4545 - loss: 1.9639\n",
      "Epoch 102/200\n",
      "1/1 - 0s - 49ms/step - accuracy: 0.5455 - loss: 1.9748\n",
      "Epoch 103/200\n",
      "1/1 - 0s - 47ms/step - accuracy: 0.5455 - loss: 1.9283\n",
      "Epoch 104/200\n",
      "1/1 - 0s - 60ms/step - accuracy: 0.4545 - loss: 1.9181\n",
      "Epoch 105/200\n",
      "1/1 - 0s - 47ms/step - accuracy: 0.4545 - loss: 1.9757\n",
      "Epoch 106/200\n",
      "1/1 - 0s - 45ms/step - accuracy: 0.6364 - loss: 1.9052\n",
      "Epoch 107/200\n",
      "1/1 - 0s - 46ms/step - accuracy: 0.3636 - loss: 1.9397\n",
      "Epoch 108/200\n",
      "1/1 - 0s - 49ms/step - accuracy: 0.4545 - loss: 1.9347\n",
      "Epoch 109/200\n",
      "1/1 - 0s - 137ms/step - accuracy: 0.5455 - loss: 1.9097\n",
      "Epoch 110/200\n",
      "1/1 - 0s - 65ms/step - accuracy: 0.6364 - loss: 1.8834\n",
      "Epoch 111/200\n",
      "1/1 - 0s - 50ms/step - accuracy: 0.5455 - loss: 1.8492\n",
      "Epoch 112/200\n",
      "1/1 - 0s - 57ms/step - accuracy: 0.4545 - loss: 1.8782\n",
      "Epoch 113/200\n",
      "1/1 - 0s - 58ms/step - accuracy: 0.3636 - loss: 1.8973\n",
      "Epoch 114/200\n",
      "1/1 - 0s - 41ms/step - accuracy: 0.5455 - loss: 1.8417\n",
      "Epoch 115/200\n",
      "1/1 - 0s - 40ms/step - accuracy: 0.4545 - loss: 1.9343\n",
      "Epoch 116/200\n",
      "1/1 - 0s - 62ms/step - accuracy: 0.5455 - loss: 1.8276\n",
      "Epoch 117/200\n",
      "1/1 - 0s - 58ms/step - accuracy: 0.6364 - loss: 1.7907\n",
      "Epoch 118/200\n",
      "1/1 - 0s - 41ms/step - accuracy: 0.5455 - loss: 1.8482\n",
      "Epoch 119/200\n",
      "1/1 - 0s - 60ms/step - accuracy: 0.4545 - loss: 1.8714\n",
      "Epoch 120/200\n",
      "1/1 - 0s - 59ms/step - accuracy: 0.4545 - loss: 1.8644\n",
      "Epoch 121/200\n",
      "1/1 - 0s - 58ms/step - accuracy: 0.5455 - loss: 1.8494\n",
      "Epoch 122/200\n",
      "1/1 - 0s - 59ms/step - accuracy: 0.4545 - loss: 1.8219\n",
      "Epoch 123/200\n",
      "1/1 - 0s - 42ms/step - accuracy: 0.4545 - loss: 1.8300\n",
      "Epoch 124/200\n",
      "1/1 - 0s - 43ms/step - accuracy: 0.5455 - loss: 1.8503\n",
      "Epoch 125/200\n",
      "1/1 - 0s - 59ms/step - accuracy: 0.5455 - loss: 1.8188\n",
      "Epoch 126/200\n",
      "1/1 - 0s - 56ms/step - accuracy: 0.5455 - loss: 1.7967\n",
      "Epoch 127/200\n",
      "1/1 - 0s - 42ms/step - accuracy: 0.5455 - loss: 1.7672\n",
      "Epoch 128/200\n",
      "1/1 - 0s - 60ms/step - accuracy: 0.5455 - loss: 1.7605\n",
      "Epoch 129/200\n",
      "1/1 - 0s - 41ms/step - accuracy: 0.5455 - loss: 1.7603\n",
      "Epoch 130/200\n",
      "1/1 - 0s - 63ms/step - accuracy: 0.5455 - loss: 1.7985\n",
      "Epoch 131/200\n",
      "1/1 - 0s - 61ms/step - accuracy: 0.5455 - loss: 1.7351\n",
      "Epoch 132/200\n",
      "1/1 - 0s - 54ms/step - accuracy: 0.5455 - loss: 1.7487\n",
      "Epoch 133/200\n",
      "1/1 - 0s - 60ms/step - accuracy: 0.5455 - loss: 1.7599\n",
      "Epoch 134/200\n",
      "1/1 - 0s - 46ms/step - accuracy: 0.6364 - loss: 1.7408\n",
      "Epoch 135/200\n",
      "1/1 - 0s - 61ms/step - accuracy: 0.5455 - loss: 1.7165\n",
      "Epoch 136/200\n",
      "1/1 - 0s - 59ms/step - accuracy: 0.5455 - loss: 1.7233\n",
      "Epoch 137/200\n",
      "1/1 - 0s - 59ms/step - accuracy: 0.5455 - loss: 1.7366\n",
      "Epoch 138/200\n",
      "1/1 - 0s - 57ms/step - accuracy: 0.5455 - loss: 1.7067\n",
      "Epoch 139/200\n",
      "1/1 - 0s - 54ms/step - accuracy: 0.5455 - loss: 1.7057\n",
      "Epoch 140/200\n",
      "1/1 - 0s - 54ms/step - accuracy: 0.5455 - loss: 1.6654\n",
      "Epoch 141/200\n",
      "1/1 - 0s - 58ms/step - accuracy: 0.6364 - loss: 1.7356\n",
      "Epoch 142/200\n",
      "1/1 - 0s - 54ms/step - accuracy: 0.5455 - loss: 1.6372\n",
      "Epoch 143/200\n",
      "1/1 - 0s - 64ms/step - accuracy: 0.5455 - loss: 1.7104\n",
      "Epoch 144/200\n",
      "1/1 - 0s - 46ms/step - accuracy: 0.5455 - loss: 1.6594\n",
      "Epoch 145/200\n",
      "1/1 - 0s - 47ms/step - accuracy: 0.6364 - loss: 1.6425\n",
      "Epoch 146/200\n",
      "1/1 - 0s - 60ms/step - accuracy: 0.5455 - loss: 1.6920\n",
      "Epoch 147/200\n",
      "1/1 - 0s - 58ms/step - accuracy: 0.4545 - loss: 1.7358\n",
      "Epoch 148/200\n",
      "1/1 - 0s - 44ms/step - accuracy: 0.4545 - loss: 1.6767\n",
      "Epoch 149/200\n",
      "1/1 - 0s - 46ms/step - accuracy: 0.5455 - loss: 1.6762\n",
      "Epoch 150/200\n",
      "1/1 - 0s - 43ms/step - accuracy: 0.5455 - loss: 1.6659\n",
      "Epoch 151/200\n",
      "1/1 - 0s - 59ms/step - accuracy: 0.5455 - loss: 1.6203\n",
      "Epoch 152/200\n",
      "1/1 - 0s - 59ms/step - accuracy: 0.6364 - loss: 1.6344\n",
      "Epoch 153/200\n",
      "1/1 - 0s - 59ms/step - accuracy: 0.6364 - loss: 1.5567\n",
      "Epoch 154/200\n",
      "1/1 - 0s - 46ms/step - accuracy: 0.5455 - loss: 1.6408\n",
      "Epoch 155/200\n",
      "1/1 - 0s - 59ms/step - accuracy: 0.5455 - loss: 1.5985\n",
      "Epoch 156/200\n",
      "1/1 - 0s - 60ms/step - accuracy: 0.5455 - loss: 1.6379\n",
      "Epoch 157/200\n",
      "1/1 - 0s - 41ms/step - accuracy: 0.4545 - loss: 1.6133\n",
      "Epoch 158/200\n",
      "1/1 - 0s - 41ms/step - accuracy: 0.6364 - loss: 1.5385\n",
      "Epoch 159/200\n",
      "1/1 - 0s - 59ms/step - accuracy: 0.5455 - loss: 1.6320\n",
      "Epoch 160/200\n",
      "1/1 - 0s - 41ms/step - accuracy: 0.6364 - loss: 1.5460\n",
      "Epoch 161/200\n",
      "1/1 - 0s - 41ms/step - accuracy: 0.4545 - loss: 1.7016\n",
      "Epoch 162/200\n",
      "1/1 - 0s - 59ms/step - accuracy: 0.6364 - loss: 1.5893\n",
      "Epoch 163/200\n",
      "1/1 - 0s - 44ms/step - accuracy: 0.6364 - loss: 1.5777\n",
      "Epoch 164/200\n",
      "1/1 - 0s - 46ms/step - accuracy: 0.6364 - loss: 1.5694\n",
      "Epoch 165/200\n",
      "1/1 - 0s - 59ms/step - accuracy: 0.5455 - loss: 1.5859\n",
      "Epoch 166/200\n",
      "1/1 - 0s - 60ms/step - accuracy: 0.6364 - loss: 1.4931\n",
      "Epoch 167/200\n",
      "1/1 - 0s - 42ms/step - accuracy: 0.6364 - loss: 1.5196\n",
      "Epoch 168/200\n",
      "1/1 - 0s - 41ms/step - accuracy: 0.6364 - loss: 1.4942\n",
      "Epoch 169/200\n",
      "1/1 - 0s - 59ms/step - accuracy: 0.4545 - loss: 1.5912\n",
      "Epoch 170/200\n",
      "1/1 - 0s - 40ms/step - accuracy: 0.5455 - loss: 1.5213\n",
      "Epoch 171/200\n",
      "1/1 - 0s - 59ms/step - accuracy: 0.5455 - loss: 1.5630\n",
      "Epoch 172/200\n",
      "1/1 - 0s - 42ms/step - accuracy: 0.5455 - loss: 1.4992\n",
      "Epoch 173/200\n",
      "1/1 - 0s - 60ms/step - accuracy: 0.6364 - loss: 1.5222\n",
      "Epoch 174/200\n",
      "1/1 - 0s - 45ms/step - accuracy: 0.6364 - loss: 1.4965\n",
      "Epoch 175/200\n",
      "1/1 - 0s - 61ms/step - accuracy: 0.5455 - loss: 1.5547\n",
      "Epoch 176/200\n",
      "1/1 - 0s - 40ms/step - accuracy: 0.6364 - loss: 1.4994\n",
      "Epoch 177/200\n",
      "1/1 - 0s - 43ms/step - accuracy: 0.5455 - loss: 1.5113\n",
      "Epoch 178/200\n",
      "1/1 - 0s - 57ms/step - accuracy: 0.6364 - loss: 1.5341\n",
      "Epoch 179/200\n",
      "1/1 - 0s - 42ms/step - accuracy: 0.6364 - loss: 1.4614\n",
      "Epoch 180/200\n",
      "1/1 - 0s - 40ms/step - accuracy: 0.5455 - loss: 1.5071\n",
      "Epoch 181/200\n",
      "1/1 - 0s - 66ms/step - accuracy: 0.5455 - loss: 1.5178\n",
      "Epoch 182/200\n",
      "1/1 - 0s - 44ms/step - accuracy: 0.6364 - loss: 1.4835\n",
      "Epoch 183/200\n",
      "1/1 - 0s - 42ms/step - accuracy: 0.6364 - loss: 1.4486\n",
      "Epoch 184/200\n",
      "1/1 - 0s - 57ms/step - accuracy: 0.5455 - loss: 1.4832\n",
      "Epoch 185/200\n",
      "1/1 - 0s - 43ms/step - accuracy: 0.6364 - loss: 1.4382\n",
      "Epoch 186/200\n",
      "1/1 - 0s - 42ms/step - accuracy: 0.7273 - loss: 1.4363\n",
      "Epoch 187/200\n",
      "1/1 - 0s - 43ms/step - accuracy: 0.4545 - loss: 1.5404\n",
      "Epoch 188/200\n",
      "1/1 - 0s - 59ms/step - accuracy: 0.5455 - loss: 1.4284\n",
      "Epoch 189/200\n",
      "1/1 - 0s - 59ms/step - accuracy: 0.6364 - loss: 1.4211\n",
      "Epoch 190/200\n",
      "1/1 - 0s - 69ms/step - accuracy: 0.6364 - loss: 1.4434\n",
      "Epoch 191/200\n",
      "1/1 - 0s - 135ms/step - accuracy: 0.7273 - loss: 1.3897\n",
      "Epoch 192/200\n",
      "1/1 - 0s - 136ms/step - accuracy: 0.5455 - loss: 1.4807\n",
      "Epoch 193/200\n",
      "1/1 - 0s - 63ms/step - accuracy: 0.5455 - loss: 1.4512\n",
      "Epoch 194/200\n",
      "1/1 - 0s - 61ms/step - accuracy: 0.5455 - loss: 1.5073\n",
      "Epoch 195/200\n",
      "1/1 - 0s - 144ms/step - accuracy: 0.7273 - loss: 1.3753\n",
      "Epoch 196/200\n",
      "1/1 - 0s - 63ms/step - accuracy: 0.5455 - loss: 1.4048\n",
      "Epoch 197/200\n",
      "1/1 - 0s - 141ms/step - accuracy: 0.6364 - loss: 1.4104\n",
      "Epoch 198/200\n",
      "1/1 - 0s - 138ms/step - accuracy: 0.5455 - loss: 1.5333\n",
      "Epoch 199/200\n",
      "1/1 - 0s - 58ms/step - accuracy: 0.6364 - loss: 1.4033\n",
      "Epoch 200/200\n",
      "1/1 - 0s - 61ms/step - accuracy: 0.7273 - loss: 1.3780\n"
     ]
    }
   ],
   "source": [
    "# 16. 모델 컴파일 (손실함수, 옵티마이저, 평가지표 설정)\n",
    "model.compile(loss='categorical_crossentropy', optimizer='adam', metrics=['accuracy'])\n",
    "\n",
    "# 17. 모델 학습 (200 에포크)\n",
    "history = model.fit(X, y, epochs=200, verbose=2)\n",
    "\n",
    "# 조기 종료 설정 (검증 손실이 5 에포크 동안 개선되지 않으면 중단)\n",
    "# early_stopping = EarlyStopping(monitor='val_loss', patience=5, restore_best_weights=True)\n",
    "\n",
    "# # 더 적은 에포크로 학습\n",
    "# history = model.fit(X, y, epochs=50, verbose=1, validation_split=0.2,\n",
    "#                           callbacks=[early_stopping])\n"
   ]
  },
  {
   "cell_type": "code",
   "execution_count": 19,
   "id": "EH3ML_KTMiA-",
   "metadata": {
    "colab": {
     "base_uri": "https://localhost:8080/",
     "height": 476
    },
    "executionInfo": {
     "elapsed": 392,
     "status": "ok",
     "timestamp": 1755739561625,
     "user": {
      "displayName": "강희숙",
      "userId": "05520711596090317319"
     },
     "user_tz": -540
    },
    "id": "EH3ML_KTMiA-",
    "outputId": "73d87ea1-2eeb-4187-81c8-0c8992c33dc6"
   },
   "outputs": [
    {
     "data": {
      "image/png": "[encoded data removed]",
      "text/plain": [
       "<Figure size 1200x400 with 2 Axes>"
      ]
     },
     "metadata": {},
     "output_type": "display_data"
    },
    {
     "name": "stdout",
     "output_type": "stream",
     "text": [
      "\n",
      "=== 최종 모델 성능 ===\n",
      "Training Loss: 1.3780\n",
      "Training Accuracy: 0.7273\n"
     ]
    }
   ],
   "source": [
    "# 18. 학습 과정 시각화\n",
    "plt.figure(figsize=(12, 4))\n",
    "\n",
    "# 19. 손실값 그래프\n",
    "plt.subplot(1, 2, 1)\n",
    "plt.plot(history.history['loss'], label='Training Loss')\n",
    "# plt.plot(history.history['val_loss'], label='Validation Loss')\n",
    "plt.title('Model Loss')\n",
    "plt.xlabel('Epoch')\n",
    "plt.ylabel('Loss')\n",
    "plt.legend()\n",
    "\n",
    "# 20. 정확도 그래프\n",
    "plt.subplot(1, 2, 2)\n",
    "plt.plot(history.history['accuracy'], label='Training Accuracy')\n",
    "# plt.plot(history.history['val_accuracy'], label='Validation Accuracy')\n",
    "plt.title('Model Accuracy')\n",
    "plt.xlabel('Epoch')\n",
    "plt.ylabel('Accuracy')\n",
    "plt.legend()\n",
    "\n",
    "plt.tight_layout()\n",
    "plt.show()\n",
    "\n",
    "# 21. 최종 모델 성능 출력\n",
    "final_loss = history.history['loss'][-1]\n",
    "final_accuracy = history.history['accuracy'][-1]\n",
    "# final_val_loss = history.history['val_loss'][-1]\n",
    "# final_val_accuracy = history.history['val_accuracy'][-1]\n",
    "\n",
    "print(f\"\\n=== 최종 모델 성능 ===\")\n",
    "print(f\"Training Loss: {final_loss:.4f}\")\n",
    "print(f\"Training Accuracy: {final_accuracy:.4f}\")\n",
    "# print(f\"Validation Loss: {final_val_loss:.4f}\")\n",
    "# print(f\"Validation Accuracy: {final_val_accuracy:.4f}\")\n"
   ]
  },
  {
   "cell_type": "code",
   "execution_count": 20,
   "id": "d5426387-f7cd-4680-baa8-9b8208a719fa",
   "metadata": {
    "colab": {
     "base_uri": "https://localhost:8080/"
    },
    "executionInfo": {
     "elapsed": 1024,
     "status": "ok",
     "timestamp": 1755739567799,
     "user": {
      "displayName": "강희숙",
      "userId": "05520711596090317319"
     },
     "user_tz": -540
    },
    "id": "d5426387-f7cd-4680-baa8-9b8208a719fa",
    "outputId": "6d38cb3e-a959-4d4a-ccf1-70d65f825026"
   },
   "outputs": [
    {
     "name": "stdout",
     "output_type": "stream",
     "text": [
      "\n",
      "=== 텍스트 생성 평가 ===\n",
      "encoded =>  [2]\n",
      "result =>  [1]\n",
      "encoded =>  [2, 1]\n",
      "result =>  [1]\n",
      "encoded =>  [2, 1, 1]\n",
      "result =>  [1]\n",
      "encoded =>  [2, 1, 1, 1]\n",
      "result =>  [5]\n",
      "시작 단어 '경마장에': 경마장에 말이 말이 말이 있다\n",
      "encoded =>  [6]\n",
      "result =>  [1]\n",
      "encoded =>  [6, 1]\n",
      "result =>  [1]\n",
      "encoded =>  [6, 1, 1]\n",
      "result =>  [1]\n",
      "encoded =>  [6, 1, 1, 1]\n",
      "result =>  [1]\n",
      "시작 단어 '그의': 그의 말이 말이 말이 말이\n",
      "encoded =>  [8]\n",
      "result =>  [1]\n",
      "encoded =>  [8, 1]\n",
      "result =>  [1]\n",
      "encoded =>  [8, 1, 1]\n",
      "result =>  [1]\n",
      "encoded =>  [8, 1, 1, 1]\n",
      "result =>  [1]\n",
      "시작 단어 '가는': 가는 말이 말이 말이 말이\n"
     ]
    }
   ],
   "source": [
    "# 22. 텍스트 생성 함수 정의\n",
    "def sentence_generation(model, tokenizer, current_word, n):\n",
    "    \"\"\"\n",
    "    주어진 시작 단어로부터 n개의 단어를 예측하여 문장 생성\n",
    "    \"\"\"\n",
    "    init_word = current_word  # 초기 단어 저장\n",
    "    sentence = ''\n",
    "\n",
    "    # 23. n번 반복하여 다음 단어 예측\n",
    "    for _ in range(n):\n",
    "        # 24. 현재 단어를 정수 인덱스로 변환\n",
    "        encoded = tokenizer.texts_to_sequences([current_word])[0]\n",
    "        print(\"encoded => \", encoded)\n",
    "\n",
    "        # 25. 모델 입력 형태에 맞게 패딩\n",
    "        encoded = pad_sequences([encoded], maxlen=max_len-1, padding='pre')\n",
    "\n",
    "        # 26. 다음 단어 확률 예측\n",
    "        result = model.predict(encoded, verbose=0)\n",
    "\n",
    "        # 27. 가장 높은 확률의 단어 인덱스 선택\n",
    "        result = np.argmax(result, axis=-1)\n",
    "        print(\"result => \", result)\n",
    "\n",
    "        # 28. 인덱스를 단어로 변환\n",
    "        for word, index in tokenizer.word_index.items():\n",
    "            if index == result:\n",
    "                break\n",
    "\n",
    "        # 29. 현재 단어 업데이트 및 문장에 추가\n",
    "        current_word = current_word + ' '  + word\n",
    "        sentence = sentence + ' ' + word\n",
    "\n",
    "    # 30. 초기 단어와 생성된 문장 결합\n",
    "    sentence = init_word + sentence\n",
    "    return sentence\n",
    "\n",
    "# 31. 다양한 시작 단어로 텍스트 생성 테스트\n",
    "print(f\"\\n=== 텍스트 생성 평가 ===\")\n",
    "test_words = ['경마장에', '그의', '가는']\n",
    "for start_word in test_words:\n",
    "    if start_word in tokenizer.word_index:\n",
    "        generated = sentence_generation(model, tokenizer, start_word, 4)\n",
    "        print(f\"시작 단어 '{start_word}': {generated}\")\n",
    "    else:\n",
    "        print(f\"시작 단어 '{start_word}'는 어휘 사전에 없습니다.\")"
   ]
  },
  {
   "cell_type": "code",
   "execution_count": 21,
   "id": "98dcdf16-9658-4841-af43-a16000822657",
   "metadata": {
    "colab": {
     "base_uri": "https://localhost:8080/"
    },
    "executionInfo": {
     "elapsed": 157,
     "status": "ok",
     "timestamp": 1755739592381,
     "user": {
      "displayName": "강희숙",
      "userId": "05520711596090317319"
     },
     "user_tz": -540
    },
    "id": "98dcdf16-9658-4841-af43-a16000822657",
    "outputId": "8510012d-6f28-4289-be9a-c903bdeac659"
   },
   "outputs": [
    {
     "name": "stdout",
     "output_type": "stream",
     "text": [
      "encoded =>  [6]\n",
      "result =>  [1]\n",
      "encoded =>  [6, 1]\n",
      "result =>  [1]\n",
      "그의 말이 말이\n"
     ]
    }
   ],
   "source": [
    "print(sentence_generation(model, tokenizer, '그의', 2)) # 2번 예측"
   ]
  },
  {
   "cell_type": "code",
   "execution_count": 22,
   "id": "5716a593-2e27-4973-a967-26475323a140",
   "metadata": {
    "colab": {
     "base_uri": "https://localhost:8080/"
    },
    "executionInfo": {
     "elapsed": 368,
     "status": "ok",
     "timestamp": 1755739595588,
     "user": {
      "displayName": "강희숙",
      "userId": "05520711596090317319"
     },
     "user_tz": -540
    },
    "id": "5716a593-2e27-4973-a967-26475323a140",
    "outputId": "2546026b-fb07-410f-cddb-2ba7a4333249"
   },
   "outputs": [
    {
     "name": "stdout",
     "output_type": "stream",
     "text": [
      "encoded =>  [8]\n",
      "result =>  [1]\n",
      "encoded =>  [8, 1]\n",
      "result =>  [1]\n",
      "encoded =>  [8, 1, 1]\n",
      "result =>  [1]\n",
      "encoded =>  [8, 1, 1, 1]\n",
      "result =>  [1]\n",
      "encoded =>  [8, 1, 1, 1, 1]\n",
      "result =>  [11]\n",
      "가는 말이 말이 말이 말이 곱다\n"
     ]
    }
   ],
   "source": [
    "print(sentence_generation(model, tokenizer, '가는', 5)) # 5번 예측"
   ]
  },
  {
   "cell_type": "markdown",
   "id": "338fe042",
   "metadata": {
    "id": "338fe042"
   },
   "source": [
    "## 2.LSTM을  이용하여  텍스트  생성하기\n",
    "- 뉴스 헤드라인 코퍼스로 다음 단어 예측 LSTM 언어모델을 학습하고, 시작 단어를 주면 이어서 단어를 생성"
   ]
  },
  {
   "cell_type": "markdown",
   "id": "701012a2",
   "metadata": {
    "id": "701012a2"
   },
   "source": [
    "### 1) 데이터 로드 및  전처리\n",
    "•    파일  다운로드  링크  : https://www.kaggle.com/aashita/nyt-comments •    \n"
   ]
  },
  {
   "cell_type": "code",
   "execution_count": 24,
   "id": "c5521f9d",
   "metadata": {
    "executionInfo": {
     "elapsed": 4,
     "status": "ok",
     "timestamp": 1755739608767,
     "user": {
      "displayName": "강희숙",
      "userId": "05520711596090317319"
     },
     "user_tz": -540
    },
    "id": "c5521f9d"
   },
   "outputs": [],
   "source": [
    "# 1. 라이브러리 임포트\n",
    "import pandas as pd\n",
    "from string import punctuation\n",
    "from tensorflow.keras.preprocessing.text import Tokenizer\n",
    "from tensorflow.keras.preprocessing.sequence import pad_sequences\n",
    "import numpy as np\n",
    "from tensorflow.keras.utils import to_categorical"
   ]
  },
  {
   "cell_type": "code",
   "execution_count": 26,
   "id": "HRyLCRG-PTrS",
   "metadata": {
    "colab": {
     "base_uri": "https://localhost:8080/"
    },
    "executionInfo": {
     "elapsed": 2921,
     "status": "ok",
     "timestamp": 1755739684445,
     "user": {
      "displayName": "강희숙",
      "userId": "05520711596090317319"
     },
     "user_tz": -540
    },
    "id": "HRyLCRG-PTrS",
    "outputId": "fa85452c-fefa-4bb9-b5b3-cf8ced8492c5"
   },
   "outputs": [
    {
     "name": "stdout",
     "output_type": "stream",
     "text": [
      "Downloading...\n",
      "From: https://drive.google.com/uc?id=1J9m8J8r6PBncakj03cOGodfmza5Obmgu\n",
      "To: /content/ArticlesApril2018.csv\n",
      "\r  0% 0.00/693k [00:00<?, ?B/s]\r100% 693k/693k [00:00<00:00, 123MB/s]\n"
     ]
    }
   ],
   "source": [
    "!gdown 1J9m8J8r6PBncakj03cOGodfmza5Obmgu"
   ]
  },
  {
   "cell_type": "code",
   "execution_count": 27,
   "id": "0d44faba",
   "metadata": {
    "colab": {
     "base_uri": "https://localhost:8080/",
     "height": 643
    },
    "executionInfo": {
     "elapsed": 123,
     "status": "ok",
     "timestamp": 1755739686206,
     "user": {
      "displayName": "강희숙",
      "userId": "05520711596090317319"
     },
     "user_tz": -540
    },
    "id": "0d44faba",
    "outputId": "0a06d884-3540-42a5-d2b8-46723c6c877a"
   },
   "outputs": [
    {
     "data": {
      "application/vnd.google.colaboratory.intrinsic+json": {
       "summary": "{\n  \"name\": \"df\",\n  \"rows\": 1324,\n  \"fields\": [\n    {\n      \"column\": \"articleID\",\n      \"properties\": {\n        \"dtype\": \"string\",\n        \"num_unique_values\": 1324,\n        \"samples\": [\n          \"5ad7d983068401528a2a978d\",\n          \"5ac1f11c068401528a2a0a5c\",\n          \"5ae203e8068401528a2aae23\"\n        ],\n        \"semantic_type\": \"\",\n        \"description\": \"\"\n      }\n    },\n    {\n      \"column\": \"articleWordCount\",\n      \"properties\": {\n        \"dtype\": \"number\",\n        \"std\": 819,\n        \"min\": 53,\n        \"max\": 9887,\n        \"num_unique_values\": 934,\n        \"samples\": [\n          1472,\n          1691,\n          336\n        ],\n        \"semantic_type\": \"\",\n        \"description\": \"\"\n      }\n    },\n    {\n      \"column\": \"byline\",\n      \"properties\": {\n        \"dtype\": \"string\",\n        \"num_unique_values\": 766,\n        \"samples\": [\n          \"By ROBERTA SMITH\",\n          \"By INGER E. BURNETT-ZEIGLER\",\n          \"By SAMANTHA STARK\"\n        ],\n        \"semantic_type\": \"\",\n        \"description\": \"\"\n      }\n    },\n    {\n      \"column\": \"documentType\",\n      \"properties\": {\n        \"dtype\": \"category\",\n        \"num_unique_values\": 1,\n        \"samples\": [\n          \"article\"\n        ],\n        \"semantic_type\": \"\",\n        \"description\": \"\"\n      }\n    },\n    {\n      \"column\": \"headline\",\n      \"properties\": {\n        \"dtype\": \"string\",\n        \"num_unique_values\": 1213,\n        \"samples\": [\n          \"Cambridge Analytica and the Coming Data Bust\"\n        ],\n        \"semantic_type\": \"\",\n        \"description\": \"\"\n      }\n    },\n    {\n      \"column\": \"keywords\",\n      \"properties\": {\n        \"dtype\": \"string\",\n        \"num_unique_values\": 1168,\n        \"samples\": [\n          \"['Blockchain (Technology)', 'Computer Security', 'Privacy', 'Bitcoin (Currency)', 'Virtual Currency', 'Facebook Inc', 'Berners-Lee, Tim', 'Tusk, Bradley (1973- )']\"\n        ],\n        \"semantic_type\": \"\",\n        \"description\": \"\"\n      }\n    },\n    {\n      \"column\": \"multimedia\",\n      \"properties\": {\n        \"dtype\": \"number\",\n        \"std\": 10,\n        \"min\": 0,\n        \"max\": 68,\n        \"num_unique_values\": 19,\n        \"samples\": [\n          68\n        ],\n        \"semantic_type\": \"\",\n        \"description\": \"\"\n      }\n    },\n    {\n      \"column\": \"newDesk\",\n      \"properties\": {\n        \"dtype\": \"category\",\n        \"num_unique_values\": 39,\n        \"samples\": [\n          \"Obits\"\n        ],\n        \"semantic_type\": \"\",\n        \"description\": \"\"\n      }\n    },\n    {\n      \"column\": \"printPage\",\n      \"properties\": {\n        \"dtype\": \"number\",\n        \"std\": 9,\n        \"min\": 0,\n        \"max\": 109,\n        \"num_unique_values\": 42,\n        \"samples\": [\n          8\n        ],\n        \"semantic_type\": \"\",\n        \"description\": \"\"\n      }\n    },\n    {\n      \"column\": \"pubDate\",\n      \"properties\": {\n        \"dtype\": \"object\",\n        \"num_unique_values\": 1228,\n        \"samples\": [\n          \"2018-04-02 09:00:01\"\n        ],\n        \"semantic_type\": \"\",\n        \"description\": \"\"\n      }\n    },\n    {\n      \"column\": \"sectionName\",\n      \"properties\": {\n        \"dtype\": \"category\",\n        \"num_unique_values\": 36,\n        \"samples\": [\n          \"Soccer\"\n        ],\n        \"semantic_type\": \"\",\n        \"description\": \"\"\n      }\n    },\n    {\n      \"column\": \"snippet\",\n      \"properties\": {\n        \"dtype\": \"string\",\n        \"num_unique_values\": 1314,\n        \"samples\": [\n          \"Why decent societies let families defy the system to take care of their own.\"\n        ],\n        \"semantic_type\": \"\",\n        \"description\": \"\"\n      }\n    },\n    {\n      \"column\": \"source\",\n      \"properties\": {\n        \"dtype\": \"category\",\n        \"num_unique_values\": 2,\n        \"samples\": [\n          \"International New York Times\"\n        ],\n        \"semantic_type\": \"\",\n        \"description\": \"\"\n      }\n    },\n    {\n      \"column\": \"typeOfMaterial\",\n      \"properties\": {\n        \"dtype\": \"category\",\n        \"num_unique_values\": 8,\n        \"samples\": [\n          \"briefing\"\n        ],\n        \"semantic_type\": \"\",\n        \"description\": \"\"\n      }\n    },\n    {\n      \"column\": \"webURL\",\n      \"properties\": {\n        \"dtype\": \"string\",\n        \"num_unique_values\": 1324,\n        \"samples\": [\n          \"https://www.nytimes.com/2018/04/18/opinion/cynthia-nixon-cuomo-primary.html\"\n        ],\n        \"semantic_type\": \"\",\n        \"description\": \"\"\n      }\n    }\n  ]\n}",
       "type": "dataframe",
       "variable_name": "df"
      },
      "text/html": [
       "\n",
       "  <div id=\"df-0c1bdcd0-7071-428c-9173-f4b3d6963f23\" class=\"colab-df-container\">\n",
       "    <div>\n",
       "<style scoped>\n",
       "    .dataframe tbody tr th:only-of-type {\n",
       "        vertical-align: middle;\n",
       "    }\n",
       "\n",
       "    .dataframe tbody tr th {\n",
       "        vertical-align: top;\n",
       "    }\n",
       "\n",
       "    .dataframe thead th {\n",
       "        text-align: right;\n",
       "    }\n",
       "</style>\n",
       "<table border=\"1\" class=\"dataframe\">\n",
       "  <thead>\n",
       "    <tr style=\"text-align: right;\">\n",
       "      <th></th>\n",
       "      <th>articleID</th>\n",
       "      <th>articleWordCount</th>\n",
       "      <th>byline</th>\n",
       "      <th>documentType</th>\n",
       "      <th>headline</th>\n",
       "      <th>keywords</th>\n",
       "      <th>multimedia</th>\n",
       "      <th>newDesk</th>\n",
       "      <th>printPage</th>\n",
       "      <th>pubDate</th>\n",
       "      <th>sectionName</th>\n",
       "      <th>snippet</th>\n",
       "      <th>source</th>\n",
       "      <th>typeOfMaterial</th>\n",
       "      <th>webURL</th>\n",
       "    </tr>\n",
       "  </thead>\n",
       "  <tbody>\n",
       "    <tr>\n",
       "      <th>0</th>\n",
       "      <td>5adf6684068401528a2aa69b</td>\n",
       "      <td>781</td>\n",
       "      <td>By JOHN BRANCH</td>\n",
       "      <td>article</td>\n",
       "      <td>Former N.F.L. Cheerleaders’ Settlement Offer: ...</td>\n",
       "      <td>['Workplace Hazards and Violations', 'Football...</td>\n",
       "      <td>68</td>\n",
       "      <td>Sports</td>\n",
       "      <td>0</td>\n",
       "      <td>2018-04-24 17:16:49</td>\n",
       "      <td>Pro Football</td>\n",
       "      <td>“I understand that they could meet with us, pa...</td>\n",
       "      <td>The New York Times</td>\n",
       "      <td>News</td>\n",
       "      <td>https://www.nytimes.com/2018/04/24/sports/foot...</td>\n",
       "    </tr>\n",
       "    <tr>\n",
       "      <th>1</th>\n",
       "      <td>5adf653f068401528a2aa697</td>\n",
       "      <td>656</td>\n",
       "      <td>By LISA FRIEDMAN</td>\n",
       "      <td>article</td>\n",
       "      <td>E.P.A. to Unveil a New Rule. Its Effect: Less ...</td>\n",
       "      <td>['Environmental Protection Agency', 'Pruitt, S...</td>\n",
       "      <td>68</td>\n",
       "      <td>Climate</td>\n",
       "      <td>0</td>\n",
       "      <td>2018-04-24 17:11:21</td>\n",
       "      <td>Unknown</td>\n",
       "      <td>The agency plans to publish a new regulation T...</td>\n",
       "      <td>The New York Times</td>\n",
       "      <td>News</td>\n",
       "      <td>https://www.nytimes.com/2018/04/24/climate/epa...</td>\n",
       "    </tr>\n",
       "    <tr>\n",
       "      <th>2</th>\n",
       "      <td>5adf4626068401528a2aa628</td>\n",
       "      <td>2427</td>\n",
       "      <td>By PETE WELLS</td>\n",
       "      <td>article</td>\n",
       "      <td>The New Noma, Explained</td>\n",
       "      <td>['Restaurants', 'Noma (Copenhagen, Restaurant)...</td>\n",
       "      <td>66</td>\n",
       "      <td>Dining</td>\n",
       "      <td>0</td>\n",
       "      <td>2018-04-24 14:58:44</td>\n",
       "      <td>Unknown</td>\n",
       "      <td>What’s it like to eat at the second incarnatio...</td>\n",
       "      <td>The New York Times</td>\n",
       "      <td>News</td>\n",
       "      <td>https://www.nytimes.com/2018/04/24/dining/noma...</td>\n",
       "    </tr>\n",
       "    <tr>\n",
       "      <th>3</th>\n",
       "      <td>5adf40d2068401528a2aa619</td>\n",
       "      <td>626</td>\n",
       "      <td>By JULIE HIRSCHFELD DAVIS and PETER BAKER</td>\n",
       "      <td>article</td>\n",
       "      <td>Unknown</td>\n",
       "      <td>['Macron, Emmanuel (1977- )', 'Trump, Donald J...</td>\n",
       "      <td>68</td>\n",
       "      <td>Washington</td>\n",
       "      <td>0</td>\n",
       "      <td>2018-04-24 14:35:57</td>\n",
       "      <td>Europe</td>\n",
       "      <td>President Trump welcomed President Emmanuel Ma...</td>\n",
       "      <td>The New York Times</td>\n",
       "      <td>News</td>\n",
       "      <td>https://www.nytimes.com/2018/04/24/world/europ...</td>\n",
       "    </tr>\n",
       "    <tr>\n",
       "      <th>4</th>\n",
       "      <td>5adf3d64068401528a2aa60f</td>\n",
       "      <td>815</td>\n",
       "      <td>By IAN AUSTEN and DAN BILEFSKY</td>\n",
       "      <td>article</td>\n",
       "      <td>Unknown</td>\n",
       "      <td>['Toronto, Ontario, Attack (April, 2018)', 'Mu...</td>\n",
       "      <td>68</td>\n",
       "      <td>Foreign</td>\n",
       "      <td>0</td>\n",
       "      <td>2018-04-24 14:21:21</td>\n",
       "      <td>Canada</td>\n",
       "      <td>Alek Minassian, 25, a resident of Toronto’s Ri...</td>\n",
       "      <td>The New York Times</td>\n",
       "      <td>News</td>\n",
       "      <td>https://www.nytimes.com/2018/04/24/world/canad...</td>\n",
       "    </tr>\n",
       "  </tbody>\n",
       "</table>\n",
       "</div>\n",
       "    <div class=\"colab-df-buttons\">\n",
       "\n",
       "  <div class=\"colab-df-container\">\n",
       "    <button class=\"colab-df-convert\" onclick=\"convertToInteractive('df-0c1bdcd0-7071-428c-9173-f4b3d6963f23')\"\n",
       "            title=\"Convert this dataframe to an interactive table.\"\n",
       "            style=\"display:none;\">\n",
       "\n",
       "  <svg xmlns=\"http://www.w3.org/2000/svg\" height=\"24px\" viewBox=\"0 -960 960 960\">\n",
       "    <path d=\"M120-120v-720h720v720H120Zm60-500h600v-160H180v160Zm220 220h160v-160H400v160Zm0 220h160v-160H400v160ZM180-400h160v-160H180v160Zm440 0h160v-160H620v160ZM180-180h160v-160H180v160Zm440 0h160v-160H620v160Z\"/>\n",
       "  </svg>\n",
       "    </button>\n",
       "\n",
       "  <style>\n",
       "    .colab-df-container {\n",
       "      display:flex;\n",
       "      gap: 12px;\n",
       "    }\n",
       "\n",
       "    .colab-df-convert {\n",
       "      background-color: #E8F0FE;\n",
       "      border: none;\n",
       "      border-radius: 50%;\n",
       "      cursor: pointer;\n",
       "      display: none;\n",
       "      fill: #1967D2;\n",
       "      height: 32px;\n",
       "      padding: 0 0 0 0;\n",
       "      width: 32px;\n",
       "    }\n",
       "\n",
       "    .colab-df-convert:hover {\n",
       "      background-color: #E2EBFA;\n",
       "      box-shadow: 0px 1px 2px rgba(60, 64, 67, 0.3), 0px 1px 3px 1px rgba(60, 64, 67, 0.15);\n",
       "      fill: #174EA6;\n",
       "    }\n",
       "\n",
       "    .colab-df-buttons div {\n",
       "      margin-bottom: 4px;\n",
       "    }\n",
       "\n",
       "    [theme=dark] .colab-df-convert {\n",
       "      background-color: #3B4455;\n",
       "      fill: #D2E3FC;\n",
       "    }\n",
       "\n",
       "    [theme=dark] .colab-df-convert:hover {\n",
       "      background-color: #434B5C;\n",
       "      box-shadow: 0px 1px 3px 1px rgba(0, 0, 0, 0.15);\n",
       "      filter: drop-shadow(0px 1px 2px rgba(0, 0, 0, 0.3));\n",
       "      fill: #FFFFFF;\n",
       "    }\n",
       "  </style>\n",
       "\n",
       "    <script>\n",
       "      const buttonEl =\n",
       "        document.querySelector('#df-0c1bdcd0-7071-428c-9173-f4b3d6963f23 button.colab-df-convert');\n",
       "      buttonEl.style.display =\n",
       "        google.colab.kernel.accessAllowed ? 'block' : 'none';\n",
       "\n",
       "      async function convertToInteractive(key) {\n",
       "        const element = document.querySelector('#df-0c1bdcd0-7071-428c-9173-f4b3d6963f23');\n",
       "        const dataTable =\n",
       "          await google.colab.kernel.invokeFunction('convertToInteractive',\n",
       "                                                    [key], {});\n",
       "        if (!dataTable) return;\n",
       "\n",
       "        const docLinkHtml = 'Like what you see? Visit the ' +\n",
       "          '<a target=\"_blank\" href=https://colab.research.google.com/notebooks/data_table.ipynb>data table notebook</a>'\n",
       "          + ' to learn more about interactive tables.';\n",
       "        element.innerHTML = '';\n",
       "        dataTable['output_type'] = 'display_data';\n",
       "        await google.colab.output.renderOutput(dataTable, element);\n",
       "        const docLink = document.createElement('div');\n",
       "        docLink.innerHTML = docLinkHtml;\n",
       "        element.appendChild(docLink);\n",
       "      }\n",
       "    </script>\n",
       "  </div>\n",
       "\n",
       "\n",
       "    <div id=\"df-1b25f00a-6f29-4e1a-bedd-785c3e411566\">\n",
       "      <button class=\"colab-df-quickchart\" onclick=\"quickchart('df-1b25f00a-6f29-4e1a-bedd-785c3e411566')\"\n",
       "                title=\"Suggest charts\"\n",
       "                style=\"display:none;\">\n",
       "\n",
       "<svg xmlns=\"http://www.w3.org/2000/svg\" height=\"24px\"viewBox=\"0 0 24 24\"\n",
       "     width=\"24px\">\n",
       "    <g>\n",
       "        <path d=\"M19 3H5c-1.1 0-2 .9-2 2v14c0 1.1.9 2 2 2h14c1.1 0 2-.9 2-2V5c0-1.1-.9-2-2-2zM9 17H7v-7h2v7zm4 0h-2V7h2v10zm4 0h-2v-4h2v4z\"/>\n",
       "    </g>\n",
       "</svg>\n",
       "      </button>\n",
       "\n",
       "<style>\n",
       "  .colab-df-quickchart {\n",
       "      --bg-color: #E8F0FE;\n",
       "      --fill-color: #1967D2;\n",
       "      --hover-bg-color: #E2EBFA;\n",
       "      --hover-fill-color: #174EA6;\n",
       "      --disabled-fill-color: #AAA;\n",
       "      --disabled-bg-color: #DDD;\n",
       "  }\n",
       "\n",
       "  [theme=dark] .colab-df-quickchart {\n",
       "      --bg-color: #3B4455;\n",
       "      --fill-color: #D2E3FC;\n",
       "      --hover-bg-color: #434B5C;\n",
       "      --hover-fill-color: #FFFFFF;\n",
       "      --disabled-bg-color: #3B4455;\n",
       "      --disabled-fill-color: #666;\n",
       "  }\n",
       "\n",
       "  .colab-df-quickchart {\n",
       "    background-color: var(--bg-color);\n",
       "    border: none;\n",
       "    border-radius: 50%;\n",
       "    cursor: pointer;\n",
       "    display: none;\n",
       "    fill: var(--fill-color);\n",
       "    height: 32px;\n",
       "    padding: 0;\n",
       "    width: 32px;\n",
       "  }\n",
       "\n",
       "  .colab-df-quickchart:hover {\n",
       "    background-color: var(--hover-bg-color);\n",
       "    box-shadow: 0 1px 2px rgba(60, 64, 67, 0.3), 0 1px 3px 1px rgba(60, 64, 67, 0.15);\n",
       "    fill: var(--button-hover-fill-color);\n",
       "  }\n",
       "\n",
       "  .colab-df-quickchart-complete:disabled,\n",
       "  .colab-df-quickchart-complete:disabled:hover {\n",
       "    background-color: var(--disabled-bg-color);\n",
       "    fill: var(--disabled-fill-color);\n",
       "    box-shadow: none;\n",
       "  }\n",
       "\n",
       "  .colab-df-spinner {\n",
       "    border: 2px solid var(--fill-color);\n",
       "    border-color: transparent;\n",
       "    border-bottom-color: var(--fill-color);\n",
       "    animation:\n",
       "      spin 1s steps(1) infinite;\n",
       "  }\n",
       "\n",
       "  @keyframes spin {\n",
       "    0% {\n",
       "      border-color: transparent;\n",
       "      border-bottom-color: var(--fill-color);\n",
       "      border-left-color: var(--fill-color);\n",
       "    }\n",
       "    20% {\n",
       "      border-color: transparent;\n",
       "      border-left-color: var(--fill-color);\n",
       "      border-top-color: var(--fill-color);\n",
       "    }\n",
       "    30% {\n",
       "      border-color: transparent;\n",
       "      border-left-color: var(--fill-color);\n",
       "      border-top-color: var(--fill-color);\n",
       "      border-right-color: var(--fill-color);\n",
       "    }\n",
       "    40% {\n",
       "      border-color: transparent;\n",
       "      border-right-color: var(--fill-color);\n",
       "      border-top-color: var(--fill-color);\n",
       "    }\n",
       "    60% {\n",
       "      border-color: transparent;\n",
       "      border-right-color: var(--fill-color);\n",
       "    }\n",
       "    80% {\n",
       "      border-color: transparent;\n",
       "      border-right-color: var(--fill-color);\n",
       "      border-bottom-color: var(--fill-color);\n",
       "    }\n",
       "    90% {\n",
       "      border-color: transparent;\n",
       "      border-bottom-color: var(--fill-color);\n",
       "    }\n",
       "  }\n",
       "</style>\n",
       "\n",
       "      <script>\n",
       "        async function quickchart(key) {\n",
       "          const quickchartButtonEl =\n",
       "            document.querySelector('#' + key + ' button');\n",
       "          quickchartButtonEl.disabled = true;  // To prevent multiple clicks.\n",
       "          quickchartButtonEl.classList.add('colab-df-spinner');\n",
       "          try {\n",
       "            const charts = await google.colab.kernel.invokeFunction(\n",
       "                'suggestCharts', [key], {});\n",
       "          } catch (error) {\n",
       "            console.error('Error during call to suggestCharts:', error);\n",
       "          }\n",
       "          quickchartButtonEl.classList.remove('colab-df-spinner');\n",
       "          quickchartButtonEl.classList.add('colab-df-quickchart-complete');\n",
       "        }\n",
       "        (() => {\n",
       "          let quickchartButtonEl =\n",
       "            document.querySelector('#df-1b25f00a-6f29-4e1a-bedd-785c3e411566 button');\n",
       "          quickchartButtonEl.style.display =\n",
       "            google.colab.kernel.accessAllowed ? 'block' : 'none';\n",
       "        })();\n",
       "      </script>\n",
       "    </div>\n",
       "\n",
       "    </div>\n",
       "  </div>\n"
      ],
      "text/plain": [
       "                  articleID  articleWordCount  \\\n",
       "0  5adf6684068401528a2aa69b               781   \n",
       "1  5adf653f068401528a2aa697               656   \n",
       "2  5adf4626068401528a2aa628              2427   \n",
       "3  5adf40d2068401528a2aa619               626   \n",
       "4  5adf3d64068401528a2aa60f               815   \n",
       "\n",
       "                                      byline documentType  \\\n",
       "0                             By JOHN BRANCH      article   \n",
       "1                           By LISA FRIEDMAN      article   \n",
       "2                              By PETE WELLS      article   \n",
       "3  By JULIE HIRSCHFELD DAVIS and PETER BAKER      article   \n",
       "4             By IAN AUSTEN and DAN BILEFSKY      article   \n",
       "\n",
       "                                            headline  \\\n",
       "0  Former N.F.L. Cheerleaders’ Settlement Offer: ...   \n",
       "1  E.P.A. to Unveil a New Rule. Its Effect: Less ...   \n",
       "2                            The New Noma, Explained   \n",
       "3                                            Unknown   \n",
       "4                                            Unknown   \n",
       "\n",
       "                                            keywords  multimedia     newDesk  \\\n",
       "0  ['Workplace Hazards and Violations', 'Football...          68      Sports   \n",
       "1  ['Environmental Protection Agency', 'Pruitt, S...          68     Climate   \n",
       "2  ['Restaurants', 'Noma (Copenhagen, Restaurant)...          66      Dining   \n",
       "3  ['Macron, Emmanuel (1977- )', 'Trump, Donald J...          68  Washington   \n",
       "4  ['Toronto, Ontario, Attack (April, 2018)', 'Mu...          68     Foreign   \n",
       "\n",
       "   printPage              pubDate   sectionName  \\\n",
       "0          0  2018-04-24 17:16:49  Pro Football   \n",
       "1          0  2018-04-24 17:11:21       Unknown   \n",
       "2          0  2018-04-24 14:58:44       Unknown   \n",
       "3          0  2018-04-24 14:35:57        Europe   \n",
       "4          0  2018-04-24 14:21:21        Canada   \n",
       "\n",
       "                                             snippet              source  \\\n",
       "0  “I understand that they could meet with us, pa...  The New York Times   \n",
       "1  The agency plans to publish a new regulation T...  The New York Times   \n",
       "2  What’s it like to eat at the second incarnatio...  The New York Times   \n",
       "3  President Trump welcomed President Emmanuel Ma...  The New York Times   \n",
       "4  Alek Minassian, 25, a resident of Toronto’s Ri...  The New York Times   \n",
       "\n",
       "  typeOfMaterial                                             webURL  \n",
       "0           News  https://www.nytimes.com/2018/04/24/sports/foot...  \n",
       "1           News  https://www.nytimes.com/2018/04/24/climate/epa...  \n",
       "2           News  https://www.nytimes.com/2018/04/24/dining/noma...  \n",
       "3           News  https://www.nytimes.com/2018/04/24/world/europ...  \n",
       "4           News  https://www.nytimes.com/2018/04/24/world/canad...  "
      ]
     },
     "execution_count": 27,
     "metadata": {},
     "output_type": "execute_result"
    }
   ],
   "source": [
    "# 2. 데이터 로드 및 헤드라인 추출\n",
    "#    - CSV 파일에서 headline 컬럼만 리스트로 수집\n",
    "#    - \"Unknown\" 항목 제거\n",
    "df = pd.read_csv('ArticlesApril2018.csv') # 데이터  로드\n",
    "df.head()"
   ]
  },
  {
   "cell_type": "code",
   "execution_count": 29,
   "id": "14d515ba",
   "metadata": {
    "colab": {
     "base_uri": "https://localhost:8080/"
    },
    "executionInfo": {
     "elapsed": 10,
     "status": "ok",
     "timestamp": 1755739692449,
     "user": {
      "displayName": "강희숙",
      "userId": "05520711596090317319"
     },
     "user_tz": -540
    },
    "id": "14d515ba",
    "outputId": "979faf62-856d-46e6-b674-c985c4771ca5"
   },
   "outputs": [
    {
     "name": "stdout",
     "output_type": "stream",
     "text": [
      "열의  개수:  15\n",
      "Index(['articleID', 'articleWordCount', 'byline', 'documentType', 'headline',\n",
      "       'keywords', 'multimedia', 'newDesk', 'printPage', 'pubDate',\n",
      "       'sectionName', 'snippet', 'source', 'typeOfMaterial', 'webURL'],\n",
      "      dtype='object')\n"
     ]
    }
   ],
   "source": [
    "print('열의  개수: ',len(df.columns))\n",
    "print(df.columns)"
   ]
  },
  {
   "cell_type": "code",
   "execution_count": 30,
   "id": "e483de74",
   "metadata": {
    "colab": {
     "base_uri": "https://localhost:8080/"
    },
    "executionInfo": {
     "elapsed": 28,
     "status": "ok",
     "timestamp": 1755739692479,
     "user": {
      "displayName": "강희숙",
      "userId": "05520711596090317319"
     },
     "user_tz": -540
    },
    "id": "e483de74",
    "outputId": "ccd80dc1-a241-430d-ae32-82a8e42ed9c1"
   },
   "outputs": [
    {
     "data": {
      "text/plain": [
       "np.False_"
      ]
     },
     "execution_count": 30,
     "metadata": {},
     "output_type": "execute_result"
    }
   ],
   "source": [
    "df['headline'].isnull().values.any() #null이 하나도 없으면 false"
   ]
  },
  {
   "cell_type": "code",
   "execution_count": 31,
   "id": "a823a3b0",
   "metadata": {
    "colab": {
     "base_uri": "https://localhost:8080/"
    },
    "executionInfo": {
     "elapsed": 43,
     "status": "ok",
     "timestamp": 1755739692523,
     "user": {
      "displayName": "강희숙",
      "userId": "05520711596090317319"
     },
     "user_tz": -540
    },
    "id": "a823a3b0",
    "outputId": "bc89bb03-3e0b-4bb3-fd44-98aa50b0bddd"
   },
   "outputs": [
    {
     "data": {
      "text/plain": [
       "['Former N.F.L. Cheerleaders’ Settlement Offer: $1 and a Meeting With Goodell',\n",
       " 'E.P.A. to Unveil a New Rule. Its Effect: Less Science in Policymaking.',\n",
       " 'The New Noma, Explained',\n",
       " 'Unknown',\n",
       " 'Unknown']"
      ]
     },
     "execution_count": 31,
     "metadata": {},
     "output_type": "execute_result"
    }
   ],
   "source": [
    "headline = [] # 리스트  선언\n",
    "headline.extend(list(df.headline.values)) # 헤드라인의  값들을  리스트로  저장\n",
    "headline[:5] # 상위  5개만  출력"
   ]
  },
  {
   "cell_type": "code",
   "execution_count": 32,
   "id": "bb23ba67",
   "metadata": {
    "colab": {
     "base_uri": "https://localhost:8080/"
    },
    "executionInfo": {
     "elapsed": 8,
     "status": "ok",
     "timestamp": 1755739692533,
     "user": {
      "displayName": "강희숙",
      "userId": "05520711596090317319"
     },
     "user_tz": -540
    },
    "id": "bb23ba67",
    "outputId": "f1b92aae-8c36-4e27-bbd6-fc68fe6dc080"
   },
   "outputs": [
    {
     "name": "stdout",
     "output_type": "stream",
     "text": [
      "총  샘플의  개수  : 1324\n"
     ]
    }
   ],
   "source": [
    "print('총  샘플의  개수  : {}'.format(len(headline))) # 현재  샘플의  개수"
   ]
  },
  {
   "cell_type": "code",
   "execution_count": 33,
   "id": "74a9dadb",
   "metadata": {
    "colab": {
     "base_uri": "https://localhost:8080/"
    },
    "executionInfo": {
     "elapsed": 29,
     "status": "ok",
     "timestamp": 1755739692564,
     "user": {
      "displayName": "강희숙",
      "userId": "05520711596090317319"
     },
     "user_tz": -540
    },
    "id": "74a9dadb",
    "outputId": "7a9f9565-e427-499e-e40b-57412bf6de52"
   },
   "outputs": [
    {
     "name": "stdout",
     "output_type": "stream",
     "text": [
      "노이즈값  제거  후  샘플의  개수  : 1214\n"
     ]
    }
   ],
   "source": [
    "headline = [n for n in headline if n != \"Unknown\"] # Unknown(잡음) 값을  가진  샘플  제거\n",
    "print('노이즈값  제거  후  샘플의  개수  : {}'.format(len(headline))) # 제거  후  샘플의  개수"
   ]
  },
  {
   "cell_type": "code",
   "execution_count": 34,
   "id": "3a7352a0",
   "metadata": {
    "colab": {
     "base_uri": "https://localhost:8080/"
    },
    "executionInfo": {
     "elapsed": 24,
     "status": "ok",
     "timestamp": 1755739692564,
     "user": {
      "displayName": "강희숙",
      "userId": "05520711596090317319"
     },
     "user_tz": -540
    },
    "id": "3a7352a0",
    "outputId": "f7a0a6e2-3bdd-4fa7-d734-1196100b43f8"
   },
   "outputs": [
    {
     "data": {
      "text/plain": [
       "['Former N.F.L. Cheerleaders’ Settlement Offer: $1 and a Meeting With Goodell',\n",
       " 'E.P.A. to Unveil a New Rule. Its Effect: Less Science in Policymaking.',\n",
       " 'The New Noma, Explained',\n",
       " 'How a Bag of Texas Dirt  Became a Times Tradition',\n",
       " 'Is School a Place for Self-Expression?']"
      ]
     },
     "execution_count": 34,
     "metadata": {},
     "output_type": "execute_result"
    }
   ],
   "source": [
    "headline[:5] # 5개의  샘플  출력  확인"
   ]
  },
  {
   "cell_type": "code",
   "execution_count": 35,
   "id": "a90a2d00",
   "metadata": {
    "colab": {
     "base_uri": "https://localhost:8080/"
    },
    "executionInfo": {
     "elapsed": 7,
     "status": "ok",
     "timestamp": 1755739692564,
     "user": {
      "displayName": "강희숙",
      "userId": "05520711596090317319"
     },
     "user_tz": -540
    },
    "id": "a90a2d00",
    "outputId": "cc4abe37-4841-4e7c-f12b-49b28f537f17"
   },
   "outputs": [
    {
     "data": {
      "text/plain": [
       "['former nfl cheerleaders settlement offer 1 and a meeting with goodell',\n",
       " 'epa to unveil a new rule its effect less science in policymaking',\n",
       " 'the new noma explained',\n",
       " 'how a bag of texas dirt  became a times tradition',\n",
       " 'is school a place for selfexpression']"
      ]
     },
     "execution_count": 35,
     "metadata": {},
     "output_type": "execute_result"
    }
   ],
   "source": [
    "# 3. 텍스트 전처리 함수 정의\n",
    "#    - 비ASCII 문자 제거 (인코딩/디코딩)\n",
    "#    - 구두점 제거 + 소문자화\n",
    "def preprocessing(s):\n",
    "    s=s.encode(\"utf8\").decode(\"ascii\",'ignore')  # from string import punctuation 사용\n",
    "    return ''.join(c for c in s if c not in punctuation).lower() # 구두점  제거와  동시에  소문자화\n",
    "\n",
    "# 4. 전처리 적용\n",
    "text = [preprocessing(x) for x in headline]\n",
    "text[:5]"
   ]
  },
  {
   "cell_type": "code",
   "execution_count": 36,
   "id": "8e119019",
   "metadata": {
    "colab": {
     "base_uri": "https://localhost:8080/"
    },
    "executionInfo": {
     "elapsed": 9,
     "status": "ok",
     "timestamp": 1755739692571,
     "user": {
      "displayName": "강희숙",
      "userId": "05520711596090317319"
     },
     "user_tz": -540
    },
    "id": "8e119019",
    "outputId": "d30353ea-23ec-443e-fc4d-c641c1adc95d"
   },
   "outputs": [
    {
     "name": "stdout",
     "output_type": "stream",
     "text": [
      "단어  집합의  크기  : 3494\n"
     ]
    }
   ],
   "source": [
    "# 5. 토크나이저 학습 및 단어집합 크기 계산\n",
    "#    - word_index는 1부터 시작 → Embedding input_dim을 위해 +1\n",
    "\n",
    "#토크나이저 초기화 및 학습\n",
    "tokenizer = ...  # ... code here\n",
    "\n",
    "# 텍스트로부터 단어 사전 구축\n",
    "...  # ... code here\n",
    "\n",
    "# 어휘 사전 크기 계산 (패딩용 0번 인덱스 포함)\n",
    "vocab_size = ...  # ... code here\n",
    "print('단어 집합의  크기  : %d' % vocab_size)"
   ]
  },
  {
   "cell_type": "code",
   "execution_count": 37,
   "id": "1a30d4da",
   "metadata": {
    "colab": {
     "base_uri": "https://localhost:8080/"
    },
    "executionInfo": {
     "elapsed": 26,
     "status": "ok",
     "timestamp": 1755739692597,
     "user": {
      "displayName": "강희숙",
      "userId": "05520711596090317319"
     },
     "user_tz": -540
    },
    "id": "1a30d4da",
    "outputId": "57c3a3d2-b5c0-4851-abc4-954b6538d4a1"
   },
   "outputs": [
    {
     "data": {
      "text/plain": [
       "[[99, 269],\n",
       " [99, 269, 371],\n",
       " [99, 269, 371, 1115],\n",
       " [99, 269, 371, 1115, 582],\n",
       " [99, 269, 371, 1115, 582, 52],\n",
       " [99, 269, 371, 1115, 582, 52, 7],\n",
       " [99, 269, 371, 1115, 582, 52, 7, 2],\n",
       " [99, 269, 371, 1115, 582, 52, 7, 2, 372],\n",
       " [99, 269, 371, 1115, 582, 52, 7, 2, 372, 10],\n",
       " [99, 269, 371, 1115, 582, 52, 7, 2, 372, 10, 1116],\n",
       " [100, 3]]"
      ]
     },
     "execution_count": 37,
     "metadata": {},
     "output_type": "execute_result"
    }
   ],
   "source": [
    "# 6. n-gram 학습 시퀀스 생성\n",
    "#    - 각 문장에 대해 [w1, w2], [w1, w2, w3], ... 식 부분 시퀀스 누적\n",
    "\n",
    "sequences = list()\n",
    "\n",
    "for line in text:\n",
    "    encoded = ...  # ... code here # 각  샘플에  대한  정수  인코딩\n",
    "    for i in range(1, len(encoded)):\n",
    "        sequence = encoded[:i+1]\n",
    "        sequences.append(sequence)\n",
    "\n",
    "sequences[:11] # 11개의  샘플  출력"
   ]
  },
  {
   "cell_type": "code",
   "execution_count": 38,
   "id": "fa298aec",
   "metadata": {
    "colab": {
     "base_uri": "https://localhost:8080/"
    },
    "executionInfo": {
     "elapsed": 5,
     "status": "ok",
     "timestamp": 1755739692614,
     "user": {
      "displayName": "강희숙",
      "userId": "05520711596090317319"
     },
     "user_tz": -540
    },
    "id": "fa298aec",
    "outputId": "bc2c2134-8d58-42ba-9f9a-3eb8c38d548b"
   },
   "outputs": [
    {
     "data": {
      "text/plain": [
       "7803"
      ]
     },
     "execution_count": 38,
     "metadata": {},
     "output_type": "execute_result"
    }
   ],
   "source": [
    "len(sequences)"
   ]
  },
  {
   "cell_type": "code",
   "execution_count": 39,
   "id": "6ef1f7d1",
   "metadata": {
    "colab": {
     "base_uri": "https://localhost:8080/"
    },
    "executionInfo": {
     "elapsed": 34,
     "status": "ok",
     "timestamp": 1755739692649,
     "user": {
      "displayName": "강희숙",
      "userId": "05520711596090317319"
     },
     "user_tz": -540
    },
    "id": "6ef1f7d1",
    "outputId": "402e72ce-2089-4ca1-fe2a-455901a03678"
   },
   "outputs": [
    {
     "name": "stdout",
     "output_type": "stream",
     "text": [
      "빈도수  상위  582번  단어  : offer\n"
     ]
    }
   ],
   "source": [
    "index_to_word={}\n",
    "for key, value in tokenizer.word_index.items(): # 인덱스를  단어로  바꾸기  위해  index_to_word를  생성\n",
    "    index_to_word[value] = key\n",
    "\n",
    "print('빈도수  상위  582번  단어  : {}'.format(index_to_word[582]))"
   ]
  },
  {
   "cell_type": "code",
   "execution_count": 40,
   "id": "849462c0",
   "metadata": {
    "colab": {
     "base_uri": "https://localhost:8080/"
    },
    "executionInfo": {
     "elapsed": 6,
     "status": "ok",
     "timestamp": 1755739692649,
     "user": {
      "displayName": "강희숙",
      "userId": "05520711596090317319"
     },
     "user_tz": -540
    },
    "id": "849462c0",
    "outputId": "0073ee3f-21fb-4fbc-949c-0a62f0797020"
   },
   "outputs": [
    {
     "name": "stdout",
     "output_type": "stream",
     "text": [
      "샘플의  최대  길이  : 24\n"
     ]
    }
   ],
   "source": [
    "# 7-1. 최대 길이 계산\n",
    "max_len=max(len(l) for l in sequences) # 가장  긴  샘플의  길이  확인\n",
    "print('샘플의  최대  길이  : {}'.format(max_len))"
   ]
  },
  {
   "cell_type": "code",
   "execution_count": 41,
   "id": "d896484f",
   "metadata": {
    "colab": {
     "base_uri": "https://localhost:8080/"
    },
    "executionInfo": {
     "elapsed": 29,
     "status": "ok",
     "timestamp": 1755739692677,
     "user": {
      "displayName": "강희숙",
      "userId": "05520711596090317319"
     },
     "user_tz": -540
    },
    "id": "d896484f",
    "outputId": "22bd89f1-4a2c-4701-89df-7ec741bb9f24"
   },
   "outputs": [
    {
     "name": "stdout",
     "output_type": "stream",
     "text": [
      "[[   0    0    0    0    0    0    0    0    0    0    0    0    0    0\n",
      "     0    0    0    0    0    0    0    0   99  269]\n",
      " [   0    0    0    0    0    0    0    0    0    0    0    0    0    0\n",
      "     0    0    0    0    0    0    0   99  269  371]\n",
      " [   0    0    0    0    0    0    0    0    0    0    0    0    0    0\n",
      "     0    0    0    0    0    0   99  269  371 1115]]\n"
     ]
    }
   ],
   "source": [
    "# 7-2. 패딩\n",
    "#    - pre-padding으로 앞쪽을 0으로 채움\n",
    "# 가장  긴  샘플의  길이인  24로  모든  샘플의  길이를  패딩\n",
    "sequences = ...  # ... code here\n",
    "print(sequences[:3])"
   ]
  },
  {
   "cell_type": "code",
   "execution_count": 42,
   "id": "0634a526",
   "metadata": {
    "colab": {
     "base_uri": "https://localhost:8080/"
    },
    "executionInfo": {
     "elapsed": 12,
     "status": "ok",
     "timestamp": 1755739692677,
     "user": {
      "displayName": "강희숙",
      "userId": "05520711596090317319"
     },
     "user_tz": -540
    },
    "id": "0634a526",
    "outputId": "462468ef-7154-47a3-fe57-889904f046fd"
   },
   "outputs": [
    {
     "name": "stdout",
     "output_type": "stream",
     "text": [
      "[[  0   0   0   0   0   0   0   0   0   0   0   0   0   0   0   0   0   0\n",
      "    0   0   0   0  99]\n",
      " [  0   0   0   0   0   0   0   0   0   0   0   0   0   0   0   0   0   0\n",
      "    0   0   0  99 269]\n",
      " [  0   0   0   0   0   0   0   0   0   0   0   0   0   0   0   0   0   0\n",
      "    0   0  99 269 371]]\n"
     ]
    }
   ],
   "source": [
    "# 8. 입력(X) / 정답(y) 분리\n",
    "#    - 마지막 토큰을 레이블(y), 나머지를 입력(X)\n",
    "sequences = ...  # ... code here   # sequences를 numpy 배열로 변경하기\n",
    "\n",
    "X = ...  # ... code here # 학습 데이터\n",
    "y = ...  # ... code here  # 정답 데이터\n",
    "print(X[:3])"
   ]
  },
  {
   "cell_type": "code",
   "execution_count": 43,
   "id": "2f7d80d1",
   "metadata": {
    "colab": {
     "base_uri": "https://localhost:8080/"
    },
    "executionInfo": {
     "elapsed": 6,
     "status": "ok",
     "timestamp": 1755739692677,
     "user": {
      "displayName": "강희숙",
      "userId": "05520711596090317319"
     },
     "user_tz": -540
    },
    "id": "2f7d80d1",
    "outputId": "1f03d2e9-1d2b-46db-83b7-6ad81e3c7692"
   },
   "outputs": [
    {
     "name": "stdout",
     "output_type": "stream",
     "text": [
      "[ 269  371 1115]\n"
     ]
    }
   ],
   "source": [
    "print(y[:3]) # 레이블  3개  출력"
   ]
  },
  {
   "cell_type": "code",
   "execution_count": 44,
   "id": "16ef1650",
   "metadata": {
    "colab": {
     "base_uri": "https://localhost:8080/"
    },
    "executionInfo": {
     "elapsed": 34,
     "status": "ok",
     "timestamp": 1755739692709,
     "user": {
      "displayName": "강희숙",
      "userId": "05520711596090317319"
     },
     "user_tz": -540
    },
    "id": "16ef1650",
    "outputId": "d348337f-714e-407d-a40b-3f33a7f72a10"
   },
   "outputs": [
    {
     "data": {
      "text/plain": [
       "array([[0., 0., 0., ..., 0., 0., 0.],\n",
       "       [0., 0., 0., ..., 0., 0., 0.],\n",
       "       [0., 0., 0., ..., 0., 0., 0.],\n",
       "       ...,\n",
       "       [0., 0., 0., ..., 0., 0., 0.],\n",
       "       [0., 0., 1., ..., 0., 0., 0.],\n",
       "       [0., 0., 0., ..., 0., 0., 0.]])"
      ]
     },
     "execution_count": 44,
     "metadata": {},
     "output_type": "execute_result"
    }
   ],
   "source": [
    "# 9. 정답 one-hot 인코딩\n",
    "y = ...  # ... code here # 레이블  데이터  y에  대해서  원-핪  인코딩  수행\n",
    "y"
   ]
  },
  {
   "cell_type": "markdown",
   "id": "089321d2",
   "metadata": {
    "id": "089321d2"
   },
   "source": [
    "### 2) 모델  설계하기"
   ]
  },
  {
   "cell_type": "code",
   "execution_count": 45,
   "id": "a966da7f",
   "metadata": {
    "executionInfo": {
     "elapsed": 10,
     "status": "ok",
     "timestamp": 1755739692709,
     "user": {
      "displayName": "강희숙",
      "userId": "05520711596090317319"
     },
     "user_tz": -540
    },
    "id": "a966da7f"
   },
   "outputs": [],
   "source": [
    "from tensorflow.keras.models import Sequential\n",
    "from tensorflow.keras.layers import Embedding, Dense, LSTM"
   ]
  },
  {
   "cell_type": "code",
   "execution_count": 46,
   "id": "afdee5a0",
   "metadata": {
    "colab": {
     "base_uri": "https://localhost:8080/"
    },
    "executionInfo": {
     "elapsed": 1005580,
     "status": "ok",
     "timestamp": 1755740698287,
     "user": {
      "displayName": "강희숙",
      "userId": "05520711596090317319"
     },
     "user_tz": -540
    },
    "id": "afdee5a0",
    "outputId": "c625aa23-212f-419e-e038-9499f30fa541"
   },
   "outputs": [
    {
     "name": "stderr",
     "output_type": "stream",
     "text": [
      "/usr/local/lib/python3.12/dist-packages/keras/src/layers/core/embedding.py:97: UserWarning: Argument `input_length` is deprecated. Just remove it.\n",
      "  warnings.warn(\n"
     ]
    },
    {
     "name": "stdout",
     "output_type": "stream",
     "text": [
      "Epoch 1/100\n",
      "244/244 - 11s - 43ms/step - accuracy: 0.0260 - loss: 7.6278\n",
      "Epoch 2/100\n",
      "244/244 - 11s - 45ms/step - accuracy: 0.0319 - loss: 7.1110\n",
      "Epoch 3/100\n",
      "244/244 - 9s - 35ms/step - accuracy: 0.0311 - loss: 6.9837\n",
      "Epoch 4/100\n",
      "244/244 - 11s - 43ms/step - accuracy: 0.0417 - loss: 6.8648\n",
      "Epoch 5/100\n",
      "244/244 - 11s - 45ms/step - accuracy: 0.0445 - loss: 6.7106\n",
      "Epoch 6/100\n",
      "244/244 - 9s - 37ms/step - accuracy: 0.0482 - loss: 6.5304\n",
      "Epoch 7/100\n",
      "244/244 - 11s - 44ms/step - accuracy: 0.0479 - loss: 6.3435\n",
      "Epoch 8/100\n",
      "244/244 - 9s - 37ms/step - accuracy: 0.0538 - loss: 6.1473\n",
      "Epoch 9/100\n",
      "244/244 - 8s - 34ms/step - accuracy: 0.0582 - loss: 5.9511\n",
      "Epoch 10/100\n",
      "244/244 - 10s - 40ms/step - accuracy: 0.0628 - loss: 5.7666\n",
      "Epoch 11/100\n",
      "244/244 - 11s - 46ms/step - accuracy: 0.0710 - loss: 5.5939\n",
      "Epoch 12/100\n",
      "244/244 - 10s - 42ms/step - accuracy: 0.0741 - loss: 5.4344\n",
      "Epoch 13/100\n",
      "244/244 - 10s - 43ms/step - accuracy: 0.0793 - loss: 5.2814\n",
      "Epoch 14/100\n",
      "244/244 - 9s - 36ms/step - accuracy: 0.0860 - loss: 5.1361\n",
      "Epoch 15/100\n",
      "244/244 - 9s - 38ms/step - accuracy: 0.0921 - loss: 4.9979\n",
      "Epoch 16/100\n",
      "244/244 - 9s - 38ms/step - accuracy: 0.0979 - loss: 4.8626\n",
      "Epoch 17/100\n",
      "244/244 - 10s - 41ms/step - accuracy: 0.1112 - loss: 4.7328\n",
      "Epoch 18/100\n",
      "244/244 - 9s - 38ms/step - accuracy: 0.1234 - loss: 4.6084\n",
      "Epoch 19/100\n",
      "244/244 - 10s - 42ms/step - accuracy: 0.1366 - loss: 4.4876\n",
      "Epoch 20/100\n",
      "244/244 - 10s - 43ms/step - accuracy: 0.1499 - loss: 4.3698\n",
      "Epoch 21/100\n",
      "244/244 - 9s - 36ms/step - accuracy: 0.1652 - loss: 4.2551\n",
      "Epoch 22/100\n",
      "244/244 - 10s - 42ms/step - accuracy: 0.1761 - loss: 4.1437\n",
      "Epoch 23/100\n",
      "244/244 - 8s - 31ms/step - accuracy: 0.1968 - loss: 4.0337\n",
      "Epoch 24/100\n",
      "244/244 - 9s - 38ms/step - accuracy: 0.2156 - loss: 3.9268\n",
      "Epoch 25/100\n",
      "244/244 - 9s - 36ms/step - accuracy: 0.2312 - loss: 3.8227\n",
      "Epoch 26/100\n",
      "244/244 - 9s - 38ms/step - accuracy: 0.2475 - loss: 3.7219\n",
      "Epoch 27/100\n",
      "244/244 - 10s - 41ms/step - accuracy: 0.2689 - loss: 3.6237\n",
      "Epoch 28/100\n",
      "244/244 - 9s - 39ms/step - accuracy: 0.2855 - loss: 3.5273\n",
      "Epoch 29/100\n",
      "244/244 - 10s - 39ms/step - accuracy: 0.3040 - loss: 3.4360\n",
      "Epoch 30/100\n",
      "244/244 - 8s - 33ms/step - accuracy: 0.3163 - loss: 3.3461\n",
      "Epoch 31/100\n",
      "244/244 - 9s - 38ms/step - accuracy: 0.3328 - loss: 3.2575\n",
      "Epoch 32/100\n",
      "244/244 - 9s - 38ms/step - accuracy: 0.3508 - loss: 3.1742\n",
      "Epoch 33/100\n",
      "244/244 - 10s - 40ms/step - accuracy: 0.3663 - loss: 3.0925\n",
      "Epoch 34/100\n",
      "244/244 - 8s - 33ms/step - accuracy: 0.3786 - loss: 3.0135\n",
      "Epoch 35/100\n",
      "244/244 - 10s - 42ms/step - accuracy: 0.3955 - loss: 2.9381\n",
      "Epoch 36/100\n",
      "244/244 - 11s - 47ms/step - accuracy: 0.4069 - loss: 2.8640\n",
      "Epoch 37/100\n",
      "244/244 - 10s - 42ms/step - accuracy: 0.4232 - loss: 2.7913\n",
      "Epoch 38/100\n",
      "244/244 - 10s - 42ms/step - accuracy: 0.4369 - loss: 2.7233\n",
      "Epoch 39/100\n",
      "244/244 - 8s - 32ms/step - accuracy: 0.4510 - loss: 2.6556\n",
      "Epoch 40/100\n",
      "244/244 - 10s - 42ms/step - accuracy: 0.4657 - loss: 2.5921\n",
      "Epoch 41/100\n",
      "244/244 - 9s - 38ms/step - accuracy: 0.4789 - loss: 2.5261\n",
      "Epoch 42/100\n",
      "244/244 - 9s - 36ms/step - accuracy: 0.4885 - loss: 2.4674\n",
      "Epoch 43/100\n",
      "244/244 - 9s - 39ms/step - accuracy: 0.5008 - loss: 2.4081\n",
      "Epoch 44/100\n",
      "244/244 - 9s - 36ms/step - accuracy: 0.5128 - loss: 2.3507\n",
      "Epoch 45/100\n",
      "244/244 - 9s - 38ms/step - accuracy: 0.5229 - loss: 2.2952\n",
      "Epoch 46/100\n",
      "244/244 - 9s - 36ms/step - accuracy: 0.5334 - loss: 2.2407\n",
      "Epoch 47/100\n",
      "244/244 - 10s - 39ms/step - accuracy: 0.5477 - loss: 2.1913\n",
      "Epoch 48/100\n",
      "244/244 - 10s - 41ms/step - accuracy: 0.5622 - loss: 2.1399\n",
      "Epoch 49/100\n",
      "244/244 - 15s - 61ms/step - accuracy: 0.5722 - loss: 2.0882\n",
      "Epoch 50/100\n",
      "244/244 - 17s - 69ms/step - accuracy: 0.5789 - loss: 2.0432\n",
      "Epoch 51/100\n",
      "244/244 - 8s - 31ms/step - accuracy: 0.5920 - loss: 1.9936\n",
      "Epoch 52/100\n",
      "244/244 - 11s - 45ms/step - accuracy: 0.5945 - loss: 1.9512\n",
      "Epoch 53/100\n",
      "244/244 - 10s - 40ms/step - accuracy: 0.6085 - loss: 1.9086\n",
      "Epoch 54/100\n",
      "244/244 - 11s - 46ms/step - accuracy: 0.6151 - loss: 1.8657\n",
      "Epoch 55/100\n",
      "244/244 - 10s - 39ms/step - accuracy: 0.6241 - loss: 1.8248\n",
      "Epoch 56/100\n",
      "244/244 - 11s - 46ms/step - accuracy: 0.6321 - loss: 1.7852\n",
      "Epoch 57/100\n",
      "244/244 - 8s - 34ms/step - accuracy: 0.6435 - loss: 1.7462\n",
      "Epoch 58/100\n",
      "244/244 - 11s - 44ms/step - accuracy: 0.6544 - loss: 1.7081\n",
      "Epoch 59/100\n",
      "244/244 - 11s - 44ms/step - accuracy: 0.6583 - loss: 1.6735\n",
      "Epoch 60/100\n",
      "244/244 - 11s - 43ms/step - accuracy: 0.6665 - loss: 1.6327\n",
      "Epoch 61/100\n",
      "244/244 - 20s - 80ms/step - accuracy: 0.6754 - loss: 1.5998\n",
      "Epoch 62/100\n",
      "244/244 - 9s - 38ms/step - accuracy: 0.6844 - loss: 1.5649\n",
      "Epoch 63/100\n",
      "244/244 - 10s - 39ms/step - accuracy: 0.6852 - loss: 1.5347\n",
      "Epoch 64/100\n",
      "244/244 - 11s - 44ms/step - accuracy: 0.6979 - loss: 1.5020\n",
      "Epoch 65/100\n",
      "244/244 - 11s - 47ms/step - accuracy: 0.7028 - loss: 1.4676\n",
      "Epoch 66/100\n",
      "244/244 - 18s - 74ms/step - accuracy: 0.7060 - loss: 1.4388\n",
      "Epoch 67/100\n",
      "244/244 - 11s - 46ms/step - accuracy: 0.7195 - loss: 1.4058\n",
      "Epoch 68/100\n",
      "244/244 - 10s - 42ms/step - accuracy: 0.7220 - loss: 1.3772\n",
      "Epoch 69/100\n",
      "244/244 - 10s - 41ms/step - accuracy: 0.7277 - loss: 1.3495\n",
      "Epoch 70/100\n",
      "244/244 - 9s - 37ms/step - accuracy: 0.7357 - loss: 1.3200\n",
      "Epoch 71/100\n",
      "244/244 - 10s - 42ms/step - accuracy: 0.7398 - loss: 1.2926\n",
      "Epoch 72/100\n",
      "244/244 - 11s - 47ms/step - accuracy: 0.7478 - loss: 1.2636\n",
      "Epoch 73/100\n",
      "244/244 - 10s - 39ms/step - accuracy: 0.7543 - loss: 1.2395\n",
      "Epoch 74/100\n",
      "244/244 - 10s - 39ms/step - accuracy: 0.7570 - loss: 1.2137\n",
      "Epoch 75/100\n",
      "244/244 - 8s - 34ms/step - accuracy: 0.7615 - loss: 1.1910\n",
      "Epoch 76/100\n",
      "244/244 - 10s - 42ms/step - accuracy: 0.7684 - loss: 1.1628\n",
      "Epoch 77/100\n",
      "244/244 - 10s - 42ms/step - accuracy: 0.7720 - loss: 1.1386\n",
      "Epoch 78/100\n",
      "244/244 - 11s - 44ms/step - accuracy: 0.7784 - loss: 1.1144\n",
      "Epoch 79/100\n",
      "244/244 - 11s - 44ms/step - accuracy: 0.7800 - loss: 1.0915\n",
      "Epoch 80/100\n",
      "244/244 - 10s - 41ms/step - accuracy: 0.7860 - loss: 1.0684\n",
      "Epoch 81/100\n",
      "244/244 - 9s - 38ms/step - accuracy: 0.7926 - loss: 1.0445\n",
      "Epoch 82/100\n",
      "244/244 - 10s - 41ms/step - accuracy: 0.7953 - loss: 1.0226\n",
      "Epoch 83/100\n",
      "244/244 - 11s - 46ms/step - accuracy: 0.8003 - loss: 1.0017\n",
      "Epoch 84/100\n",
      "244/244 - 9s - 38ms/step - accuracy: 0.8046 - loss: 0.9796\n",
      "Epoch 85/100\n",
      "244/244 - 11s - 44ms/step - accuracy: 0.8112 - loss: 0.9623\n",
      "Epoch 86/100\n",
      "244/244 - 8s - 35ms/step - accuracy: 0.8148 - loss: 0.9389\n",
      "Epoch 87/100\n",
      "244/244 - 9s - 38ms/step - accuracy: 0.8144 - loss: 0.9204\n",
      "Epoch 88/100\n",
      "244/244 - 10s - 43ms/step - accuracy: 0.8208 - loss: 0.8993\n",
      "Epoch 89/100\n",
      "244/244 - 9s - 38ms/step - accuracy: 0.8258 - loss: 0.8821\n",
      "Epoch 90/100\n",
      "244/244 - 8s - 33ms/step - accuracy: 0.8260 - loss: 0.8631\n",
      "Epoch 91/100\n",
      "244/244 - 9s - 37ms/step - accuracy: 0.8302 - loss: 0.8434\n",
      "Epoch 92/100\n",
      "244/244 - 9s - 38ms/step - accuracy: 0.8361 - loss: 0.8269\n",
      "Epoch 93/100\n",
      "244/244 - 9s - 39ms/step - accuracy: 0.8383 - loss: 0.8101\n",
      "Epoch 94/100\n",
      "244/244 - 10s - 40ms/step - accuracy: 0.8392 - loss: 0.7930\n",
      "Epoch 95/100\n",
      "244/244 - 11s - 46ms/step - accuracy: 0.8421 - loss: 0.7766\n",
      "Epoch 96/100\n",
      "244/244 - 9s - 39ms/step - accuracy: 0.8476 - loss: 0.7608\n",
      "Epoch 97/100\n",
      "244/244 - 10s - 42ms/step - accuracy: 0.8492 - loss: 0.7467\n",
      "Epoch 98/100\n",
      "244/244 - 10s - 40ms/step - accuracy: 0.8524 - loss: 0.7295\n",
      "Epoch 99/100\n",
      "244/244 - 10s - 40ms/step - accuracy: 0.8567 - loss: 0.7167\n",
      "Epoch 100/100\n",
      "244/244 - 9s - 38ms/step - accuracy: 0.8595 - loss: 0.7002\n"
     ]
    },
    {
     "data": {
      "text/plain": [
       "<keras.src.callbacks.history.History at 0x7d904de59c70>"
      ]
     },
     "execution_count": 46,
     "metadata": {},
     "output_type": "execute_result"
    }
   ],
   "source": [
    "# 10. 모델 구성 (Embedding → LSTM → Dense)\n",
    "#     - Embedding: 단어 인덱스 → 밀집 벡터(10차원)\n",
    "#     - LSTM: 문맥 순서 학습\n",
    "#     - Dense-softmax: 다음 단어 확률 분포\n",
    "\n",
    "model = Sequential()\n",
    "# y데이터를  분리하였으므로  이제  X데이터의  길이는  기존  데이터의  길이  - 1\n",
    "model.add(...) # ... code here # 10: 계산된 결과를 몇개까지 만들것인다\n",
    "model.add(...)  # ... code here\n",
    "model.add(...)  # ... code here\n",
    "\n",
    "# 11. 컴파일 및 학습\n",
    "model.compile(loss='categorical_crossentropy', optimizer='adam', metrics=['accuracy'])\n",
    "\n",
    "model.fit(X, y, epochs=100, verbose=2)"
   ]
  },
  {
   "cell_type": "code",
   "execution_count": 50,
   "id": "bUByi5fFWQMi",
   "metadata": {
    "colab": {
     "base_uri": "https://localhost:8080/"
    },
    "executionInfo": {
     "elapsed": 26,
     "status": "ok",
     "timestamp": 1755741490482,
     "user": {
      "displayName": "강희숙",
      "userId": "05520711596090317319"
     },
     "user_tz": -540
    },
    "id": "bUByi5fFWQMi",
    "outputId": "68458583-bd80-484b-8f57-e0595f256b7b"
   },
   "outputs": [
    {
     "name": "stdout",
     "output_type": "stream",
     "text": [
      "=== 어휘 사전의 단어들 ===\n",
      "사용 가능한 단어들: ['the', 'a', 'to', 'of', 'in', 'for', 'and', 'is', 'on', 'with', 'trump', 'as', 'at', 'new', 'how', 'from', 'it', 'an', 'that', 'be', 'season', 'us', 'you', 'its', 'what', 'episode', 'can', 'your', 'not', 'he', 'now', 'his', 'are', 'teaching', 'war', 'out', 'no', 'was', 'by', 'trumps', 'has', 'over', 'may', 'into', 'why', 'more', 'we', 'who', 'about', 'recap', 'activities', '1', 'just', 'do', 'women', 'when', 'syria', 'trade', 'i', '2', 'or', 'will', 'this', 'have', 'president', 'but', 'home', 'up', 'long', 'one', 'off', 'facebook', 'house', 'gop', 'our', 'case', 'they', 'life', 'end', 'right', 'some', 'big', 'dead', 'power', 'say', 'white', 'after', 'still', 'north', 'my', 'dont', 'need', 'race', 'own', 'against', 'here', 'should', 'border', 'former', 'epa', 'battle', 'mr', 'too', 'their', 'plan', '3', 'china', 'real', 'were', 'her', 'russia', 'art', 'good', 'then', 'like', 'pay', 'back', 'get', 'love', 'says', 'officials', 'fight', 'tariffs', 'pruitt', 'democrats', 'black', 'man', 'men', 'help', 'never', 'york', 'comey', 'chief', 'metoo', 'work', 'place', 'could', 'past', 'years', 'rights', 'first', 'money', 'save', 'going', 'all', 'way', 'political', 'fear', 'next', 'fire', 'party', 'me', 'becomes', '8', 'better', 'old', 'dr', 'king', 'homes', 'ryan', 'tax', 'if', 'than', 'americans', 'rules', 'police', 'school', 'leaders', 'korea', 'there', 'top', 'court', 'state', '10', 'lower', 'states', 'whats', 'use', 'cancer', 'britain', 'wont', 'time', 'america', 'history', 'where', 'lead', 'left', 'plans', 'talk', 'crisis', 'two', 'tells', 'trust', 'nuclear', 'children', 'million', 'make', 'leader', 'others', 'attack', 'people', 'another', '6', 'world', 'day', 'car', 'young', 'little', 'california', 'crash', 'last', 'book', 'death', 'gun', 'texas', 'hes', 'sex', 'abuse', 'find', 'truth', 'arizona', 'american', 'pompeo', 'change', 'city', 'kim', 'so', 'music', 'risks', 'being', 'billions', '5', 'family', 'missing', 'gaza', 'vs', 'senate', 'heart', 'justice', 'killing', 'cia', 'come', 'shows', 'turning', 'schools', 'parents', 'law', 'legal', 'economy', 'strike', 'him', 'threat', 'before', 'takes', 'night', 'mueller', 'close', 'cut', 'dream', 'face', 'friends', 'does', 'game', 'dear', 'boss', 'baby', 'kings', 'jail', 'nfl', 'jimmy', 'word', 'hot', 'turns', 'gap', 'got', 'hope', 'making', 'overlooked', 'push', 'high', 'deal', 'heck', 'live', 'families', 'wrong', '2018', 'fix', 'lawyers', 'koreas', 'choose', 'public', 'cuomo', 'steel', 'open', 'scott', 'beyond', 'variety', 'ethics', 'files', 'dept', 'let', 'inside', 'director', 'far', 'side', 'rupauls', 'drag', 'fence', 'sanctions', 'want', 'global', 'great', 'fish', 'market', 'team', 'eat', 'problem', 'miracle', 'tied', 'hours', 'working', 'other', 'yet', 'call', 'allies', 'privacy', 'data', 'experts', 'go', 'met', 'brooklyn', 'didnt', 'russian', 'trial', 'apply', 'college', 'many', '4', 'security', 'year', 'tale', 'social', 'control', 'been', 'hit', 'early', 'behind', 'match', 'ok', 'fears', 'isis', 'walking', 'national', 'presidency', 'student', 'second', 'limits', 'care', 'era', 'south', 'guard', 'rise', 'edge', 'hero', 'tech', 'secret', 'storm', 'gets', 'watch', 'weapons', 'cheerleaders', 'meeting', 'less', 'science', 'dirt', 'times', 'looking', 'win', 'pope', 'stuff', 'wants', 'ruling', 'town', 'cold', 'behavior', 'guns', 'stand', 'human', 'economic', 'tragedy', 'paul', 'them', 'key', 'down', 'given', 'urge', 'kids', 'westworld', 'picture', 'april', '23', 'subway', 'lets', 'impeachment', 'feel', 'told', 'smile', 'meet', 'wild', 'guide', 'business', 'republicans', 'starbucks', 'door', 'heres', 'punch', 'air', 'caution', 'democratic', 'seen', 'west', 'once', 'marriage', 'politics', 'mission', 'support', 'extra', 'stephen', 'colbert', 'doesnt', 'marijuana', 'reading', 'flight', 'navy', 'veteran', 'ban', 'atlanta', 'finally', 'ready', 'todays', 'puzzle', 'deputy', 'gave', 'teenagers', 'training', 'cant', 'remember', '36', 'found', 'look', 'scientists', 'drug', 'start', 'fit', 'syrian', 'israel', 'bush', 'tweets', 'calling', 'genius', 'acrostic', 'strikes', 'americas', 'pregnancy', 'step', 'washington', 'body', 'supreme', 'best', 'run', 'late', 'force', 'france', 'said', 'raid', 'report', 'aide', 'try', 'line', 'loss', 'risk', 'ask', 'trevor', 'noah', 'become', 'affair', 'died', 'travel', 'pollution', 'building', 'details', 'mike', 'immigration', 'much', 'words', 'press', 'energy', 'think', 'kitchen', 'teams', 'roseanne', 'matter', 'warm', 'cohen', 'eye', 'wait', 'seized', 'civil', 'brain', 'die', 'bad', 'island', 'target', 'michael', 'complicated', 'under', 'test', 'did', 'talks', 'put', 'questions', 'dies', 'moves', '15', 'lives', 'james', 'gives', 'warriors', 'mainstream', 'saudi', 'loan', 'puts', 'star', 'broken', 'glass', 'moments', 'sick', 'beat', 'god', 'mean', 'spy', 'immigrants', 'kill', 'shame', 'maybe', 'even', 'land', '14', 'policy', 'agent', 'smart', 'martin', 'luther', 'mind', 'earth', 'action', 'iraq', 'feeling', 'nature', 'church', 'beware', 'away', 'point', 'army', 'va', 'girls', 'play', 'made', 'marathon', 'lies', 'turn', 'fiction', 'terror', 'accept', 'dying', 'victims', 'golden', 'common', 'near', 'cosby', 'revolt', 'offer', 'rule', 'bag', 'tradition', 'failed', 'utah', 'few', 'believe', 'forced', 'artists', 'carter', 'jersey', 'quiz', 'lifethreatening', 'food', 'choosing', 'future', 'gone', 'panel', 'bucks', 'sidewalk', 'van', 'cuts', 'apologies', 'europes', 'iran', 'themselves', 'avengers', 'most', 'movie', 'taking', 'mirror', 'chancellor', 'debate', 'foods', 'citys', 'favorite', 'cruelty', 'robots', 'coffee', 'prince', 'share', 'tolerance', 'stop', 'migrants', 'path', 'aiding', 'europe', 'magic', 'kind', 'losing', 'middle', 'class', 'youll', 'sorry', 'swamp', 'columbia', 'wages', 'painfully', 'wonkish', 'forgotten', 'survival', 'decline', 'mess', 'fake', 'set', 'himself', 'barely', 'quit', '70', 'conspiracy', 'pick', 'wells', 'fargo', 'mayhem', 'fields', '50', 'lack', 'cynthia', 'nixon', 'along', 'promise', 'testing', 'candidates', 'pruitts', 'reforms', 'selling', 'know', 'runners', 'tarot', 'card', 'dress', 'pilot', 'nerves', 'letting', 'al', 'equal', 'returns', 'snake', 'oil', 'betrayed', 'nation', 'fashion', 'lay', 'fine', 'fraud', 'again', 'exfbi', 'sent', 'name', 'sea', 'stands', 'spur', 'means', 'progressive', 'standardized', 'tests', 'antibias', 'goal', 'gentrification', 'shine', 'road', 'deportation', 'voice', 'crazy', 'warming', 'interview', 'launches', 'allout', 'barbara', 'ill', 'treatment', 'blasts', 'slippery', 'around', 'office', 'todo', 'list', 'housing', 'leaves', 'pinch', 'took', 'assad', 'library', 'payment', 'snarl', 'makes', '87', 'comedy', 'rising', 'stars', 'alike', 'coal', 'lobbyist', 'crossword', 'animals', 'whos', 'pentagon', 'signs', 'childhood', 'courts', 'shift', 'saying', 'scandal', 'sticker', 'shock', 'teacher', 'walkouts', 'grip', 'red', 'speaker', 'leave', 'british', 'mexico', 'wish', 'alive', 'longer', 'moscow', 'believes', 'beef', 'stew', 'chinese', 'partner', 'tabloid', 'catches', 'facebooks', 'lot', 'health', 'putin', 'india', 'these', 'begin', 'protest', 'florida', 'colorado', 'thats', 'hopes', 'access', 'hollywood', 'tape', 'focus', 'fbi', 'general', 'leak', 'spring', 'gut', 'advice', 'risotto', 'simple', 'during', 'week', 'ball', 'gluten', 'free', 'seattle', 'exhusband', 'dilemma', 'betting', 'governors', 'collector', 'thriving', 'modern', 'count', 'thousands', 'interest', 'alaska', 'republican', 'midterm', 'elections', 'pose', 'worry', 'view', 'fascism', 'without', 'spending', 'signals', 'boys', 'learning', 'move', 'fast', 'governor', 'those', 'aging', 'warns', 'media', 'exercise', 'allergic', 'signatures', 'military', 'disaster', 'embrace', 'youre', 'defying', 'toll', 'humans', 'store', 'dogs', 'client', 'reports', 'fired', 'coming', 'lavish', 'zone', 'called', 'options', 'paid', 'ice', 'adviser', 'calls', 'polar', 'bears', 'online', 'bust', 'bars', 'private', 'fans', 'remains', 'funny', 'daughter', 'offered', 'massacre', 'prison', 'votes', 'very', 'outsiders', 'gender', 'scrutiny', 'trail', 'nightmare', 'species', 'fuels', 'jacket', 'hair', '81', 'foreign', '9', 'arabian', 'official', 'afghan', 'enters', 'journalism', 'later', 'cry', 'vows', 'price', 'raising', 'song', 'gallery', 'hockey', 'fox', 'fiery', 'chemical', 'hasty', 'viral', 'voters', 'arlee', 'arent', 'friday', 'something', 'every', 'buying', 'ad', 'asparagus', 'blame', 'democracy', 'bracing', 'blood', 'estate', 'jobs', 'raised', 'islam', 'yorks', 'give', 'blast', 'small', 'forces', 'tight', 'labor', 'manhattan', 'intellectual', 'tiny', 'haunting', 'thoughts', 'misconduct', 'usual', 'lisa', 'evil', 'springs', 'stress', 'monkeys', 'gay', 'safety', 'crashes', 'queen', 'indexes', 'indian', 'dreams', 'role', 'macrons', 'locals', 'shot', 'whims', 'sees', 'makers', 'pipe', 'slow', 'quiet', 'ohio', 'primary', 'readers', 'universe', 'older', 'well', 'rents', 'saving', 'worship', 'detail', 'project', 'dissent', 'kennedy', 'assassination', 'edges', 'brazil', 'sports', 'dad', 'amazon', 'trauma', 'anxiety', '100', 'endless', 'video', 'legacy', 'candidate', 'shooting', 'silicon', 'valley', 'light', 'chose', 'heated', 'leads', 'israelis', 'lone', 'journalist', 'sexual', 'assault', 'joke', 'bronx', 'necessary', 'search', 'nights', 'giants', 'streets', 'stocks', 'see', 'teachers', 'spreads', 'african', 'only', 'hard', 'reality', 'fallout', 'stories', 'needs', 'plot', 'uk', 'answer', 'blunt', 'dog', 'george', 'decades', 'furor', 'fall', 'movement', 'claims', 'saturday', 'outrage', 'outbreak', 'struck', 'vietnam', 'actually', 'puerto', 'rico', 'quite', 'tune', 'los', 'protests', 'wary', 'camera', 'baseball', 'mogul', 'country', 'tv', 'ronny', 'gen', 'kremlin', 'crackdown', 'memory', 'parenting', 'loses', 'racist', 'duo', 'bueller', 'midterms', 'defense', 'generation', 'students', 'genre', 'instagram', 'survey', 'wouldnt', 'phone', 'standing', 'act', 'would', 'pulitzer', 'prize', 'treat', 'tea', 'mother', 'peace', 'virtual', 'currency', 'journalists', 'finds', 'lawman', 'wins', 'itself', 'abroad', 'mercy', 'suspects', 'doctors', 'letter', 'comeys', 'spoil', 'child', 'inch', 'site', 'finale', 'immune', 'therapy', 'japanese', 'conquering', 'graft', 'really', 'immigrant', 'spf', 'overdue', 'presidential', 'dreamers', 'officer', 'judge', 'water', 'im', 'workers', 'n0', 'guilty', 'killer', 'pain', 'same', 'led', 'wave', 'inquiry', 'least', 'jury', 'bill', 'street', 'reckoning', 'birthday', 'ride', 'board', 'meddling', 'sets', 'telecom', 'settlement', 'goodell', 'unveil', 'effect', 'policymaking', 'noma', 'explained', 'became', 'selfexpression', 'commuter', 'reprogramming', 'ford', 'changed', 'lift', 'romney', 'convention', 'doomed', 'chain', 'reaction', 'vatican', 'investigate', 'francis', 'berlin', 'knows', 'reignite', 'churchstate', 'separation', 'procrastinating', 'dilatory', 'bout', 'e', 'coli', 'poisoning', 'brexit', 'yearned', 'seafaring', 'muddied', 'quote', 'disproved', 'bizarre', 'groups', 'equality', 'nashville', 'education', 'relents', 'approved', 'buses', 'turnaround', 'dinner', 'nods', 'traditions', 'pouring', 'wisconsin', 'stakes', 'mismatched', 'motives', 'toronto', 'nothing', 'indigenous', 'canada', 'craft', 'distillers', 'facing', 'taxes', 'invest', 'lucrative', 'franchise', 'ever', 'wrapping', 'genital', 'reconstruction', 'utne', 'frontier', 'denial', 'patron', 'wrested', 'rifle', 'trying', 'richard', 'carranza', 'ultimately', 'everything', 'helping', 'adhd', 'thrive', 'persists', 'gmo', 'soap', 'opera', 'odds', 'shopping', 'multilevel', 'tables', 'whisky', 'chronicles', 'unproven', 'technology', 'label', 'special', 'delivery', 'setting', 'tone', 'postpresidency', 'obama', 'message', 'politicians', 'scraping', 'bottom', 'scarce', 'resource', 'referee', 'sudan', 'blocks', 'peaceful', 'mood', 'premiere', 'consequences', 'majesty', 'rhyme', '1738', 'servants', 'foothold', 'ideas', 'thank', 'muellers', 'abhors', 'buried', 'graveyard', 'played', 'rescue', 'de', 'blasio', 'countrys', 'ugliest', 'feuds', 'dodging', 'handy', 'detour', 'foes', 'tribute', 'uwe', 'reinhardt', 'revisiting', 'eras', 'wet', 'pluses', 'minuses', 'bid', 'rosenstein', 'costly', 'opioid', 'foretold', 'deals', 'imperil', 'adapting', 'doing', 'pearls', 'puns', 'anagrams', 'chiefs', 'woes', 'echoes', 'bow', 'rumors', 'fuel', 'thirst', 'revenge', 'airbnb', 'babies', 'voting', 'childbirths', 'dangers', 'noticed', 'jewish', 'phrasing', 'deserts', 'curtains', 'gypsy', 'punching', 'clout', 'provocateur', 'blooddripping', 'appearance', 'lawsuit', 'alleging', 'trumprussia', 'divided', 'garner', 'fullon', 'propaganda', 'twisting', 'towers', 'penalty', 'known', 'east', 'familiar', 'getting', 'nobody', 'egos', 'repetitive', 'insanity', 'happen', 'korean', 'hault', 'four', 'space', 'embracing', 's', 'cracks', 'inquiries', 'widen', 'code', 'strict', 'southwest', '1380', 'hailed', 'trackandfield', 'sign', 'paper', 'boi', 'redacted', 'memos', 'delivered', 'lawmakers', 'elizas', 'charge', 'amendment', 'slump', 'sponsoring', 'terrorism', 'dawn', 'fulton', 'deceived', 'slain', 'rsum', 'giuliani', 'lend', 'firepower', 'adds', 'parallels', 'jake', 'tappers', 'novel', 'olivia', 'popes', 'pantsuit', 'billion', 'armstrong', 'agrees', 'safe', 'salad', 'possible', 'prosecution', 'cures', 'ho', 'noodle', 'soup', 'nourishes', 'transports', 'pediatrician', 'asperger', 'syndrome', 'nazi', 'bodies', 'remodeled', 'restaurant', 'frenchette', 'natural', 'wines', 'arrested', 'rent', 'slide', 'cubas', 'hardliner', 'enigma', 'surplus', 'frowns', 'olive', 'branch', 'viewed', 'warily', 'san', 'franciscos', 'seismic', 'gamble', 'companies', 'require', 'employees', 'sowing', 'literature', 'imaginative', 'caregiving', 'patient', 'lighting', 'landscapes', 'aliens', 'worse', 'things', 'citizenship', 'lisbon', 'janelle', 'mone', 'tolls', 'closer', 'damage', 'barrier', 'reef', 'irreversible', 'dislike', 'despise', 'fiscal', 'conservatives', 'tales', 'persia', 'unfolding', 'addiction', 'creative', 'leash', 'attracts', 'changes', 'gravely', 'opts', 'halt', 'punish', 'barrage', 'sold', '600000', 'youtuber', 'brings', 'preposition', 'proposition', 'jump', 'ship', 'mom', 'running', 'warrior', 'mall', 'scrap', 'exorcist', 'strange', 'pension', 'math', 'profiteers', 'coax', 'surgery', 'accomplished', 'window', 'ledge', 'nest', 'pigeons', 'salute', 'signature', 'signing', 'expressions', 'affection', 'republic', 'targets', 'pull', 'yourself', 'together', 'henry', 'higgins', 'pictures', 'viewing', 'through', 'resignation', 'ahead', 'spurn', 'endorse', 'rival', 'burgundy', 'iconoclast', 'laurent', 'ponsot', 'looks', 'projects', 'trading', 'mitzi', 'shore', 'club', 'owner', 'fostered', 'university', 'rice', 'balls', 'subtle', 'showy', 'omusubi', 'gonbei', 'insider', 'addressing', 'areas', 'punched', 'clock', 'issue', 'rises', 'fore', 'vindicating', 'zoo', 'performer', 'staring', 'urges', 'greater', 'pill', 'sarms', 'armageddon', 'revert', 'queens', 'appointing', 'male', 'missed', 'opportunity', 'dissenting', 'rightward', 'lots', 'screen', 'stalwart', 'heads', 'phoenix', 'transplant', 'threaten', 'upended', 'calmly', 'victoria', 'kidnapped', 'schoolgirls', 'boko', 'haram', 'portraits', 'mestiza', 'comebacks', 'morning', 'owls', 'lin', 'huiyin', 'liang', 'sicheng', 'chroniclers', 'architecture', 'silent', 'headline', 'investigators', 'eyes', 'begins', 'charm', 'offensive', 'questioning', 'lethal', 'export', 'triumph', 'contradiction', 'riddance', 'objects', 'fell', 'sky', 'shouts', 'chemicals', 'track', 'methane', 'leaks', 'above', 'fires', 'tugging', 'reins', 'she', 'alternative', 'fewer', 'oligarchs', 'brutal', 'rape', 'murder', 'girl', 'divides', 'balaboosta', 'doors', 'portals', 'chelsea', 'hotels', 'clearing', 'airport', 'camp', 'treehouse', 'grid', 'feather', 'cap', 'albatross', 'neck', 'retire', 'scattering', 'faulted', 'scathing', 'inspector', 'cheney', 'pardoned', 'billionaires', 'ambition', 'meets', 'riffing', 'worlds', 'sandwiches', 'clinical', 'elderly', 'craving', 'taste', 'turtles', 'magnetic', 'birthplace', 'beach', 'feels', 'chefs', 'relaxation', 'stir', 'vision', 'aids', 'watching', 'weekend', 'untruthful', 'slime', 'lash', 'bigger', 'oats', 'which', 'contain', 'labeled', 'homeless', 'wed', 'beneath', 'overpass', 'cograndparent', 'am', 'paying', 'nap', 'tethered', 'raging', 'buffoon', 'hammers', 'congress', 'dependence', 'cash', 'berkshires', 'solved', 'dorm', 'mans', 'obsession', 'uncertainty', 'missouri', 'maze', 'lost', 'syrias', 'sustainable', 'environment', 'bank', 'account', 'paltry', 'neighbor', 'chasing', 'thief', 'spideys', 'creator', 'web', 'strife', 'upends', 'flower', 'shop', 'ecclesiastic', 'serious', 'rupocalypse', '7', 'drake', 'points', 'inevitable', 'pardon', 'convicted', 'visceral', 'grim', 'memoir', 'works', 'hill', 'cheer', 'favors', 'flimflam', 'renaissance', 'perfume', 'mincing', 'sheriff', 'indulged', 'mounted', 'overdose', 'accessible', 'falters', 'shifting', 'baffle', 'chinas', 'masculinity', 'age', 'photo', 'twice', 'major', 'lifts', 'renewable', 'sources', 'historians', 'versus', 'genealogists', 'weighs', 'rejoining', 'accord', 'pacific', 'rim', 'aboutface', 'brisbane', 'gauge', 'apart', 'imitators', 'medallion', 'builtin', 'advantage', 'majority', 'receding', 'camdens', 'improve', 'stateappointed', 'superintendent', 'steps', 'aside', 'abortion', 'roe', 'unwanted', 'advances', 'missouris', 'italy', 'deleted', 'ago', 'musicians', 'concert', 'promises', 'promote', 'alone', 'weight', 'fictional', 'pence', 'plane', 'algerias', 'worst', '257', 'giant', 'collects', 'uses', 'except', 'pedestrian', 'reddest', 'rural', 'districts', 'nra', 'hidden', 'answering', 'seth', 'meyers', 'wonders', 'spells', 'doom', 'animal', 'welfare', 'suffering', 'brassai', 'paris', 'python', 'pet', 'snatched', 'smells', 'memories', 'classic', 'else', 'bite', 'ignored', 'clown', 'bleached', 'angry', 'subpoenas', 'nearly', 'december', 'traumatic', 'injuries', 'dementia', 'salt', 'pepper', 'already', 'gory', 'el', 'chapo', 'draining', 'three', 'investigates', 'admissions', 'tiki', 'bar', 'lessthantropical', 'raids', 'hush', 'fumes', 'trembling', 'screaming', 'cream', 'homeland', 'bolton', 'settles', 'filipinos', 'tatters', 'trip', 'latin', 'citing', 'climate', 'skeptics', 'beg', 'differ', 'speak', 'accountable', 'misunderstands', 'imagines', 'went', 'diving', 'renovation', 'gusto', 'rhodesias', 'supremacists', 'cambridge', 'analytica', 'course', 'escapes', 'riots', 'beatings', 'prisons', 'soups', 'beautiful', 'bogot', 'travelers', 'starter', 'kit', 'groped', 'pro', 'bosses', 'disapprove', 'vouchers', 'mayors', 'streetcar', 'markdowns', 'poem', 'cure', 'pages', 'exspy', 'hospital', 'popup', 'classes', 'reporters', 'recorded', 'myanmar', 'authority', 'months', 'resigning', 'event', 'revulsion', 'eroded', 'obamacares', 'stable', 'failures', 'antitrumpism', 'bannon', 'beliefs', 'parent', 'allay', '911', 'born', 'zuckerberg', 'center', 'reshape', 'tokens', 'please', 'widens', 'onenight', 'temptation', 'handlers', 'leeches', 'trackers', 'poised', 'balloon', 'trillion', 'deficit', 'grilling', 'tie', 'shirt', 'mets', 'excited', 'authentic', 'retaliation', 'abou', 'sizzle', 'grill', 'tense', 'fossilized', 'finger', 'bone', 'earliest', 'peninsula', 'advisers', 'head', 'actions', 'commander', 'returning', 'battleground', '20', 'rallying', 'reactions', 'shingles', 'vaccine', 'reasons', 'masked', 'wrestling', 'priest', 'prospect', 'missile', 'hub', 'contemplation', 'challenge', 'books', 'teach', 'management', 'cleaning', 'wit', 'tina', 'fey', 'splintered', 'hearts', 'horror', 'governed', 'amp', 'powderkeg', 'bon', 'vivant', 'tower', 'couldnt', 'sell', 'affected', 'users', 'carnage', 'muddles', 'exit', 'sweeping', 'election', 'victory', 'hungarys', 'ruler', 'constitution', 'antioch', 'initials', 'stroller', 'scrawls', 'credit', 'trusts', 'complain', 'triple', 'spoonerisms', 'murky', 'perils', 'quitting', 'antidepressants', 'landlord', 'refund', 'fee', 'amenities', 'available', 'renegades', 'sri', 'lanka', 'bombast', 'samantha', 'germs', 'diet', 'soda', 'dvd', 'staff', 'advised', 'resistant', 'epas', 'current', 'tb', 'insufficient', 'princes', 'tour', 'murdoch', 'gates', 'oprah', 'anonymous', 'earned', 'divine', 'status', 'frustrated', 'yorkers', 'catering', 'fliers', '30000', 'feet', 'enemy', 'cecil', 'taylor', 'pianist', 'defied', 'jazz', 'orthodoxy', '89', 'pressure', 'miscarriage', 'dynasty', 'passing', 'torch', 'disappointing', 'alarms', 'nominees', 'views', '80s', 'kors', 'dismantle', 'obamas', 'hatewatching', 'hgtv', 'putins', 'inner', 'circle', 'gendered', 'emasculator', 'until', 'arrived', 'chappaquiddick', 'theory', 'march', 'structure', 'denies', 'knowledge', 'porn', 'flail', 'concerns', 'ousted', 'script', 'restaurateur', 'starr', 'keith', 'mcnally', 'reopen', 'pastis', 'liberal', 'nirvana', 'sometimes', 'room', 'protecting', 'outposts', 'pulling', 'lawn', 'chairs', 'someones', 'prom', 'include', 'squeezes', 'restaurants', 'growing', 'threatens', 'aides', 'exits', 'confident', 'buzz', 'v', 'sale', 'harder', 'disabilities', 'contract', 'authoritarianism', 'driven', 'elevator', 'oh', 'accuse', 'architect', 'finding', 'decent', 'wades', 'deeper', 'detainee', 'operations', 'kurds', 'recovery', 'weakness', 'strength', 'commerce', 'murkowski', 'mastered', 'myerss', 'fallon', 'homework', 'therapist', 'japans', 'popular', 'bathing', 'temple', 'elephants', 'retreat', 'sheep', 'dylan', 'st', 'vincent', 'sing', 'fatal', 'bessie', 'b', 'stringfield', 'motorcycle', 'miami', 'causing', 'walkoff', 'youtube', 'complaints', 'attacker', 'echoed', 'dollars', 'flawed', 'trapping', 'manufacturers', 'crossfire', 'uschina', 'tensions', 'send', 'homestead', 'architectures', 'forensic', 'gaze', 'womens', 'jeopardy', 'producer', 'supplied', 'dough', 'souvenirs', 'ive', 'forget', 'logo', 'quirks', 'garry', 'winogrand', 'photograph', 'museum', 'deception', 'campus', 'expresident', 'sentenced', '24', 'corruption', 'radical', 'exile', 'vocal', 'imam', 'fifty', 'shades', 'slice', 'pizza', 'knew', 'mentally', 'officers', 'keep', 'crossing', 'undeterred', 'washingtons', 'agreement', 'nafta', 'must', '45000', 'bribes', 'luxuries', 'prosecutors', 'escalates', 'tariff', 'mistake', 'worries', 'sending', 'pointing', 'believed', 'infrastructure', 'fund', 'hype', 'shhhh', 'silence', 'mostly', 'enchanted', 'aims', 'transparency', 'defeated', 'circus', 'deploy', 'condoning', 'illiteracy', 'footprints', 'scottish', 'isle', 'playground', 'dinosaurs', 'lovely', 'tempts', 'kasich', 'hearing', 'multiple', 'channels', 'balancing', 'chaos', 'mighty', 'yes', 'wiser', 'homelessness', 'follows', 'minnesota', 'miners', 'houses', 'astounding', 'pulls', 'total', 'withdrawal', 'google', 'internal', 'robert', 'f', 'indianapolis', 'crowd', 'profile', 'breach', 'brink', 'officially', 'guy', 'cue', 'jitters', 'wars', 'stranded', 'assets', 'stock', 'googoosha', 'cherished', 'uzbek', 'between', 'grows', 'stained', 'cathedral', '700000', 'pennsylvania', 'michigan', '7year', 'schism', 'bananas', 'outwork', 'drinks', 'mysterious', 'illness', 'avoid', 'boomers', 'kimmel', 'understand', 'attacks', 'historic', 'questionable', 'moniker', 'playing', 'remembered', 'rest', 'plants', 'baffled', 'guiding', 'hand', 'algebra', 'anne', 'wojcicki', 'healthy', 'mines', 'balkans', '12', 'had', 'rude', 'hungary', 'mirage', 'cheesy', 'crime', 'punishment', 'firms', 'shudder', 'reverts', 'spotlight', 'shines', 'rollbacks', 'argument', 'inclusion', 'riders', 'perversion', 'leadership', 'upstairs', 'youtubes', 'offices', 'rattles', 'honor', 'churches', 'mourning', 'beacon', 'harlem', 'five', 'attorneys', 'sisters', 'norway', 'lived', 'sidewalks', 'included', 'turf', 'interprets', 'pushed', 'johnny', 'cashs', 'poems', 'songs', 'oaxaca', 'gowanus', 'jrs', 'according', 'politically', 'faith', 'scene', 'uncovers', 'casual', 'horrors', 'foresees', 'securing', 'championship', 'hooked', 'vitamins', 'standin', 'standout', 'villanova', 'proclaims', 'awareness', 'month', 'thinks', 'bedford', 'son', 'pairs', 'mixing', 'pleasure', 'hurricanedamaged', 'islands', 'ancient', 'cloud', 'girlfriend', 'awful', 'warned', 'booksellers', 'doctor', 'grapple', 'epidemic', 'cost', 'siege', 'comfort', 'write', 'vape', 'supermans', 'alien', 'influential', 'voter', 'suppressions', 'reliving', 'button', 'industry', 'register', 'autocrats', 'playbook', 'trumpland', 'bruising', 'battles', 'condo', 'green', 'unclog', '2001', 'patrol', 'ear', 'matzo', 'birds', 'super', 'nova', 'antibiotics', 'antacids', 'allergies', 'escort', 'coach', 'held', 'thailand', 'secrets', 'divisive', 'oratory', 'daily', 'spellbound', 'efforts', 'reduce', 'standards', 'peak', 'picasso', 'sink', 'bump', 'bear', 'sweatpants', 'cheerleader', 'sends', 'rsvp', 'invitation', 'changing', 'residents', 'backward', 'disgrace', 'walk', 'fervor', 'niobe', 'treats', 'absurdist', 'winnie', 'madikizelamandela', 'fought', 'apartheid', 'dolphin', 'dieoff', 'tip', 'iceberg', 'glee', 'satisfaction', 'weeping', 'reacted', 'value', 'limitations', 'calcium', 'scan', 'roommate', 'ground', 'serve', 'deranged', 'tyrant', 'stoically', 'cracking', 'aspiring', 'developer', 'chooses', 'construction', 'checkpoints', 'armed', 'crossroads', 'tvs', 'hopeless', 'romantic', 'charities', 'showdown', 'borrowers', 'fighting', 'chores', 'spend', 'telling', 'defectors', 'puff', 'vaping', 'floods', 'stomach', 'duties', '128', 'products', 'resurrection', 'eager', 'refugees', 'courted', 'rhythms', 'melting', 'dismantling', 'lastsecond', 'subject', 'refuses', 'poisoned', 'knob', 'hints', 'highlevel', 'farm', 'techs', 'blockchain', 'intertwined', 'services', 'boycotts', 'wallace', 'tapped', 'racial', 'potent', 'capital', 'hollywoods', 'envoy', 'schooled', 'diplomacy', 'muppets', 'turk', 'caught', 'moment', 'backfired', 'kushners', 'spiro', 'agnew', 'father', 'disdain', 'javanka', 'klossy', 'posse', 'jordan', 'peterson', 'gods', 'spokeswomen', 'harassment', 'fussy', 'eater', '50000', 'rabbits', 'bellow', 'extortion', 'freedom', 'propelled', 'theyre', 'rekindle', 'activist', 'spirit', 'kevin', 'williamson', 'pale', 'smoke', 'trumpers', 'smarter', 'bologna', 'blamed', 'vast', 'listeria', 'bullets', 'sacramento', 'faced', 'cake', 'helped', 'create', 'legend', '22', 'female', 'senators', 'enough', 'hallowed', 'thy', 'government', 'lambs', 'shanks', 'sweetly', 'spiced', 'orlando', 'gunmans', 'wife', 'acquitted', 'shootings', 'conflama', 'while', 'guitars', 'gently', 'weep', 'selfdriving', 'industrys', 'biggest', 'confrontations', 'megamansions', 'megaproblems', 'story', 'hour', 'base', 'reflections', 'stupid', 'memphis', 'affirmative', 'reactionaries', 'detects', 'whiff', 'cronyism', 'appointment', 'hurricanes', 'ruin', 'return', 'contractor', 'retirement', 'broad', 'bills', 'stay', 'congressional', 'dysfunction', 'reigns', 'pitting', 'anatomy', 'angeles', 'teenager', 'grief', 'warms', 'sleep', 'innocents', 'prodigy', 'redeemed', 'complex', 'relationship', 'loves', 'moviethemed', 'vacation', 'greeces', 'despair', 'till', 'lear', 'visited', 'woo', 'saudis', 'longtime', 'whisperer', 'packs', 'leaving', 'void', 'integration', 'forever', 'network', 'rediscovers', 'reboot', 'shakeup', 'privatized', 'tesla', 'recharge', 'series', 'setbacks', 'scary', 'jacksons', 'disturbing', 'independence', 'praise', 'suggests', 'might', 'delay', 'coup', 'veterans', 'affairs', 'martha', 'automakers', 'x', 'activism', 'oral', 'streaming', 'frog', 'rebound', 'southern', 'exposure', 'quick', 'divorce', '60', 'denmark', 'deepens', 'caribbean', 'savor', 'australian', 'bounty', 'ideal', 'opinion', '68', 'bereaved', 'topics', 'using', 'column', 'tackle', 'toward', 'dirty', 'grandfathers', 'passes', 'freerange', 'luster', 'await', 'labour', 'wrestles', 'antisemitism', 'prevent', 'hoodie', 'stage', 'sweating', 'birth', 'honey', 'pot', 'satan', 'type', 'disappeared', 'statues', 'banished', 'attitudes', 'fury', 'germany', 'rap', 'antijewish', 'lyrics', 'award', 'farmers', 'anger', 'goldleaf', 'full', 'metal', 'seduced', 'coat', 'sudden', 'plunge', 'playboy', 'model', 'discuss', 'alleged', 'bowie', 'scam', 'amnt', 'injury', 'parkinsons', 'parkland', 'broadways', 'regards', 'married', 'beating', 'cuba', 'prepares', 'castro', 'messes', 'entire', 'paroled', 'felons', 'regain', 'vote', 'reader', 'idea', 'fon', 'faiin', 'fiim', 'classroom', 'literary', 'fixing', 'involuntary', 'housewife', 'visa', 'depart', 'pyongyang', 'seoul', 'confirms', 'treaty', 'fishing', 'via', '27', 'massachusetts', 'idaho', 'breeds', 'doggie', 'japan', 'sidelined', 'sam', 'trabucco', 'modernism', 'came', 'slash', 'forrest', 'mrs', 'nononsense', 'suburban', 'urban', 'touches', 'disrupter', 'lump', 'patients', 'jaw', 'inhaled', 'mustard', 'denied', 'purple', 'reinterpreted', 'break', 'planning', 'musical', 'piece', 'nominate', 'jonathan', 'ness', 'tried', 'hide', 'learn', 'confronts', 'desk', 'covered', 'everyday', 'wheres', 'lady', '92', 'celebration', 'complete', 'rancor', 'bickering', 'expectations', 'nuts', 'nurse', 'boston', 'fun', 'finishes', 'respond', 'diagnosis', 'airplane', 'engine', 'explodes', 'passenger', 'midair', 'ages', 'hangover', 'diamonds', 'obtaining', 'personal', 'firm', 'explores', '8000', 'stores', 'criminals', 'confused', 'haley', 'retorts', 'dawdling', 'filers', 'disgruntled', 'irs', 'website', 'final', 'muted', 'hunt', 'calm', 'amid', 'protesting', 'amateur', 'sleuths', 'bring', 'grunt', 'holocaust', 'fading', 'vegetables', 'dessert', 'menu', 'politician', 'usually', 'introducing', 'form', '1040el', 'emotional', 'carmakers', 'frozen', 'needed', 'chill', 'sentences', 'la', 'paz', 'empowerment', 'also', 'inspiring', 'group', 'billiondollar', 'blessings', 'relative', 'evaluating', 'cops', 'both', 'sides', 'badge', 'pashtuns', 'pakistani', 'wonder', 'beginners', 'declines', 'add', 'russians', 'carefully', 'cultivated', 'image', 'wind', 'liars', 'opening', 'lands', 'gas', 'lordy', 'sims', 'statue', 'central', 'park', 'moved', 'blindness', 'wealth', 'unspeakably', 'miserable', 'tell', '1978', 'debasement', 'forewarn', 'cyberthreat', 'gasps', 'courtroom', 'hannity', 'named', 'cohens', 'yorker', 'coverage', 'feral', 'bully', 'unleashes', 'comic', 'operatic', 'jewel', 'polished', 'cousin', 'martini', 'gold', 'rubles', 'renminbi', 'perus', 'potato', 'babas', 'pair', 'breakthroughs', 'blocked', 'memorial', 'divide', 'babys', 'lung', 'study', 'trove', 'glimpse', 'guards', 'waited', 'deadly', 'riot', 'hunger', 'pros', 'cons', 'statin', 'aloud', 'benefits', 'attention', '16', 'medieval', 'derby', 'idle', 'kansas', 'hinges', 'wired', 'besties', 'wartime', 'internment', 'looms', 'leaky', 'roofs', 'laptops', 'mobile', 'classrooms', 'snapshots', 'putting', 'budget', 'secretary', 'offense', 'photos', 'gynecological', 'tools', 'centuries', 'english', 'vice', 'versa', 'enriches', 'mandelas', 'heirs', 'catwalk', 'arabia', 'sealed', 'kiss', 'notable', 'abcs', 'tusks', 'ivory', 'stalking', 'apologized', 'hometown', 'arms', 'drugresistant', 'typhoid', 'monologues', 'ourselves', 'hundreds', 'taken', 'beaches', 'generosity', 'abound', 'cabos', 'colleges', 'fraying', 'seams', 'warplanes', 'tactics', 'pockets', 'eastern', 'killed', 'empathy', 'goes', 'brushing', 'scandals', 'christian', 'marshals', 'concludes', 'systemic', 'wnyc', 'hudson', 'bay', 'longing', 'trans', 'flattery', 'jackson', 'tammy', 'duckworth', 'moms', 'mine', 'sunscreens', 'thanks', 'marvels', 'bristle', 'grab', 'spaces', 'migrant', 'caravan', 'reaches', 'journey', 'isnt', 'macron', 'bromance', 'israels', 'refugee', 'breaks', 'postwar', 'recalls', 'suspect', 'doubtful', 'daca', 'applications', 'breathing', 'program', 'take', 'numerical', 'stronghold', 'buoying', 'nervous', 'ncaato', 'done', 'furniturebuilding', 'windmills', 'wide', 'jumbo', 'jets', 'clean', 'conforming', 'rebelling', 'wishes', 'tracy', 'k', 'smiths', 'wade', '73yearold', 'survivor', 'kidney', 'exp3r13nc3', 'pr0bl3m', 'lynchings', 'shadow', 'buy', 'ticket', 'provoked', 'giving', 'liberalisms', 'strong', 'stressed', 'woman', 'mornings', 'strenuous', 'affects', 'system', 'diabetes', 'selfcare', 'courses', 'danish', 'inventor', 'gruesome', '25', 'georgia', 'hunting', 'lucia', 'seems', 'trusting', 'jokes', 'theres', 'adults', 'souths', 'candid', 'audio', 'rapidly', 'disappearing', 'inheritance', 'hello', 'higher', 'kisses', 'french', 'critiques', 'policies', 'tracks', 'hormone', 'hurdle', 'deny', 'dignity', 'citizens', 'relievers', 'opioids', 'dental', 'relief', 'swindled', 'marks', 'sheryls', 'handmaids', 'episodes', 'motherinlaws', 'mink', 'cruelly', 'because', 'malaysia', 'israelipalestinian', 'intrigue', 'mitt', 'weenie', 'martyr', 'sane', 'sensible', 'respect', 'answers', 'location', 'maria', 'bochkareva', 'wwi', 'breakdancing', 'artist', 'intimidated', 'classical', 'low', 'inflation', 'rates', 'copenhagen', 'surges', 'fed', 'karate', 'kid', 'grudge', 'rematch', 'lifes', 'chance', 'revolution', 'uprising', 'different', '41', 'lgbt', 'reject', 'names', 'mommy', 'daddy', 'isolated', 'hid', 'buyers', 'terraces', 'linger', 'merkel', 'visit', 'welcome', 'mat', 'distances', 'savory', 'salty', 'carricantes', 'sicily', 'lesson', 'fiano', 'dumplings', 'nod', 'signal', 'genealogy', 'front', 'pop', 'rebellion', 'siberia', 'unlikely', 'greenpeace', 'tots', 'heavy', 'weights', 'unreserved', 'hawk', 'confirmed', 'diplomat', 'spare', 'italian', 'subs', 'australia', 'games', 'squash', 'ceiling', 'spider', 'tree', 'tries', 'untangle', 'evolution', 'webs', 'codes', 'smiles', 'comments', 'rift', 'braindamaged', 'review', 'searches', 'misogynists', 'terrorists', 'abby', 'caffeine', 'overweight', 'offspring', 'modernday', 'myth', 'verge', 'shares', 'prosecutor', 'seeking', 'smarts', 'poor', 'wrongdoing', 'killers', 'barflies', 'clinging', 'ends', 'comics', 'mona', 'short', 'theater', 'square', 'unite', 'banish', 'jabs', 'melania', 'gift', 'members', 'airconditioning', 'learned', 'corporate', 'diary', 'coop', 'slowed', 'growth', 'blip', 'driving', 'cliff', 'hart', 'stepping', 'outside', 'dollhouse', 'alkaline', 'owes', 'build', 'biden', 'disease', 'lawyer', 'clinton', 'surefire', 'winner', 'certain', 'debates', 'verdict', 'financial', 'fresh', 'bright', 'stirfry', 'happening', 'bloody', 'preview', 'deluxe', 'frittata', 'topped', 'burrata', 'merger', 'tmobile', 'sprint', 'popcorn', 'bosss', 'youtoo', 'nicaraguan', 'daunting', 'task', 'tracking', 'bootlegger', 'mayor', 'sells', 'bridge', 'yipes', 'canned', 'chaplain', 'scoffs', 'clues', 'placed', 'serial', 'nike', 'forcing', 'populist', 'tide', 'remaking', 'supporters', 'cartoon', 'nobel', 'laureate', 'alfie', 'evans', 'rich', 'extinction', 'identity', 'intelligence', 'misunabbreviated', 'hed', 'pursuit', 'truce', 'dinners', 'merging', 'tappan', 'zee', 'among', 'fluke', 'porgies', '150', 'reach', 'brace', 'deadline', 'draws', 'lessons', 'trueblue', 'liberals', '2020', 'proxy', 'underwear', 'potatoes', 'doug', 'jones', 'tennessee', 'gazan', 'living', 'thing', 'sense', 'transgender', 'bans', 'facts', 'apu', 'disarmament', 'deterrents', 'libya', 'always', 'uphill', 'laws', 'passed', 'judgment', 'eaten', 'focuses', 'snowladen', 'flights', 'jfk', 'minutes', 'deadliest', 'afghanistan', 'since', '2002', 'fearing', 'photographing', 'rituals', 'surround', 'emails', 'hate', 'opaque', 'ownership', 'llc', 'worried', 'risky', 'teenage', 'tougher', 'survived', 'started', '30', 'happy', 'karl', 'marx', 'incels', 'jihadists', 'orphan', 'frequently', 'supports', 'gamify', 'prepared', 'cede', 'pledges', 'invade', 'demands', 'ditch', 'wheelchair', 'tokyo', 'distinctive', 'austin', 'crew', 'gardens', 'ending', 'infinity', 'documenter', 'fortnite', 'addict', 'philosophy', 'pays', 'disappearances', 'highlight', 'militarys', 'mexicos', 'documents', 'irans', 'atomic', 'subterfuge', 'investment', 'holds', 'steady', 'q', 'hows', 'standoff', 'eases', 'allow', 'eight', 'seek', 'asylum', 'assumes', 'beauty', 'megamerger', 'tightens', 'app', 'investigation', 'couple', 'dividing', 'delaying', 'limit', 'researchers', 'sheldon', 'silver', 'retrial', 'revisits', 'gig', 'dealt', 'blow', 'cardinal', 'faces', 'charges', 'context', 'show', 'depth', 'obstacles', 'competitive', 'sport', 'rootslush', 'historical', 'rooted', 'naturenovels', 'steeped', 'historyancient', 'reimaginedjurassic', 'classics', 'question', 'reinforces', 'anna', 'llama', 'hayden', 'regret', 'nothin']\n",
      "\n",
      "=== 텍스트 생성 테스트 ===\n"
     ]
    }
   ],
   "source": [
    "# 12. 문장 생성 함수 정의\n",
    "#     - 시작 단어(current_word)를 받아 n번 반복 예측\n",
    "#     - 매 스텝마다 토큰화 → 패딩 → 모델 예측 → argmax로 다음 단어 선택\n",
    "import numpy as np\n",
    "\n",
    "def sentence_generation(model, tokenizer, current_word, n):\n",
    "    init_word = current_word  # 처음 들어온 단어도 마지막에 같이 출력하기 위해 저장\n",
    "    sentence = ''\n",
    "\n",
    "    for _ in range(n):  # n번 반복\n",
    "        # 현재 단어에 대한 정수 인코딩\n",
    "        encoded = tokenizer.texts_to_sequences([current_word])[0]\n",
    "        print(f\"현재 단어: '{current_word}' → 인코딩: {encoded}\")\n",
    "\n",
    "        # 데이터에 대한 패딩 (max_len-1 사용)\n",
    "        encoded = pad_sequences([encoded], maxlen=max_len-1, padding='pre')\n",
    "        print(f\"패딩 후: {encoded}\")\n",
    "\n",
    "        # predict_classes() → predict() + argmax()로 변경\n",
    "        result = model.predict(encoded, verbose=0)\n",
    "        result = np.argmax(result, axis=-1)[0]  # 가장 높은 확률의 인덱스 선택\n",
    "        print(f\"예측 결과 인덱스: {result}\")\n",
    "\n",
    "        # 인덱스를 단어로 변환\n",
    "        predicted_word = None\n",
    "        for word, index in tokenizer.word_index.items():\n",
    "            if index == result:  # 만약 예측한 단어의 인덱스와 동일한 단어가 있다면\n",
    "                predicted_word = word\n",
    "                break  # 해당 단어가 예측 단어이므로 break\n",
    "\n",
    "        if predicted_word is None:\n",
    "            print(f\"인덱스 {result}에 해당하는 단어를 찾을 수 없습니다.\")\n",
    "            break\n",
    "\n",
    "        print(f\"예측된 단어: '{predicted_word}'\")\n",
    "\n",
    "        # 현재 단어 + ' ' + 예측 단어를 현재 단어로 변경\n",
    "        current_word = current_word + ' ' + predicted_word\n",
    "        sentence = sentence + ' ' + predicted_word  # 예측 단어를 문장에 저장\n",
    "\n",
    "        print(f\"누적 문장: '{sentence.strip()}'\")\n",
    "        print(\"-\" * 50)\n",
    "\n",
    "    sentence = init_word + sentence\n",
    "    return sentence\n",
    "\n",
    "# 어휘 사전에 있는 단어들 확인\n",
    "print(\"=== 어휘 사전의 단어들 ===\")\n",
    "available_words = list(tokenizer.word_index.keys())\n",
    "print(f\"사용 가능한 단어들: {available_words}\")\n",
    "\n",
    "# 한국어 데이터에 맞는 시작 단어로 테스트\n",
    "print(f\"\\n=== 텍스트 생성 테스트 ===\")"
   ]
  },
  {
   "cell_type": "code",
   "execution_count": 47,
   "id": "0c1c5e7e",
   "metadata": {
    "executionInfo": {
     "elapsed": 4,
     "status": "ok",
     "timestamp": 1755740698306,
     "user": {
      "displayName": "강희숙",
      "userId": "05520711596090317319"
     },
     "user_tz": -540
    },
    "id": "0c1c5e7e"
   },
   "outputs": [],
   "source": [
    "# 12. 문장 생성 함수 정의\n",
    "#     - 시작 단어(current_word)를 받아 n번 반복 예측\n",
    "#     - 매 스텝마다 토큰화 → 패딩 → 모델 예측 → argmax로 다음 단어 선택\n",
    "\n",
    "def sentence_generation(model, tokenizer, current_word, n): # 모델, 토크나이저, 현재  단어, 반복핛  횟수\n",
    "    init_word = current_word # 처음  들어온  단어도  마지막에  같이  출력하기위해  저장\n",
    "    sentence = ''\n",
    "    for _ in range(n): # n번  반복\n",
    "        encoded = tokenizer.texts_to_sequences([current_word])[0] # 현재  단어에  대핚  정수  인코딩\n",
    "        encoded = pad_sequences([encoded], maxlen=23, padding='pre') # 데이터에  대한  패딩\n",
    "        result = model.predict_classes(encoded, verbose=0)\n",
    "        for word, index in tokenizer.word_index.items():\n",
    "            if index == result: # 만약 예측한  단어와  인덱스와  동일한  단어가  있다면\n",
    "                break # 해당  단어가  예측  단어이므로  break\n",
    "        current_word = current_word + ' '  + word # 현재  단어  + ' ' + 예측  단어를  현재  단어로  변경\n",
    "        sentence = sentence + ' ' + word # 예측  단어를  문장에  저장\n",
    "\n",
    "    sentence = init_word + sentence\n",
    "    return sentence"
   ]
  },
  {
   "cell_type": "code",
   "execution_count": 51,
   "id": "227750cb",
   "metadata": {
    "colab": {
     "base_uri": "https://localhost:8080/"
    },
    "executionInfo": {
     "elapsed": 7,
     "status": "ok",
     "timestamp": 1755741537291,
     "user": {
      "displayName": "강희숙",
      "userId": "05520711596090317319"
     },
     "user_tz": -540
    },
    "id": "227750cb",
    "outputId": "a5078c4c-bad1-475b-f1a4-0486210994e0"
   },
   "outputs": [
    {
     "name": "stdout",
     "output_type": "stream",
     "text": [
      "'경마장에'는 어휘 사전에 없습니다.\n",
      "'그의'는 어휘 사전에 없습니다.\n",
      "'가는'는 어휘 사전에 없습니다.\n",
      "'말이'는 어휘 사전에 없습니다.\n"
     ]
    }
   ],
   "source": [
    "# 13. 예시 문장 생성 - 어휘 사전에 있는 단어로 테스트\n",
    "test_words = ['경마장에', '그의', '가는', '말이']\n",
    "for start_word in test_words:\n",
    "    if start_word in tokenizer.word_index:\n",
    "        print(f\"\\n시작 단어: '{start_word}'\")\n",
    "        generated = sentence_generation(model, tokenizer, start_word, 3)\n",
    "        print(f\"최종 결과: {generated}\")\n",
    "        print(\"=\" * 60)\n",
    "    else:\n",
    "        print(f\"'{start_word}'는 어휘 사전에 없습니다.\")"
   ]
  },
  {
   "cell_type": "code",
   "execution_count": 52,
   "id": "JxarmQwcWfZR",
   "metadata": {
    "colab": {
     "base_uri": "https://localhost:8080/"
    },
    "executionInfo": {
     "elapsed": 520,
     "status": "ok",
     "timestamp": 1755741555929,
     "user": {
      "displayName": "강희숙",
      "userId": "05520711596090317319"
     },
     "user_tz": -540
    },
    "id": "JxarmQwcWfZR",
    "outputId": "6f26b769-cd62-4eff-fec2-d20f4eeb6f8e"
   },
   "outputs": [
    {
     "name": "stdout",
     "output_type": "stream",
     "text": [
      "\n",
      "영어 단어 'i' 테스트:\n",
      "'i'가 어휘 사전에 있습니다.\n",
      "현재 단어: 'i' → 인코딩: [59]\n",
      "패딩 후: [[ 0  0  0  0  0  0  0  0  0  0  0  0  0  0  0  0  0  0  0  0  0  0 59]]\n",
      "예측 결과 인덱스: 1856\n",
      "예측된 단어: 'disapprove'\n",
      "누적 문장: 'disapprove'\n",
      "--------------------------------------------------\n",
      "현재 단어: 'i disapprove' → 인코딩: [59, 1856]\n",
      "패딩 후: [[   0    0    0    0    0    0    0    0    0    0    0    0    0    0\n",
      "     0    0    0    0    0    0    0   59 1856]]\n",
      "예측 결과 인덱스: 4\n",
      "예측된 단어: 'of'\n",
      "누적 문장: 'disapprove of'\n",
      "--------------------------------------------------\n",
      "현재 단어: 'i disapprove of' → 인코딩: [59, 1856, 4]\n",
      "패딩 후: [[   0    0    0    0    0    0    0    0    0    0    0    0    0    0\n",
      "     0    0    0    0    0    0   59 1856    4]]\n",
      "예측 결과 인덱스: 167\n",
      "예측된 단어: 'school'\n",
      "누적 문장: 'disapprove of school'\n",
      "--------------------------------------------------\n",
      "결과: i disapprove of school\n"
     ]
    }
   ],
   "source": [
    "# 영어 단어 'i' 테스트 (어휘에 없을 가능성 높음)\n",
    "print(f\"\\n영어 단어 'i' 테스트:\")\n",
    "if 'i' in tokenizer.word_index:\n",
    "    print(\"'i'가 어휘 사전에 있습니다.\")\n",
    "    generated = sentence_generation(model, tokenizer, 'i', 3)\n",
    "    print(f\"결과: {generated}\")\n",
    "else:\n",
    "    print(\"'i'는 어휘 사전에 없습니다. 한국어 단어를 사용해주세요.\")"
   ]
  },
  {
   "cell_type": "code",
   "execution_count": 56,
   "id": "FMdbVqnAXM_s",
   "metadata": {
    "colab": {
     "base_uri": "https://localhost:8080/"
    },
    "executionInfo": {
     "elapsed": 224,
     "status": "ok",
     "timestamp": 1755741739164,
     "user": {
      "displayName": "강희숙",
      "userId": "05520711596090317319"
     },
     "user_tz": -540
    },
    "id": "FMdbVqnAXM_s",
    "outputId": "c0615b06-b551-4158-bcb8-26524f641946"
   },
   "outputs": [
    {
     "name": "stdout",
     "output_type": "stream",
     "text": [
      "어휘 사전: ['the', 'a', 'to', 'of', 'in', 'for', 'and', 'is', 'on', 'with', 'trump', 'as', 'at', 'new', 'how', 'from', 'it', 'an', 'that', 'be', 'season', 'us', 'you', 'its', 'what', 'episode', 'can', 'your', 'not', 'he', 'now', 'his', 'are', 'teaching', 'war', 'out', 'no', 'was', 'by', 'trumps', 'has', 'over', 'may', 'into', 'why', 'more', 'we', 'who', 'about', 'recap', 'activities', '1', 'just', 'do', 'women', 'when', 'syria', 'trade', 'i', '2', 'or', 'will', 'this', 'have', 'president', 'but', 'home', 'up', 'long', 'one', 'off', 'facebook', 'house', 'gop', 'our', 'case', 'they', 'life', 'end', 'right', 'some', 'big', 'dead', 'power', 'say', 'white', 'after', 'still', 'north', 'my', 'dont', 'need', 'race', 'own', 'against', 'here', 'should', 'border', 'former', 'epa', 'battle', 'mr', 'too', 'their', 'plan', '3', 'china', 'real', 'were', 'her', 'russia', 'art', 'good', 'then', 'like', 'pay', 'back', 'get', 'love', 'says', 'officials', 'fight', 'tariffs', 'pruitt', 'democrats', 'black', 'man', 'men', 'help', 'never', 'york', 'comey', 'chief', 'metoo', 'work', 'place', 'could', 'past', 'years', 'rights', 'first', 'money', 'save', 'going', 'all', 'way', 'political', 'fear', 'next', 'fire', 'party', 'me', 'becomes', '8', 'better', 'old', 'dr', 'king', 'homes', 'ryan', 'tax', 'if', 'than', 'americans', 'rules', 'police', 'school', 'leaders', 'korea', 'there', 'top', 'court', 'state', '10', 'lower', 'states', 'whats', 'use', 'cancer', 'britain', 'wont', 'time', 'america', 'history', 'where', 'lead', 'left', 'plans', 'talk', 'crisis', 'two', 'tells', 'trust', 'nuclear', 'children', 'million', 'make', 'leader', 'others', 'attack', 'people', 'another', '6', 'world', 'day', 'car', 'young', 'little', 'california', 'crash', 'last', 'book', 'death', 'gun', 'texas', 'hes', 'sex', 'abuse', 'find', 'truth', 'arizona', 'american', 'pompeo', 'change', 'city', 'kim', 'so', 'music', 'risks', 'being', 'billions', '5', 'family', 'missing', 'gaza', 'vs', 'senate', 'heart', 'justice', 'killing', 'cia', 'come', 'shows', 'turning', 'schools', 'parents', 'law', 'legal', 'economy', 'strike', 'him', 'threat', 'before', 'takes', 'night', 'mueller', 'close', 'cut', 'dream', 'face', 'friends', 'does', 'game', 'dear', 'boss', 'baby', 'kings', 'jail', 'nfl', 'jimmy', 'word', 'hot', 'turns', 'gap', 'got', 'hope', 'making', 'overlooked', 'push', 'high', 'deal', 'heck', 'live', 'families', 'wrong', '2018', 'fix', 'lawyers', 'koreas', 'choose', 'public', 'cuomo', 'steel', 'open', 'scott', 'beyond', 'variety', 'ethics', 'files', 'dept', 'let', 'inside', 'director', 'far', 'side', 'rupauls', 'drag', 'fence', 'sanctions', 'want', 'global', 'great', 'fish', 'market', 'team', 'eat', 'problem', 'miracle', 'tied', 'hours', 'working', 'other', 'yet', 'call', 'allies', 'privacy', 'data', 'experts', 'go', 'met', 'brooklyn', 'didnt', 'russian', 'trial', 'apply', 'college', 'many', '4', 'security', 'year', 'tale', 'social', 'control', 'been', 'hit', 'early', 'behind', 'match', 'ok', 'fears', 'isis', 'walking', 'national', 'presidency', 'student', 'second', 'limits', 'care', 'era', 'south', 'guard', 'rise', 'edge', 'hero', 'tech', 'secret', 'storm', 'gets', 'watch', 'weapons', 'cheerleaders', 'meeting', 'less', 'science', 'dirt', 'times', 'looking', 'win', 'pope', 'stuff', 'wants', 'ruling', 'town', 'cold', 'behavior', 'guns', 'stand', 'human', 'economic', 'tragedy', 'paul', 'them', 'key', 'down', 'given', 'urge', 'kids', 'westworld', 'picture', 'april', '23', 'subway', 'lets', 'impeachment', 'feel', 'told', 'smile', 'meet', 'wild', 'guide', 'business', 'republicans', 'starbucks', 'door', 'heres', 'punch', 'air', 'caution', 'democratic', 'seen', 'west', 'once', 'marriage', 'politics', 'mission', 'support', 'extra', 'stephen', 'colbert', 'doesnt', 'marijuana', 'reading', 'flight', 'navy', 'veteran', 'ban', 'atlanta', 'finally', 'ready', 'todays', 'puzzle', 'deputy', 'gave', 'teenagers', 'training', 'cant', 'remember', '36', 'found', 'look', 'scientists', 'drug', 'start', 'fit', 'syrian', 'israel', 'bush', 'tweets', 'calling', 'genius', 'acrostic', 'strikes', 'americas', 'pregnancy', 'step', 'washington', 'body', 'supreme', 'best', 'run', 'late', 'force', 'france', 'said', 'raid', 'report', 'aide', 'try', 'line', 'loss', 'risk', 'ask', 'trevor', 'noah', 'become', 'affair', 'died', 'travel', 'pollution', 'building', 'details', 'mike', 'immigration', 'much', 'words', 'press', 'energy', 'think', 'kitchen', 'teams', 'roseanne', 'matter', 'warm', 'cohen', 'eye', 'wait', 'seized', 'civil', 'brain', 'die', 'bad', 'island', 'target', 'michael', 'complicated', 'under', 'test', 'did', 'talks', 'put', 'questions', 'dies', 'moves', '15', 'lives', 'james', 'gives', 'warriors', 'mainstream', 'saudi', 'loan', 'puts', 'star', 'broken', 'glass', 'moments', 'sick', 'beat', 'god', 'mean', 'spy', 'immigrants', 'kill', 'shame', 'maybe', 'even', 'land', '14', 'policy', 'agent', 'smart', 'martin', 'luther', 'mind', 'earth', 'action', 'iraq', 'feeling', 'nature', 'church', 'beware', 'away', 'point', 'army', 'va', 'girls', 'play', 'made', 'marathon', 'lies', 'turn', 'fiction', 'terror', 'accept', 'dying', 'victims', 'golden', 'common', 'near', 'cosby', 'revolt', 'offer', 'rule', 'bag', 'tradition', 'failed', 'utah', 'few', 'believe', 'forced', 'artists', 'carter', 'jersey', 'quiz', 'lifethreatening', 'food', 'choosing', 'future', 'gone', 'panel', 'bucks', 'sidewalk', 'van', 'cuts', 'apologies', 'europes', 'iran', 'themselves', 'avengers', 'most', 'movie', 'taking', 'mirror', 'chancellor', 'debate', 'foods', 'citys', 'favorite', 'cruelty', 'robots', 'coffee', 'prince', 'share', 'tolerance', 'stop', 'migrants', 'path', 'aiding', 'europe', 'magic', 'kind', 'losing', 'middle', 'class', 'youll', 'sorry', 'swamp', 'columbia', 'wages', 'painfully', 'wonkish', 'forgotten', 'survival', 'decline', 'mess', 'fake', 'set', 'himself', 'barely', 'quit', '70', 'conspiracy', 'pick', 'wells', 'fargo', 'mayhem', 'fields', '50', 'lack', 'cynthia', 'nixon', 'along', 'promise', 'testing', 'candidates', 'pruitts', 'reforms', 'selling', 'know', 'runners', 'tarot', 'card', 'dress', 'pilot', 'nerves', 'letting', 'al', 'equal', 'returns', 'snake', 'oil', 'betrayed', 'nation', 'fashion', 'lay', 'fine', 'fraud', 'again', 'exfbi', 'sent', 'name', 'sea', 'stands', 'spur', 'means', 'progressive', 'standardized', 'tests', 'antibias', 'goal', 'gentrification', 'shine', 'road', 'deportation', 'voice', 'crazy', 'warming', 'interview', 'launches', 'allout', 'barbara', 'ill', 'treatment', 'blasts', 'slippery', 'around', 'office', 'todo', 'list', 'housing', 'leaves', 'pinch', 'took', 'assad', 'library', 'payment', 'snarl', 'makes', '87', 'comedy', 'rising', 'stars', 'alike', 'coal', 'lobbyist', 'crossword', 'animals', 'whos', 'pentagon', 'signs', 'childhood', 'courts', 'shift', 'saying', 'scandal', 'sticker', 'shock', 'teacher', 'walkouts', 'grip', 'red', 'speaker', 'leave', 'british', 'mexico', 'wish', 'alive', 'longer', 'moscow', 'believes', 'beef', 'stew', 'chinese', 'partner', 'tabloid', 'catches', 'facebooks', 'lot', 'health', 'putin', 'india', 'these', 'begin', 'protest', 'florida', 'colorado', 'thats', 'hopes', 'access', 'hollywood', 'tape', 'focus', 'fbi', 'general', 'leak', 'spring', 'gut', 'advice', 'risotto', 'simple', 'during', 'week', 'ball', 'gluten', 'free', 'seattle', 'exhusband', 'dilemma', 'betting', 'governors', 'collector', 'thriving', 'modern', 'count', 'thousands', 'interest', 'alaska', 'republican', 'midterm', 'elections', 'pose', 'worry', 'view', 'fascism', 'without', 'spending', 'signals', 'boys', 'learning', 'move', 'fast', 'governor', 'those', 'aging', 'warns', 'media', 'exercise', 'allergic', 'signatures', 'military', 'disaster', 'embrace', 'youre', 'defying', 'toll', 'humans', 'store', 'dogs', 'client', 'reports', 'fired', 'coming', 'lavish', 'zone', 'called', 'options', 'paid', 'ice', 'adviser', 'calls', 'polar', 'bears', 'online', 'bust', 'bars', 'private', 'fans', 'remains', 'funny', 'daughter', 'offered', 'massacre', 'prison', 'votes', 'very', 'outsiders', 'gender', 'scrutiny', 'trail', 'nightmare', 'species', 'fuels', 'jacket', 'hair', '81', 'foreign', '9', 'arabian', 'official', 'afghan', 'enters', 'journalism', 'later', 'cry', 'vows', 'price', 'raising', 'song', 'gallery', 'hockey', 'fox', 'fiery', 'chemical', 'hasty', 'viral', 'voters', 'arlee', 'arent', 'friday', 'something', 'every', 'buying', 'ad', 'asparagus', 'blame', 'democracy', 'bracing', 'blood', 'estate', 'jobs', 'raised', 'islam', 'yorks', 'give', 'blast', 'small', 'forces', 'tight', 'labor', 'manhattan', 'intellectual', 'tiny', 'haunting', 'thoughts', 'misconduct', 'usual', 'lisa', 'evil', 'springs', 'stress', 'monkeys', 'gay', 'safety', 'crashes', 'queen', 'indexes', 'indian', 'dreams', 'role', 'macrons', 'locals', 'shot', 'whims', 'sees', 'makers', 'pipe', 'slow', 'quiet', 'ohio', 'primary', 'readers', 'universe', 'older', 'well', 'rents', 'saving', 'worship', 'detail', 'project', 'dissent', 'kennedy', 'assassination', 'edges', 'brazil', 'sports', 'dad', 'amazon', 'trauma', 'anxiety', '100', 'endless', 'video', 'legacy', 'candidate', 'shooting', 'silicon', 'valley', 'light', 'chose', 'heated', 'leads', 'israelis', 'lone', 'journalist', 'sexual', 'assault', 'joke', 'bronx', 'necessary', 'search', 'nights', 'giants', 'streets', 'stocks', 'see', 'teachers', 'spreads', 'african', 'only', 'hard', 'reality', 'fallout', 'stories', 'needs', 'plot', 'uk', 'answer', 'blunt', 'dog', 'george', 'decades', 'furor', 'fall', 'movement', 'claims', 'saturday', 'outrage', 'outbreak', 'struck', 'vietnam', 'actually', 'puerto', 'rico', 'quite', 'tune', 'los', 'protests', 'wary', 'camera', 'baseball', 'mogul', 'country', 'tv', 'ronny', 'gen', 'kremlin', 'crackdown', 'memory', 'parenting', 'loses', 'racist', 'duo', 'bueller', 'midterms', 'defense', 'generation', 'students', 'genre', 'instagram', 'survey', 'wouldnt', 'phone', 'standing', 'act', 'would', 'pulitzer', 'prize', 'treat', 'tea', 'mother', 'peace', 'virtual', 'currency', 'journalists', 'finds', 'lawman', 'wins', 'itself', 'abroad', 'mercy', 'suspects', 'doctors', 'letter', 'comeys', 'spoil', 'child', 'inch', 'site', 'finale', 'immune', 'therapy', 'japanese', 'conquering', 'graft', 'really', 'immigrant', 'spf', 'overdue', 'presidential', 'dreamers', 'officer', 'judge', 'water', 'im', 'workers', 'n0', 'guilty', 'killer', 'pain', 'same', 'led', 'wave', 'inquiry', 'least', 'jury', 'bill', 'street', 'reckoning', 'birthday', 'ride', 'board', 'meddling', 'sets', 'telecom', 'settlement', 'goodell', 'unveil', 'effect', 'policymaking', 'noma', 'explained', 'became', 'selfexpression', 'commuter', 'reprogramming', 'ford', 'changed', 'lift', 'romney', 'convention', 'doomed', 'chain', 'reaction', 'vatican', 'investigate', 'francis', 'berlin', 'knows', 'reignite', 'churchstate', 'separation', 'procrastinating', 'dilatory', 'bout', 'e', 'coli', 'poisoning', 'brexit', 'yearned', 'seafaring', 'muddied', 'quote', 'disproved', 'bizarre', 'groups', 'equality', 'nashville', 'education', 'relents', 'approved', 'buses', 'turnaround', 'dinner', 'nods', 'traditions', 'pouring', 'wisconsin', 'stakes', 'mismatched', 'motives', 'toronto', 'nothing', 'indigenous', 'canada', 'craft', 'distillers', 'facing', 'taxes', 'invest', 'lucrative', 'franchise', 'ever', 'wrapping', 'genital', 'reconstruction', 'utne', 'frontier', 'denial', 'patron', 'wrested', 'rifle', 'trying', 'richard', 'carranza', 'ultimately', 'everything', 'helping', 'adhd', 'thrive', 'persists', 'gmo', 'soap', 'opera', 'odds', 'shopping', 'multilevel', 'tables', 'whisky', 'chronicles', 'unproven', 'technology', 'label', 'special', 'delivery', 'setting', 'tone', 'postpresidency', 'obama', 'message', 'politicians', 'scraping', 'bottom', 'scarce', 'resource', 'referee', 'sudan', 'blocks', 'peaceful', 'mood', 'premiere', 'consequences', 'majesty', 'rhyme', '1738', 'servants', 'foothold', 'ideas', 'thank', 'muellers', 'abhors', 'buried', 'graveyard', 'played', 'rescue', 'de', 'blasio', 'countrys', 'ugliest', 'feuds', 'dodging', 'handy', 'detour', 'foes', 'tribute', 'uwe', 'reinhardt', 'revisiting', 'eras', 'wet', 'pluses', 'minuses', 'bid', 'rosenstein', 'costly', 'opioid', 'foretold', 'deals', 'imperil', 'adapting', 'doing', 'pearls', 'puns', 'anagrams', 'chiefs', 'woes', 'echoes', 'bow', 'rumors', 'fuel', 'thirst', 'revenge', 'airbnb', 'babies', 'voting', 'childbirths', 'dangers', 'noticed', 'jewish', 'phrasing', 'deserts', 'curtains', 'gypsy', 'punching', 'clout', 'provocateur', 'blooddripping', 'appearance', 'lawsuit', 'alleging', 'trumprussia', 'divided', 'garner', 'fullon', 'propaganda', 'twisting', 'towers', 'penalty', 'known', 'east', 'familiar', 'getting', 'nobody', 'egos', 'repetitive', 'insanity', 'happen', 'korean', 'hault', 'four', 'space', 'embracing', 's', 'cracks', 'inquiries', 'widen', 'code', 'strict', 'southwest', '1380', 'hailed', 'trackandfield', 'sign', 'paper', 'boi', 'redacted', 'memos', 'delivered', 'lawmakers', 'elizas', 'charge', 'amendment', 'slump', 'sponsoring', 'terrorism', 'dawn', 'fulton', 'deceived', 'slain', 'rsum', 'giuliani', 'lend', 'firepower', 'adds', 'parallels', 'jake', 'tappers', 'novel', 'olivia', 'popes', 'pantsuit', 'billion', 'armstrong', 'agrees', 'safe', 'salad', 'possible', 'prosecution', 'cures', 'ho', 'noodle', 'soup', 'nourishes', 'transports', 'pediatrician', 'asperger', 'syndrome', 'nazi', 'bodies', 'remodeled', 'restaurant', 'frenchette', 'natural', 'wines', 'arrested', 'rent', 'slide', 'cubas', 'hardliner', 'enigma', 'surplus', 'frowns', 'olive', 'branch', 'viewed', 'warily', 'san', 'franciscos', 'seismic', 'gamble', 'companies', 'require', 'employees', 'sowing', 'literature', 'imaginative', 'caregiving', 'patient', 'lighting', 'landscapes', 'aliens', 'worse', 'things', 'citizenship', 'lisbon', 'janelle', 'mone', 'tolls', 'closer', 'damage', 'barrier', 'reef', 'irreversible', 'dislike', 'despise', 'fiscal', 'conservatives', 'tales', 'persia', 'unfolding', 'addiction', 'creative', 'leash', 'attracts', 'changes', 'gravely', 'opts', 'halt', 'punish', 'barrage', 'sold', '600000', 'youtuber', 'brings', 'preposition', 'proposition', 'jump', 'ship', 'mom', 'running', 'warrior', 'mall', 'scrap', 'exorcist', 'strange', 'pension', 'math', 'profiteers', 'coax', 'surgery', 'accomplished', 'window', 'ledge', 'nest', 'pigeons', 'salute', 'signature', 'signing', 'expressions', 'affection', 'republic', 'targets', 'pull', 'yourself', 'together', 'henry', 'higgins', 'pictures', 'viewing', 'through', 'resignation', 'ahead', 'spurn', 'endorse', 'rival', 'burgundy', 'iconoclast', 'laurent', 'ponsot', 'looks', 'projects', 'trading', 'mitzi', 'shore', 'club', 'owner', 'fostered', 'university', 'rice', 'balls', 'subtle', 'showy', 'omusubi', 'gonbei', 'insider', 'addressing', 'areas', 'punched', 'clock', 'issue', 'rises', 'fore', 'vindicating', 'zoo', 'performer', 'staring', 'urges', 'greater', 'pill', 'sarms', 'armageddon', 'revert', 'queens', 'appointing', 'male', 'missed', 'opportunity', 'dissenting', 'rightward', 'lots', 'screen', 'stalwart', 'heads', 'phoenix', 'transplant', 'threaten', 'upended', 'calmly', 'victoria', 'kidnapped', 'schoolgirls', 'boko', 'haram', 'portraits', 'mestiza', 'comebacks', 'morning', 'owls', 'lin', 'huiyin', 'liang', 'sicheng', 'chroniclers', 'architecture', 'silent', 'headline', 'investigators', 'eyes', 'begins', 'charm', 'offensive', 'questioning', 'lethal', 'export', 'triumph', 'contradiction', 'riddance', 'objects', 'fell', 'sky', 'shouts', 'chemicals', 'track', 'methane', 'leaks', 'above', 'fires', 'tugging', 'reins', 'she', 'alternative', 'fewer', 'oligarchs', 'brutal', 'rape', 'murder', 'girl', 'divides', 'balaboosta', 'doors', 'portals', 'chelsea', 'hotels', 'clearing', 'airport', 'camp', 'treehouse', 'grid', 'feather', 'cap', 'albatross', 'neck', 'retire', 'scattering', 'faulted', 'scathing', 'inspector', 'cheney', 'pardoned', 'billionaires', 'ambition', 'meets', 'riffing', 'worlds', 'sandwiches', 'clinical', 'elderly', 'craving', 'taste', 'turtles', 'magnetic', 'birthplace', 'beach', 'feels', 'chefs', 'relaxation', 'stir', 'vision', 'aids', 'watching', 'weekend', 'untruthful', 'slime', 'lash', 'bigger', 'oats', 'which', 'contain', 'labeled', 'homeless', 'wed', 'beneath', 'overpass', 'cograndparent', 'am', 'paying', 'nap', 'tethered', 'raging', 'buffoon', 'hammers', 'congress', 'dependence', 'cash', 'berkshires', 'solved', 'dorm', 'mans', 'obsession', 'uncertainty', 'missouri', 'maze', 'lost', 'syrias', 'sustainable', 'environment', 'bank', 'account', 'paltry', 'neighbor', 'chasing', 'thief', 'spideys', 'creator', 'web', 'strife', 'upends', 'flower', 'shop', 'ecclesiastic', 'serious', 'rupocalypse', '7', 'drake', 'points', 'inevitable', 'pardon', 'convicted', 'visceral', 'grim', 'memoir', 'works', 'hill', 'cheer', 'favors', 'flimflam', 'renaissance', 'perfume', 'mincing', 'sheriff', 'indulged', 'mounted', 'overdose', 'accessible', 'falters', 'shifting', 'baffle', 'chinas', 'masculinity', 'age', 'photo', 'twice', 'major', 'lifts', 'renewable', 'sources', 'historians', 'versus', 'genealogists', 'weighs', 'rejoining', 'accord', 'pacific', 'rim', 'aboutface', 'brisbane', 'gauge', 'apart', 'imitators', 'medallion', 'builtin', 'advantage', 'majority', 'receding', 'camdens', 'improve', 'stateappointed', 'superintendent', 'steps', 'aside', 'abortion', 'roe', 'unwanted', 'advances', 'missouris', 'italy', 'deleted', 'ago', 'musicians', 'concert', 'promises', 'promote', 'alone', 'weight', 'fictional', 'pence', 'plane', 'algerias', 'worst', '257', 'giant', 'collects', 'uses', 'except', 'pedestrian', 'reddest', 'rural', 'districts', 'nra', 'hidden', 'answering', 'seth', 'meyers', 'wonders', 'spells', 'doom', 'animal', 'welfare', 'suffering', 'brassai', 'paris', 'python', 'pet', 'snatched', 'smells', 'memories', 'classic', 'else', 'bite', 'ignored', 'clown', 'bleached', 'angry', 'subpoenas', 'nearly', 'december', 'traumatic', 'injuries', 'dementia', 'salt', 'pepper', 'already', 'gory', 'el', 'chapo', 'draining', 'three', 'investigates', 'admissions', 'tiki', 'bar', 'lessthantropical', 'raids', 'hush', 'fumes', 'trembling', 'screaming', 'cream', 'homeland', 'bolton', 'settles', 'filipinos', 'tatters', 'trip', 'latin', 'citing', 'climate', 'skeptics', 'beg', 'differ', 'speak', 'accountable', 'misunderstands', 'imagines', 'went', 'diving', 'renovation', 'gusto', 'rhodesias', 'supremacists', 'cambridge', 'analytica', 'course', 'escapes', 'riots', 'beatings', 'prisons', 'soups', 'beautiful', 'bogot', 'travelers', 'starter', 'kit', 'groped', 'pro', 'bosses', 'disapprove', 'vouchers', 'mayors', 'streetcar', 'markdowns', 'poem', 'cure', 'pages', 'exspy', 'hospital', 'popup', 'classes', 'reporters', 'recorded', 'myanmar', 'authority', 'months', 'resigning', 'event', 'revulsion', 'eroded', 'obamacares', 'stable', 'failures', 'antitrumpism', 'bannon', 'beliefs', 'parent', 'allay', '911', 'born', 'zuckerberg', 'center', 'reshape', 'tokens', 'please', 'widens', 'onenight', 'temptation', 'handlers', 'leeches', 'trackers', 'poised', 'balloon', 'trillion', 'deficit', 'grilling', 'tie', 'shirt', 'mets', 'excited', 'authentic', 'retaliation', 'abou', 'sizzle', 'grill', 'tense', 'fossilized', 'finger', 'bone', 'earliest', 'peninsula', 'advisers', 'head', 'actions', 'commander', 'returning', 'battleground', '20', 'rallying', 'reactions', 'shingles', 'vaccine', 'reasons', 'masked', 'wrestling', 'priest', 'prospect', 'missile', 'hub', 'contemplation', 'challenge', 'books', 'teach', 'management', 'cleaning', 'wit', 'tina', 'fey', 'splintered', 'hearts', 'horror', 'governed', 'amp', 'powderkeg', 'bon', 'vivant', 'tower', 'couldnt', 'sell', 'affected', 'users', 'carnage', 'muddles', 'exit', 'sweeping', 'election', 'victory', 'hungarys', 'ruler', 'constitution', 'antioch', 'initials', 'stroller', 'scrawls', 'credit', 'trusts', 'complain', 'triple', 'spoonerisms', 'murky', 'perils', 'quitting', 'antidepressants', 'landlord', 'refund', 'fee', 'amenities', 'available', 'renegades', 'sri', 'lanka', 'bombast', 'samantha', 'germs', 'diet', 'soda', 'dvd', 'staff', 'advised', 'resistant', 'epas', 'current', 'tb', 'insufficient', 'princes', 'tour', 'murdoch', 'gates', 'oprah', 'anonymous', 'earned', 'divine', 'status', 'frustrated', 'yorkers', 'catering', 'fliers', '30000', 'feet', 'enemy', 'cecil', 'taylor', 'pianist', 'defied', 'jazz', 'orthodoxy', '89', 'pressure', 'miscarriage', 'dynasty', 'passing', 'torch', 'disappointing', 'alarms', 'nominees', 'views', '80s', 'kors', 'dismantle', 'obamas', 'hatewatching', 'hgtv', 'putins', 'inner', 'circle', 'gendered', 'emasculator', 'until', 'arrived', 'chappaquiddick', 'theory', 'march', 'structure', 'denies', 'knowledge', 'porn', 'flail', 'concerns', 'ousted', 'script', 'restaurateur', 'starr', 'keith', 'mcnally', 'reopen', 'pastis', 'liberal', 'nirvana', 'sometimes', 'room', 'protecting', 'outposts', 'pulling', 'lawn', 'chairs', 'someones', 'prom', 'include', 'squeezes', 'restaurants', 'growing', 'threatens', 'aides', 'exits', 'confident', 'buzz', 'v', 'sale', 'harder', 'disabilities', 'contract', 'authoritarianism', 'driven', 'elevator', 'oh', 'accuse', 'architect', 'finding', 'decent', 'wades', 'deeper', 'detainee', 'operations', 'kurds', 'recovery', 'weakness', 'strength', 'commerce', 'murkowski', 'mastered', 'myerss', 'fallon', 'homework', 'therapist', 'japans', 'popular', 'bathing', 'temple', 'elephants', 'retreat', 'sheep', 'dylan', 'st', 'vincent', 'sing', 'fatal', 'bessie', 'b', 'stringfield', 'motorcycle', 'miami', 'causing', 'walkoff', 'youtube', 'complaints', 'attacker', 'echoed', 'dollars', 'flawed', 'trapping', 'manufacturers', 'crossfire', 'uschina', 'tensions', 'send', 'homestead', 'architectures', 'forensic', 'gaze', 'womens', 'jeopardy', 'producer', 'supplied', 'dough', 'souvenirs', 'ive', 'forget', 'logo', 'quirks', 'garry', 'winogrand', 'photograph', 'museum', 'deception', 'campus', 'expresident', 'sentenced', '24', 'corruption', 'radical', 'exile', 'vocal', 'imam', 'fifty', 'shades', 'slice', 'pizza', 'knew', 'mentally', 'officers', 'keep', 'crossing', 'undeterred', 'washingtons', 'agreement', 'nafta', 'must', '45000', 'bribes', 'luxuries', 'prosecutors', 'escalates', 'tariff', 'mistake', 'worries', 'sending', 'pointing', 'believed', 'infrastructure', 'fund', 'hype', 'shhhh', 'silence', 'mostly', 'enchanted', 'aims', 'transparency', 'defeated', 'circus', 'deploy', 'condoning', 'illiteracy', 'footprints', 'scottish', 'isle', 'playground', 'dinosaurs', 'lovely', 'tempts', 'kasich', 'hearing', 'multiple', 'channels', 'balancing', 'chaos', 'mighty', 'yes', 'wiser', 'homelessness', 'follows', 'minnesota', 'miners', 'houses', 'astounding', 'pulls', 'total', 'withdrawal', 'google', 'internal', 'robert', 'f', 'indianapolis', 'crowd', 'profile', 'breach', 'brink', 'officially', 'guy', 'cue', 'jitters', 'wars', 'stranded', 'assets', 'stock', 'googoosha', 'cherished', 'uzbek', 'between', 'grows', 'stained', 'cathedral', '700000', 'pennsylvania', 'michigan', '7year', 'schism', 'bananas', 'outwork', 'drinks', 'mysterious', 'illness', 'avoid', 'boomers', 'kimmel', 'understand', 'attacks', 'historic', 'questionable', 'moniker', 'playing', 'remembered', 'rest', 'plants', 'baffled', 'guiding', 'hand', 'algebra', 'anne', 'wojcicki', 'healthy', 'mines', 'balkans', '12', 'had', 'rude', 'hungary', 'mirage', 'cheesy', 'crime', 'punishment', 'firms', 'shudder', 'reverts', 'spotlight', 'shines', 'rollbacks', 'argument', 'inclusion', 'riders', 'perversion', 'leadership', 'upstairs', 'youtubes', 'offices', 'rattles', 'honor', 'churches', 'mourning', 'beacon', 'harlem', 'five', 'attorneys', 'sisters', 'norway', 'lived', 'sidewalks', 'included', 'turf', 'interprets', 'pushed', 'johnny', 'cashs', 'poems', 'songs', 'oaxaca', 'gowanus', 'jrs', 'according', 'politically', 'faith', 'scene', 'uncovers', 'casual', 'horrors', 'foresees', 'securing', 'championship', 'hooked', 'vitamins', 'standin', 'standout', 'villanova', 'proclaims', 'awareness', 'month', 'thinks', 'bedford', 'son', 'pairs', 'mixing', 'pleasure', 'hurricanedamaged', 'islands', 'ancient', 'cloud', 'girlfriend', 'awful', 'warned', 'booksellers', 'doctor', 'grapple', 'epidemic', 'cost', 'siege', 'comfort', 'write', 'vape', 'supermans', 'alien', 'influential', 'voter', 'suppressions', 'reliving', 'button', 'industry', 'register', 'autocrats', 'playbook', 'trumpland', 'bruising', 'battles', 'condo', 'green', 'unclog', '2001', 'patrol', 'ear', 'matzo', 'birds', 'super', 'nova', 'antibiotics', 'antacids', 'allergies', 'escort', 'coach', 'held', 'thailand', 'secrets', 'divisive', 'oratory', 'daily', 'spellbound', 'efforts', 'reduce', 'standards', 'peak', 'picasso', 'sink', 'bump', 'bear', 'sweatpants', 'cheerleader', 'sends', 'rsvp', 'invitation', 'changing', 'residents', 'backward', 'disgrace', 'walk', 'fervor', 'niobe', 'treats', 'absurdist', 'winnie', 'madikizelamandela', 'fought', 'apartheid', 'dolphin', 'dieoff', 'tip', 'iceberg', 'glee', 'satisfaction', 'weeping', 'reacted', 'value', 'limitations', 'calcium', 'scan', 'roommate', 'ground', 'serve', 'deranged', 'tyrant', 'stoically', 'cracking', 'aspiring', 'developer', 'chooses', 'construction', 'checkpoints', 'armed', 'crossroads', 'tvs', 'hopeless', 'romantic', 'charities', 'showdown', 'borrowers', 'fighting', 'chores', 'spend', 'telling', 'defectors', 'puff', 'vaping', 'floods', 'stomach', 'duties', '128', 'products', 'resurrection', 'eager', 'refugees', 'courted', 'rhythms', 'melting', 'dismantling', 'lastsecond', 'subject', 'refuses', 'poisoned', 'knob', 'hints', 'highlevel', 'farm', 'techs', 'blockchain', 'intertwined', 'services', 'boycotts', 'wallace', 'tapped', 'racial', 'potent', 'capital', 'hollywoods', 'envoy', 'schooled', 'diplomacy', 'muppets', 'turk', 'caught', 'moment', 'backfired', 'kushners', 'spiro', 'agnew', 'father', 'disdain', 'javanka', 'klossy', 'posse', 'jordan', 'peterson', 'gods', 'spokeswomen', 'harassment', 'fussy', 'eater', '50000', 'rabbits', 'bellow', 'extortion', 'freedom', 'propelled', 'theyre', 'rekindle', 'activist', 'spirit', 'kevin', 'williamson', 'pale', 'smoke', 'trumpers', 'smarter', 'bologna', 'blamed', 'vast', 'listeria', 'bullets', 'sacramento', 'faced', 'cake', 'helped', 'create', 'legend', '22', 'female', 'senators', 'enough', 'hallowed', 'thy', 'government', 'lambs', 'shanks', 'sweetly', 'spiced', 'orlando', 'gunmans', 'wife', 'acquitted', 'shootings', 'conflama', 'while', 'guitars', 'gently', 'weep', 'selfdriving', 'industrys', 'biggest', 'confrontations', 'megamansions', 'megaproblems', 'story', 'hour', 'base', 'reflections', 'stupid', 'memphis', 'affirmative', 'reactionaries', 'detects', 'whiff', 'cronyism', 'appointment', 'hurricanes', 'ruin', 'return', 'contractor', 'retirement', 'broad', 'bills', 'stay', 'congressional', 'dysfunction', 'reigns', 'pitting', 'anatomy', 'angeles', 'teenager', 'grief', 'warms', 'sleep', 'innocents', 'prodigy', 'redeemed', 'complex', 'relationship', 'loves', 'moviethemed', 'vacation', 'greeces', 'despair', 'till', 'lear', 'visited', 'woo', 'saudis', 'longtime', 'whisperer', 'packs', 'leaving', 'void', 'integration', 'forever', 'network', 'rediscovers', 'reboot', 'shakeup', 'privatized', 'tesla', 'recharge', 'series', 'setbacks', 'scary', 'jacksons', 'disturbing', 'independence', 'praise', 'suggests', 'might', 'delay', 'coup', 'veterans', 'affairs', 'martha', 'automakers', 'x', 'activism', 'oral', 'streaming', 'frog', 'rebound', 'southern', 'exposure', 'quick', 'divorce', '60', 'denmark', 'deepens', 'caribbean', 'savor', 'australian', 'bounty', 'ideal', 'opinion', '68', 'bereaved', 'topics', 'using', 'column', 'tackle', 'toward', 'dirty', 'grandfathers', 'passes', 'freerange', 'luster', 'await', 'labour', 'wrestles', 'antisemitism', 'prevent', 'hoodie', 'stage', 'sweating', 'birth', 'honey', 'pot', 'satan', 'type', 'disappeared', 'statues', 'banished', 'attitudes', 'fury', 'germany', 'rap', 'antijewish', 'lyrics', 'award', 'farmers', 'anger', 'goldleaf', 'full', 'metal', 'seduced', 'coat', 'sudden', 'plunge', 'playboy', 'model', 'discuss', 'alleged', 'bowie', 'scam', 'amnt', 'injury', 'parkinsons', 'parkland', 'broadways', 'regards', 'married', 'beating', 'cuba', 'prepares', 'castro', 'messes', 'entire', 'paroled', 'felons', 'regain', 'vote', 'reader', 'idea', 'fon', 'faiin', 'fiim', 'classroom', 'literary', 'fixing', 'involuntary', 'housewife', 'visa', 'depart', 'pyongyang', 'seoul', 'confirms', 'treaty', 'fishing', 'via', '27', 'massachusetts', 'idaho', 'breeds', 'doggie', 'japan', 'sidelined', 'sam', 'trabucco', 'modernism', 'came', 'slash', 'forrest', 'mrs', 'nononsense', 'suburban', 'urban', 'touches', 'disrupter', 'lump', 'patients', 'jaw', 'inhaled', 'mustard', 'denied', 'purple', 'reinterpreted', 'break', 'planning', 'musical', 'piece', 'nominate', 'jonathan', 'ness', 'tried', 'hide', 'learn', 'confronts', 'desk', 'covered', 'everyday', 'wheres', 'lady', '92', 'celebration', 'complete', 'rancor', 'bickering', 'expectations', 'nuts', 'nurse', 'boston', 'fun', 'finishes', 'respond', 'diagnosis', 'airplane', 'engine', 'explodes', 'passenger', 'midair', 'ages', 'hangover', 'diamonds', 'obtaining', 'personal', 'firm', 'explores', '8000', 'stores', 'criminals', 'confused', 'haley', 'retorts', 'dawdling', 'filers', 'disgruntled', 'irs', 'website', 'final', 'muted', 'hunt', 'calm', 'amid', 'protesting', 'amateur', 'sleuths', 'bring', 'grunt', 'holocaust', 'fading', 'vegetables', 'dessert', 'menu', 'politician', 'usually', 'introducing', 'form', '1040el', 'emotional', 'carmakers', 'frozen', 'needed', 'chill', 'sentences', 'la', 'paz', 'empowerment', 'also', 'inspiring', 'group', 'billiondollar', 'blessings', 'relative', 'evaluating', 'cops', 'both', 'sides', 'badge', 'pashtuns', 'pakistani', 'wonder', 'beginners', 'declines', 'add', 'russians', 'carefully', 'cultivated', 'image', 'wind', 'liars', 'opening', 'lands', 'gas', 'lordy', 'sims', 'statue', 'central', 'park', 'moved', 'blindness', 'wealth', 'unspeakably', 'miserable', 'tell', '1978', 'debasement', 'forewarn', 'cyberthreat', 'gasps', 'courtroom', 'hannity', 'named', 'cohens', 'yorker', 'coverage', 'feral', 'bully', 'unleashes', 'comic', 'operatic', 'jewel', 'polished', 'cousin', 'martini', 'gold', 'rubles', 'renminbi', 'perus', 'potato', 'babas', 'pair', 'breakthroughs', 'blocked', 'memorial', 'divide', 'babys', 'lung', 'study', 'trove', 'glimpse', 'guards', 'waited', 'deadly', 'riot', 'hunger', 'pros', 'cons', 'statin', 'aloud', 'benefits', 'attention', '16', 'medieval', 'derby', 'idle', 'kansas', 'hinges', 'wired', 'besties', 'wartime', 'internment', 'looms', 'leaky', 'roofs', 'laptops', 'mobile', 'classrooms', 'snapshots', 'putting', 'budget', 'secretary', 'offense', 'photos', 'gynecological', 'tools', 'centuries', 'english', 'vice', 'versa', 'enriches', 'mandelas', 'heirs', 'catwalk', 'arabia', 'sealed', 'kiss', 'notable', 'abcs', 'tusks', 'ivory', 'stalking', 'apologized', 'hometown', 'arms', 'drugresistant', 'typhoid', 'monologues', 'ourselves', 'hundreds', 'taken', 'beaches', 'generosity', 'abound', 'cabos', 'colleges', 'fraying', 'seams', 'warplanes', 'tactics', 'pockets', 'eastern', 'killed', 'empathy', 'goes', 'brushing', 'scandals', 'christian', 'marshals', 'concludes', 'systemic', 'wnyc', 'hudson', 'bay', 'longing', 'trans', 'flattery', 'jackson', 'tammy', 'duckworth', 'moms', 'mine', 'sunscreens', 'thanks', 'marvels', 'bristle', 'grab', 'spaces', 'migrant', 'caravan', 'reaches', 'journey', 'isnt', 'macron', 'bromance', 'israels', 'refugee', 'breaks', 'postwar', 'recalls', 'suspect', 'doubtful', 'daca', 'applications', 'breathing', 'program', 'take', 'numerical', 'stronghold', 'buoying', 'nervous', 'ncaato', 'done', 'furniturebuilding', 'windmills', 'wide', 'jumbo', 'jets', 'clean', 'conforming', 'rebelling', 'wishes', 'tracy', 'k', 'smiths', 'wade', '73yearold', 'survivor', 'kidney', 'exp3r13nc3', 'pr0bl3m', 'lynchings', 'shadow', 'buy', 'ticket', 'provoked', 'giving', 'liberalisms', 'strong', 'stressed', 'woman', 'mornings', 'strenuous', 'affects', 'system', 'diabetes', 'selfcare', 'courses', 'danish', 'inventor', 'gruesome', '25', 'georgia', 'hunting', 'lucia', 'seems', 'trusting', 'jokes', 'theres', 'adults', 'souths', 'candid', 'audio', 'rapidly', 'disappearing', 'inheritance', 'hello', 'higher', 'kisses', 'french', 'critiques', 'policies', 'tracks', 'hormone', 'hurdle', 'deny', 'dignity', 'citizens', 'relievers', 'opioids', 'dental', 'relief', 'swindled', 'marks', 'sheryls', 'handmaids', 'episodes', 'motherinlaws', 'mink', 'cruelly', 'because', 'malaysia', 'israelipalestinian', 'intrigue', 'mitt', 'weenie', 'martyr', 'sane', 'sensible', 'respect', 'answers', 'location', 'maria', 'bochkareva', 'wwi', 'breakdancing', 'artist', 'intimidated', 'classical', 'low', 'inflation', 'rates', 'copenhagen', 'surges', 'fed', 'karate', 'kid', 'grudge', 'rematch', 'lifes', 'chance', 'revolution', 'uprising', 'different', '41', 'lgbt', 'reject', 'names', 'mommy', 'daddy', 'isolated', 'hid', 'buyers', 'terraces', 'linger', 'merkel', 'visit', 'welcome', 'mat', 'distances', 'savory', 'salty', 'carricantes', 'sicily', 'lesson', 'fiano', 'dumplings', 'nod', 'signal', 'genealogy', 'front', 'pop', 'rebellion', 'siberia', 'unlikely', 'greenpeace', 'tots', 'heavy', 'weights', 'unreserved', 'hawk', 'confirmed', 'diplomat', 'spare', 'italian', 'subs', 'australia', 'games', 'squash', 'ceiling', 'spider', 'tree', 'tries', 'untangle', 'evolution', 'webs', 'codes', 'smiles', 'comments', 'rift', 'braindamaged', 'review', 'searches', 'misogynists', 'terrorists', 'abby', 'caffeine', 'overweight', 'offspring', 'modernday', 'myth', 'verge', 'shares', 'prosecutor', 'seeking', 'smarts', 'poor', 'wrongdoing', 'killers', 'barflies', 'clinging', 'ends', 'comics', 'mona', 'short', 'theater', 'square', 'unite', 'banish', 'jabs', 'melania', 'gift', 'members', 'airconditioning', 'learned', 'corporate', 'diary', 'coop', 'slowed', 'growth', 'blip', 'driving', 'cliff', 'hart', 'stepping', 'outside', 'dollhouse', 'alkaline', 'owes', 'build', 'biden', 'disease', 'lawyer', 'clinton', 'surefire', 'winner', 'certain', 'debates', 'verdict', 'financial', 'fresh', 'bright', 'stirfry', 'happening', 'bloody', 'preview', 'deluxe', 'frittata', 'topped', 'burrata', 'merger', 'tmobile', 'sprint', 'popcorn', 'bosss', 'youtoo', 'nicaraguan', 'daunting', 'task', 'tracking', 'bootlegger', 'mayor', 'sells', 'bridge', 'yipes', 'canned', 'chaplain', 'scoffs', 'clues', 'placed', 'serial', 'nike', 'forcing', 'populist', 'tide', 'remaking', 'supporters', 'cartoon', 'nobel', 'laureate', 'alfie', 'evans', 'rich', 'extinction', 'identity', 'intelligence', 'misunabbreviated', 'hed', 'pursuit', 'truce', 'dinners', 'merging', 'tappan', 'zee', 'among', 'fluke', 'porgies', '150', 'reach', 'brace', 'deadline', 'draws', 'lessons', 'trueblue', 'liberals', '2020', 'proxy', 'underwear', 'potatoes', 'doug', 'jones', 'tennessee', 'gazan', 'living', 'thing', 'sense', 'transgender', 'bans', 'facts', 'apu', 'disarmament', 'deterrents', 'libya', 'always', 'uphill', 'laws', 'passed', 'judgment', 'eaten', 'focuses', 'snowladen', 'flights', 'jfk', 'minutes', 'deadliest', 'afghanistan', 'since', '2002', 'fearing', 'photographing', 'rituals', 'surround', 'emails', 'hate', 'opaque', 'ownership', 'llc', 'worried', 'risky', 'teenage', 'tougher', 'survived', 'started', '30', 'happy', 'karl', 'marx', 'incels', 'jihadists', 'orphan', 'frequently', 'supports', 'gamify', 'prepared', 'cede', 'pledges', 'invade', 'demands', 'ditch', 'wheelchair', 'tokyo', 'distinctive', 'austin', 'crew', 'gardens', 'ending', 'infinity', 'documenter', 'fortnite', 'addict', 'philosophy', 'pays', 'disappearances', 'highlight', 'militarys', 'mexicos', 'documents', 'irans', 'atomic', 'subterfuge', 'investment', 'holds', 'steady', 'q', 'hows', 'standoff', 'eases', 'allow', 'eight', 'seek', 'asylum', 'assumes', 'beauty', 'megamerger', 'tightens', 'app', 'investigation', 'couple', 'dividing', 'delaying', 'limit', 'researchers', 'sheldon', 'silver', 'retrial', 'revisits', 'gig', 'dealt', 'blow', 'cardinal', 'faces', 'charges', 'context', 'show', 'depth', 'obstacles', 'competitive', 'sport', 'rootslush', 'historical', 'rooted', 'naturenovels', 'steeped', 'historyancient', 'reimaginedjurassic', 'classics', 'question', 'reinforces', 'anna', 'llama', 'hayden', 'regret', 'nothin']\n",
      "첫 번째 단어: the\n",
      "결과: the americans season\n"
     ]
    }
   ],
   "source": [
    "# 간단 체크\n",
    "print(\"어휘 사전:\", list(tokenizer.word_index.keys()))\n",
    "print(\"첫 번째 단어:\", list(tokenizer.word_index.keys())[0])\n",
    "\n",
    "# 첫 번째 단어로 테스트\n",
    "first_word = list(tokenizer.word_index.keys())[0]\n",
    "result = simple_sentence_generation(model, tokenizer, first_word, 2)\n",
    "print(f\"결과: {result}\")"
   ]
  },
  {
   "cell_type": "code",
   "execution_count": 55,
   "id": "bb88ce45",
   "metadata": {
    "colab": {
     "base_uri": "https://localhost:8080/"
    },
    "executionInfo": {
     "elapsed": 12,
     "status": "ok",
     "timestamp": 1755741598785,
     "user": {
      "displayName": "강희숙",
      "userId": "05520711596090317319"
     },
     "user_tz": -540
    },
    "id": "bb88ce45",
    "outputId": "34c61aae-6f6d-4c7f-c13d-bffb08590aae"
   },
   "outputs": [
    {
     "name": "stdout",
     "output_type": "stream",
     "text": [
      "\n",
      "=== 간단한 생성 테스트 ===\n"
     ]
    }
   ],
   "source": [
    "# 3. 간단한 생성 함수 (디버깅 정보 없이)\n",
    "def simple_sentence_generation(model, tokenizer, current_word, n):\n",
    "    \"\"\"\n",
    "    디버깅 정보 없는 간단한 버전\n",
    "    \"\"\"\n",
    "    if current_word not in tokenizer.word_index:\n",
    "        return f\"'{current_word}'는 어휘 사전에 없습니다.\"\n",
    "\n",
    "    init_word = current_word\n",
    "    sentence = ''\n",
    "\n",
    "    for _ in range(n):\n",
    "        encoded = tokenizer.texts_to_sequences([current_word])[0]\n",
    "        encoded = pad_sequences([encoded], maxlen=max_len-1, padding='pre')\n",
    "        result = model.predict(encoded, verbose=0)\n",
    "        result = np.argmax(result, axis=-1)[0]\n",
    "\n",
    "        predicted_word = None\n",
    "        for word, index in tokenizer.word_index.items():\n",
    "            if index == result:\n",
    "                predicted_word = word\n",
    "                break\n",
    "\n",
    "        if predicted_word is None:\n",
    "            break\n",
    "\n",
    "        current_word = current_word + ' ' + predicted_word\n",
    "        sentence = sentence + ' ' + predicted_word\n",
    "\n",
    "    return init_word + sentence\n",
    "\n",
    "print(f\"\\n=== 간단한 생성 테스트 ===\")\n",
    "for word in ['경마장에', '말이', '가는']:\n",
    "    if word in tokenizer.word_index:\n",
    "        result = simple_sentence_generation(model, tokenizer, word, 4)\n",
    "        print(f\"'{word}' → {result}\")"
   ]
  }
 ],
 "metadata": {
  "colab": {
   "provenance": [],
   "toc_visible": true
  },
  "kernelspec": {
   "display_name": "nlp_env",
   "language": "python",
   "name": "python3"
  },
  "language_info": {
   "codemirror_mode": {
    "name": "ipython",
    "version": 3
   },
   "file_extension": ".py",
   "mimetype": "text/x-python",
   "name": "python",
   "nbconvert_exporter": "python",
   "pygments_lexer": "ipython3",
   "version": "3.9.6"
  }
 },
 "nbformat": 4,
 "nbformat_minor": 5
}
