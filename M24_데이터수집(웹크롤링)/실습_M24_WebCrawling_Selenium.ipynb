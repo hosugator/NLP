{
 "cells": [
  {
   "cell_type": "code",
   "execution_count": 13,
   "metadata": {
    "scrolled": true
   },
   "outputs": [
    {
     "name": "stdout",
     "output_type": "stream",
     "text": [
      "Requirement already satisfied: selenium in c:\\anaconda\\lib\\site-packages (4.14.0)\n",
      "Requirement already satisfied: urllib3[socks]<3,>=1.26 in c:\\anaconda\\lib\\site-packages (from selenium) (1.26.16)\n",
      "Requirement already satisfied: trio~=0.17 in c:\\anaconda\\lib\\site-packages (from selenium) (0.22.2)\n",
      "Requirement already satisfied: certifi>=2021.10.8 in c:\\anaconda\\lib\\site-packages (from selenium) (2023.7.22)\n",
      "Requirement already satisfied: trio-websocket~=0.9 in c:\\anaconda\\lib\\site-packages (from selenium) (0.11.1)\n",
      "Requirement already satisfied: exceptiongroup>=1.0.0rc9 in c:\\anaconda\\lib\\site-packages (from trio~=0.17->selenium) (1.1.3)\n",
      "Requirement already satisfied: outcome in c:\\anaconda\\lib\\site-packages (from trio~=0.17->selenium) (1.2.0)\n",
      "Requirement already satisfied: sortedcontainers in c:\\anaconda\\lib\\site-packages (from trio~=0.17->selenium) (2.4.0)\n",
      "Requirement already satisfied: idna in c:\\anaconda\\lib\\site-packages (from trio~=0.17->selenium) (3.4)\n",
      "Requirement already satisfied: attrs>=20.1.0 in c:\\anaconda\\lib\\site-packages (from trio~=0.17->selenium) (23.1.0)\n",
      "Requirement already satisfied: sniffio in c:\\anaconda\\lib\\site-packages (from trio~=0.17->selenium) (1.2.0)\n",
      "Requirement already satisfied: cffi>=1.14 in c:\\anaconda\\lib\\site-packages (from trio~=0.17->selenium) (1.15.1)\n",
      "Requirement already satisfied: wsproto>=0.14 in c:\\anaconda\\lib\\site-packages (from trio-websocket~=0.9->selenium) (1.2.0)\n",
      "Requirement already satisfied: PySocks!=1.5.7,<2.0,>=1.5.6 in c:\\anaconda\\lib\\site-packages (from urllib3[socks]<3,>=1.26->selenium) (1.7.1)\n",
      "Requirement already satisfied: pycparser in c:\\anaconda\\lib\\site-packages (from cffi>=1.14->trio~=0.17->selenium) (2.21)\n",
      "Requirement already satisfied: h11<1,>=0.9.0 in c:\\anaconda\\lib\\site-packages (from wsproto>=0.14->trio-websocket~=0.9->selenium) (0.14.0)\n"
     ]
    }
   ],
   "source": [
    "# 설치하기\n",
    "#!pip install selenium"
   ]
  },
  {
   "cell_type": "code",
   "execution_count": 9,
   "metadata": {},
   "outputs": [
    {
     "name": "stdout",
     "output_type": "stream",
     "text": [
      "4.25.0\n"
     ]
    }
   ],
   "source": [
    "import selenium\n",
    "print(selenium.__version__)"
   ]
  },
  {
   "cell_type": "markdown",
   "metadata": {},
   "source": [
    "## Selenium 모듈 사용\n",
    "- BeautifulSoup 모듈과 비슷하게 HTML 문서의 구조에 따라 접근할 수 있음\n",
    "- BeautifulSoup 에서 원하는 태그, 속성등을 가져오기 위해 단일 객체는 find(), 복수 객체는 find_all() 함수로 접근했다면 selenium에서는 태그 종류에 따라 각각 함수가 있음\n",
    "\n",
    "\n",
    "## Chromedriver 다운로드하기\n",
    "- https://chromedriver.chromium.org/downloads : https://storage.googleapis.com/chrome-for-testing-public/123.0.6312.58/win64/chromedriver-win64.zip\n",
    "\n",
    "## chromedriver 직접 다운로드 하지 않고 진행하려면 다음 패키지를 설치하기\n",
    "- !pip install webdriver_manager"
   ]
  },
  {
   "cell_type": "markdown",
   "metadata": {},
   "source": [
    "## selenium 사용해보기\n",
    "### stpe1 : chromedriver 서비스 사용하여 브라우저 시작하기"
   ]
  },
  {
   "cell_type": "code",
   "execution_count": 14,
   "metadata": {},
   "outputs": [],
   "source": [
    "# stpe1 : chromedriver 서비스 사용하여 브라우저 시작하기\n",
    "\n",
    "import os\n",
    "from selenium import webdriver\n",
    "from selenium.webdriver.chrome.service import Service\n",
    "from selenium.webdriver.chrome.options import Options\n",
    "from webdriver_manager.chrome import ChromeDriverManager\n",
    "\n",
    "# chromedriver.exe 경로 지정하기\n",
    "# path = os.path.join(os.getcwd(), \"chromedriver.exe\")\n",
    "# 서비스를 생성하고 chromedriver의 경로를 지정합니다..\n",
    "# service = webdriver.chrome.service.Service(path)\n",
    "# 지정된 서비스를 사용하여 Chrome 브라우저를 시작합니다.\n",
    "# driver = webdriver.Chrome(service=service)\n",
    "\n",
    "chrome_options = Options()\n",
    "# Selenium이 브라우저를 실제로 열지 않고 작동하게 하려면 옵션을 설정합니다.\n",
    "#chrome_options.add_argument(\"--headless\")  # 브라우저 창을 띄우지 않는 옵션입니다.\n",
    "\n",
    "# 웹드라이버 초기화\n",
    "driver = webdriver.Chrome(service=Service(ChromeDriverManager().install()), options=chrome_options)"
   ]
  },
  {
   "cell_type": "markdown",
   "metadata": {},
   "source": [
    "### step2 : 지정한 웹페이지에 접속하기"
   ]
  },
  {
   "cell_type": "code",
   "execution_count": 15,
   "metadata": {},
   "outputs": [],
   "source": [
    "# webdriver가 google 페이지에 접속하도록 명령\n",
    "driver.get(\"http://www.google.co.kr\")\n",
    "\n",
    "# 페이지 제목을 확인하여 Google 사이트에 접속했는지 확인하기.\n",
    "assert \"Google\" in driver.title"
   ]
  },
  {
   "cell_type": "markdown",
   "metadata": {},
   "source": [
    "### step3 : 검색 진행하기"
   ]
  },
  {
   "cell_type": "code",
   "execution_count": 16,
   "metadata": {},
   "outputs": [],
   "source": [
    "# 검색 입력 부분에 커서를 올리고\n",
    "#검색 입력 부분에 다양한 명령을 내리기 위해 elem 변수에 할당\n",
    "elem = driver.find_element(\"name\", \"q\")\n",
    "\n",
    "#입력 부분에 지운다-default로 값이 있을 수 있는 경우 고려\n",
    "elem.clear()\n",
    " \n",
    "#검색어 입력\n",
    "elem.send_keys(\"Selenium\")\n",
    " \n",
    "#검색 실행\n",
    "elem.submit()\n",
    " \n",
    "#검색이 제대로 됐는지 확인\n",
    "assert \"No results found.\" not in driver.page_source"
   ]
  },
  {
   "cell_type": "markdown",
   "metadata": {},
   "source": [
    "### step4 : 종료하기"
   ]
  },
  {
   "cell_type": "code",
   "execution_count": 17,
   "metadata": {},
   "outputs": [],
   "source": [
    "# webdriver를 종료하여 창이 사라진다\n",
    "driver.close()"
   ]
  },
  {
   "cell_type": "markdown",
   "metadata": {},
   "source": [
    "### 네이버 금융에서 최근 인기종목 5개 수집"
   ]
  },
  {
   "cell_type": "code",
   "execution_count": 18,
   "metadata": {},
   "outputs": [
    {
     "name": "stdout",
     "output_type": "stream",
     "text": [
      "종목명: 삼성전자      , 현재가:  59,000, 전일대비: 하락\n",
      "\t\t\t\t200\n",
      "종목명: 유한양행      , 현재가: 160,000, 전일대비: 상승\n",
      "\t\t\t\t4,700\n",
      "종목명: 루미르       , 현재가:  14,910, 전일대비: 상승\n",
      "\t\t\t\t2,910\n",
      "종목명: SK하이닉스    , 현재가: 190,900, 전일대비: 상승\n",
      "\t\t\t\t3,600\n",
      "종목명: 인스피언      , 현재가:  20,550, 전일대비: 상한가\n",
      "\t\t\t\t4,730\n"
     ]
    }
   ],
   "source": [
    "import os\n",
    "from selenium import webdriver\n",
    "from bs4 import BeautifulSoup\n",
    "import time\n",
    "from selenium.webdriver.chrome.service import Service\n",
    "from selenium.webdriver.chrome.options import Options\n",
    "from webdriver_manager.chrome import ChromeDriverManager\n",
    "\n",
    "def get_stock_info():\n",
    "\n",
    "    # Selenium이 브라우저를 실제로 열지 않고 작동하게 하려면 옵션을 설정합니다.\n",
    "    chrome_options = Options()\n",
    "    chrome_options.add_argument(\"--headless\")  # 브라우저 창을 띄우지 않는 옵션입니다.\n",
    "\n",
    "    # 웹드라이버 초기화\n",
    "    driver = webdriver.Chrome(service=Service(ChromeDriverManager().install()), options=chrome_options)\n",
    "    \n",
    "    url = \"https://finance.naver.com/sise/lastsearch2.nhn\"\n",
    "    driver.get(url)\n",
    "\n",
    "    soup = BeautifulSoup(driver.page_source, 'lxml')\n",
    "\n",
    "    #data_rows = soup.find(\"table\", attrs={\"class\":\"type_5\"}).find(\"tbody\").find_all(\"tr\")\n",
    "    data_rows = soup.find(\"table\", class_ =\"type_5\").find(\"tbody\").find_all(\"tr\")\n",
    "    #print(data_rows)\n",
    "    \n",
    "    for idx, row in enumerate(data_rows):\n",
    "        columns = row.find_all(\"td\")\n",
    "        #print(columns)\n",
    "        if len(columns) <= 1:  # 의미없는 데이터 스킵\n",
    "            continue\n",
    "        data = [column.get_text().strip() for column in columns]\n",
    "        print(f\"종목명: {data[1]:10s}, 현재가: {data[3]:>7s}, 전일대비: {data[4]:>5s}\")\n",
    "        \n",
    "        if idx >= 6:  # 상위 5개만 출력\n",
    "            break\n",
    "    \n",
    "    time.sleep(1)  \n",
    "    driver.quit()\n",
    "\n",
    "get_stock_info()"
   ]
  },
  {
   "cell_type": "markdown",
   "metadata": {},
   "source": [
    "## Selenium+BeautifulSoup 응용 - 폼 양식 전송 실습\n",
    "- selenium + Web driver 를 활용하여 버튼을 클릭하거나 자바스크립트 삽입 등 특정 조건이 충족되어야만 접근 가능한 데이터를 모듈을 활용하여 가져올 수 있음\n",
    "\n",
    "### Step1 : selenium을 활용한 naver 로그인 및 메일 탭 클릭\n",
    "- 활성 탭 전환하기 : https://devyurim.github.io/python/crawler/2018/08/13/crawler-3.html"
   ]
  },
  {
   "cell_type": "code",
   "execution_count": 20,
   "metadata": {},
   "outputs": [],
   "source": [
    "from selenium import webdriver\n",
    "from selenium.webdriver.common.by import By\n",
    "from bs4 import BeautifulSoup\n",
    "import time\n",
    "from selenium.webdriver.chrome.service import Service\n",
    "from selenium.webdriver.chrome.options import Options\n",
    "from webdriver_manager.chrome import ChromeDriverManager\n",
    "import os\n",
    "\n",
    "chrome_options = Options()\n",
    "#chrome_options.add_argument(\"--headless\")  # 브라우저 창을 띄우지 않는 옵션입니다.\n",
    "\n",
    "# 웹드라이버 초기화\n",
    "driver = webdriver.Chrome(service=Service(ChromeDriverManager().install()), options=chrome_options)\n",
    "\n",
    "url = \"https://www.naver.com\"\n",
    "driver.get(url)\n",
    "\n",
    "element = driver.find_element(By.CLASS_NAME,'MyView-module__link_login___HpHMW')\n",
    "\n",
    "element.click()"
   ]
  },
  {
   "cell_type": "code",
   "execution_count": 21,
   "metadata": {},
   "outputs": [],
   "source": [
    "# **** 부분에 자신의 네이버 ID/PWD 입력하여 실행하세요\n",
    "\n",
    "id = '*******'\n",
    "pw = '*******'\n"
   ]
  },
  {
   "cell_type": "code",
   "execution_count": 22,
   "metadata": {},
   "outputs": [],
   "source": [
    "# 로그인 시 자동입력방지하기 위한 captcha 프로그램 실행을 방지하기 위해 직접 아이디와 패스워드값을 프로그램에 입력하는 것이 좋음\n",
    "driver.execute_script(\"document.getElementById('id').value=\\'\" + id + \"\\'\")\n",
    "# element = driver.find_element(By.ID, \"id\")\n",
    "# element.send_keys(id)\n",
    "time.sleep(1)\n",
    "\n",
    "# element = driver.find_element(By.ID, \"pw\")\n",
    "# element.send_keys(pw)\n",
    "\n",
    "driver.execute_script(\"document.getElementById('pw').value=\\'\" + pw + \"\\'\")\n",
    "time.sleep(1)\n",
    "\n",
    "element = driver.find_element(By.CLASS_NAME,'btn_text')\n",
    "element.click()\n",
    "\n",
    "time.sleep(1)\n",
    "element = driver.find_element(By.CLASS_NAME,'service_icon.type_mail')\n",
    "element.click()"
   ]
  },
  {
   "cell_type": "code",
   "execution_count": 8,
   "metadata": {},
   "outputs": [],
   "source": [
    "# 최근 열린 탭으로 전환\n",
    "driver.switch_to.window(driver.window_handles[-1])\n",
    "\n",
    "# 로딩 기다리기\n",
    "time.sleep(5)"
   ]
  },
  {
   "cell_type": "markdown",
   "metadata": {},
   "source": [
    "### Step2 : 메일함 페이지 소스 가져오기"
   ]
  },
  {
   "cell_type": "code",
   "execution_count": 23,
   "metadata": {},
   "outputs": [
    {
     "name": "stdout",
     "output_type": "stream",
     "text": [
      "보낸 사람: 네이버, 메일 제목: 메일 제목새로운 환경에서 로그인 되었습니다.\n",
      "보낸 사람: 지피터스 GPTers, 메일 제목: 메일 제목송다혜 (닿) sent you a message on 지피터스 GPTers\n",
      "보낸 사람: Adobe, 메일 제목: 메일 제목인증 코드\n",
      "보낸 사람: Adobe, 메일 제목: 메일 제목인증 코드\n",
      "보낸 사람: 지피터스 뉴스레터, 메일 제목: 메일 제목#101. ⏰ D-Day | 지피터스 AI캠프가 오늘 마감됩니다.\n",
      "보낸 사람: KB국민은행, 메일 제목: 메일 제목(KB국민은행-계약관리안내) 입출금이자유로운예금약관 개정 안내\n",
      "보낸 사람: 지피터스 뉴스레터, 메일 제목: 메일 제목#100. AI 활용 사례, 이것만 보세요.\n",
      "보낸 사람: 삼성생명, 메일 제목: 메일 제목[삼성생명] 강*숙 고객님 2024-03-20일 보험료 자동이체 결과 안내드립니다.\n",
      "보낸 사람: 지피터스 뉴스레터, 메일 제목: 메일 제목#99. 달리3, 프롬프트 단축 버튼 추가\n",
      "보낸 사람: 모두의연구소, 메일 제목: 메일 제목(광고)자, 이제 시작이야 내 꿈을~ 내 꿈을 위한 아이펠\n"
     ]
    }
   ],
   "source": [
    "# 'soup'는 웹 페이지의 BeautifulSoup 객체라고 가정합니다.\n",
    "\n",
    "page_source = driver.page_source\n",
    "soup = BeautifulSoup(page_source, 'html.parser')\n",
    "# 이메일 목록의 아이템을 모두 찾습니다.\n",
    "# 모든 메일 항목을 가져옵니다.\n",
    "mail_items = soup.find_all('div', class_='mail', limit=10)\n",
    "\n",
    "for item in mail_items:\n",
    "    # 'button_sender' 클래스를 가진 버튼 내부의 텍스트에서 '보낸 사람' 정보를 추출합니다.\n",
    "    sender_button = item.find('button', class_='button_sender')\n",
    "    if sender_button:\n",
    "        blind_span = sender_button.find('span', class_='blind')\n",
    "        if blind_span:\n",
    "            blind_span.extract()  # 'blind' 클래스를 가진 span을 제거합니다.\n",
    "        sender_name = sender_button.get_text(strip=True)  # 남은 텍스트를 추출합니다.\n",
    "    \n",
    "    # 'mail_title' 클래스를 가진 a 태그에서 '메일 제목'을 추출합니다.\n",
    "    title_link = item.find('a', class_='mail_title_link')\n",
    "    mail_title = title_link.get_text(strip=True) if title_link else \"Title Not Found\"\n",
    "    \n",
    "    print(f\"보낸 사람: {sender_name}, 메일 제목: {mail_title}\")"
   ]
  },
  {
   "cell_type": "markdown",
   "metadata": {},
   "source": [
    "### **연습문제 1**\n",
    "* 방식1 : selenium 사용하여 네이버 현재 날씨 상태 정보 가져오기 \n",
    "* url - https://weather.naver.com/"
   ]
  },
  {
   "cell_type": "code",
   "execution_count": null,
   "metadata": {},
   "outputs": [
    {
     "name": "stdout",
     "output_type": "stream",
     "text": [
      "현재 온도\n",
      "18.5°, 흐림\n",
      "어제보다 2.2°\n",
      "높아요\n"
     ]
    }
   ],
   "source": [
    "# 1. 패키지 가져오고 URL을 요청한다.\n",
    "from selenium import webdriver\n",
    "from selenium.webdriver.common.by import By\n",
    "from selenium.webdriver.chrome.service import Service\n",
    "from selenium.webdriver.chrome.options import Options\n",
    "from webdriver_manager.chrome import ChromeDriverManager\n",
    "import time\n",
    "\n",
    "# 2.브라우저를 헤드리스 모드로 설정합니다.\n",
    "\n",
    "# Code here\n",
    "\n",
    "\n",
    "# 3. WebDriver를 설정합니다.\n",
    "\n",
    "\n",
    "# 4.웹 페이지를 가져옵니다.\n",
    "\n",
    "\n",
    "# 5.webdriver가 url 페이지에 접속하도록 명령\n",
    "# Code here\n",
    "\n",
    "\n",
    "# WebDriverWait을 사용하여 요소가 나타날 때까지 기다립니다.\n",
    "# wait = WebDriverWait(driver, 10)\n",
    "\n",
    "\n",
    "try:\n",
    "    # '현재온도'를 가져옵니다.\n",
    "    \n",
    "\n",
    "    # '날씨 상태'를 가져옵니다.\n",
    "   \n",
    "\n",
    "    # 정보를 출력합니다.\n",
    "    \n",
    "    \n",
    "except Exception as e:\n",
    "    print(f\"An error occurred: {e}\")\n",
    "\n",
    "# WebDriver 세션을 종료합니다.\n",
    "driver.quit()\n"
   ]
  },
  {
   "cell_type": "markdown",
   "metadata": {},
   "source": [
    "### **연습문제 2**\n",
    "* 방식2 : selenium + beautiful 사용하여 네이버 현재 날씨 상태 정보 가져오기 \n",
    "* url - https://weather.naver.com/"
   ]
  },
  {
   "cell_type": "code",
   "execution_count": null,
   "metadata": {},
   "outputs": [
    {
     "name": "stdout",
     "output_type": "stream",
     "text": [
      "현재 온도18.5°, 흐림어제보다2.2°높아요\n"
     ]
    }
   ],
   "source": [
    "from selenium import webdriver\n",
    "from selenium.webdriver.chrome.service import Service\n",
    "from selenium.webdriver.chrome.options import Options\n",
    "from webdriver_manager.chrome import ChromeDriverManager\n",
    "from bs4 import BeautifulSoup  # BeautifulSoup 임포트\n",
    "import time  # 간단한 지연을 위해 사용\n",
    "\n",
    "# 브라우저를 헤드리스 모드로 설정합니다.\n",
    "\n",
    "\n",
    "# WebDriver를 설정합니다.\n",
    "\n",
    "\n",
    "# 웹 페이지를 가져옵니다.\n",
    "\n",
    "\n",
    "# 페이지 로딩을 위한 잠깐의 지연\n",
    "time.sleep(3)  # 필요에 따라 3초 이상으로 조정 가능\n",
    "\n",
    "try:\n",
    "    # 페이지의 전체 HTML을 가져옵니다.\n",
    "    \n",
    "    # BeautifulSoup을 사용하여 HTML 파싱합니다.\n",
    "    \n",
    "\n",
    "    # '현재온도'를 찾습니다.\n",
    "    current_temp = \n",
    "\n",
    "    # '날씨 상태'를 찾습니다.\n",
    "    weather_status = \n",
    "\n",
    "    # 정보를 출력합니다.\n",
    "    \n",
    "\n",
    "except Exception as e:\n",
    "    print(f\"An error occurred: {e}\")\n",
    "\n",
    "# WebDriver 세션을 종료합니다.\n",
    "driver.quit()"
   ]
  }
 ],
 "metadata": {
  "kernelspec": {
   "display_name": "Python 3 (ipykernel)",
   "language": "python",
   "name": "python3"
  },
  "language_info": {
   "codemirror_mode": {
    "name": "ipython",
    "version": 3
   },
   "file_extension": ".py",
   "mimetype": "text/x-python",
   "name": "python",
   "nbconvert_exporter": "python",
   "pygments_lexer": "ipython3",
   "version": "3.11.7"
  }
 },
 "nbformat": 4,
 "nbformat_minor": 4
}
