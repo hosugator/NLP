{
 "cells": [
  {
   "cell_type": "markdown",
   "id": "c0a84019",
   "metadata": {},
   "source": [
    "# NLP - spam detection"
   ]
  },
  {
   "cell_type": "code",
   "execution_count": 1,
   "id": "e683587c",
   "metadata": {},
   "outputs": [
    {
     "name": "stderr",
     "output_type": "stream",
     "text": [
      "/Users/hong/venvs/nlp_env/lib/python3.9/site-packages/urllib3/__init__.py:35: NotOpenSSLWarning: urllib3 v2 only supports OpenSSL 1.1.1+, currently the 'ssl' module is compiled with 'LibreSSL 2.8.3'. See: https://github.com/urllib3/urllib3/issues/3020\n",
      "  warnings.warn(\n"
     ]
    }
   ],
   "source": [
    "# 통합코드\n",
    "\n",
    "import pandas as pd\n",
    "import numpy as np\n",
    "from sklearn.model_selection import train_test_split\n",
    "from tensorflow.keras.preprocessing.text import Tokenizer\n",
    "from tensorflow.keras.preprocessing.sequence import pad_sequences\n",
    "from tensorflow.keras.models import Sequential\n",
    "from tensorflow.keras.layers import Dense, Embedding, LSTM, SpatialDropout1D\n",
    "from tensorflow.keras.utils import to_categorical\n",
    "from sklearn.preprocessing import LabelEncoder\n",
    "from sklearn.metrics import classification_report, accuracy_score\n",
    "import re\n",
    "import nltk\n",
    "from nltk.corpus import stopwords\n",
    "from nltk.stem import WordNetLemmatizer\n",
    "\n",
    "\n",
    "# 데이터 로드\n",
    "df = pd.read_csv('spam.csv', encoding='latin1')\n",
    "\n",
    "df_choose = df[[\"v1\", \"v2\"]]\n",
    "\n",
    "df_choose = df_choose.rename(columns={'v1': 'label', 'v2': 'text'})\n",
    "\n",
    "# 'text' 컬럼 전처리\n",
    "lemmatizer = WordNetLemmatizer()\n",
    "stop_words = set(stopwords.words('english'))\n",
    "\n",
    "def preprocess_text(text):\n",
    "    # 소문자로 변환\n",
    "    text = text.lower()\n",
    "    # 특수 문자와 숫자 제거\n",
    "    text = re.sub(r'[^a-z\\s]', '', text)\n",
    "    # 불필요한 공백 제거\n",
    "    text = re.sub(r'\\s+', ' ', text).strip()\n",
    "    # 표제어 추출 및 불용어 제거\n",
    "    words = text.split()\n",
    "    words = [lemmatizer.lemmatize(word) for word in words if word not in stop_words]\n",
    "    return ' '.join(words)\n",
    "\n",
    "df_choose['text'] = df_choose['text'].apply(preprocess_text)\n",
    "\n",
    "# 레이블 인코딩\n",
    "label_encoder = LabelEncoder()\n",
    "df_choose['label'] = label_encoder.fit_transform(df_choose['label'])\n",
    "\n",
    "# 학습 및 테스트 데이터 분리\n",
    "X = df_choose['text'].values\n",
    "Y = df_choose['label'].values\n",
    "X_train, X_test, y_train, y_test = train_test_split(X, Y, test_size=0.2, random_state=42)\n",
    "\n",
    "# 토큰화 및 시퀀스 패딩\n",
    "tokenizer = Tokenizer()\n",
    "tokenizer.fit_on_texts(X_train)\n",
    "\n",
    "X_train_sequences = tokenizer.texts_to_sequences(X_train)\n",
    "X_test_sequences = tokenizer.texts_to_sequences(X_test)"
   ]
  },
  {
   "cell_type": "code",
   "execution_count": 2,
   "id": "f8ff0077",
   "metadata": {},
   "outputs": [
    {
     "name": "stdout",
     "output_type": "stream",
     "text": [
      "['ham' 'spam']\n",
      "[0 1]\n"
     ]
    }
   ],
   "source": [
    "print(label_encoder.classes_)\n",
    "print(label_encoder.transform(['ham', 'spam']))\n"
   ]
  },
  {
   "cell_type": "code",
   "execution_count": 3,
   "id": "d7db282d",
   "metadata": {},
   "outputs": [
    {
     "name": "stdout",
     "output_type": "stream",
     "text": [
      "=== 문장 길이 분석 ===\n",
      "평균 길이: 8.86\n",
      "중간값: 7.0\n",
      "최소 길이: 0\n",
      "최대 길이: 70\n",
      "95% 백분위: 20\n",
      "99% 백분위: 29\n"
     ]
    },
    {
     "data": {
      "image/png": "[encoded data removed]",
      "text/plain": [
       "<Figure size 1000x600 with 1 Axes>"
      ]
     },
     "metadata": {},
     "output_type": "display_data"
    },
    {
     "name": "stdout",
     "output_type": "stream",
     "text": [
      "\n",
      "=== max_len 옵션 ===\n",
      "옵션 1 (최댓값): 70 - 모든 문장 보존, 메모리 많이 사용\n",
      "옵션 2 (95%): 20 - 5% 문장 잘림, 메모리 효율적\n",
      "옵션 3 (99%): 29 - 1% 문장 잘림, 균형\n",
      "\n",
      "선택된 max_len: 20\n",
      "최종 shape - X_train: (4457, 20), X_test: (1115, 20)\n"
     ]
    }
   ],
   "source": [
    "import koreanize_matplotlib\n",
    "\n",
    "print(\"=== 문장 길이 분석 ===\")\n",
    "lengths = [len(seq) for seq in X_train_sequences]\n",
    "\n",
    "print(f\"평균 길이: {np.mean(lengths):.2f}\")\n",
    "print(f\"중간값: {np.median(lengths):.1f}\")\n",
    "print(f\"최소 길이: {min(lengths)}\")\n",
    "print(f\"최대 길이: {max(lengths)}\")\n",
    "print(f\"95% 백분위: {np.percentile(lengths, 95):.0f}\")\n",
    "print(f\"99% 백분위: {np.percentile(lengths, 99):.0f}\")\n",
    "\n",
    "# 길이 분포 시각화\n",
    "import matplotlib.pyplot as plt\n",
    "plt.figure(figsize=(10, 6))\n",
    "plt.hist(lengths, bins=20, alpha=0.7, edgecolor='black')\n",
    "plt.title('문장 길이 분포')\n",
    "plt.xlabel('단어 수')\n",
    "plt.ylabel('빈도')\n",
    "plt.axvline(np.mean(lengths), color='red', linestyle='--', label=f'평균: {np.mean(lengths):.1f}')\n",
    "plt.axvline(np.percentile(lengths, 95), color='orange', linestyle='--', label=f'95%: {np.percentile(lengths, 95):.0f}')\n",
    "plt.legend()\n",
    "plt.grid(True, alpha=0.3)\n",
    "plt.show()\n",
    "\n",
    "# max_len 결정\n",
    "print(\"\\n=== max_len 옵션 ===\")\n",
    "option1 = max(lengths)  # 현재 방식\n",
    "option2 = int(np.percentile(lengths, 95))  # 95% 커버\n",
    "option3 = int(np.percentile(lengths, 99))  # 99% 커버\n",
    "\n",
    "print(f\"옵션 1 (최댓값): {option1} - 모든 문장 보존, 메모리 많이 사용\")\n",
    "print(f\"옵션 2 (95%): {option2} - 5% 문장 잘림, 메모리 효율적\")\n",
    "print(f\"옵션 3 (99%): {option3} - 1% 문장 잘림, 균형\")\n",
    "\n",
    "# 선택한 max_len 적용\n",
    "max_len = option2  # 또는 option1, option3 중 선택\n",
    "\n",
    "print(f\"\\n선택된 max_len: {max_len}\")\n",
    "\n",
    "\n",
    "# 패딩 적용\n",
    "\n",
    "X_train = pad_sequences(X_train_sequences, maxlen=max_len)\n",
    "X_test = pad_sequences(X_test_sequences, maxlen=max_len)\n",
    "\n",
    "print(f\"최종 shape - X_train: {X_train.shape}, X_test: {X_test.shape}\")"
   ]
  },
  {
   "cell_type": "code",
   "execution_count": 4,
   "id": "91b3a92a",
   "metadata": {},
   "outputs": [
    {
     "name": "stdout",
     "output_type": "stream",
     "text": [
      "Epoch 1/20\n",
      "\u001b[1m70/70\u001b[0m \u001b[32m━━━━━━━━━━━━━━━━━━━━\u001b[0m\u001b[37m\u001b[0m \u001b[1m2s\u001b[0m 14ms/step - accuracy: 0.8587 - loss: 0.3696 - val_accuracy: 0.9767 - val_loss: 0.0714\n",
      "Epoch 2/20\n",
      "\u001b[1m70/70\u001b[0m \u001b[32m━━━━━━━━━━━━━━━━━━━━\u001b[0m\u001b[37m\u001b[0m \u001b[1m1s\u001b[0m 12ms/step - accuracy: 0.9875 - loss: 0.0409 - val_accuracy: 0.9794 - val_loss: 0.0793\n",
      "Epoch 3/20\n",
      "\u001b[1m70/70\u001b[0m \u001b[32m━━━━━━━━━━━━━━━━━━━━\u001b[0m\u001b[37m\u001b[0m \u001b[1m1s\u001b[0m 13ms/step - accuracy: 0.9970 - loss: 0.0081 - val_accuracy: 0.9767 - val_loss: 0.0964\n",
      "Epoch 4/20\n",
      "\u001b[1m70/70\u001b[0m \u001b[32m━━━━━━━━━━━━━━━━━━━━\u001b[0m\u001b[37m\u001b[0m \u001b[1m1s\u001b[0m 14ms/step - accuracy: 0.9977 - loss: 0.0067 - val_accuracy: 0.9785 - val_loss: 0.1120\n",
      "Epoch 5/20\n",
      "\u001b[1m70/70\u001b[0m \u001b[32m━━━━━━━━━━━━━━━━━━━━\u001b[0m\u001b[37m\u001b[0m \u001b[1m1s\u001b[0m 13ms/step - accuracy: 1.0000 - loss: 0.0011 - val_accuracy: 0.9803 - val_loss: 0.1589\n",
      "Epoch 6/20\n",
      "\u001b[1m70/70\u001b[0m \u001b[32m━━━━━━━━━━━━━━━━━━━━\u001b[0m\u001b[37m\u001b[0m \u001b[1m1s\u001b[0m 13ms/step - accuracy: 1.0000 - loss: 4.7725e-05 - val_accuracy: 0.9803 - val_loss: 0.1660\n",
      "Epoch 7/20\n",
      "\u001b[1m70/70\u001b[0m \u001b[32m━━━━━━━━━━━━━━━━━━━━\u001b[0m\u001b[37m\u001b[0m \u001b[1m1s\u001b[0m 12ms/step - accuracy: 1.0000 - loss: 3.5155e-05 - val_accuracy: 0.9785 - val_loss: 0.1808\n",
      "Epoch 8/20\n",
      "\u001b[1m70/70\u001b[0m \u001b[32m━━━━━━━━━━━━━━━━━━━━\u001b[0m\u001b[37m\u001b[0m \u001b[1m1s\u001b[0m 12ms/step - accuracy: 1.0000 - loss: 2.9637e-05 - val_accuracy: 0.9785 - val_loss: 0.1899\n",
      "Epoch 9/20\n",
      "\u001b[1m70/70\u001b[0m \u001b[32m━━━━━━━━━━━━━━━━━━━━\u001b[0m\u001b[37m\u001b[0m \u001b[1m1s\u001b[0m 12ms/step - accuracy: 1.0000 - loss: 1.8951e-05 - val_accuracy: 0.9812 - val_loss: 0.1982\n",
      "Epoch 10/20\n",
      "\u001b[1m70/70\u001b[0m \u001b[32m━━━━━━━━━━━━━━━━━━━━\u001b[0m\u001b[37m\u001b[0m \u001b[1m1s\u001b[0m 12ms/step - accuracy: 1.0000 - loss: 1.1140e-05 - val_accuracy: 0.9785 - val_loss: 0.2045\n",
      "Epoch 11/20\n",
      "\u001b[1m70/70\u001b[0m \u001b[32m━━━━━━━━━━━━━━━━━━━━\u001b[0m\u001b[37m\u001b[0m \u001b[1m1s\u001b[0m 12ms/step - accuracy: 1.0000 - loss: 9.8162e-06 - val_accuracy: 0.9794 - val_loss: 0.2150\n",
      "Epoch 12/20\n",
      "\u001b[1m70/70\u001b[0m \u001b[32m━━━━━━━━━━━━━━━━━━━━\u001b[0m\u001b[37m\u001b[0m \u001b[1m1s\u001b[0m 12ms/step - accuracy: 1.0000 - loss: 7.7612e-06 - val_accuracy: 0.9812 - val_loss: 0.2217\n",
      "Epoch 13/20\n",
      "\u001b[1m70/70\u001b[0m \u001b[32m━━━━━━━━━━━━━━━━━━━━\u001b[0m\u001b[37m\u001b[0m \u001b[1m1s\u001b[0m 13ms/step - accuracy: 1.0000 - loss: 2.5894e-06 - val_accuracy: 0.9812 - val_loss: 0.2254\n",
      "Epoch 14/20\n",
      "\u001b[1m70/70\u001b[0m \u001b[32m━━━━━━━━━━━━━━━━━━━━\u001b[0m\u001b[37m\u001b[0m \u001b[1m1s\u001b[0m 13ms/step - accuracy: 1.0000 - loss: 3.1559e-06 - val_accuracy: 0.9812 - val_loss: 0.2304\n",
      "Epoch 15/20\n",
      "\u001b[1m70/70\u001b[0m \u001b[32m━━━━━━━━━━━━━━━━━━━━\u001b[0m\u001b[37m\u001b[0m \u001b[1m1s\u001b[0m 13ms/step - accuracy: 1.0000 - loss: 4.2897e-06 - val_accuracy: 0.9794 - val_loss: 0.2335\n",
      "Epoch 16/20\n",
      "\u001b[1m70/70\u001b[0m \u001b[32m━━━━━━━━━━━━━━━━━━━━\u001b[0m\u001b[37m\u001b[0m \u001b[1m1s\u001b[0m 13ms/step - accuracy: 1.0000 - loss: 4.4077e-06 - val_accuracy: 0.9803 - val_loss: 0.2380\n",
      "Epoch 17/20\n",
      "\u001b[1m70/70\u001b[0m \u001b[32m━━━━━━━━━━━━━━━━━━━━\u001b[0m\u001b[37m\u001b[0m \u001b[1m1s\u001b[0m 14ms/step - accuracy: 1.0000 - loss: 1.4562e-06 - val_accuracy: 0.9812 - val_loss: 0.2411\n",
      "Epoch 18/20\n",
      "\u001b[1m70/70\u001b[0m \u001b[32m━━━━━━━━━━━━━━━━━━━━\u001b[0m\u001b[37m\u001b[0m \u001b[1m1s\u001b[0m 13ms/step - accuracy: 1.0000 - loss: 1.3544e-06 - val_accuracy: 0.9803 - val_loss: 0.2438\n",
      "Epoch 19/20\n",
      "\u001b[1m70/70\u001b[0m \u001b[32m━━━━━━━━━━━━━━━━━━━━\u001b[0m\u001b[37m\u001b[0m \u001b[1m1s\u001b[0m 14ms/step - accuracy: 1.0000 - loss: 1.4085e-06 - val_accuracy: 0.9812 - val_loss: 0.2471\n",
      "Epoch 20/20\n",
      "\u001b[1m70/70\u001b[0m \u001b[32m━━━━━━━━━━━━━━━━━━━━\u001b[0m\u001b[37m\u001b[0m \u001b[1m1s\u001b[0m 13ms/step - accuracy: 1.0000 - loss: 1.3423e-06 - val_accuracy: 0.9803 - val_loss: 0.2490\n"
     ]
    },
    {
     "name": "stderr",
     "output_type": "stream",
     "text": [
      "WARNING:absl:You are saving your model as an HDF5 file via `model.save()` or `keras.saving.save_model(model)`. This file format is considered legacy. We recommend using instead the native Keras format, e.g. `model.save('my_model.keras')` or `keras.saving.save_model(model, 'my_model.keras')`. \n"
     ]
    }
   ],
   "source": [
    "from tensorflow.keras.models import Sequential\n",
    "from tensorflow.keras.layers import (\n",
    "    Embedding,\n",
    "    Dropout,\n",
    "    Dense,\n",
    "    Flatten,\n",
    "    GlobalAveragePooling1D,\n",
    "    LSTM\n",
    ")\n",
    "\n",
    "# DNN 모델 구성 ( Flatten 사용)\n",
    "\n",
    "model = Sequential()\n",
    "model.add(Embedding(input_dim=len(tokenizer.word_index) + 1, output_dim=128))\n",
    "model.add(Dropout(0.2))\n",
    "model.add(LSTM(128))  # LSTM의 출력이 2D로 자동 변환되어 Dense에 입력\n",
    "model.add(Dense(512, activation=\"relu\"))\n",
    "model.add(Dropout(0.3))\n",
    "model.add(Dense(256, activation=\"relu\"))\n",
    "model.add(Dropout(0.3))\n",
    "model.add(Dense(128, activation=\"relu\"))\n",
    "model.add(Dropout(0.2))\n",
    "model.add(Dense(1, activation=\"sigmoid\"))\n",
    "model.compile(loss=\"binary_crossentropy\", optimizer=\"adam\", metrics=[\"accuracy\"])\n",
    "\n",
    "model.fit(X_train, y_train, epochs=20, batch_size=64, validation_data=(X_test, y_test))\n",
    "\n",
    "# 학습 완료 후 모델을 HDF5 형식으로 저장\n",
    "model.save('spam_detection_model.h5')"
   ]
  },
  {
   "cell_type": "code",
   "execution_count": 12,
   "id": "b7b3c677",
   "metadata": {},
   "outputs": [
    {
     "name": "stdout",
     "output_type": "stream",
     "text": [
      "\u001b[1m35/35\u001b[0m \u001b[32m━━━━━━━━━━━━━━━━━━━━\u001b[0m\u001b[37m\u001b[0m \u001b[1m0s\u001b[0m 2ms/step\n",
      "y_pred shape: (1115, 1)\n",
      "y_test shape: (1115,)\n",
      "y_pred_classes shape: (1115,)\n",
      "y_test_classes shape: (1115,)\n",
      "Accuracy: 0.9803\n",
      "Classification Report:\n",
      "               precision    recall  f1-score   support\n",
      "\n",
      "         ham       0.98      0.99      0.99       965\n",
      "        spam       0.96      0.89      0.92       150\n",
      "\n",
      "    accuracy                           0.98      1115\n",
      "   macro avg       0.97      0.94      0.96      1115\n",
      "weighted avg       0.98      0.98      0.98      1115\n",
      "\n"
     ]
    }
   ],
   "source": [
    "import numpy as np\n",
    "from sklearn.metrics import classification_report, accuracy_score\n",
    "\n",
    "# 이진분류 예측 및 평가\n",
    "y_pred = model.predict(X_test)\n",
    "\n",
    "# y_pred와 y_test의 shape 확인\n",
    "print(f\"y_pred shape: {y_pred.shape}\")\n",
    "print(f\"y_test shape: {y_test.shape}\")\n",
    "\n",
    "# y_pred 처리 (sigmoid 출력이므로 0.5 threshold 사용)\n",
    "y_pred_classes = (y_pred > 0.5).astype(int).flatten()\n",
    "\n",
    "# y_test는 이미 binary 형태이므로 그대로 사용\n",
    "y_test_classes = y_test  # 이미 [0, 1, 0, 1, ...] 형태\n",
    "\n",
    "# shape 확인\n",
    "print(f\"y_pred_classes shape: {y_pred_classes.shape}\")\n",
    "print(f\"y_test_classes shape: {y_test_classes.shape}\")\n",
    "\n",
    "# 평가\n",
    "accuracy = accuracy_score(y_test_classes, y_pred_classes)\n",
    "report = classification_report(y_test_classes, y_pred_classes, target_names=['ham', 'spam'])\n",
    "\n",
    "print(f\"Accuracy: {accuracy:.4f}\")\n",
    "print(\"Classification Report:\\n\", report)"
   ]
  },
  {
   "cell_type": "code",
   "execution_count": 15,
   "id": "70672818",
   "metadata": {},
   "outputs": [
    {
     "name": "stderr",
     "output_type": "stream",
     "text": [
      "WARNING:absl:Compiled the loaded model, but the compiled metrics have yet to be built. `model.compile_metrics` will be empty until you train or evaluate the model.\n"
     ]
    },
    {
     "name": "stdout",
     "output_type": "stream",
     "text": [
      "모델을 성공적으로 불러왔습니다.\n",
      "------------------------------\n",
      "입력 문장: Think ur smart ? Win �200 this week in our weekly quiz, text PLAY to 85222 now!T&Cs WinnersClub PO BOX 84, M26 3UZ. 16+. GBP1.50/week\n",
      "예측 결과: spam (신뢰도: 1.00)\n",
      "확률값 (spam): 1.0000\n",
      "------------------------------\n",
      "------------------------------\n",
      "입력 문장: Think ur smart ? Win �200 this week in our weekly quiz, text PLAY to 85222 now!\n",
      "예측 결과: spam (신뢰도: 1.00)\n",
      "확률값 (spam): 1.0000\n",
      "------------------------------\n",
      "------------------------------\n",
      "입력 문장: Think ur smart ? Win �200 this week in our weekly quiz,\n",
      "예측 결과: spam (신뢰도: 1.00)\n",
      "확률값 (spam): 1.0000\n",
      "------------------------------\n",
      "------------------------------\n",
      "입력 문장: Think ur smart ? Win �200\n",
      "예측 결과: ham (신뢰도: 1.00)\n",
      "확률값 (spam): 0.0026\n",
      "------------------------------\n",
      "프로그램을 종료합니다.\n"
     ]
    }
   ],
   "source": [
    "from tensorflow.keras.models import load_model\n",
    "from tensorflow.keras.preprocessing.sequence import pad_sequences\n",
    "\n",
    "# 기존에 사용했던 변수들 (전처리 함수와 tokenizer, max_len)은 이미 정의되어 있다고 가정\n",
    "\n",
    "# 1. 저장된 모델 불러오기\n",
    "try:\n",
    "    model = load_model('spam_detection_model.h5')\n",
    "    print(\"모델을 성공적으로 불러왔습니다.\")\n",
    "except Exception as e:\n",
    "    print(f\"모델을 불러오는 중 오류가 발생했습니다: {e}\")\n",
    "    print(\"모델 파일(spam_detection_model.h5)이 현재 디렉터리에 있는지 확인해 주세요.\")\n",
    "\n",
    "# 2. 사용자 입력 받아 예측하기\n",
    "while True:\n",
    "    input_text = input(\"문장을 입력하세요 (종료하려면 '종료'를 입력): \")\n",
    "\n",
    "    if input_text == '종료':\n",
    "        print(\"프로그램을 종료합니다.\")\n",
    "        break\n",
    "    \n",
    "    # 입력 문장 전처리 (기존 함수 재사용)\n",
    "    preprocessed_sentence = preprocess_text(input_text)\n",
    "    sequences = tokenizer.texts_to_sequences([preprocessed_sentence])\n",
    "    padded_sequences = pad_sequences(sequences, maxlen=max_len)\n",
    "\n",
    "    # 예측\n",
    "    prediction = model.predict(padded_sequences, verbose=0)\n",
    "    \n",
    "    # 클래스 이름 정의\n",
    "    class_names = [\"ham\", \"spam\"]\n",
    "    \n",
    "    # 예측 결과 처리\n",
    "    prob = prediction[0][0]\n",
    "    predicted_class_idx = int(prob > 0.5)\n",
    "    confidence = prob if predicted_class_idx == 1 else 1 - prob\n",
    "    predicted_class = class_names[predicted_class_idx]\n",
    "    \n",
    "    print(\"-\" * 30)\n",
    "    print(f\"입력 문장: {input_text}\")\n",
    "    print(f\"예측 결과: {predicted_class} (신뢰도: {confidence:.2f})\")\n",
    "    print(f\"확률값 (spam): {prob:.4f}\")\n",
    "    print(\"-\" * 30)"
   ]
  }
 ],
 "metadata": {
  "kernelspec": {
   "display_name": "nlp_env",
   "language": "python",
   "name": "python3"
  },
  "language_info": {
   "codemirror_mode": {
    "name": "ipython",
    "version": 3
   },
   "file_extension": ".py",
   "mimetype": "text/x-python",
   "name": "python",
   "nbconvert_exporter": "python",
   "pygments_lexer": "ipython3",
   "version": "3.9.6"
  }
 },
 "nbformat": 4,
 "nbformat_minor": 5
}
